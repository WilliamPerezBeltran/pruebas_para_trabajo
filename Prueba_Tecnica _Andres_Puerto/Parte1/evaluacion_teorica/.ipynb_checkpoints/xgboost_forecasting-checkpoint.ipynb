{
 "cells": [
  {
   "cell_type": "code",
   "execution_count": 862,
   "id": "356c8108",
   "metadata": {},
   "outputs": [],
   "source": [
    "import pandas as pd\n",
    "import plotly.graph_objects as go\n",
    "from xgboost import XGBRegressor\n",
    "from sklearn.metrics import mean_squared_error\n",
    "import optuna\n",
    "import numpy as np"
   ]
  },
  {
   "cell_type": "code",
   "execution_count": 863,
   "id": "17c284df",
   "metadata": {},
   "outputs": [],
   "source": [
    "def create_window(df,values_col,timeax,window_size=3):\n",
    "    features=[]\n",
    "    values=df[values_col].values\n",
    "    \n",
    "    for i in range(len(values)):\n",
    "        \n",
    "        features.append(values[i:i+window_size+1])\n",
    "    dataset=pd.DataFrame(features)\n",
    "    dataset=dataset.dropna()\n",
    "    \n",
    "    \n",
    "    dataset=dataset.rename(columns={i:f'X_{i}' for i in dataset.columns[:-1]})\n",
    "    dataset=dataset.rename(columns={dataset.columns[-1]:'y'})\n",
    "    X=dataset[[i for i in dataset.columns if 'X' in i]]\n",
    "    y=dataset['y']\n",
    "    xaxis=df.loc[df.index[window_size:],timeax]\n",
    "    return X,y,xaxis"
   ]
  },
  {
   "cell_type": "code",
   "execution_count": 864,
   "id": "b7cc397b",
   "metadata": {},
   "outputs": [],
   "source": [
    "data=pd.read_csv(\"https://raw.githubusercontent.com/jbrownlee/Datasets/master/airline-passengers.csv\")\n",
    "#data=pd.read_csv(\"https://raw.githubusercontent.com/Subikshaa/Time-Series-Forecasting-on-Web-Traffic-Dataset/master/Preprocessed_data/final_data.csv\")"
   ]
  },
  {
   "cell_type": "code",
   "execution_count": 865,
   "id": "d534fa55",
   "metadata": {},
   "outputs": [
    {
     "data": {
      "application/vnd.plotly.v1+json": {
       "config": {
        "plotlyServerURL": "https://plot.ly"
       },
       "data": [
        {
         "mode": "lines",
         "type": "scatter",
         "x": [
          "1949-01",
          "1949-02",
          "1949-03",
          "1949-04",
          "1949-05",
          "1949-06",
          "1949-07",
          "1949-08",
          "1949-09",
          "1949-10",
          "1949-11",
          "1949-12",
          "1950-01",
          "1950-02",
          "1950-03",
          "1950-04",
          "1950-05",
          "1950-06",
          "1950-07",
          "1950-08",
          "1950-09",
          "1950-10",
          "1950-11",
          "1950-12",
          "1951-01",
          "1951-02",
          "1951-03",
          "1951-04",
          "1951-05",
          "1951-06",
          "1951-07",
          "1951-08",
          "1951-09",
          "1951-10",
          "1951-11",
          "1951-12",
          "1952-01",
          "1952-02",
          "1952-03",
          "1952-04",
          "1952-05",
          "1952-06",
          "1952-07",
          "1952-08",
          "1952-09",
          "1952-10",
          "1952-11",
          "1952-12",
          "1953-01",
          "1953-02",
          "1953-03",
          "1953-04",
          "1953-05",
          "1953-06",
          "1953-07",
          "1953-08",
          "1953-09",
          "1953-10",
          "1953-11",
          "1953-12",
          "1954-01",
          "1954-02",
          "1954-03",
          "1954-04",
          "1954-05",
          "1954-06",
          "1954-07",
          "1954-08",
          "1954-09",
          "1954-10",
          "1954-11",
          "1954-12",
          "1955-01",
          "1955-02",
          "1955-03",
          "1955-04",
          "1955-05",
          "1955-06",
          "1955-07",
          "1955-08",
          "1955-09",
          "1955-10",
          "1955-11",
          "1955-12",
          "1956-01",
          "1956-02",
          "1956-03",
          "1956-04",
          "1956-05",
          "1956-06",
          "1956-07",
          "1956-08",
          "1956-09",
          "1956-10",
          "1956-11",
          "1956-12",
          "1957-01",
          "1957-02",
          "1957-03",
          "1957-04",
          "1957-05",
          "1957-06",
          "1957-07",
          "1957-08",
          "1957-09",
          "1957-10",
          "1957-11",
          "1957-12",
          "1958-01",
          "1958-02",
          "1958-03",
          "1958-04",
          "1958-05",
          "1958-06",
          "1958-07",
          "1958-08",
          "1958-09",
          "1958-10",
          "1958-11",
          "1958-12",
          "1959-01",
          "1959-02",
          "1959-03",
          "1959-04",
          "1959-05",
          "1959-06",
          "1959-07",
          "1959-08",
          "1959-09",
          "1959-10",
          "1959-11",
          "1959-12",
          "1960-01",
          "1960-02",
          "1960-03",
          "1960-04",
          "1960-05",
          "1960-06",
          "1960-07",
          "1960-08",
          "1960-09",
          "1960-10",
          "1960-11",
          "1960-12"
         ],
         "y": [
          112,
          118,
          132,
          129,
          121,
          135,
          148,
          148,
          136,
          119,
          104,
          118,
          115,
          126,
          141,
          135,
          125,
          149,
          170,
          170,
          158,
          133,
          114,
          140,
          145,
          150,
          178,
          163,
          172,
          178,
          199,
          199,
          184,
          162,
          146,
          166,
          171,
          180,
          193,
          181,
          183,
          218,
          230,
          242,
          209,
          191,
          172,
          194,
          196,
          196,
          236,
          235,
          229,
          243,
          264,
          272,
          237,
          211,
          180,
          201,
          204,
          188,
          235,
          227,
          234,
          264,
          302,
          293,
          259,
          229,
          203,
          229,
          242,
          233,
          267,
          269,
          270,
          315,
          364,
          347,
          312,
          274,
          237,
          278,
          284,
          277,
          317,
          313,
          318,
          374,
          413,
          405,
          355,
          306,
          271,
          306,
          315,
          301,
          356,
          348,
          355,
          422,
          465,
          467,
          404,
          347,
          305,
          336,
          340,
          318,
          362,
          348,
          363,
          435,
          491,
          505,
          404,
          359,
          310,
          337,
          360,
          342,
          406,
          396,
          420,
          472,
          548,
          559,
          463,
          407,
          362,
          405,
          417,
          391,
          419,
          461,
          472,
          535,
          622,
          606,
          508,
          461,
          390,
          432
         ]
        }
       ],
       "layout": {
        "template": {
         "data": {
          "bar": [
           {
            "error_x": {
             "color": "#2a3f5f"
            },
            "error_y": {
             "color": "#2a3f5f"
            },
            "marker": {
             "line": {
              "color": "#E5ECF6",
              "width": 0.5
             },
             "pattern": {
              "fillmode": "overlay",
              "size": 10,
              "solidity": 0.2
             }
            },
            "type": "bar"
           }
          ],
          "barpolar": [
           {
            "marker": {
             "line": {
              "color": "#E5ECF6",
              "width": 0.5
             },
             "pattern": {
              "fillmode": "overlay",
              "size": 10,
              "solidity": 0.2
             }
            },
            "type": "barpolar"
           }
          ],
          "carpet": [
           {
            "aaxis": {
             "endlinecolor": "#2a3f5f",
             "gridcolor": "white",
             "linecolor": "white",
             "minorgridcolor": "white",
             "startlinecolor": "#2a3f5f"
            },
            "baxis": {
             "endlinecolor": "#2a3f5f",
             "gridcolor": "white",
             "linecolor": "white",
             "minorgridcolor": "white",
             "startlinecolor": "#2a3f5f"
            },
            "type": "carpet"
           }
          ],
          "choropleth": [
           {
            "colorbar": {
             "outlinewidth": 0,
             "ticks": ""
            },
            "type": "choropleth"
           }
          ],
          "contour": [
           {
            "colorbar": {
             "outlinewidth": 0,
             "ticks": ""
            },
            "colorscale": [
             [
              0,
              "#0d0887"
             ],
             [
              0.1111111111111111,
              "#46039f"
             ],
             [
              0.2222222222222222,
              "#7201a8"
             ],
             [
              0.3333333333333333,
              "#9c179e"
             ],
             [
              0.4444444444444444,
              "#bd3786"
             ],
             [
              0.5555555555555556,
              "#d8576b"
             ],
             [
              0.6666666666666666,
              "#ed7953"
             ],
             [
              0.7777777777777778,
              "#fb9f3a"
             ],
             [
              0.8888888888888888,
              "#fdca26"
             ],
             [
              1,
              "#f0f921"
             ]
            ],
            "type": "contour"
           }
          ],
          "contourcarpet": [
           {
            "colorbar": {
             "outlinewidth": 0,
             "ticks": ""
            },
            "type": "contourcarpet"
           }
          ],
          "heatmap": [
           {
            "colorbar": {
             "outlinewidth": 0,
             "ticks": ""
            },
            "colorscale": [
             [
              0,
              "#0d0887"
             ],
             [
              0.1111111111111111,
              "#46039f"
             ],
             [
              0.2222222222222222,
              "#7201a8"
             ],
             [
              0.3333333333333333,
              "#9c179e"
             ],
             [
              0.4444444444444444,
              "#bd3786"
             ],
             [
              0.5555555555555556,
              "#d8576b"
             ],
             [
              0.6666666666666666,
              "#ed7953"
             ],
             [
              0.7777777777777778,
              "#fb9f3a"
             ],
             [
              0.8888888888888888,
              "#fdca26"
             ],
             [
              1,
              "#f0f921"
             ]
            ],
            "type": "heatmap"
           }
          ],
          "heatmapgl": [
           {
            "colorbar": {
             "outlinewidth": 0,
             "ticks": ""
            },
            "colorscale": [
             [
              0,
              "#0d0887"
             ],
             [
              0.1111111111111111,
              "#46039f"
             ],
             [
              0.2222222222222222,
              "#7201a8"
             ],
             [
              0.3333333333333333,
              "#9c179e"
             ],
             [
              0.4444444444444444,
              "#bd3786"
             ],
             [
              0.5555555555555556,
              "#d8576b"
             ],
             [
              0.6666666666666666,
              "#ed7953"
             ],
             [
              0.7777777777777778,
              "#fb9f3a"
             ],
             [
              0.8888888888888888,
              "#fdca26"
             ],
             [
              1,
              "#f0f921"
             ]
            ],
            "type": "heatmapgl"
           }
          ],
          "histogram": [
           {
            "marker": {
             "pattern": {
              "fillmode": "overlay",
              "size": 10,
              "solidity": 0.2
             }
            },
            "type": "histogram"
           }
          ],
          "histogram2d": [
           {
            "colorbar": {
             "outlinewidth": 0,
             "ticks": ""
            },
            "colorscale": [
             [
              0,
              "#0d0887"
             ],
             [
              0.1111111111111111,
              "#46039f"
             ],
             [
              0.2222222222222222,
              "#7201a8"
             ],
             [
              0.3333333333333333,
              "#9c179e"
             ],
             [
              0.4444444444444444,
              "#bd3786"
             ],
             [
              0.5555555555555556,
              "#d8576b"
             ],
             [
              0.6666666666666666,
              "#ed7953"
             ],
             [
              0.7777777777777778,
              "#fb9f3a"
             ],
             [
              0.8888888888888888,
              "#fdca26"
             ],
             [
              1,
              "#f0f921"
             ]
            ],
            "type": "histogram2d"
           }
          ],
          "histogram2dcontour": [
           {
            "colorbar": {
             "outlinewidth": 0,
             "ticks": ""
            },
            "colorscale": [
             [
              0,
              "#0d0887"
             ],
             [
              0.1111111111111111,
              "#46039f"
             ],
             [
              0.2222222222222222,
              "#7201a8"
             ],
             [
              0.3333333333333333,
              "#9c179e"
             ],
             [
              0.4444444444444444,
              "#bd3786"
             ],
             [
              0.5555555555555556,
              "#d8576b"
             ],
             [
              0.6666666666666666,
              "#ed7953"
             ],
             [
              0.7777777777777778,
              "#fb9f3a"
             ],
             [
              0.8888888888888888,
              "#fdca26"
             ],
             [
              1,
              "#f0f921"
             ]
            ],
            "type": "histogram2dcontour"
           }
          ],
          "mesh3d": [
           {
            "colorbar": {
             "outlinewidth": 0,
             "ticks": ""
            },
            "type": "mesh3d"
           }
          ],
          "parcoords": [
           {
            "line": {
             "colorbar": {
              "outlinewidth": 0,
              "ticks": ""
             }
            },
            "type": "parcoords"
           }
          ],
          "pie": [
           {
            "automargin": true,
            "type": "pie"
           }
          ],
          "scatter": [
           {
            "fillpattern": {
             "fillmode": "overlay",
             "size": 10,
             "solidity": 0.2
            },
            "type": "scatter"
           }
          ],
          "scatter3d": [
           {
            "line": {
             "colorbar": {
              "outlinewidth": 0,
              "ticks": ""
             }
            },
            "marker": {
             "colorbar": {
              "outlinewidth": 0,
              "ticks": ""
             }
            },
            "type": "scatter3d"
           }
          ],
          "scattercarpet": [
           {
            "marker": {
             "colorbar": {
              "outlinewidth": 0,
              "ticks": ""
             }
            },
            "type": "scattercarpet"
           }
          ],
          "scattergeo": [
           {
            "marker": {
             "colorbar": {
              "outlinewidth": 0,
              "ticks": ""
             }
            },
            "type": "scattergeo"
           }
          ],
          "scattergl": [
           {
            "marker": {
             "colorbar": {
              "outlinewidth": 0,
              "ticks": ""
             }
            },
            "type": "scattergl"
           }
          ],
          "scattermapbox": [
           {
            "marker": {
             "colorbar": {
              "outlinewidth": 0,
              "ticks": ""
             }
            },
            "type": "scattermapbox"
           }
          ],
          "scatterpolar": [
           {
            "marker": {
             "colorbar": {
              "outlinewidth": 0,
              "ticks": ""
             }
            },
            "type": "scatterpolar"
           }
          ],
          "scatterpolargl": [
           {
            "marker": {
             "colorbar": {
              "outlinewidth": 0,
              "ticks": ""
             }
            },
            "type": "scatterpolargl"
           }
          ],
          "scatterternary": [
           {
            "marker": {
             "colorbar": {
              "outlinewidth": 0,
              "ticks": ""
             }
            },
            "type": "scatterternary"
           }
          ],
          "surface": [
           {
            "colorbar": {
             "outlinewidth": 0,
             "ticks": ""
            },
            "colorscale": [
             [
              0,
              "#0d0887"
             ],
             [
              0.1111111111111111,
              "#46039f"
             ],
             [
              0.2222222222222222,
              "#7201a8"
             ],
             [
              0.3333333333333333,
              "#9c179e"
             ],
             [
              0.4444444444444444,
              "#bd3786"
             ],
             [
              0.5555555555555556,
              "#d8576b"
             ],
             [
              0.6666666666666666,
              "#ed7953"
             ],
             [
              0.7777777777777778,
              "#fb9f3a"
             ],
             [
              0.8888888888888888,
              "#fdca26"
             ],
             [
              1,
              "#f0f921"
             ]
            ],
            "type": "surface"
           }
          ],
          "table": [
           {
            "cells": {
             "fill": {
              "color": "#EBF0F8"
             },
             "line": {
              "color": "white"
             }
            },
            "header": {
             "fill": {
              "color": "#C8D4E3"
             },
             "line": {
              "color": "white"
             }
            },
            "type": "table"
           }
          ]
         },
         "layout": {
          "annotationdefaults": {
           "arrowcolor": "#2a3f5f",
           "arrowhead": 0,
           "arrowwidth": 1
          },
          "autotypenumbers": "strict",
          "coloraxis": {
           "colorbar": {
            "outlinewidth": 0,
            "ticks": ""
           }
          },
          "colorscale": {
           "diverging": [
            [
             0,
             "#8e0152"
            ],
            [
             0.1,
             "#c51b7d"
            ],
            [
             0.2,
             "#de77ae"
            ],
            [
             0.3,
             "#f1b6da"
            ],
            [
             0.4,
             "#fde0ef"
            ],
            [
             0.5,
             "#f7f7f7"
            ],
            [
             0.6,
             "#e6f5d0"
            ],
            [
             0.7,
             "#b8e186"
            ],
            [
             0.8,
             "#7fbc41"
            ],
            [
             0.9,
             "#4d9221"
            ],
            [
             1,
             "#276419"
            ]
           ],
           "sequential": [
            [
             0,
             "#0d0887"
            ],
            [
             0.1111111111111111,
             "#46039f"
            ],
            [
             0.2222222222222222,
             "#7201a8"
            ],
            [
             0.3333333333333333,
             "#9c179e"
            ],
            [
             0.4444444444444444,
             "#bd3786"
            ],
            [
             0.5555555555555556,
             "#d8576b"
            ],
            [
             0.6666666666666666,
             "#ed7953"
            ],
            [
             0.7777777777777778,
             "#fb9f3a"
            ],
            [
             0.8888888888888888,
             "#fdca26"
            ],
            [
             1,
             "#f0f921"
            ]
           ],
           "sequentialminus": [
            [
             0,
             "#0d0887"
            ],
            [
             0.1111111111111111,
             "#46039f"
            ],
            [
             0.2222222222222222,
             "#7201a8"
            ],
            [
             0.3333333333333333,
             "#9c179e"
            ],
            [
             0.4444444444444444,
             "#bd3786"
            ],
            [
             0.5555555555555556,
             "#d8576b"
            ],
            [
             0.6666666666666666,
             "#ed7953"
            ],
            [
             0.7777777777777778,
             "#fb9f3a"
            ],
            [
             0.8888888888888888,
             "#fdca26"
            ],
            [
             1,
             "#f0f921"
            ]
           ]
          },
          "colorway": [
           "#636efa",
           "#EF553B",
           "#00cc96",
           "#ab63fa",
           "#FFA15A",
           "#19d3f3",
           "#FF6692",
           "#B6E880",
           "#FF97FF",
           "#FECB52"
          ],
          "font": {
           "color": "#2a3f5f"
          },
          "geo": {
           "bgcolor": "white",
           "lakecolor": "white",
           "landcolor": "#E5ECF6",
           "showlakes": true,
           "showland": true,
           "subunitcolor": "white"
          },
          "hoverlabel": {
           "align": "left"
          },
          "hovermode": "closest",
          "mapbox": {
           "style": "light"
          },
          "paper_bgcolor": "white",
          "plot_bgcolor": "#E5ECF6",
          "polar": {
           "angularaxis": {
            "gridcolor": "white",
            "linecolor": "white",
            "ticks": ""
           },
           "bgcolor": "#E5ECF6",
           "radialaxis": {
            "gridcolor": "white",
            "linecolor": "white",
            "ticks": ""
           }
          },
          "scene": {
           "xaxis": {
            "backgroundcolor": "#E5ECF6",
            "gridcolor": "white",
            "gridwidth": 2,
            "linecolor": "white",
            "showbackground": true,
            "ticks": "",
            "zerolinecolor": "white"
           },
           "yaxis": {
            "backgroundcolor": "#E5ECF6",
            "gridcolor": "white",
            "gridwidth": 2,
            "linecolor": "white",
            "showbackground": true,
            "ticks": "",
            "zerolinecolor": "white"
           },
           "zaxis": {
            "backgroundcolor": "#E5ECF6",
            "gridcolor": "white",
            "gridwidth": 2,
            "linecolor": "white",
            "showbackground": true,
            "ticks": "",
            "zerolinecolor": "white"
           }
          },
          "shapedefaults": {
           "line": {
            "color": "#2a3f5f"
           }
          },
          "ternary": {
           "aaxis": {
            "gridcolor": "white",
            "linecolor": "white",
            "ticks": ""
           },
           "baxis": {
            "gridcolor": "white",
            "linecolor": "white",
            "ticks": ""
           },
           "bgcolor": "#E5ECF6",
           "caxis": {
            "gridcolor": "white",
            "linecolor": "white",
            "ticks": ""
           }
          },
          "title": {
           "x": 0.05
          },
          "xaxis": {
           "automargin": true,
           "gridcolor": "white",
           "linecolor": "white",
           "ticks": "",
           "title": {
            "standoff": 15
           },
           "zerolinecolor": "white",
           "zerolinewidth": 2
          },
          "yaxis": {
           "automargin": true,
           "gridcolor": "white",
           "linecolor": "white",
           "ticks": "",
           "title": {
            "standoff": 15
           },
           "zerolinecolor": "white",
           "zerolinewidth": 2
          }
         }
        },
        "xaxis": {
         "title": {
          "text": "date"
         }
        },
        "yaxis": {
         "title": {
          "text": "Passengers"
         }
        }
       }
      },
      "text/html": [
       "<div>                            <div id=\"f7d786b1-a585-402a-a9c9-2f8322fb8ca3\" class=\"plotly-graph-div\" style=\"height:525px; width:100%;\"></div>            <script type=\"text/javascript\">                require([\"plotly\"], function(Plotly) {                    window.PLOTLYENV=window.PLOTLYENV || {};                                    if (document.getElementById(\"f7d786b1-a585-402a-a9c9-2f8322fb8ca3\")) {                    Plotly.newPlot(                        \"f7d786b1-a585-402a-a9c9-2f8322fb8ca3\",                        [{\"mode\":\"lines\",\"x\":[\"1949-01\",\"1949-02\",\"1949-03\",\"1949-04\",\"1949-05\",\"1949-06\",\"1949-07\",\"1949-08\",\"1949-09\",\"1949-10\",\"1949-11\",\"1949-12\",\"1950-01\",\"1950-02\",\"1950-03\",\"1950-04\",\"1950-05\",\"1950-06\",\"1950-07\",\"1950-08\",\"1950-09\",\"1950-10\",\"1950-11\",\"1950-12\",\"1951-01\",\"1951-02\",\"1951-03\",\"1951-04\",\"1951-05\",\"1951-06\",\"1951-07\",\"1951-08\",\"1951-09\",\"1951-10\",\"1951-11\",\"1951-12\",\"1952-01\",\"1952-02\",\"1952-03\",\"1952-04\",\"1952-05\",\"1952-06\",\"1952-07\",\"1952-08\",\"1952-09\",\"1952-10\",\"1952-11\",\"1952-12\",\"1953-01\",\"1953-02\",\"1953-03\",\"1953-04\",\"1953-05\",\"1953-06\",\"1953-07\",\"1953-08\",\"1953-09\",\"1953-10\",\"1953-11\",\"1953-12\",\"1954-01\",\"1954-02\",\"1954-03\",\"1954-04\",\"1954-05\",\"1954-06\",\"1954-07\",\"1954-08\",\"1954-09\",\"1954-10\",\"1954-11\",\"1954-12\",\"1955-01\",\"1955-02\",\"1955-03\",\"1955-04\",\"1955-05\",\"1955-06\",\"1955-07\",\"1955-08\",\"1955-09\",\"1955-10\",\"1955-11\",\"1955-12\",\"1956-01\",\"1956-02\",\"1956-03\",\"1956-04\",\"1956-05\",\"1956-06\",\"1956-07\",\"1956-08\",\"1956-09\",\"1956-10\",\"1956-11\",\"1956-12\",\"1957-01\",\"1957-02\",\"1957-03\",\"1957-04\",\"1957-05\",\"1957-06\",\"1957-07\",\"1957-08\",\"1957-09\",\"1957-10\",\"1957-11\",\"1957-12\",\"1958-01\",\"1958-02\",\"1958-03\",\"1958-04\",\"1958-05\",\"1958-06\",\"1958-07\",\"1958-08\",\"1958-09\",\"1958-10\",\"1958-11\",\"1958-12\",\"1959-01\",\"1959-02\",\"1959-03\",\"1959-04\",\"1959-05\",\"1959-06\",\"1959-07\",\"1959-08\",\"1959-09\",\"1959-10\",\"1959-11\",\"1959-12\",\"1960-01\",\"1960-02\",\"1960-03\",\"1960-04\",\"1960-05\",\"1960-06\",\"1960-07\",\"1960-08\",\"1960-09\",\"1960-10\",\"1960-11\",\"1960-12\"],\"y\":[112,118,132,129,121,135,148,148,136,119,104,118,115,126,141,135,125,149,170,170,158,133,114,140,145,150,178,163,172,178,199,199,184,162,146,166,171,180,193,181,183,218,230,242,209,191,172,194,196,196,236,235,229,243,264,272,237,211,180,201,204,188,235,227,234,264,302,293,259,229,203,229,242,233,267,269,270,315,364,347,312,274,237,278,284,277,317,313,318,374,413,405,355,306,271,306,315,301,356,348,355,422,465,467,404,347,305,336,340,318,362,348,363,435,491,505,404,359,310,337,360,342,406,396,420,472,548,559,463,407,362,405,417,391,419,461,472,535,622,606,508,461,390,432],\"type\":\"scatter\"}],                        {\"template\":{\"data\":{\"histogram2dcontour\":[{\"type\":\"histogram2dcontour\",\"colorbar\":{\"outlinewidth\":0,\"ticks\":\"\"},\"colorscale\":[[0.0,\"#0d0887\"],[0.1111111111111111,\"#46039f\"],[0.2222222222222222,\"#7201a8\"],[0.3333333333333333,\"#9c179e\"],[0.4444444444444444,\"#bd3786\"],[0.5555555555555556,\"#d8576b\"],[0.6666666666666666,\"#ed7953\"],[0.7777777777777778,\"#fb9f3a\"],[0.8888888888888888,\"#fdca26\"],[1.0,\"#f0f921\"]]}],\"choropleth\":[{\"type\":\"choropleth\",\"colorbar\":{\"outlinewidth\":0,\"ticks\":\"\"}}],\"histogram2d\":[{\"type\":\"histogram2d\",\"colorbar\":{\"outlinewidth\":0,\"ticks\":\"\"},\"colorscale\":[[0.0,\"#0d0887\"],[0.1111111111111111,\"#46039f\"],[0.2222222222222222,\"#7201a8\"],[0.3333333333333333,\"#9c179e\"],[0.4444444444444444,\"#bd3786\"],[0.5555555555555556,\"#d8576b\"],[0.6666666666666666,\"#ed7953\"],[0.7777777777777778,\"#fb9f3a\"],[0.8888888888888888,\"#fdca26\"],[1.0,\"#f0f921\"]]}],\"heatmap\":[{\"type\":\"heatmap\",\"colorbar\":{\"outlinewidth\":0,\"ticks\":\"\"},\"colorscale\":[[0.0,\"#0d0887\"],[0.1111111111111111,\"#46039f\"],[0.2222222222222222,\"#7201a8\"],[0.3333333333333333,\"#9c179e\"],[0.4444444444444444,\"#bd3786\"],[0.5555555555555556,\"#d8576b\"],[0.6666666666666666,\"#ed7953\"],[0.7777777777777778,\"#fb9f3a\"],[0.8888888888888888,\"#fdca26\"],[1.0,\"#f0f921\"]]}],\"heatmapgl\":[{\"type\":\"heatmapgl\",\"colorbar\":{\"outlinewidth\":0,\"ticks\":\"\"},\"colorscale\":[[0.0,\"#0d0887\"],[0.1111111111111111,\"#46039f\"],[0.2222222222222222,\"#7201a8\"],[0.3333333333333333,\"#9c179e\"],[0.4444444444444444,\"#bd3786\"],[0.5555555555555556,\"#d8576b\"],[0.6666666666666666,\"#ed7953\"],[0.7777777777777778,\"#fb9f3a\"],[0.8888888888888888,\"#fdca26\"],[1.0,\"#f0f921\"]]}],\"contourcarpet\":[{\"type\":\"contourcarpet\",\"colorbar\":{\"outlinewidth\":0,\"ticks\":\"\"}}],\"contour\":[{\"type\":\"contour\",\"colorbar\":{\"outlinewidth\":0,\"ticks\":\"\"},\"colorscale\":[[0.0,\"#0d0887\"],[0.1111111111111111,\"#46039f\"],[0.2222222222222222,\"#7201a8\"],[0.3333333333333333,\"#9c179e\"],[0.4444444444444444,\"#bd3786\"],[0.5555555555555556,\"#d8576b\"],[0.6666666666666666,\"#ed7953\"],[0.7777777777777778,\"#fb9f3a\"],[0.8888888888888888,\"#fdca26\"],[1.0,\"#f0f921\"]]}],\"surface\":[{\"type\":\"surface\",\"colorbar\":{\"outlinewidth\":0,\"ticks\":\"\"},\"colorscale\":[[0.0,\"#0d0887\"],[0.1111111111111111,\"#46039f\"],[0.2222222222222222,\"#7201a8\"],[0.3333333333333333,\"#9c179e\"],[0.4444444444444444,\"#bd3786\"],[0.5555555555555556,\"#d8576b\"],[0.6666666666666666,\"#ed7953\"],[0.7777777777777778,\"#fb9f3a\"],[0.8888888888888888,\"#fdca26\"],[1.0,\"#f0f921\"]]}],\"mesh3d\":[{\"type\":\"mesh3d\",\"colorbar\":{\"outlinewidth\":0,\"ticks\":\"\"}}],\"scatter\":[{\"fillpattern\":{\"fillmode\":\"overlay\",\"size\":10,\"solidity\":0.2},\"type\":\"scatter\"}],\"parcoords\":[{\"type\":\"parcoords\",\"line\":{\"colorbar\":{\"outlinewidth\":0,\"ticks\":\"\"}}}],\"scatterpolargl\":[{\"type\":\"scatterpolargl\",\"marker\":{\"colorbar\":{\"outlinewidth\":0,\"ticks\":\"\"}}}],\"bar\":[{\"error_x\":{\"color\":\"#2a3f5f\"},\"error_y\":{\"color\":\"#2a3f5f\"},\"marker\":{\"line\":{\"color\":\"#E5ECF6\",\"width\":0.5},\"pattern\":{\"fillmode\":\"overlay\",\"size\":10,\"solidity\":0.2}},\"type\":\"bar\"}],\"scattergeo\":[{\"type\":\"scattergeo\",\"marker\":{\"colorbar\":{\"outlinewidth\":0,\"ticks\":\"\"}}}],\"scatterpolar\":[{\"type\":\"scatterpolar\",\"marker\":{\"colorbar\":{\"outlinewidth\":0,\"ticks\":\"\"}}}],\"histogram\":[{\"marker\":{\"pattern\":{\"fillmode\":\"overlay\",\"size\":10,\"solidity\":0.2}},\"type\":\"histogram\"}],\"scattergl\":[{\"type\":\"scattergl\",\"marker\":{\"colorbar\":{\"outlinewidth\":0,\"ticks\":\"\"}}}],\"scatter3d\":[{\"type\":\"scatter3d\",\"line\":{\"colorbar\":{\"outlinewidth\":0,\"ticks\":\"\"}},\"marker\":{\"colorbar\":{\"outlinewidth\":0,\"ticks\":\"\"}}}],\"scattermapbox\":[{\"type\":\"scattermapbox\",\"marker\":{\"colorbar\":{\"outlinewidth\":0,\"ticks\":\"\"}}}],\"scatterternary\":[{\"type\":\"scatterternary\",\"marker\":{\"colorbar\":{\"outlinewidth\":0,\"ticks\":\"\"}}}],\"scattercarpet\":[{\"type\":\"scattercarpet\",\"marker\":{\"colorbar\":{\"outlinewidth\":0,\"ticks\":\"\"}}}],\"carpet\":[{\"aaxis\":{\"endlinecolor\":\"#2a3f5f\",\"gridcolor\":\"white\",\"linecolor\":\"white\",\"minorgridcolor\":\"white\",\"startlinecolor\":\"#2a3f5f\"},\"baxis\":{\"endlinecolor\":\"#2a3f5f\",\"gridcolor\":\"white\",\"linecolor\":\"white\",\"minorgridcolor\":\"white\",\"startlinecolor\":\"#2a3f5f\"},\"type\":\"carpet\"}],\"table\":[{\"cells\":{\"fill\":{\"color\":\"#EBF0F8\"},\"line\":{\"color\":\"white\"}},\"header\":{\"fill\":{\"color\":\"#C8D4E3\"},\"line\":{\"color\":\"white\"}},\"type\":\"table\"}],\"barpolar\":[{\"marker\":{\"line\":{\"color\":\"#E5ECF6\",\"width\":0.5},\"pattern\":{\"fillmode\":\"overlay\",\"size\":10,\"solidity\":0.2}},\"type\":\"barpolar\"}],\"pie\":[{\"automargin\":true,\"type\":\"pie\"}]},\"layout\":{\"autotypenumbers\":\"strict\",\"colorway\":[\"#636efa\",\"#EF553B\",\"#00cc96\",\"#ab63fa\",\"#FFA15A\",\"#19d3f3\",\"#FF6692\",\"#B6E880\",\"#FF97FF\",\"#FECB52\"],\"font\":{\"color\":\"#2a3f5f\"},\"hovermode\":\"closest\",\"hoverlabel\":{\"align\":\"left\"},\"paper_bgcolor\":\"white\",\"plot_bgcolor\":\"#E5ECF6\",\"polar\":{\"bgcolor\":\"#E5ECF6\",\"angularaxis\":{\"gridcolor\":\"white\",\"linecolor\":\"white\",\"ticks\":\"\"},\"radialaxis\":{\"gridcolor\":\"white\",\"linecolor\":\"white\",\"ticks\":\"\"}},\"ternary\":{\"bgcolor\":\"#E5ECF6\",\"aaxis\":{\"gridcolor\":\"white\",\"linecolor\":\"white\",\"ticks\":\"\"},\"baxis\":{\"gridcolor\":\"white\",\"linecolor\":\"white\",\"ticks\":\"\"},\"caxis\":{\"gridcolor\":\"white\",\"linecolor\":\"white\",\"ticks\":\"\"}},\"coloraxis\":{\"colorbar\":{\"outlinewidth\":0,\"ticks\":\"\"}},\"colorscale\":{\"sequential\":[[0.0,\"#0d0887\"],[0.1111111111111111,\"#46039f\"],[0.2222222222222222,\"#7201a8\"],[0.3333333333333333,\"#9c179e\"],[0.4444444444444444,\"#bd3786\"],[0.5555555555555556,\"#d8576b\"],[0.6666666666666666,\"#ed7953\"],[0.7777777777777778,\"#fb9f3a\"],[0.8888888888888888,\"#fdca26\"],[1.0,\"#f0f921\"]],\"sequentialminus\":[[0.0,\"#0d0887\"],[0.1111111111111111,\"#46039f\"],[0.2222222222222222,\"#7201a8\"],[0.3333333333333333,\"#9c179e\"],[0.4444444444444444,\"#bd3786\"],[0.5555555555555556,\"#d8576b\"],[0.6666666666666666,\"#ed7953\"],[0.7777777777777778,\"#fb9f3a\"],[0.8888888888888888,\"#fdca26\"],[1.0,\"#f0f921\"]],\"diverging\":[[0,\"#8e0152\"],[0.1,\"#c51b7d\"],[0.2,\"#de77ae\"],[0.3,\"#f1b6da\"],[0.4,\"#fde0ef\"],[0.5,\"#f7f7f7\"],[0.6,\"#e6f5d0\"],[0.7,\"#b8e186\"],[0.8,\"#7fbc41\"],[0.9,\"#4d9221\"],[1,\"#276419\"]]},\"xaxis\":{\"gridcolor\":\"white\",\"linecolor\":\"white\",\"ticks\":\"\",\"title\":{\"standoff\":15},\"zerolinecolor\":\"white\",\"automargin\":true,\"zerolinewidth\":2},\"yaxis\":{\"gridcolor\":\"white\",\"linecolor\":\"white\",\"ticks\":\"\",\"title\":{\"standoff\":15},\"zerolinecolor\":\"white\",\"automargin\":true,\"zerolinewidth\":2},\"scene\":{\"xaxis\":{\"backgroundcolor\":\"#E5ECF6\",\"gridcolor\":\"white\",\"linecolor\":\"white\",\"showbackground\":true,\"ticks\":\"\",\"zerolinecolor\":\"white\",\"gridwidth\":2},\"yaxis\":{\"backgroundcolor\":\"#E5ECF6\",\"gridcolor\":\"white\",\"linecolor\":\"white\",\"showbackground\":true,\"ticks\":\"\",\"zerolinecolor\":\"white\",\"gridwidth\":2},\"zaxis\":{\"backgroundcolor\":\"#E5ECF6\",\"gridcolor\":\"white\",\"linecolor\":\"white\",\"showbackground\":true,\"ticks\":\"\",\"zerolinecolor\":\"white\",\"gridwidth\":2}},\"shapedefaults\":{\"line\":{\"color\":\"#2a3f5f\"}},\"annotationdefaults\":{\"arrowcolor\":\"#2a3f5f\",\"arrowhead\":0,\"arrowwidth\":1},\"geo\":{\"bgcolor\":\"white\",\"landcolor\":\"#E5ECF6\",\"subunitcolor\":\"white\",\"showland\":true,\"showlakes\":true,\"lakecolor\":\"white\"},\"title\":{\"x\":0.05},\"mapbox\":{\"style\":\"light\"}}},\"xaxis\":{\"title\":{\"text\":\"date\"}},\"yaxis\":{\"title\":{\"text\":\"Passengers\"}}},                        {\"responsive\": true}                    ).then(function(){\n",
       "                            \n",
       "var gd = document.getElementById('f7d786b1-a585-402a-a9c9-2f8322fb8ca3');\n",
       "var x = new MutationObserver(function (mutations, observer) {{\n",
       "        var display = window.getComputedStyle(gd).display;\n",
       "        if (!display || display === 'none') {{\n",
       "            console.log([gd, 'removed!']);\n",
       "            Plotly.purge(gd);\n",
       "            observer.disconnect();\n",
       "        }}\n",
       "}});\n",
       "\n",
       "// Listen for the removal of the full notebook cells\n",
       "var notebookContainer = gd.closest('#notebook-container');\n",
       "if (notebookContainer) {{\n",
       "    x.observe(notebookContainer, {childList: true});\n",
       "}}\n",
       "\n",
       "// Listen for the clearing of the current output cell\n",
       "var outputEl = gd.closest('.output');\n",
       "if (outputEl) {{\n",
       "    x.observe(outputEl, {childList: true});\n",
       "}}\n",
       "\n",
       "                        })                };                });            </script>        </div>"
      ]
     },
     "metadata": {},
     "output_type": "display_data"
    }
   ],
   "source": [
    "timeax='Month'\n",
    "values_col='Passengers'\n",
    "fig=go.Figure()\n",
    "fig.add_trace(go.Scatter(x=data[timeax],y=data[values_col],mode='lines'))\n",
    "fig.update_xaxes(title='date')\n",
    "fig.update_yaxes(title='Passengers')\n",
    "fig.show()"
   ]
  },
  {
   "cell_type": "code",
   "execution_count": 866,
   "id": "2c1d338c",
   "metadata": {},
   "outputs": [],
   "source": [
    "#data['Passengers']=(data['Passengers']-data['Passengers'].mean())/data['Passengers'].std()\n",
    "#minimum=data[values_col].min()\n",
    "#maximum=data[values_col].max()\n",
    "#range_data=maximum-minimum\n",
    "#data[values_col]=(data[values_col]-minimum)/(range_data)\n"
   ]
  },
  {
   "cell_type": "code",
   "execution_count": 867,
   "id": "6cc05f4a",
   "metadata": {},
   "outputs": [],
   "source": [
    "from sklearn.linear_model import LinearRegression\n",
    "reg = LinearRegression().fit(data.index.values.reshape(-1, 1), data[values_col].values)\n",
    "m=reg.coef_\n",
    "b=reg.intercept_"
   ]
  },
  {
   "cell_type": "code",
   "execution_count": 868,
   "id": "2d8c994a",
   "metadata": {},
   "outputs": [],
   "source": [
    "trend=[m[0]*i+b for i in data.index.values]"
   ]
  },
  {
   "cell_type": "code",
   "execution_count": 869,
   "id": "a3c0ce94",
   "metadata": {},
   "outputs": [
    {
     "data": {
      "application/vnd.plotly.v1+json": {
       "config": {
        "plotlyServerURL": "https://plot.ly"
       },
       "data": [
        {
         "mode": "lines",
         "name": "data",
         "type": "scatter",
         "x": [
          "1949-01",
          "1949-02",
          "1949-03",
          "1949-04",
          "1949-05",
          "1949-06",
          "1949-07",
          "1949-08",
          "1949-09",
          "1949-10",
          "1949-11",
          "1949-12",
          "1950-01",
          "1950-02",
          "1950-03",
          "1950-04",
          "1950-05",
          "1950-06",
          "1950-07",
          "1950-08",
          "1950-09",
          "1950-10",
          "1950-11",
          "1950-12",
          "1951-01",
          "1951-02",
          "1951-03",
          "1951-04",
          "1951-05",
          "1951-06",
          "1951-07",
          "1951-08",
          "1951-09",
          "1951-10",
          "1951-11",
          "1951-12",
          "1952-01",
          "1952-02",
          "1952-03",
          "1952-04",
          "1952-05",
          "1952-06",
          "1952-07",
          "1952-08",
          "1952-09",
          "1952-10",
          "1952-11",
          "1952-12",
          "1953-01",
          "1953-02",
          "1953-03",
          "1953-04",
          "1953-05",
          "1953-06",
          "1953-07",
          "1953-08",
          "1953-09",
          "1953-10",
          "1953-11",
          "1953-12",
          "1954-01",
          "1954-02",
          "1954-03",
          "1954-04",
          "1954-05",
          "1954-06",
          "1954-07",
          "1954-08",
          "1954-09",
          "1954-10",
          "1954-11",
          "1954-12",
          "1955-01",
          "1955-02",
          "1955-03",
          "1955-04",
          "1955-05",
          "1955-06",
          "1955-07",
          "1955-08",
          "1955-09",
          "1955-10",
          "1955-11",
          "1955-12",
          "1956-01",
          "1956-02",
          "1956-03",
          "1956-04",
          "1956-05",
          "1956-06",
          "1956-07",
          "1956-08",
          "1956-09",
          "1956-10",
          "1956-11",
          "1956-12",
          "1957-01",
          "1957-02",
          "1957-03",
          "1957-04",
          "1957-05",
          "1957-06",
          "1957-07",
          "1957-08",
          "1957-09",
          "1957-10",
          "1957-11",
          "1957-12",
          "1958-01",
          "1958-02",
          "1958-03",
          "1958-04",
          "1958-05",
          "1958-06",
          "1958-07",
          "1958-08",
          "1958-09",
          "1958-10",
          "1958-11",
          "1958-12",
          "1959-01",
          "1959-02",
          "1959-03",
          "1959-04",
          "1959-05",
          "1959-06",
          "1959-07",
          "1959-08",
          "1959-09",
          "1959-10",
          "1959-11",
          "1959-12",
          "1960-01",
          "1960-02",
          "1960-03",
          "1960-04",
          "1960-05",
          "1960-06",
          "1960-07",
          "1960-08",
          "1960-09",
          "1960-10",
          "1960-11",
          "1960-12"
         ],
         "y": [
          112,
          118,
          132,
          129,
          121,
          135,
          148,
          148,
          136,
          119,
          104,
          118,
          115,
          126,
          141,
          135,
          125,
          149,
          170,
          170,
          158,
          133,
          114,
          140,
          145,
          150,
          178,
          163,
          172,
          178,
          199,
          199,
          184,
          162,
          146,
          166,
          171,
          180,
          193,
          181,
          183,
          218,
          230,
          242,
          209,
          191,
          172,
          194,
          196,
          196,
          236,
          235,
          229,
          243,
          264,
          272,
          237,
          211,
          180,
          201,
          204,
          188,
          235,
          227,
          234,
          264,
          302,
          293,
          259,
          229,
          203,
          229,
          242,
          233,
          267,
          269,
          270,
          315,
          364,
          347,
          312,
          274,
          237,
          278,
          284,
          277,
          317,
          313,
          318,
          374,
          413,
          405,
          355,
          306,
          271,
          306,
          315,
          301,
          356,
          348,
          355,
          422,
          465,
          467,
          404,
          347,
          305,
          336,
          340,
          318,
          362,
          348,
          363,
          435,
          491,
          505,
          404,
          359,
          310,
          337,
          360,
          342,
          406,
          396,
          420,
          472,
          548,
          559,
          463,
          407,
          362,
          405,
          417,
          391,
          419,
          461,
          472,
          535,
          622,
          606,
          508,
          461,
          390,
          432
         ]
        },
        {
         "mode": "lines",
         "name": "Trend",
         "type": "scatter",
         "x": [
          "1949-01",
          "1949-02",
          "1949-03",
          "1949-04",
          "1949-05",
          "1949-06",
          "1949-07",
          "1949-08",
          "1949-09",
          "1949-10",
          "1949-11",
          "1949-12",
          "1950-01",
          "1950-02",
          "1950-03",
          "1950-04",
          "1950-05",
          "1950-06",
          "1950-07",
          "1950-08",
          "1950-09",
          "1950-10",
          "1950-11",
          "1950-12",
          "1951-01",
          "1951-02",
          "1951-03",
          "1951-04",
          "1951-05",
          "1951-06",
          "1951-07",
          "1951-08",
          "1951-09",
          "1951-10",
          "1951-11",
          "1951-12",
          "1952-01",
          "1952-02",
          "1952-03",
          "1952-04",
          "1952-05",
          "1952-06",
          "1952-07",
          "1952-08",
          "1952-09",
          "1952-10",
          "1952-11",
          "1952-12",
          "1953-01",
          "1953-02",
          "1953-03",
          "1953-04",
          "1953-05",
          "1953-06",
          "1953-07",
          "1953-08",
          "1953-09",
          "1953-10",
          "1953-11",
          "1953-12",
          "1954-01",
          "1954-02",
          "1954-03",
          "1954-04",
          "1954-05",
          "1954-06",
          "1954-07",
          "1954-08",
          "1954-09",
          "1954-10",
          "1954-11",
          "1954-12",
          "1955-01",
          "1955-02",
          "1955-03",
          "1955-04",
          "1955-05",
          "1955-06",
          "1955-07",
          "1955-08",
          "1955-09",
          "1955-10",
          "1955-11",
          "1955-12",
          "1956-01",
          "1956-02",
          "1956-03",
          "1956-04",
          "1956-05",
          "1956-06",
          "1956-07",
          "1956-08",
          "1956-09",
          "1956-10",
          "1956-11",
          "1956-12",
          "1957-01",
          "1957-02",
          "1957-03",
          "1957-04",
          "1957-05",
          "1957-06",
          "1957-07",
          "1957-08",
          "1957-09",
          "1957-10",
          "1957-11",
          "1957-12",
          "1958-01",
          "1958-02",
          "1958-03",
          "1958-04",
          "1958-05",
          "1958-06",
          "1958-07",
          "1958-08",
          "1958-09",
          "1958-10",
          "1958-11",
          "1958-12",
          "1959-01",
          "1959-02",
          "1959-03",
          "1959-04",
          "1959-05",
          "1959-06",
          "1959-07",
          "1959-08",
          "1959-09",
          "1959-10",
          "1959-11",
          "1959-12",
          "1960-01",
          "1960-02",
          "1960-03",
          "1960-04",
          "1960-05",
          "1960-06",
          "1960-07",
          "1960-08",
          "1960-09",
          "1960-10",
          "1960-11",
          "1960-12"
         ],
         "y": [
          90.30996168582371,
          92.96714559386969,
          95.62432950191567,
          98.28151340996163,
          100.93869731800761,
          103.59588122605359,
          106.25306513409957,
          108.91024904214555,
          111.56743295019153,
          114.22461685823751,
          116.88180076628348,
          119.53898467432946,
          122.19616858237544,
          124.85335249042141,
          127.5105363984674,
          130.16772030651336,
          132.82490421455935,
          135.48208812260532,
          138.13927203065128,
          140.79645593869728,
          143.45363984674327,
          146.11082375478924,
          148.7680076628352,
          151.4251915708812,
          154.08237547892716,
          156.73955938697316,
          159.39674329501912,
          162.0539272030651,
          164.71111111111108,
          167.36829501915705,
          170.02547892720304,
          172.682662835249,
          175.33984674329497,
          177.99703065134096,
          180.65421455938696,
          183.31139846743292,
          185.9685823754789,
          188.62576628352485,
          191.28295019157085,
          193.94013409961684,
          196.5973180076628,
          199.25450191570877,
          201.91168582375474,
          204.56886973180073,
          207.22605363984673,
          209.8832375478927,
          212.54042145593866,
          215.19760536398465,
          217.85478927203062,
          220.5119731800766,
          223.16915708812257,
          225.82634099616857,
          228.48352490421453,
          231.1407088122605,
          233.7978927203065,
          236.45507662835246,
          239.11226053639845,
          241.76944444444442,
          244.42662835249038,
          247.08381226053638,
          249.74099616858234,
          252.39818007662834,
          255.0553639846743,
          257.7125478927203,
          260.36973180076626,
          263.0269157088122,
          265.68409961685825,
          268.34128352490416,
          270.9984674329502,
          273.65565134099614,
          276.3128352490421,
          278.97001915708813,
          281.62720306513404,
          284.28438697318006,
          286.941570881226,
          289.598754789272,
          292.255938697318,
          294.9131226053639,
          297.57030651340995,
          300.2274904214559,
          302.8846743295019,
          305.5418582375479,
          308.19904214559386,
          310.85622605363983,
          313.5134099616858,
          316.17059386973176,
          318.8277777777778,
          321.48496168582375,
          324.1421455938697,
          326.79932950191574,
          329.45651340996164,
          332.11369731800767,
          334.77088122605363,
          337.4280651340996,
          340.0852490421456,
          342.7424329501915,
          345.39961685823755,
          348.05680076628346,
          350.7139846743295,
          353.3711685823755,
          356.0283524904214,
          358.68553639846743,
          361.34272030651346,
          363.99990421455936,
          366.6570881226054,
          369.3142720306513,
          371.9714559386973,
          374.62863984674334,
          377.28582375478925,
          379.94300766283527,
          382.6001915708812,
          385.2573754789272,
          387.9145593869732,
          390.57174329501913,
          393.22892720306515,
          395.88611111111106,
          398.5432950191571,
          401.2004789272031,
          403.857662835249,
          406.51484674329504,
          409.17203065134095,
          411.82921455938697,
          414.486398467433,
          417.1435823754789,
          419.8007662835249,
          422.45795019157083,
          425.11513409961685,
          427.7723180076629,
          430.4295019157088,
          433.0866858237548,
          435.7438697318007,
          438.40105363984674,
          441.05823754789276,
          443.71542145593867,
          446.3726053639847,
          449.0297892720306,
          451.6869731800766,
          454.34415708812264,
          457.00134099616855,
          459.6585249042146,
          462.3157088122606,
          464.9728927203065,
          467.6300766283525,
          470.28726053639843
         ]
        }
       ],
       "layout": {
        "template": {
         "data": {
          "bar": [
           {
            "error_x": {
             "color": "#2a3f5f"
            },
            "error_y": {
             "color": "#2a3f5f"
            },
            "marker": {
             "line": {
              "color": "#E5ECF6",
              "width": 0.5
             },
             "pattern": {
              "fillmode": "overlay",
              "size": 10,
              "solidity": 0.2
             }
            },
            "type": "bar"
           }
          ],
          "barpolar": [
           {
            "marker": {
             "line": {
              "color": "#E5ECF6",
              "width": 0.5
             },
             "pattern": {
              "fillmode": "overlay",
              "size": 10,
              "solidity": 0.2
             }
            },
            "type": "barpolar"
           }
          ],
          "carpet": [
           {
            "aaxis": {
             "endlinecolor": "#2a3f5f",
             "gridcolor": "white",
             "linecolor": "white",
             "minorgridcolor": "white",
             "startlinecolor": "#2a3f5f"
            },
            "baxis": {
             "endlinecolor": "#2a3f5f",
             "gridcolor": "white",
             "linecolor": "white",
             "minorgridcolor": "white",
             "startlinecolor": "#2a3f5f"
            },
            "type": "carpet"
           }
          ],
          "choropleth": [
           {
            "colorbar": {
             "outlinewidth": 0,
             "ticks": ""
            },
            "type": "choropleth"
           }
          ],
          "contour": [
           {
            "colorbar": {
             "outlinewidth": 0,
             "ticks": ""
            },
            "colorscale": [
             [
              0,
              "#0d0887"
             ],
             [
              0.1111111111111111,
              "#46039f"
             ],
             [
              0.2222222222222222,
              "#7201a8"
             ],
             [
              0.3333333333333333,
              "#9c179e"
             ],
             [
              0.4444444444444444,
              "#bd3786"
             ],
             [
              0.5555555555555556,
              "#d8576b"
             ],
             [
              0.6666666666666666,
              "#ed7953"
             ],
             [
              0.7777777777777778,
              "#fb9f3a"
             ],
             [
              0.8888888888888888,
              "#fdca26"
             ],
             [
              1,
              "#f0f921"
             ]
            ],
            "type": "contour"
           }
          ],
          "contourcarpet": [
           {
            "colorbar": {
             "outlinewidth": 0,
             "ticks": ""
            },
            "type": "contourcarpet"
           }
          ],
          "heatmap": [
           {
            "colorbar": {
             "outlinewidth": 0,
             "ticks": ""
            },
            "colorscale": [
             [
              0,
              "#0d0887"
             ],
             [
              0.1111111111111111,
              "#46039f"
             ],
             [
              0.2222222222222222,
              "#7201a8"
             ],
             [
              0.3333333333333333,
              "#9c179e"
             ],
             [
              0.4444444444444444,
              "#bd3786"
             ],
             [
              0.5555555555555556,
              "#d8576b"
             ],
             [
              0.6666666666666666,
              "#ed7953"
             ],
             [
              0.7777777777777778,
              "#fb9f3a"
             ],
             [
              0.8888888888888888,
              "#fdca26"
             ],
             [
              1,
              "#f0f921"
             ]
            ],
            "type": "heatmap"
           }
          ],
          "heatmapgl": [
           {
            "colorbar": {
             "outlinewidth": 0,
             "ticks": ""
            },
            "colorscale": [
             [
              0,
              "#0d0887"
             ],
             [
              0.1111111111111111,
              "#46039f"
             ],
             [
              0.2222222222222222,
              "#7201a8"
             ],
             [
              0.3333333333333333,
              "#9c179e"
             ],
             [
              0.4444444444444444,
              "#bd3786"
             ],
             [
              0.5555555555555556,
              "#d8576b"
             ],
             [
              0.6666666666666666,
              "#ed7953"
             ],
             [
              0.7777777777777778,
              "#fb9f3a"
             ],
             [
              0.8888888888888888,
              "#fdca26"
             ],
             [
              1,
              "#f0f921"
             ]
            ],
            "type": "heatmapgl"
           }
          ],
          "histogram": [
           {
            "marker": {
             "pattern": {
              "fillmode": "overlay",
              "size": 10,
              "solidity": 0.2
             }
            },
            "type": "histogram"
           }
          ],
          "histogram2d": [
           {
            "colorbar": {
             "outlinewidth": 0,
             "ticks": ""
            },
            "colorscale": [
             [
              0,
              "#0d0887"
             ],
             [
              0.1111111111111111,
              "#46039f"
             ],
             [
              0.2222222222222222,
              "#7201a8"
             ],
             [
              0.3333333333333333,
              "#9c179e"
             ],
             [
              0.4444444444444444,
              "#bd3786"
             ],
             [
              0.5555555555555556,
              "#d8576b"
             ],
             [
              0.6666666666666666,
              "#ed7953"
             ],
             [
              0.7777777777777778,
              "#fb9f3a"
             ],
             [
              0.8888888888888888,
              "#fdca26"
             ],
             [
              1,
              "#f0f921"
             ]
            ],
            "type": "histogram2d"
           }
          ],
          "histogram2dcontour": [
           {
            "colorbar": {
             "outlinewidth": 0,
             "ticks": ""
            },
            "colorscale": [
             [
              0,
              "#0d0887"
             ],
             [
              0.1111111111111111,
              "#46039f"
             ],
             [
              0.2222222222222222,
              "#7201a8"
             ],
             [
              0.3333333333333333,
              "#9c179e"
             ],
             [
              0.4444444444444444,
              "#bd3786"
             ],
             [
              0.5555555555555556,
              "#d8576b"
             ],
             [
              0.6666666666666666,
              "#ed7953"
             ],
             [
              0.7777777777777778,
              "#fb9f3a"
             ],
             [
              0.8888888888888888,
              "#fdca26"
             ],
             [
              1,
              "#f0f921"
             ]
            ],
            "type": "histogram2dcontour"
           }
          ],
          "mesh3d": [
           {
            "colorbar": {
             "outlinewidth": 0,
             "ticks": ""
            },
            "type": "mesh3d"
           }
          ],
          "parcoords": [
           {
            "line": {
             "colorbar": {
              "outlinewidth": 0,
              "ticks": ""
             }
            },
            "type": "parcoords"
           }
          ],
          "pie": [
           {
            "automargin": true,
            "type": "pie"
           }
          ],
          "scatter": [
           {
            "fillpattern": {
             "fillmode": "overlay",
             "size": 10,
             "solidity": 0.2
            },
            "type": "scatter"
           }
          ],
          "scatter3d": [
           {
            "line": {
             "colorbar": {
              "outlinewidth": 0,
              "ticks": ""
             }
            },
            "marker": {
             "colorbar": {
              "outlinewidth": 0,
              "ticks": ""
             }
            },
            "type": "scatter3d"
           }
          ],
          "scattercarpet": [
           {
            "marker": {
             "colorbar": {
              "outlinewidth": 0,
              "ticks": ""
             }
            },
            "type": "scattercarpet"
           }
          ],
          "scattergeo": [
           {
            "marker": {
             "colorbar": {
              "outlinewidth": 0,
              "ticks": ""
             }
            },
            "type": "scattergeo"
           }
          ],
          "scattergl": [
           {
            "marker": {
             "colorbar": {
              "outlinewidth": 0,
              "ticks": ""
             }
            },
            "type": "scattergl"
           }
          ],
          "scattermapbox": [
           {
            "marker": {
             "colorbar": {
              "outlinewidth": 0,
              "ticks": ""
             }
            },
            "type": "scattermapbox"
           }
          ],
          "scatterpolar": [
           {
            "marker": {
             "colorbar": {
              "outlinewidth": 0,
              "ticks": ""
             }
            },
            "type": "scatterpolar"
           }
          ],
          "scatterpolargl": [
           {
            "marker": {
             "colorbar": {
              "outlinewidth": 0,
              "ticks": ""
             }
            },
            "type": "scatterpolargl"
           }
          ],
          "scatterternary": [
           {
            "marker": {
             "colorbar": {
              "outlinewidth": 0,
              "ticks": ""
             }
            },
            "type": "scatterternary"
           }
          ],
          "surface": [
           {
            "colorbar": {
             "outlinewidth": 0,
             "ticks": ""
            },
            "colorscale": [
             [
              0,
              "#0d0887"
             ],
             [
              0.1111111111111111,
              "#46039f"
             ],
             [
              0.2222222222222222,
              "#7201a8"
             ],
             [
              0.3333333333333333,
              "#9c179e"
             ],
             [
              0.4444444444444444,
              "#bd3786"
             ],
             [
              0.5555555555555556,
              "#d8576b"
             ],
             [
              0.6666666666666666,
              "#ed7953"
             ],
             [
              0.7777777777777778,
              "#fb9f3a"
             ],
             [
              0.8888888888888888,
              "#fdca26"
             ],
             [
              1,
              "#f0f921"
             ]
            ],
            "type": "surface"
           }
          ],
          "table": [
           {
            "cells": {
             "fill": {
              "color": "#EBF0F8"
             },
             "line": {
              "color": "white"
             }
            },
            "header": {
             "fill": {
              "color": "#C8D4E3"
             },
             "line": {
              "color": "white"
             }
            },
            "type": "table"
           }
          ]
         },
         "layout": {
          "annotationdefaults": {
           "arrowcolor": "#2a3f5f",
           "arrowhead": 0,
           "arrowwidth": 1
          },
          "autotypenumbers": "strict",
          "coloraxis": {
           "colorbar": {
            "outlinewidth": 0,
            "ticks": ""
           }
          },
          "colorscale": {
           "diverging": [
            [
             0,
             "#8e0152"
            ],
            [
             0.1,
             "#c51b7d"
            ],
            [
             0.2,
             "#de77ae"
            ],
            [
             0.3,
             "#f1b6da"
            ],
            [
             0.4,
             "#fde0ef"
            ],
            [
             0.5,
             "#f7f7f7"
            ],
            [
             0.6,
             "#e6f5d0"
            ],
            [
             0.7,
             "#b8e186"
            ],
            [
             0.8,
             "#7fbc41"
            ],
            [
             0.9,
             "#4d9221"
            ],
            [
             1,
             "#276419"
            ]
           ],
           "sequential": [
            [
             0,
             "#0d0887"
            ],
            [
             0.1111111111111111,
             "#46039f"
            ],
            [
             0.2222222222222222,
             "#7201a8"
            ],
            [
             0.3333333333333333,
             "#9c179e"
            ],
            [
             0.4444444444444444,
             "#bd3786"
            ],
            [
             0.5555555555555556,
             "#d8576b"
            ],
            [
             0.6666666666666666,
             "#ed7953"
            ],
            [
             0.7777777777777778,
             "#fb9f3a"
            ],
            [
             0.8888888888888888,
             "#fdca26"
            ],
            [
             1,
             "#f0f921"
            ]
           ],
           "sequentialminus": [
            [
             0,
             "#0d0887"
            ],
            [
             0.1111111111111111,
             "#46039f"
            ],
            [
             0.2222222222222222,
             "#7201a8"
            ],
            [
             0.3333333333333333,
             "#9c179e"
            ],
            [
             0.4444444444444444,
             "#bd3786"
            ],
            [
             0.5555555555555556,
             "#d8576b"
            ],
            [
             0.6666666666666666,
             "#ed7953"
            ],
            [
             0.7777777777777778,
             "#fb9f3a"
            ],
            [
             0.8888888888888888,
             "#fdca26"
            ],
            [
             1,
             "#f0f921"
            ]
           ]
          },
          "colorway": [
           "#636efa",
           "#EF553B",
           "#00cc96",
           "#ab63fa",
           "#FFA15A",
           "#19d3f3",
           "#FF6692",
           "#B6E880",
           "#FF97FF",
           "#FECB52"
          ],
          "font": {
           "color": "#2a3f5f"
          },
          "geo": {
           "bgcolor": "white",
           "lakecolor": "white",
           "landcolor": "#E5ECF6",
           "showlakes": true,
           "showland": true,
           "subunitcolor": "white"
          },
          "hoverlabel": {
           "align": "left"
          },
          "hovermode": "closest",
          "mapbox": {
           "style": "light"
          },
          "paper_bgcolor": "white",
          "plot_bgcolor": "#E5ECF6",
          "polar": {
           "angularaxis": {
            "gridcolor": "white",
            "linecolor": "white",
            "ticks": ""
           },
           "bgcolor": "#E5ECF6",
           "radialaxis": {
            "gridcolor": "white",
            "linecolor": "white",
            "ticks": ""
           }
          },
          "scene": {
           "xaxis": {
            "backgroundcolor": "#E5ECF6",
            "gridcolor": "white",
            "gridwidth": 2,
            "linecolor": "white",
            "showbackground": true,
            "ticks": "",
            "zerolinecolor": "white"
           },
           "yaxis": {
            "backgroundcolor": "#E5ECF6",
            "gridcolor": "white",
            "gridwidth": 2,
            "linecolor": "white",
            "showbackground": true,
            "ticks": "",
            "zerolinecolor": "white"
           },
           "zaxis": {
            "backgroundcolor": "#E5ECF6",
            "gridcolor": "white",
            "gridwidth": 2,
            "linecolor": "white",
            "showbackground": true,
            "ticks": "",
            "zerolinecolor": "white"
           }
          },
          "shapedefaults": {
           "line": {
            "color": "#2a3f5f"
           }
          },
          "ternary": {
           "aaxis": {
            "gridcolor": "white",
            "linecolor": "white",
            "ticks": ""
           },
           "baxis": {
            "gridcolor": "white",
            "linecolor": "white",
            "ticks": ""
           },
           "bgcolor": "#E5ECF6",
           "caxis": {
            "gridcolor": "white",
            "linecolor": "white",
            "ticks": ""
           }
          },
          "title": {
           "x": 0.05
          },
          "xaxis": {
           "automargin": true,
           "gridcolor": "white",
           "linecolor": "white",
           "ticks": "",
           "title": {
            "standoff": 15
           },
           "zerolinecolor": "white",
           "zerolinewidth": 2
          },
          "yaxis": {
           "automargin": true,
           "gridcolor": "white",
           "linecolor": "white",
           "ticks": "",
           "title": {
            "standoff": 15
           },
           "zerolinecolor": "white",
           "zerolinewidth": 2
          }
         }
        },
        "xaxis": {
         "title": {
          "text": "date"
         }
        },
        "yaxis": {
         "title": {
          "text": "Passengers"
         }
        }
       }
      },
      "text/html": [
       "<div>                            <div id=\"3249482d-cdaa-4ef6-97da-187afdf2cc51\" class=\"plotly-graph-div\" style=\"height:525px; width:100%;\"></div>            <script type=\"text/javascript\">                require([\"plotly\"], function(Plotly) {                    window.PLOTLYENV=window.PLOTLYENV || {};                                    if (document.getElementById(\"3249482d-cdaa-4ef6-97da-187afdf2cc51\")) {                    Plotly.newPlot(                        \"3249482d-cdaa-4ef6-97da-187afdf2cc51\",                        [{\"mode\":\"lines\",\"name\":\"data\",\"x\":[\"1949-01\",\"1949-02\",\"1949-03\",\"1949-04\",\"1949-05\",\"1949-06\",\"1949-07\",\"1949-08\",\"1949-09\",\"1949-10\",\"1949-11\",\"1949-12\",\"1950-01\",\"1950-02\",\"1950-03\",\"1950-04\",\"1950-05\",\"1950-06\",\"1950-07\",\"1950-08\",\"1950-09\",\"1950-10\",\"1950-11\",\"1950-12\",\"1951-01\",\"1951-02\",\"1951-03\",\"1951-04\",\"1951-05\",\"1951-06\",\"1951-07\",\"1951-08\",\"1951-09\",\"1951-10\",\"1951-11\",\"1951-12\",\"1952-01\",\"1952-02\",\"1952-03\",\"1952-04\",\"1952-05\",\"1952-06\",\"1952-07\",\"1952-08\",\"1952-09\",\"1952-10\",\"1952-11\",\"1952-12\",\"1953-01\",\"1953-02\",\"1953-03\",\"1953-04\",\"1953-05\",\"1953-06\",\"1953-07\",\"1953-08\",\"1953-09\",\"1953-10\",\"1953-11\",\"1953-12\",\"1954-01\",\"1954-02\",\"1954-03\",\"1954-04\",\"1954-05\",\"1954-06\",\"1954-07\",\"1954-08\",\"1954-09\",\"1954-10\",\"1954-11\",\"1954-12\",\"1955-01\",\"1955-02\",\"1955-03\",\"1955-04\",\"1955-05\",\"1955-06\",\"1955-07\",\"1955-08\",\"1955-09\",\"1955-10\",\"1955-11\",\"1955-12\",\"1956-01\",\"1956-02\",\"1956-03\",\"1956-04\",\"1956-05\",\"1956-06\",\"1956-07\",\"1956-08\",\"1956-09\",\"1956-10\",\"1956-11\",\"1956-12\",\"1957-01\",\"1957-02\",\"1957-03\",\"1957-04\",\"1957-05\",\"1957-06\",\"1957-07\",\"1957-08\",\"1957-09\",\"1957-10\",\"1957-11\",\"1957-12\",\"1958-01\",\"1958-02\",\"1958-03\",\"1958-04\",\"1958-05\",\"1958-06\",\"1958-07\",\"1958-08\",\"1958-09\",\"1958-10\",\"1958-11\",\"1958-12\",\"1959-01\",\"1959-02\",\"1959-03\",\"1959-04\",\"1959-05\",\"1959-06\",\"1959-07\",\"1959-08\",\"1959-09\",\"1959-10\",\"1959-11\",\"1959-12\",\"1960-01\",\"1960-02\",\"1960-03\",\"1960-04\",\"1960-05\",\"1960-06\",\"1960-07\",\"1960-08\",\"1960-09\",\"1960-10\",\"1960-11\",\"1960-12\"],\"y\":[112,118,132,129,121,135,148,148,136,119,104,118,115,126,141,135,125,149,170,170,158,133,114,140,145,150,178,163,172,178,199,199,184,162,146,166,171,180,193,181,183,218,230,242,209,191,172,194,196,196,236,235,229,243,264,272,237,211,180,201,204,188,235,227,234,264,302,293,259,229,203,229,242,233,267,269,270,315,364,347,312,274,237,278,284,277,317,313,318,374,413,405,355,306,271,306,315,301,356,348,355,422,465,467,404,347,305,336,340,318,362,348,363,435,491,505,404,359,310,337,360,342,406,396,420,472,548,559,463,407,362,405,417,391,419,461,472,535,622,606,508,461,390,432],\"type\":\"scatter\"},{\"mode\":\"lines\",\"name\":\"Trend\",\"x\":[\"1949-01\",\"1949-02\",\"1949-03\",\"1949-04\",\"1949-05\",\"1949-06\",\"1949-07\",\"1949-08\",\"1949-09\",\"1949-10\",\"1949-11\",\"1949-12\",\"1950-01\",\"1950-02\",\"1950-03\",\"1950-04\",\"1950-05\",\"1950-06\",\"1950-07\",\"1950-08\",\"1950-09\",\"1950-10\",\"1950-11\",\"1950-12\",\"1951-01\",\"1951-02\",\"1951-03\",\"1951-04\",\"1951-05\",\"1951-06\",\"1951-07\",\"1951-08\",\"1951-09\",\"1951-10\",\"1951-11\",\"1951-12\",\"1952-01\",\"1952-02\",\"1952-03\",\"1952-04\",\"1952-05\",\"1952-06\",\"1952-07\",\"1952-08\",\"1952-09\",\"1952-10\",\"1952-11\",\"1952-12\",\"1953-01\",\"1953-02\",\"1953-03\",\"1953-04\",\"1953-05\",\"1953-06\",\"1953-07\",\"1953-08\",\"1953-09\",\"1953-10\",\"1953-11\",\"1953-12\",\"1954-01\",\"1954-02\",\"1954-03\",\"1954-04\",\"1954-05\",\"1954-06\",\"1954-07\",\"1954-08\",\"1954-09\",\"1954-10\",\"1954-11\",\"1954-12\",\"1955-01\",\"1955-02\",\"1955-03\",\"1955-04\",\"1955-05\",\"1955-06\",\"1955-07\",\"1955-08\",\"1955-09\",\"1955-10\",\"1955-11\",\"1955-12\",\"1956-01\",\"1956-02\",\"1956-03\",\"1956-04\",\"1956-05\",\"1956-06\",\"1956-07\",\"1956-08\",\"1956-09\",\"1956-10\",\"1956-11\",\"1956-12\",\"1957-01\",\"1957-02\",\"1957-03\",\"1957-04\",\"1957-05\",\"1957-06\",\"1957-07\",\"1957-08\",\"1957-09\",\"1957-10\",\"1957-11\",\"1957-12\",\"1958-01\",\"1958-02\",\"1958-03\",\"1958-04\",\"1958-05\",\"1958-06\",\"1958-07\",\"1958-08\",\"1958-09\",\"1958-10\",\"1958-11\",\"1958-12\",\"1959-01\",\"1959-02\",\"1959-03\",\"1959-04\",\"1959-05\",\"1959-06\",\"1959-07\",\"1959-08\",\"1959-09\",\"1959-10\",\"1959-11\",\"1959-12\",\"1960-01\",\"1960-02\",\"1960-03\",\"1960-04\",\"1960-05\",\"1960-06\",\"1960-07\",\"1960-08\",\"1960-09\",\"1960-10\",\"1960-11\",\"1960-12\"],\"y\":[90.30996168582371,92.96714559386969,95.62432950191567,98.28151340996163,100.93869731800761,103.59588122605359,106.25306513409957,108.91024904214555,111.56743295019153,114.22461685823751,116.88180076628348,119.53898467432946,122.19616858237544,124.85335249042141,127.5105363984674,130.16772030651336,132.82490421455935,135.48208812260532,138.13927203065128,140.79645593869728,143.45363984674327,146.11082375478924,148.7680076628352,151.4251915708812,154.08237547892716,156.73955938697316,159.39674329501912,162.0539272030651,164.71111111111108,167.36829501915705,170.02547892720304,172.682662835249,175.33984674329497,177.99703065134096,180.65421455938696,183.31139846743292,185.9685823754789,188.62576628352485,191.28295019157085,193.94013409961684,196.5973180076628,199.25450191570877,201.91168582375474,204.56886973180073,207.22605363984673,209.8832375478927,212.54042145593866,215.19760536398465,217.85478927203062,220.5119731800766,223.16915708812257,225.82634099616857,228.48352490421453,231.1407088122605,233.7978927203065,236.45507662835246,239.11226053639845,241.76944444444442,244.42662835249038,247.08381226053638,249.74099616858234,252.39818007662834,255.0553639846743,257.7125478927203,260.36973180076626,263.0269157088122,265.68409961685825,268.34128352490416,270.9984674329502,273.65565134099614,276.3128352490421,278.97001915708813,281.62720306513404,284.28438697318006,286.941570881226,289.598754789272,292.255938697318,294.9131226053639,297.57030651340995,300.2274904214559,302.8846743295019,305.5418582375479,308.19904214559386,310.85622605363983,313.5134099616858,316.17059386973176,318.8277777777778,321.48496168582375,324.1421455938697,326.79932950191574,329.45651340996164,332.11369731800767,334.77088122605363,337.4280651340996,340.0852490421456,342.7424329501915,345.39961685823755,348.05680076628346,350.7139846743295,353.3711685823755,356.0283524904214,358.68553639846743,361.34272030651346,363.99990421455936,366.6570881226054,369.3142720306513,371.9714559386973,374.62863984674334,377.28582375478925,379.94300766283527,382.6001915708812,385.2573754789272,387.9145593869732,390.57174329501913,393.22892720306515,395.88611111111106,398.5432950191571,401.2004789272031,403.857662835249,406.51484674329504,409.17203065134095,411.82921455938697,414.486398467433,417.1435823754789,419.8007662835249,422.45795019157083,425.11513409961685,427.7723180076629,430.4295019157088,433.0866858237548,435.7438697318007,438.40105363984674,441.05823754789276,443.71542145593867,446.3726053639847,449.0297892720306,451.6869731800766,454.34415708812264,457.00134099616855,459.6585249042146,462.3157088122606,464.9728927203065,467.6300766283525,470.28726053639843],\"type\":\"scatter\"}],                        {\"template\":{\"data\":{\"histogram2dcontour\":[{\"type\":\"histogram2dcontour\",\"colorbar\":{\"outlinewidth\":0,\"ticks\":\"\"},\"colorscale\":[[0.0,\"#0d0887\"],[0.1111111111111111,\"#46039f\"],[0.2222222222222222,\"#7201a8\"],[0.3333333333333333,\"#9c179e\"],[0.4444444444444444,\"#bd3786\"],[0.5555555555555556,\"#d8576b\"],[0.6666666666666666,\"#ed7953\"],[0.7777777777777778,\"#fb9f3a\"],[0.8888888888888888,\"#fdca26\"],[1.0,\"#f0f921\"]]}],\"choropleth\":[{\"type\":\"choropleth\",\"colorbar\":{\"outlinewidth\":0,\"ticks\":\"\"}}],\"histogram2d\":[{\"type\":\"histogram2d\",\"colorbar\":{\"outlinewidth\":0,\"ticks\":\"\"},\"colorscale\":[[0.0,\"#0d0887\"],[0.1111111111111111,\"#46039f\"],[0.2222222222222222,\"#7201a8\"],[0.3333333333333333,\"#9c179e\"],[0.4444444444444444,\"#bd3786\"],[0.5555555555555556,\"#d8576b\"],[0.6666666666666666,\"#ed7953\"],[0.7777777777777778,\"#fb9f3a\"],[0.8888888888888888,\"#fdca26\"],[1.0,\"#f0f921\"]]}],\"heatmap\":[{\"type\":\"heatmap\",\"colorbar\":{\"outlinewidth\":0,\"ticks\":\"\"},\"colorscale\":[[0.0,\"#0d0887\"],[0.1111111111111111,\"#46039f\"],[0.2222222222222222,\"#7201a8\"],[0.3333333333333333,\"#9c179e\"],[0.4444444444444444,\"#bd3786\"],[0.5555555555555556,\"#d8576b\"],[0.6666666666666666,\"#ed7953\"],[0.7777777777777778,\"#fb9f3a\"],[0.8888888888888888,\"#fdca26\"],[1.0,\"#f0f921\"]]}],\"heatmapgl\":[{\"type\":\"heatmapgl\",\"colorbar\":{\"outlinewidth\":0,\"ticks\":\"\"},\"colorscale\":[[0.0,\"#0d0887\"],[0.1111111111111111,\"#46039f\"],[0.2222222222222222,\"#7201a8\"],[0.3333333333333333,\"#9c179e\"],[0.4444444444444444,\"#bd3786\"],[0.5555555555555556,\"#d8576b\"],[0.6666666666666666,\"#ed7953\"],[0.7777777777777778,\"#fb9f3a\"],[0.8888888888888888,\"#fdca26\"],[1.0,\"#f0f921\"]]}],\"contourcarpet\":[{\"type\":\"contourcarpet\",\"colorbar\":{\"outlinewidth\":0,\"ticks\":\"\"}}],\"contour\":[{\"type\":\"contour\",\"colorbar\":{\"outlinewidth\":0,\"ticks\":\"\"},\"colorscale\":[[0.0,\"#0d0887\"],[0.1111111111111111,\"#46039f\"],[0.2222222222222222,\"#7201a8\"],[0.3333333333333333,\"#9c179e\"],[0.4444444444444444,\"#bd3786\"],[0.5555555555555556,\"#d8576b\"],[0.6666666666666666,\"#ed7953\"],[0.7777777777777778,\"#fb9f3a\"],[0.8888888888888888,\"#fdca26\"],[1.0,\"#f0f921\"]]}],\"surface\":[{\"type\":\"surface\",\"colorbar\":{\"outlinewidth\":0,\"ticks\":\"\"},\"colorscale\":[[0.0,\"#0d0887\"],[0.1111111111111111,\"#46039f\"],[0.2222222222222222,\"#7201a8\"],[0.3333333333333333,\"#9c179e\"],[0.4444444444444444,\"#bd3786\"],[0.5555555555555556,\"#d8576b\"],[0.6666666666666666,\"#ed7953\"],[0.7777777777777778,\"#fb9f3a\"],[0.8888888888888888,\"#fdca26\"],[1.0,\"#f0f921\"]]}],\"mesh3d\":[{\"type\":\"mesh3d\",\"colorbar\":{\"outlinewidth\":0,\"ticks\":\"\"}}],\"scatter\":[{\"fillpattern\":{\"fillmode\":\"overlay\",\"size\":10,\"solidity\":0.2},\"type\":\"scatter\"}],\"parcoords\":[{\"type\":\"parcoords\",\"line\":{\"colorbar\":{\"outlinewidth\":0,\"ticks\":\"\"}}}],\"scatterpolargl\":[{\"type\":\"scatterpolargl\",\"marker\":{\"colorbar\":{\"outlinewidth\":0,\"ticks\":\"\"}}}],\"bar\":[{\"error_x\":{\"color\":\"#2a3f5f\"},\"error_y\":{\"color\":\"#2a3f5f\"},\"marker\":{\"line\":{\"color\":\"#E5ECF6\",\"width\":0.5},\"pattern\":{\"fillmode\":\"overlay\",\"size\":10,\"solidity\":0.2}},\"type\":\"bar\"}],\"scattergeo\":[{\"type\":\"scattergeo\",\"marker\":{\"colorbar\":{\"outlinewidth\":0,\"ticks\":\"\"}}}],\"scatterpolar\":[{\"type\":\"scatterpolar\",\"marker\":{\"colorbar\":{\"outlinewidth\":0,\"ticks\":\"\"}}}],\"histogram\":[{\"marker\":{\"pattern\":{\"fillmode\":\"overlay\",\"size\":10,\"solidity\":0.2}},\"type\":\"histogram\"}],\"scattergl\":[{\"type\":\"scattergl\",\"marker\":{\"colorbar\":{\"outlinewidth\":0,\"ticks\":\"\"}}}],\"scatter3d\":[{\"type\":\"scatter3d\",\"line\":{\"colorbar\":{\"outlinewidth\":0,\"ticks\":\"\"}},\"marker\":{\"colorbar\":{\"outlinewidth\":0,\"ticks\":\"\"}}}],\"scattermapbox\":[{\"type\":\"scattermapbox\",\"marker\":{\"colorbar\":{\"outlinewidth\":0,\"ticks\":\"\"}}}],\"scatterternary\":[{\"type\":\"scatterternary\",\"marker\":{\"colorbar\":{\"outlinewidth\":0,\"ticks\":\"\"}}}],\"scattercarpet\":[{\"type\":\"scattercarpet\",\"marker\":{\"colorbar\":{\"outlinewidth\":0,\"ticks\":\"\"}}}],\"carpet\":[{\"aaxis\":{\"endlinecolor\":\"#2a3f5f\",\"gridcolor\":\"white\",\"linecolor\":\"white\",\"minorgridcolor\":\"white\",\"startlinecolor\":\"#2a3f5f\"},\"baxis\":{\"endlinecolor\":\"#2a3f5f\",\"gridcolor\":\"white\",\"linecolor\":\"white\",\"minorgridcolor\":\"white\",\"startlinecolor\":\"#2a3f5f\"},\"type\":\"carpet\"}],\"table\":[{\"cells\":{\"fill\":{\"color\":\"#EBF0F8\"},\"line\":{\"color\":\"white\"}},\"header\":{\"fill\":{\"color\":\"#C8D4E3\"},\"line\":{\"color\":\"white\"}},\"type\":\"table\"}],\"barpolar\":[{\"marker\":{\"line\":{\"color\":\"#E5ECF6\",\"width\":0.5},\"pattern\":{\"fillmode\":\"overlay\",\"size\":10,\"solidity\":0.2}},\"type\":\"barpolar\"}],\"pie\":[{\"automargin\":true,\"type\":\"pie\"}]},\"layout\":{\"autotypenumbers\":\"strict\",\"colorway\":[\"#636efa\",\"#EF553B\",\"#00cc96\",\"#ab63fa\",\"#FFA15A\",\"#19d3f3\",\"#FF6692\",\"#B6E880\",\"#FF97FF\",\"#FECB52\"],\"font\":{\"color\":\"#2a3f5f\"},\"hovermode\":\"closest\",\"hoverlabel\":{\"align\":\"left\"},\"paper_bgcolor\":\"white\",\"plot_bgcolor\":\"#E5ECF6\",\"polar\":{\"bgcolor\":\"#E5ECF6\",\"angularaxis\":{\"gridcolor\":\"white\",\"linecolor\":\"white\",\"ticks\":\"\"},\"radialaxis\":{\"gridcolor\":\"white\",\"linecolor\":\"white\",\"ticks\":\"\"}},\"ternary\":{\"bgcolor\":\"#E5ECF6\",\"aaxis\":{\"gridcolor\":\"white\",\"linecolor\":\"white\",\"ticks\":\"\"},\"baxis\":{\"gridcolor\":\"white\",\"linecolor\":\"white\",\"ticks\":\"\"},\"caxis\":{\"gridcolor\":\"white\",\"linecolor\":\"white\",\"ticks\":\"\"}},\"coloraxis\":{\"colorbar\":{\"outlinewidth\":0,\"ticks\":\"\"}},\"colorscale\":{\"sequential\":[[0.0,\"#0d0887\"],[0.1111111111111111,\"#46039f\"],[0.2222222222222222,\"#7201a8\"],[0.3333333333333333,\"#9c179e\"],[0.4444444444444444,\"#bd3786\"],[0.5555555555555556,\"#d8576b\"],[0.6666666666666666,\"#ed7953\"],[0.7777777777777778,\"#fb9f3a\"],[0.8888888888888888,\"#fdca26\"],[1.0,\"#f0f921\"]],\"sequentialminus\":[[0.0,\"#0d0887\"],[0.1111111111111111,\"#46039f\"],[0.2222222222222222,\"#7201a8\"],[0.3333333333333333,\"#9c179e\"],[0.4444444444444444,\"#bd3786\"],[0.5555555555555556,\"#d8576b\"],[0.6666666666666666,\"#ed7953\"],[0.7777777777777778,\"#fb9f3a\"],[0.8888888888888888,\"#fdca26\"],[1.0,\"#f0f921\"]],\"diverging\":[[0,\"#8e0152\"],[0.1,\"#c51b7d\"],[0.2,\"#de77ae\"],[0.3,\"#f1b6da\"],[0.4,\"#fde0ef\"],[0.5,\"#f7f7f7\"],[0.6,\"#e6f5d0\"],[0.7,\"#b8e186\"],[0.8,\"#7fbc41\"],[0.9,\"#4d9221\"],[1,\"#276419\"]]},\"xaxis\":{\"gridcolor\":\"white\",\"linecolor\":\"white\",\"ticks\":\"\",\"title\":{\"standoff\":15},\"zerolinecolor\":\"white\",\"automargin\":true,\"zerolinewidth\":2},\"yaxis\":{\"gridcolor\":\"white\",\"linecolor\":\"white\",\"ticks\":\"\",\"title\":{\"standoff\":15},\"zerolinecolor\":\"white\",\"automargin\":true,\"zerolinewidth\":2},\"scene\":{\"xaxis\":{\"backgroundcolor\":\"#E5ECF6\",\"gridcolor\":\"white\",\"linecolor\":\"white\",\"showbackground\":true,\"ticks\":\"\",\"zerolinecolor\":\"white\",\"gridwidth\":2},\"yaxis\":{\"backgroundcolor\":\"#E5ECF6\",\"gridcolor\":\"white\",\"linecolor\":\"white\",\"showbackground\":true,\"ticks\":\"\",\"zerolinecolor\":\"white\",\"gridwidth\":2},\"zaxis\":{\"backgroundcolor\":\"#E5ECF6\",\"gridcolor\":\"white\",\"linecolor\":\"white\",\"showbackground\":true,\"ticks\":\"\",\"zerolinecolor\":\"white\",\"gridwidth\":2}},\"shapedefaults\":{\"line\":{\"color\":\"#2a3f5f\"}},\"annotationdefaults\":{\"arrowcolor\":\"#2a3f5f\",\"arrowhead\":0,\"arrowwidth\":1},\"geo\":{\"bgcolor\":\"white\",\"landcolor\":\"#E5ECF6\",\"subunitcolor\":\"white\",\"showland\":true,\"showlakes\":true,\"lakecolor\":\"white\"},\"title\":{\"x\":0.05},\"mapbox\":{\"style\":\"light\"}}},\"xaxis\":{\"title\":{\"text\":\"date\"}},\"yaxis\":{\"title\":{\"text\":\"Passengers\"}}},                        {\"responsive\": true}                    ).then(function(){\n",
       "                            \n",
       "var gd = document.getElementById('3249482d-cdaa-4ef6-97da-187afdf2cc51');\n",
       "var x = new MutationObserver(function (mutations, observer) {{\n",
       "        var display = window.getComputedStyle(gd).display;\n",
       "        if (!display || display === 'none') {{\n",
       "            console.log([gd, 'removed!']);\n",
       "            Plotly.purge(gd);\n",
       "            observer.disconnect();\n",
       "        }}\n",
       "}});\n",
       "\n",
       "// Listen for the removal of the full notebook cells\n",
       "var notebookContainer = gd.closest('#notebook-container');\n",
       "if (notebookContainer) {{\n",
       "    x.observe(notebookContainer, {childList: true});\n",
       "}}\n",
       "\n",
       "// Listen for the clearing of the current output cell\n",
       "var outputEl = gd.closest('.output');\n",
       "if (outputEl) {{\n",
       "    x.observe(outputEl, {childList: true});\n",
       "}}\n",
       "\n",
       "                        })                };                });            </script>        </div>"
      ]
     },
     "metadata": {},
     "output_type": "display_data"
    }
   ],
   "source": [
    "fig=go.Figure()\n",
    "fig.add_trace(go.Scatter(x=data[timeax],y=data[values_col],mode='lines',name='data'))\n",
    "fig.add_trace(go.Scatter(x=data[timeax],y=trend,mode='lines',name='Trend'))\n",
    "fig.update_xaxes(title='date')\n",
    "fig.update_yaxes(title='Passengers')\n",
    "fig.show()"
   ]
  },
  {
   "cell_type": "code",
   "execution_count": 870,
   "id": "3b62af94",
   "metadata": {},
   "outputs": [],
   "source": [
    "data[values_col]=data[values_col]-trend"
   ]
  },
  {
   "cell_type": "code",
   "execution_count": 871,
   "id": "9aa2c96e",
   "metadata": {},
   "outputs": [
    {
     "data": {
      "application/vnd.plotly.v1+json": {
       "config": {
        "plotlyServerURL": "https://plot.ly"
       },
       "data": [
        {
         "mode": "lines",
         "name": "data",
         "type": "scatter",
         "x": [
          "1949-01",
          "1949-02",
          "1949-03",
          "1949-04",
          "1949-05",
          "1949-06",
          "1949-07",
          "1949-08",
          "1949-09",
          "1949-10",
          "1949-11",
          "1949-12",
          "1950-01",
          "1950-02",
          "1950-03",
          "1950-04",
          "1950-05",
          "1950-06",
          "1950-07",
          "1950-08",
          "1950-09",
          "1950-10",
          "1950-11",
          "1950-12",
          "1951-01",
          "1951-02",
          "1951-03",
          "1951-04",
          "1951-05",
          "1951-06",
          "1951-07",
          "1951-08",
          "1951-09",
          "1951-10",
          "1951-11",
          "1951-12",
          "1952-01",
          "1952-02",
          "1952-03",
          "1952-04",
          "1952-05",
          "1952-06",
          "1952-07",
          "1952-08",
          "1952-09",
          "1952-10",
          "1952-11",
          "1952-12",
          "1953-01",
          "1953-02",
          "1953-03",
          "1953-04",
          "1953-05",
          "1953-06",
          "1953-07",
          "1953-08",
          "1953-09",
          "1953-10",
          "1953-11",
          "1953-12",
          "1954-01",
          "1954-02",
          "1954-03",
          "1954-04",
          "1954-05",
          "1954-06",
          "1954-07",
          "1954-08",
          "1954-09",
          "1954-10",
          "1954-11",
          "1954-12",
          "1955-01",
          "1955-02",
          "1955-03",
          "1955-04",
          "1955-05",
          "1955-06",
          "1955-07",
          "1955-08",
          "1955-09",
          "1955-10",
          "1955-11",
          "1955-12",
          "1956-01",
          "1956-02",
          "1956-03",
          "1956-04",
          "1956-05",
          "1956-06",
          "1956-07",
          "1956-08",
          "1956-09",
          "1956-10",
          "1956-11",
          "1956-12",
          "1957-01",
          "1957-02",
          "1957-03",
          "1957-04",
          "1957-05",
          "1957-06",
          "1957-07",
          "1957-08",
          "1957-09",
          "1957-10",
          "1957-11",
          "1957-12",
          "1958-01",
          "1958-02",
          "1958-03",
          "1958-04",
          "1958-05",
          "1958-06",
          "1958-07",
          "1958-08",
          "1958-09",
          "1958-10",
          "1958-11",
          "1958-12",
          "1959-01",
          "1959-02",
          "1959-03",
          "1959-04",
          "1959-05",
          "1959-06",
          "1959-07",
          "1959-08",
          "1959-09",
          "1959-10",
          "1959-11",
          "1959-12",
          "1960-01",
          "1960-02",
          "1960-03",
          "1960-04",
          "1960-05",
          "1960-06",
          "1960-07",
          "1960-08",
          "1960-09",
          "1960-10",
          "1960-11",
          "1960-12"
         ],
         "y": [
          21.69003831417629,
          25.032854406130312,
          36.37567049808433,
          30.718486590038367,
          20.061302681992387,
          31.404118773946408,
          41.74693486590043,
          39.08975095785445,
          24.43256704980847,
          4.7753831417624895,
          -12.881800766283476,
          -1.5389846743294555,
          -7.196168582375435,
          1.1466475095785853,
          13.489463601532606,
          4.83227969348664,
          -7.8249042145593535,
          13.517911877394681,
          31.860727969348716,
          29.203544061302722,
          14.546360153256728,
          -13.110823754789237,
          -34.7680076628352,
          -11.425191570881196,
          -9.082375478927162,
          -6.739559386973156,
          18.60325670498088,
          0.9460727969349136,
          7.28888888888892,
          10.631704980842954,
          28.97452107279696,
          26.317337164750995,
          8.66015325670503,
          -15.997030651340964,
          -34.65421455938696,
          -17.311398467432923,
          -14.968582375478888,
          -8.625766283524854,
          1.7170498084291523,
          -12.940134099616841,
          -13.597318007662807,
          18.745498084291228,
          28.088314176245262,
          37.43113026819927,
          1.7739463601532748,
          -18.88323754789269,
          -40.540421455938656,
          -21.19760536398465,
          -21.854789272030615,
          -24.51197318007661,
          12.830842911877426,
          9.173659003831432,
          0.5164750957854665,
          11.859291187739501,
          30.202107279693507,
          35.54492337164754,
          -2.112260536398452,
          -30.769444444444417,
          -64.42662835249038,
          -46.08381226053638,
          -45.74099616858234,
          -64.39818007662834,
          -20.0553639846743,
          -30.712547892720295,
          -26.36973180076626,
          0.9730842911877744,
          36.31590038314175,
          24.658716475095844,
          -11.998467432950179,
          -44.655651340996144,
          -73.31283524904211,
          -49.97001915708813,
          -39.62720306513404,
          -51.28438697318006,
          -19.941570881226028,
          -20.598754789271993,
          -22.255938697318015,
          20.086877394636076,
          66.42969348659005,
          46.77250957854409,
          9.115325670498123,
          -31.5418582375479,
          -71.19904214559386,
          -32.85622605363983,
          -29.513409961685795,
          -39.17059386973176,
          -1.8277777777777828,
          -8.484961685823748,
          -6.142145593869714,
          47.200670498084264,
          83.54348659003836,
          72.88630268199233,
          20.229118773946368,
          -31.428065134099597,
          -69.08524904214562,
          -36.74243295019153,
          -30.39961685823755,
          -47.05680076628346,
          5.286015325670519,
          -5.371168582375503,
          -1.0283524904214119,
          63.314463601532566,
          103.65727969348654,
          103.00009578544064,
          37.34291187739461,
          -22.314272030651296,
          -66.97145593869732,
          -38.62863984674334,
          -37.28582375478925,
          -61.94300766283527,
          -20.60019157088118,
          -37.2573754789272,
          -24.914559386973224,
          44.42825670498087,
          97.77107279693485,
          109.11388888888894,
          5.456704980842915,
          -42.20047892720311,
          -93.85766283524902,
          -69.51484674329504,
          -49.17203065134095,
          -69.82921455938697,
          -8.486398467432991,
          -21.1435823754789,
          0.19923371647507793,
          49.54204980842917,
          122.88486590038315,
          131.22768199233712,
          32.570498084291216,
          -26.086685823754806,
          -73.74386973180071,
          -33.40105363984674,
          -24.05823754789276,
          -52.71542145593867,
          -27.37260536398469,
          11.970210727969402,
          20.31302681992338,
          80.65584291187736,
          164.99865900383145,
          146.34147509578543,
          45.684291187739404,
          -3.972892720306504,
          -77.63007662835253,
          -38.287260536398435
         ]
        }
       ],
       "layout": {
        "template": {
         "data": {
          "bar": [
           {
            "error_x": {
             "color": "#2a3f5f"
            },
            "error_y": {
             "color": "#2a3f5f"
            },
            "marker": {
             "line": {
              "color": "#E5ECF6",
              "width": 0.5
             },
             "pattern": {
              "fillmode": "overlay",
              "size": 10,
              "solidity": 0.2
             }
            },
            "type": "bar"
           }
          ],
          "barpolar": [
           {
            "marker": {
             "line": {
              "color": "#E5ECF6",
              "width": 0.5
             },
             "pattern": {
              "fillmode": "overlay",
              "size": 10,
              "solidity": 0.2
             }
            },
            "type": "barpolar"
           }
          ],
          "carpet": [
           {
            "aaxis": {
             "endlinecolor": "#2a3f5f",
             "gridcolor": "white",
             "linecolor": "white",
             "minorgridcolor": "white",
             "startlinecolor": "#2a3f5f"
            },
            "baxis": {
             "endlinecolor": "#2a3f5f",
             "gridcolor": "white",
             "linecolor": "white",
             "minorgridcolor": "white",
             "startlinecolor": "#2a3f5f"
            },
            "type": "carpet"
           }
          ],
          "choropleth": [
           {
            "colorbar": {
             "outlinewidth": 0,
             "ticks": ""
            },
            "type": "choropleth"
           }
          ],
          "contour": [
           {
            "colorbar": {
             "outlinewidth": 0,
             "ticks": ""
            },
            "colorscale": [
             [
              0,
              "#0d0887"
             ],
             [
              0.1111111111111111,
              "#46039f"
             ],
             [
              0.2222222222222222,
              "#7201a8"
             ],
             [
              0.3333333333333333,
              "#9c179e"
             ],
             [
              0.4444444444444444,
              "#bd3786"
             ],
             [
              0.5555555555555556,
              "#d8576b"
             ],
             [
              0.6666666666666666,
              "#ed7953"
             ],
             [
              0.7777777777777778,
              "#fb9f3a"
             ],
             [
              0.8888888888888888,
              "#fdca26"
             ],
             [
              1,
              "#f0f921"
             ]
            ],
            "type": "contour"
           }
          ],
          "contourcarpet": [
           {
            "colorbar": {
             "outlinewidth": 0,
             "ticks": ""
            },
            "type": "contourcarpet"
           }
          ],
          "heatmap": [
           {
            "colorbar": {
             "outlinewidth": 0,
             "ticks": ""
            },
            "colorscale": [
             [
              0,
              "#0d0887"
             ],
             [
              0.1111111111111111,
              "#46039f"
             ],
             [
              0.2222222222222222,
              "#7201a8"
             ],
             [
              0.3333333333333333,
              "#9c179e"
             ],
             [
              0.4444444444444444,
              "#bd3786"
             ],
             [
              0.5555555555555556,
              "#d8576b"
             ],
             [
              0.6666666666666666,
              "#ed7953"
             ],
             [
              0.7777777777777778,
              "#fb9f3a"
             ],
             [
              0.8888888888888888,
              "#fdca26"
             ],
             [
              1,
              "#f0f921"
             ]
            ],
            "type": "heatmap"
           }
          ],
          "heatmapgl": [
           {
            "colorbar": {
             "outlinewidth": 0,
             "ticks": ""
            },
            "colorscale": [
             [
              0,
              "#0d0887"
             ],
             [
              0.1111111111111111,
              "#46039f"
             ],
             [
              0.2222222222222222,
              "#7201a8"
             ],
             [
              0.3333333333333333,
              "#9c179e"
             ],
             [
              0.4444444444444444,
              "#bd3786"
             ],
             [
              0.5555555555555556,
              "#d8576b"
             ],
             [
              0.6666666666666666,
              "#ed7953"
             ],
             [
              0.7777777777777778,
              "#fb9f3a"
             ],
             [
              0.8888888888888888,
              "#fdca26"
             ],
             [
              1,
              "#f0f921"
             ]
            ],
            "type": "heatmapgl"
           }
          ],
          "histogram": [
           {
            "marker": {
             "pattern": {
              "fillmode": "overlay",
              "size": 10,
              "solidity": 0.2
             }
            },
            "type": "histogram"
           }
          ],
          "histogram2d": [
           {
            "colorbar": {
             "outlinewidth": 0,
             "ticks": ""
            },
            "colorscale": [
             [
              0,
              "#0d0887"
             ],
             [
              0.1111111111111111,
              "#46039f"
             ],
             [
              0.2222222222222222,
              "#7201a8"
             ],
             [
              0.3333333333333333,
              "#9c179e"
             ],
             [
              0.4444444444444444,
              "#bd3786"
             ],
             [
              0.5555555555555556,
              "#d8576b"
             ],
             [
              0.6666666666666666,
              "#ed7953"
             ],
             [
              0.7777777777777778,
              "#fb9f3a"
             ],
             [
              0.8888888888888888,
              "#fdca26"
             ],
             [
              1,
              "#f0f921"
             ]
            ],
            "type": "histogram2d"
           }
          ],
          "histogram2dcontour": [
           {
            "colorbar": {
             "outlinewidth": 0,
             "ticks": ""
            },
            "colorscale": [
             [
              0,
              "#0d0887"
             ],
             [
              0.1111111111111111,
              "#46039f"
             ],
             [
              0.2222222222222222,
              "#7201a8"
             ],
             [
              0.3333333333333333,
              "#9c179e"
             ],
             [
              0.4444444444444444,
              "#bd3786"
             ],
             [
              0.5555555555555556,
              "#d8576b"
             ],
             [
              0.6666666666666666,
              "#ed7953"
             ],
             [
              0.7777777777777778,
              "#fb9f3a"
             ],
             [
              0.8888888888888888,
              "#fdca26"
             ],
             [
              1,
              "#f0f921"
             ]
            ],
            "type": "histogram2dcontour"
           }
          ],
          "mesh3d": [
           {
            "colorbar": {
             "outlinewidth": 0,
             "ticks": ""
            },
            "type": "mesh3d"
           }
          ],
          "parcoords": [
           {
            "line": {
             "colorbar": {
              "outlinewidth": 0,
              "ticks": ""
             }
            },
            "type": "parcoords"
           }
          ],
          "pie": [
           {
            "automargin": true,
            "type": "pie"
           }
          ],
          "scatter": [
           {
            "fillpattern": {
             "fillmode": "overlay",
             "size": 10,
             "solidity": 0.2
            },
            "type": "scatter"
           }
          ],
          "scatter3d": [
           {
            "line": {
             "colorbar": {
              "outlinewidth": 0,
              "ticks": ""
             }
            },
            "marker": {
             "colorbar": {
              "outlinewidth": 0,
              "ticks": ""
             }
            },
            "type": "scatter3d"
           }
          ],
          "scattercarpet": [
           {
            "marker": {
             "colorbar": {
              "outlinewidth": 0,
              "ticks": ""
             }
            },
            "type": "scattercarpet"
           }
          ],
          "scattergeo": [
           {
            "marker": {
             "colorbar": {
              "outlinewidth": 0,
              "ticks": ""
             }
            },
            "type": "scattergeo"
           }
          ],
          "scattergl": [
           {
            "marker": {
             "colorbar": {
              "outlinewidth": 0,
              "ticks": ""
             }
            },
            "type": "scattergl"
           }
          ],
          "scattermapbox": [
           {
            "marker": {
             "colorbar": {
              "outlinewidth": 0,
              "ticks": ""
             }
            },
            "type": "scattermapbox"
           }
          ],
          "scatterpolar": [
           {
            "marker": {
             "colorbar": {
              "outlinewidth": 0,
              "ticks": ""
             }
            },
            "type": "scatterpolar"
           }
          ],
          "scatterpolargl": [
           {
            "marker": {
             "colorbar": {
              "outlinewidth": 0,
              "ticks": ""
             }
            },
            "type": "scatterpolargl"
           }
          ],
          "scatterternary": [
           {
            "marker": {
             "colorbar": {
              "outlinewidth": 0,
              "ticks": ""
             }
            },
            "type": "scatterternary"
           }
          ],
          "surface": [
           {
            "colorbar": {
             "outlinewidth": 0,
             "ticks": ""
            },
            "colorscale": [
             [
              0,
              "#0d0887"
             ],
             [
              0.1111111111111111,
              "#46039f"
             ],
             [
              0.2222222222222222,
              "#7201a8"
             ],
             [
              0.3333333333333333,
              "#9c179e"
             ],
             [
              0.4444444444444444,
              "#bd3786"
             ],
             [
              0.5555555555555556,
              "#d8576b"
             ],
             [
              0.6666666666666666,
              "#ed7953"
             ],
             [
              0.7777777777777778,
              "#fb9f3a"
             ],
             [
              0.8888888888888888,
              "#fdca26"
             ],
             [
              1,
              "#f0f921"
             ]
            ],
            "type": "surface"
           }
          ],
          "table": [
           {
            "cells": {
             "fill": {
              "color": "#EBF0F8"
             },
             "line": {
              "color": "white"
             }
            },
            "header": {
             "fill": {
              "color": "#C8D4E3"
             },
             "line": {
              "color": "white"
             }
            },
            "type": "table"
           }
          ]
         },
         "layout": {
          "annotationdefaults": {
           "arrowcolor": "#2a3f5f",
           "arrowhead": 0,
           "arrowwidth": 1
          },
          "autotypenumbers": "strict",
          "coloraxis": {
           "colorbar": {
            "outlinewidth": 0,
            "ticks": ""
           }
          },
          "colorscale": {
           "diverging": [
            [
             0,
             "#8e0152"
            ],
            [
             0.1,
             "#c51b7d"
            ],
            [
             0.2,
             "#de77ae"
            ],
            [
             0.3,
             "#f1b6da"
            ],
            [
             0.4,
             "#fde0ef"
            ],
            [
             0.5,
             "#f7f7f7"
            ],
            [
             0.6,
             "#e6f5d0"
            ],
            [
             0.7,
             "#b8e186"
            ],
            [
             0.8,
             "#7fbc41"
            ],
            [
             0.9,
             "#4d9221"
            ],
            [
             1,
             "#276419"
            ]
           ],
           "sequential": [
            [
             0,
             "#0d0887"
            ],
            [
             0.1111111111111111,
             "#46039f"
            ],
            [
             0.2222222222222222,
             "#7201a8"
            ],
            [
             0.3333333333333333,
             "#9c179e"
            ],
            [
             0.4444444444444444,
             "#bd3786"
            ],
            [
             0.5555555555555556,
             "#d8576b"
            ],
            [
             0.6666666666666666,
             "#ed7953"
            ],
            [
             0.7777777777777778,
             "#fb9f3a"
            ],
            [
             0.8888888888888888,
             "#fdca26"
            ],
            [
             1,
             "#f0f921"
            ]
           ],
           "sequentialminus": [
            [
             0,
             "#0d0887"
            ],
            [
             0.1111111111111111,
             "#46039f"
            ],
            [
             0.2222222222222222,
             "#7201a8"
            ],
            [
             0.3333333333333333,
             "#9c179e"
            ],
            [
             0.4444444444444444,
             "#bd3786"
            ],
            [
             0.5555555555555556,
             "#d8576b"
            ],
            [
             0.6666666666666666,
             "#ed7953"
            ],
            [
             0.7777777777777778,
             "#fb9f3a"
            ],
            [
             0.8888888888888888,
             "#fdca26"
            ],
            [
             1,
             "#f0f921"
            ]
           ]
          },
          "colorway": [
           "#636efa",
           "#EF553B",
           "#00cc96",
           "#ab63fa",
           "#FFA15A",
           "#19d3f3",
           "#FF6692",
           "#B6E880",
           "#FF97FF",
           "#FECB52"
          ],
          "font": {
           "color": "#2a3f5f"
          },
          "geo": {
           "bgcolor": "white",
           "lakecolor": "white",
           "landcolor": "#E5ECF6",
           "showlakes": true,
           "showland": true,
           "subunitcolor": "white"
          },
          "hoverlabel": {
           "align": "left"
          },
          "hovermode": "closest",
          "mapbox": {
           "style": "light"
          },
          "paper_bgcolor": "white",
          "plot_bgcolor": "#E5ECF6",
          "polar": {
           "angularaxis": {
            "gridcolor": "white",
            "linecolor": "white",
            "ticks": ""
           },
           "bgcolor": "#E5ECF6",
           "radialaxis": {
            "gridcolor": "white",
            "linecolor": "white",
            "ticks": ""
           }
          },
          "scene": {
           "xaxis": {
            "backgroundcolor": "#E5ECF6",
            "gridcolor": "white",
            "gridwidth": 2,
            "linecolor": "white",
            "showbackground": true,
            "ticks": "",
            "zerolinecolor": "white"
           },
           "yaxis": {
            "backgroundcolor": "#E5ECF6",
            "gridcolor": "white",
            "gridwidth": 2,
            "linecolor": "white",
            "showbackground": true,
            "ticks": "",
            "zerolinecolor": "white"
           },
           "zaxis": {
            "backgroundcolor": "#E5ECF6",
            "gridcolor": "white",
            "gridwidth": 2,
            "linecolor": "white",
            "showbackground": true,
            "ticks": "",
            "zerolinecolor": "white"
           }
          },
          "shapedefaults": {
           "line": {
            "color": "#2a3f5f"
           }
          },
          "ternary": {
           "aaxis": {
            "gridcolor": "white",
            "linecolor": "white",
            "ticks": ""
           },
           "baxis": {
            "gridcolor": "white",
            "linecolor": "white",
            "ticks": ""
           },
           "bgcolor": "#E5ECF6",
           "caxis": {
            "gridcolor": "white",
            "linecolor": "white",
            "ticks": ""
           }
          },
          "title": {
           "x": 0.05
          },
          "xaxis": {
           "automargin": true,
           "gridcolor": "white",
           "linecolor": "white",
           "ticks": "",
           "title": {
            "standoff": 15
           },
           "zerolinecolor": "white",
           "zerolinewidth": 2
          },
          "yaxis": {
           "automargin": true,
           "gridcolor": "white",
           "linecolor": "white",
           "ticks": "",
           "title": {
            "standoff": 15
           },
           "zerolinecolor": "white",
           "zerolinewidth": 2
          }
         }
        },
        "title": {
         "text": "Estacionaria"
        },
        "xaxis": {
         "title": {
          "text": "date"
         }
        },
        "yaxis": {
         "title": {
          "text": "Passengers"
         }
        }
       }
      },
      "text/html": [
       "<div>                            <div id=\"61cf959e-ce84-45eb-bd8f-3d4bcd7480c2\" class=\"plotly-graph-div\" style=\"height:525px; width:100%;\"></div>            <script type=\"text/javascript\">                require([\"plotly\"], function(Plotly) {                    window.PLOTLYENV=window.PLOTLYENV || {};                                    if (document.getElementById(\"61cf959e-ce84-45eb-bd8f-3d4bcd7480c2\")) {                    Plotly.newPlot(                        \"61cf959e-ce84-45eb-bd8f-3d4bcd7480c2\",                        [{\"mode\":\"lines\",\"name\":\"data\",\"x\":[\"1949-01\",\"1949-02\",\"1949-03\",\"1949-04\",\"1949-05\",\"1949-06\",\"1949-07\",\"1949-08\",\"1949-09\",\"1949-10\",\"1949-11\",\"1949-12\",\"1950-01\",\"1950-02\",\"1950-03\",\"1950-04\",\"1950-05\",\"1950-06\",\"1950-07\",\"1950-08\",\"1950-09\",\"1950-10\",\"1950-11\",\"1950-12\",\"1951-01\",\"1951-02\",\"1951-03\",\"1951-04\",\"1951-05\",\"1951-06\",\"1951-07\",\"1951-08\",\"1951-09\",\"1951-10\",\"1951-11\",\"1951-12\",\"1952-01\",\"1952-02\",\"1952-03\",\"1952-04\",\"1952-05\",\"1952-06\",\"1952-07\",\"1952-08\",\"1952-09\",\"1952-10\",\"1952-11\",\"1952-12\",\"1953-01\",\"1953-02\",\"1953-03\",\"1953-04\",\"1953-05\",\"1953-06\",\"1953-07\",\"1953-08\",\"1953-09\",\"1953-10\",\"1953-11\",\"1953-12\",\"1954-01\",\"1954-02\",\"1954-03\",\"1954-04\",\"1954-05\",\"1954-06\",\"1954-07\",\"1954-08\",\"1954-09\",\"1954-10\",\"1954-11\",\"1954-12\",\"1955-01\",\"1955-02\",\"1955-03\",\"1955-04\",\"1955-05\",\"1955-06\",\"1955-07\",\"1955-08\",\"1955-09\",\"1955-10\",\"1955-11\",\"1955-12\",\"1956-01\",\"1956-02\",\"1956-03\",\"1956-04\",\"1956-05\",\"1956-06\",\"1956-07\",\"1956-08\",\"1956-09\",\"1956-10\",\"1956-11\",\"1956-12\",\"1957-01\",\"1957-02\",\"1957-03\",\"1957-04\",\"1957-05\",\"1957-06\",\"1957-07\",\"1957-08\",\"1957-09\",\"1957-10\",\"1957-11\",\"1957-12\",\"1958-01\",\"1958-02\",\"1958-03\",\"1958-04\",\"1958-05\",\"1958-06\",\"1958-07\",\"1958-08\",\"1958-09\",\"1958-10\",\"1958-11\",\"1958-12\",\"1959-01\",\"1959-02\",\"1959-03\",\"1959-04\",\"1959-05\",\"1959-06\",\"1959-07\",\"1959-08\",\"1959-09\",\"1959-10\",\"1959-11\",\"1959-12\",\"1960-01\",\"1960-02\",\"1960-03\",\"1960-04\",\"1960-05\",\"1960-06\",\"1960-07\",\"1960-08\",\"1960-09\",\"1960-10\",\"1960-11\",\"1960-12\"],\"y\":[21.69003831417629,25.032854406130312,36.37567049808433,30.718486590038367,20.061302681992387,31.404118773946408,41.74693486590043,39.08975095785445,24.43256704980847,4.7753831417624895,-12.881800766283476,-1.5389846743294555,-7.196168582375435,1.1466475095785853,13.489463601532606,4.83227969348664,-7.8249042145593535,13.517911877394681,31.860727969348716,29.203544061302722,14.546360153256728,-13.110823754789237,-34.7680076628352,-11.425191570881196,-9.082375478927162,-6.739559386973156,18.60325670498088,0.9460727969349136,7.28888888888892,10.631704980842954,28.97452107279696,26.317337164750995,8.66015325670503,-15.997030651340964,-34.65421455938696,-17.311398467432923,-14.968582375478888,-8.625766283524854,1.7170498084291523,-12.940134099616841,-13.597318007662807,18.745498084291228,28.088314176245262,37.43113026819927,1.7739463601532748,-18.88323754789269,-40.540421455938656,-21.19760536398465,-21.854789272030615,-24.51197318007661,12.830842911877426,9.173659003831432,0.5164750957854665,11.859291187739501,30.202107279693507,35.54492337164754,-2.112260536398452,-30.769444444444417,-64.42662835249038,-46.08381226053638,-45.74099616858234,-64.39818007662834,-20.0553639846743,-30.712547892720295,-26.36973180076626,0.9730842911877744,36.31590038314175,24.658716475095844,-11.998467432950179,-44.655651340996144,-73.31283524904211,-49.97001915708813,-39.62720306513404,-51.28438697318006,-19.941570881226028,-20.598754789271993,-22.255938697318015,20.086877394636076,66.42969348659005,46.77250957854409,9.115325670498123,-31.5418582375479,-71.19904214559386,-32.85622605363983,-29.513409961685795,-39.17059386973176,-1.8277777777777828,-8.484961685823748,-6.142145593869714,47.200670498084264,83.54348659003836,72.88630268199233,20.229118773946368,-31.428065134099597,-69.08524904214562,-36.74243295019153,-30.39961685823755,-47.05680076628346,5.286015325670519,-5.371168582375503,-1.0283524904214119,63.314463601532566,103.65727969348654,103.00009578544064,37.34291187739461,-22.314272030651296,-66.97145593869732,-38.62863984674334,-37.28582375478925,-61.94300766283527,-20.60019157088118,-37.2573754789272,-24.914559386973224,44.42825670498087,97.77107279693485,109.11388888888894,5.456704980842915,-42.20047892720311,-93.85766283524902,-69.51484674329504,-49.17203065134095,-69.82921455938697,-8.486398467432991,-21.1435823754789,0.19923371647507793,49.54204980842917,122.88486590038315,131.22768199233712,32.570498084291216,-26.086685823754806,-73.74386973180071,-33.40105363984674,-24.05823754789276,-52.71542145593867,-27.37260536398469,11.970210727969402,20.31302681992338,80.65584291187736,164.99865900383145,146.34147509578543,45.684291187739404,-3.972892720306504,-77.63007662835253,-38.287260536398435],\"type\":\"scatter\"}],                        {\"template\":{\"data\":{\"histogram2dcontour\":[{\"type\":\"histogram2dcontour\",\"colorbar\":{\"outlinewidth\":0,\"ticks\":\"\"},\"colorscale\":[[0.0,\"#0d0887\"],[0.1111111111111111,\"#46039f\"],[0.2222222222222222,\"#7201a8\"],[0.3333333333333333,\"#9c179e\"],[0.4444444444444444,\"#bd3786\"],[0.5555555555555556,\"#d8576b\"],[0.6666666666666666,\"#ed7953\"],[0.7777777777777778,\"#fb9f3a\"],[0.8888888888888888,\"#fdca26\"],[1.0,\"#f0f921\"]]}],\"choropleth\":[{\"type\":\"choropleth\",\"colorbar\":{\"outlinewidth\":0,\"ticks\":\"\"}}],\"histogram2d\":[{\"type\":\"histogram2d\",\"colorbar\":{\"outlinewidth\":0,\"ticks\":\"\"},\"colorscale\":[[0.0,\"#0d0887\"],[0.1111111111111111,\"#46039f\"],[0.2222222222222222,\"#7201a8\"],[0.3333333333333333,\"#9c179e\"],[0.4444444444444444,\"#bd3786\"],[0.5555555555555556,\"#d8576b\"],[0.6666666666666666,\"#ed7953\"],[0.7777777777777778,\"#fb9f3a\"],[0.8888888888888888,\"#fdca26\"],[1.0,\"#f0f921\"]]}],\"heatmap\":[{\"type\":\"heatmap\",\"colorbar\":{\"outlinewidth\":0,\"ticks\":\"\"},\"colorscale\":[[0.0,\"#0d0887\"],[0.1111111111111111,\"#46039f\"],[0.2222222222222222,\"#7201a8\"],[0.3333333333333333,\"#9c179e\"],[0.4444444444444444,\"#bd3786\"],[0.5555555555555556,\"#d8576b\"],[0.6666666666666666,\"#ed7953\"],[0.7777777777777778,\"#fb9f3a\"],[0.8888888888888888,\"#fdca26\"],[1.0,\"#f0f921\"]]}],\"heatmapgl\":[{\"type\":\"heatmapgl\",\"colorbar\":{\"outlinewidth\":0,\"ticks\":\"\"},\"colorscale\":[[0.0,\"#0d0887\"],[0.1111111111111111,\"#46039f\"],[0.2222222222222222,\"#7201a8\"],[0.3333333333333333,\"#9c179e\"],[0.4444444444444444,\"#bd3786\"],[0.5555555555555556,\"#d8576b\"],[0.6666666666666666,\"#ed7953\"],[0.7777777777777778,\"#fb9f3a\"],[0.8888888888888888,\"#fdca26\"],[1.0,\"#f0f921\"]]}],\"contourcarpet\":[{\"type\":\"contourcarpet\",\"colorbar\":{\"outlinewidth\":0,\"ticks\":\"\"}}],\"contour\":[{\"type\":\"contour\",\"colorbar\":{\"outlinewidth\":0,\"ticks\":\"\"},\"colorscale\":[[0.0,\"#0d0887\"],[0.1111111111111111,\"#46039f\"],[0.2222222222222222,\"#7201a8\"],[0.3333333333333333,\"#9c179e\"],[0.4444444444444444,\"#bd3786\"],[0.5555555555555556,\"#d8576b\"],[0.6666666666666666,\"#ed7953\"],[0.7777777777777778,\"#fb9f3a\"],[0.8888888888888888,\"#fdca26\"],[1.0,\"#f0f921\"]]}],\"surface\":[{\"type\":\"surface\",\"colorbar\":{\"outlinewidth\":0,\"ticks\":\"\"},\"colorscale\":[[0.0,\"#0d0887\"],[0.1111111111111111,\"#46039f\"],[0.2222222222222222,\"#7201a8\"],[0.3333333333333333,\"#9c179e\"],[0.4444444444444444,\"#bd3786\"],[0.5555555555555556,\"#d8576b\"],[0.6666666666666666,\"#ed7953\"],[0.7777777777777778,\"#fb9f3a\"],[0.8888888888888888,\"#fdca26\"],[1.0,\"#f0f921\"]]}],\"mesh3d\":[{\"type\":\"mesh3d\",\"colorbar\":{\"outlinewidth\":0,\"ticks\":\"\"}}],\"scatter\":[{\"fillpattern\":{\"fillmode\":\"overlay\",\"size\":10,\"solidity\":0.2},\"type\":\"scatter\"}],\"parcoords\":[{\"type\":\"parcoords\",\"line\":{\"colorbar\":{\"outlinewidth\":0,\"ticks\":\"\"}}}],\"scatterpolargl\":[{\"type\":\"scatterpolargl\",\"marker\":{\"colorbar\":{\"outlinewidth\":0,\"ticks\":\"\"}}}],\"bar\":[{\"error_x\":{\"color\":\"#2a3f5f\"},\"error_y\":{\"color\":\"#2a3f5f\"},\"marker\":{\"line\":{\"color\":\"#E5ECF6\",\"width\":0.5},\"pattern\":{\"fillmode\":\"overlay\",\"size\":10,\"solidity\":0.2}},\"type\":\"bar\"}],\"scattergeo\":[{\"type\":\"scattergeo\",\"marker\":{\"colorbar\":{\"outlinewidth\":0,\"ticks\":\"\"}}}],\"scatterpolar\":[{\"type\":\"scatterpolar\",\"marker\":{\"colorbar\":{\"outlinewidth\":0,\"ticks\":\"\"}}}],\"histogram\":[{\"marker\":{\"pattern\":{\"fillmode\":\"overlay\",\"size\":10,\"solidity\":0.2}},\"type\":\"histogram\"}],\"scattergl\":[{\"type\":\"scattergl\",\"marker\":{\"colorbar\":{\"outlinewidth\":0,\"ticks\":\"\"}}}],\"scatter3d\":[{\"type\":\"scatter3d\",\"line\":{\"colorbar\":{\"outlinewidth\":0,\"ticks\":\"\"}},\"marker\":{\"colorbar\":{\"outlinewidth\":0,\"ticks\":\"\"}}}],\"scattermapbox\":[{\"type\":\"scattermapbox\",\"marker\":{\"colorbar\":{\"outlinewidth\":0,\"ticks\":\"\"}}}],\"scatterternary\":[{\"type\":\"scatterternary\",\"marker\":{\"colorbar\":{\"outlinewidth\":0,\"ticks\":\"\"}}}],\"scattercarpet\":[{\"type\":\"scattercarpet\",\"marker\":{\"colorbar\":{\"outlinewidth\":0,\"ticks\":\"\"}}}],\"carpet\":[{\"aaxis\":{\"endlinecolor\":\"#2a3f5f\",\"gridcolor\":\"white\",\"linecolor\":\"white\",\"minorgridcolor\":\"white\",\"startlinecolor\":\"#2a3f5f\"},\"baxis\":{\"endlinecolor\":\"#2a3f5f\",\"gridcolor\":\"white\",\"linecolor\":\"white\",\"minorgridcolor\":\"white\",\"startlinecolor\":\"#2a3f5f\"},\"type\":\"carpet\"}],\"table\":[{\"cells\":{\"fill\":{\"color\":\"#EBF0F8\"},\"line\":{\"color\":\"white\"}},\"header\":{\"fill\":{\"color\":\"#C8D4E3\"},\"line\":{\"color\":\"white\"}},\"type\":\"table\"}],\"barpolar\":[{\"marker\":{\"line\":{\"color\":\"#E5ECF6\",\"width\":0.5},\"pattern\":{\"fillmode\":\"overlay\",\"size\":10,\"solidity\":0.2}},\"type\":\"barpolar\"}],\"pie\":[{\"automargin\":true,\"type\":\"pie\"}]},\"layout\":{\"autotypenumbers\":\"strict\",\"colorway\":[\"#636efa\",\"#EF553B\",\"#00cc96\",\"#ab63fa\",\"#FFA15A\",\"#19d3f3\",\"#FF6692\",\"#B6E880\",\"#FF97FF\",\"#FECB52\"],\"font\":{\"color\":\"#2a3f5f\"},\"hovermode\":\"closest\",\"hoverlabel\":{\"align\":\"left\"},\"paper_bgcolor\":\"white\",\"plot_bgcolor\":\"#E5ECF6\",\"polar\":{\"bgcolor\":\"#E5ECF6\",\"angularaxis\":{\"gridcolor\":\"white\",\"linecolor\":\"white\",\"ticks\":\"\"},\"radialaxis\":{\"gridcolor\":\"white\",\"linecolor\":\"white\",\"ticks\":\"\"}},\"ternary\":{\"bgcolor\":\"#E5ECF6\",\"aaxis\":{\"gridcolor\":\"white\",\"linecolor\":\"white\",\"ticks\":\"\"},\"baxis\":{\"gridcolor\":\"white\",\"linecolor\":\"white\",\"ticks\":\"\"},\"caxis\":{\"gridcolor\":\"white\",\"linecolor\":\"white\",\"ticks\":\"\"}},\"coloraxis\":{\"colorbar\":{\"outlinewidth\":0,\"ticks\":\"\"}},\"colorscale\":{\"sequential\":[[0.0,\"#0d0887\"],[0.1111111111111111,\"#46039f\"],[0.2222222222222222,\"#7201a8\"],[0.3333333333333333,\"#9c179e\"],[0.4444444444444444,\"#bd3786\"],[0.5555555555555556,\"#d8576b\"],[0.6666666666666666,\"#ed7953\"],[0.7777777777777778,\"#fb9f3a\"],[0.8888888888888888,\"#fdca26\"],[1.0,\"#f0f921\"]],\"sequentialminus\":[[0.0,\"#0d0887\"],[0.1111111111111111,\"#46039f\"],[0.2222222222222222,\"#7201a8\"],[0.3333333333333333,\"#9c179e\"],[0.4444444444444444,\"#bd3786\"],[0.5555555555555556,\"#d8576b\"],[0.6666666666666666,\"#ed7953\"],[0.7777777777777778,\"#fb9f3a\"],[0.8888888888888888,\"#fdca26\"],[1.0,\"#f0f921\"]],\"diverging\":[[0,\"#8e0152\"],[0.1,\"#c51b7d\"],[0.2,\"#de77ae\"],[0.3,\"#f1b6da\"],[0.4,\"#fde0ef\"],[0.5,\"#f7f7f7\"],[0.6,\"#e6f5d0\"],[0.7,\"#b8e186\"],[0.8,\"#7fbc41\"],[0.9,\"#4d9221\"],[1,\"#276419\"]]},\"xaxis\":{\"gridcolor\":\"white\",\"linecolor\":\"white\",\"ticks\":\"\",\"title\":{\"standoff\":15},\"zerolinecolor\":\"white\",\"automargin\":true,\"zerolinewidth\":2},\"yaxis\":{\"gridcolor\":\"white\",\"linecolor\":\"white\",\"ticks\":\"\",\"title\":{\"standoff\":15},\"zerolinecolor\":\"white\",\"automargin\":true,\"zerolinewidth\":2},\"scene\":{\"xaxis\":{\"backgroundcolor\":\"#E5ECF6\",\"gridcolor\":\"white\",\"linecolor\":\"white\",\"showbackground\":true,\"ticks\":\"\",\"zerolinecolor\":\"white\",\"gridwidth\":2},\"yaxis\":{\"backgroundcolor\":\"#E5ECF6\",\"gridcolor\":\"white\",\"linecolor\":\"white\",\"showbackground\":true,\"ticks\":\"\",\"zerolinecolor\":\"white\",\"gridwidth\":2},\"zaxis\":{\"backgroundcolor\":\"#E5ECF6\",\"gridcolor\":\"white\",\"linecolor\":\"white\",\"showbackground\":true,\"ticks\":\"\",\"zerolinecolor\":\"white\",\"gridwidth\":2}},\"shapedefaults\":{\"line\":{\"color\":\"#2a3f5f\"}},\"annotationdefaults\":{\"arrowcolor\":\"#2a3f5f\",\"arrowhead\":0,\"arrowwidth\":1},\"geo\":{\"bgcolor\":\"white\",\"landcolor\":\"#E5ECF6\",\"subunitcolor\":\"white\",\"showland\":true,\"showlakes\":true,\"lakecolor\":\"white\"},\"title\":{\"x\":0.05},\"mapbox\":{\"style\":\"light\"}}},\"xaxis\":{\"title\":{\"text\":\"date\"}},\"yaxis\":{\"title\":{\"text\":\"Passengers\"}},\"title\":{\"text\":\"Estacionaria\"}},                        {\"responsive\": true}                    ).then(function(){\n",
       "                            \n",
       "var gd = document.getElementById('61cf959e-ce84-45eb-bd8f-3d4bcd7480c2');\n",
       "var x = new MutationObserver(function (mutations, observer) {{\n",
       "        var display = window.getComputedStyle(gd).display;\n",
       "        if (!display || display === 'none') {{\n",
       "            console.log([gd, 'removed!']);\n",
       "            Plotly.purge(gd);\n",
       "            observer.disconnect();\n",
       "        }}\n",
       "}});\n",
       "\n",
       "// Listen for the removal of the full notebook cells\n",
       "var notebookContainer = gd.closest('#notebook-container');\n",
       "if (notebookContainer) {{\n",
       "    x.observe(notebookContainer, {childList: true});\n",
       "}}\n",
       "\n",
       "// Listen for the clearing of the current output cell\n",
       "var outputEl = gd.closest('.output');\n",
       "if (outputEl) {{\n",
       "    x.observe(outputEl, {childList: true});\n",
       "}}\n",
       "\n",
       "                        })                };                });            </script>        </div>"
      ]
     },
     "metadata": {},
     "output_type": "display_data"
    }
   ],
   "source": [
    "fig=go.Figure()\n",
    "fig.add_trace(go.Scatter(x=data[timeax],y=data[values_col],mode='lines',name='data'))\n",
    "fig.update_xaxes(title='date')\n",
    "fig.update_yaxes(title='Passengers')\n",
    "fig.update_layout(title='Estacionaria')\n",
    "fig.show()"
   ]
  },
  {
   "cell_type": "code",
   "execution_count": 872,
   "id": "11e73c03",
   "metadata": {},
   "outputs": [],
   "source": [
    "window_size=4"
   ]
  },
  {
   "cell_type": "code",
   "execution_count": 873,
   "id": "b3860dd7",
   "metadata": {},
   "outputs": [],
   "source": [
    "\n",
    "train=data[:int(0.8*data.shape[0])]\n",
    "test=data[int(0.8*data.shape[0])-window_size:]"
   ]
  },
  {
   "cell_type": "code",
   "execution_count": 874,
   "id": "9269220d",
   "metadata": {},
   "outputs": [
    {
     "data": {
      "application/vnd.plotly.v1+json": {
       "config": {
        "plotlyServerURL": "https://plot.ly"
       },
       "data": [
        {
         "mode": "lines",
         "name": "Train",
         "type": "scatter",
         "x": [
          "1949-01",
          "1949-02",
          "1949-03",
          "1949-04",
          "1949-05",
          "1949-06",
          "1949-07",
          "1949-08",
          "1949-09",
          "1949-10",
          "1949-11",
          "1949-12",
          "1950-01",
          "1950-02",
          "1950-03",
          "1950-04",
          "1950-05",
          "1950-06",
          "1950-07",
          "1950-08",
          "1950-09",
          "1950-10",
          "1950-11",
          "1950-12",
          "1951-01",
          "1951-02",
          "1951-03",
          "1951-04",
          "1951-05",
          "1951-06",
          "1951-07",
          "1951-08",
          "1951-09",
          "1951-10",
          "1951-11",
          "1951-12",
          "1952-01",
          "1952-02",
          "1952-03",
          "1952-04",
          "1952-05",
          "1952-06",
          "1952-07",
          "1952-08",
          "1952-09",
          "1952-10",
          "1952-11",
          "1952-12",
          "1953-01",
          "1953-02",
          "1953-03",
          "1953-04",
          "1953-05",
          "1953-06",
          "1953-07",
          "1953-08",
          "1953-09",
          "1953-10",
          "1953-11",
          "1953-12",
          "1954-01",
          "1954-02",
          "1954-03",
          "1954-04",
          "1954-05",
          "1954-06",
          "1954-07",
          "1954-08",
          "1954-09",
          "1954-10",
          "1954-11",
          "1954-12",
          "1955-01",
          "1955-02",
          "1955-03",
          "1955-04",
          "1955-05",
          "1955-06",
          "1955-07",
          "1955-08",
          "1955-09",
          "1955-10",
          "1955-11",
          "1955-12",
          "1956-01",
          "1956-02",
          "1956-03",
          "1956-04",
          "1956-05",
          "1956-06",
          "1956-07",
          "1956-08",
          "1956-09",
          "1956-10",
          "1956-11",
          "1956-12",
          "1957-01",
          "1957-02",
          "1957-03",
          "1957-04",
          "1957-05",
          "1957-06",
          "1957-07",
          "1957-08",
          "1957-09",
          "1957-10",
          "1957-11",
          "1957-12",
          "1958-01",
          "1958-02",
          "1958-03",
          "1958-04",
          "1958-05",
          "1958-06",
          "1958-07"
         ],
         "y": [
          21.69003831417629,
          25.032854406130312,
          36.37567049808433,
          30.718486590038367,
          20.061302681992387,
          31.404118773946408,
          41.74693486590043,
          39.08975095785445,
          24.43256704980847,
          4.7753831417624895,
          -12.881800766283476,
          -1.5389846743294555,
          -7.196168582375435,
          1.1466475095785853,
          13.489463601532606,
          4.83227969348664,
          -7.8249042145593535,
          13.517911877394681,
          31.860727969348716,
          29.203544061302722,
          14.546360153256728,
          -13.110823754789237,
          -34.7680076628352,
          -11.425191570881196,
          -9.082375478927162,
          -6.739559386973156,
          18.60325670498088,
          0.9460727969349136,
          7.28888888888892,
          10.631704980842954,
          28.97452107279696,
          26.317337164750995,
          8.66015325670503,
          -15.997030651340964,
          -34.65421455938696,
          -17.311398467432923,
          -14.968582375478888,
          -8.625766283524854,
          1.7170498084291523,
          -12.940134099616841,
          -13.597318007662807,
          18.745498084291228,
          28.088314176245262,
          37.43113026819927,
          1.7739463601532748,
          -18.88323754789269,
          -40.540421455938656,
          -21.19760536398465,
          -21.854789272030615,
          -24.51197318007661,
          12.830842911877426,
          9.173659003831432,
          0.5164750957854665,
          11.859291187739501,
          30.202107279693507,
          35.54492337164754,
          -2.112260536398452,
          -30.769444444444417,
          -64.42662835249038,
          -46.08381226053638,
          -45.74099616858234,
          -64.39818007662834,
          -20.0553639846743,
          -30.712547892720295,
          -26.36973180076626,
          0.9730842911877744,
          36.31590038314175,
          24.658716475095844,
          -11.998467432950179,
          -44.655651340996144,
          -73.31283524904211,
          -49.97001915708813,
          -39.62720306513404,
          -51.28438697318006,
          -19.941570881226028,
          -20.598754789271993,
          -22.255938697318015,
          20.086877394636076,
          66.42969348659005,
          46.77250957854409,
          9.115325670498123,
          -31.5418582375479,
          -71.19904214559386,
          -32.85622605363983,
          -29.513409961685795,
          -39.17059386973176,
          -1.8277777777777828,
          -8.484961685823748,
          -6.142145593869714,
          47.200670498084264,
          83.54348659003836,
          72.88630268199233,
          20.229118773946368,
          -31.428065134099597,
          -69.08524904214562,
          -36.74243295019153,
          -30.39961685823755,
          -47.05680076628346,
          5.286015325670519,
          -5.371168582375503,
          -1.0283524904214119,
          63.314463601532566,
          103.65727969348654,
          103.00009578544064,
          37.34291187739461,
          -22.314272030651296,
          -66.97145593869732,
          -38.62863984674334,
          -37.28582375478925,
          -61.94300766283527,
          -20.60019157088118,
          -37.2573754789272,
          -24.914559386973224,
          44.42825670498087,
          97.77107279693485
         ]
        },
        {
         "mode": "lines",
         "name": "Test",
         "type": "scatter",
         "x": [
          "1958-04",
          "1958-05",
          "1958-06",
          "1958-07",
          "1958-08",
          "1958-09",
          "1958-10",
          "1958-11",
          "1958-12",
          "1959-01",
          "1959-02",
          "1959-03",
          "1959-04",
          "1959-05",
          "1959-06",
          "1959-07",
          "1959-08",
          "1959-09",
          "1959-10",
          "1959-11",
          "1959-12",
          "1960-01",
          "1960-02",
          "1960-03",
          "1960-04",
          "1960-05",
          "1960-06",
          "1960-07",
          "1960-08",
          "1960-09",
          "1960-10",
          "1960-11",
          "1960-12"
         ],
         "y": [
          -37.2573754789272,
          -24.914559386973224,
          44.42825670498087,
          97.77107279693485,
          109.11388888888894,
          5.456704980842915,
          -42.20047892720311,
          -93.85766283524902,
          -69.51484674329504,
          -49.17203065134095,
          -69.82921455938697,
          -8.486398467432991,
          -21.1435823754789,
          0.19923371647507793,
          49.54204980842917,
          122.88486590038315,
          131.22768199233712,
          32.570498084291216,
          -26.086685823754806,
          -73.74386973180071,
          -33.40105363984674,
          -24.05823754789276,
          -52.71542145593867,
          -27.37260536398469,
          11.970210727969402,
          20.31302681992338,
          80.65584291187736,
          164.99865900383145,
          146.34147509578543,
          45.684291187739404,
          -3.972892720306504,
          -77.63007662835253,
          -38.287260536398435
         ]
        }
       ],
       "layout": {
        "template": {
         "data": {
          "bar": [
           {
            "error_x": {
             "color": "#2a3f5f"
            },
            "error_y": {
             "color": "#2a3f5f"
            },
            "marker": {
             "line": {
              "color": "#E5ECF6",
              "width": 0.5
             },
             "pattern": {
              "fillmode": "overlay",
              "size": 10,
              "solidity": 0.2
             }
            },
            "type": "bar"
           }
          ],
          "barpolar": [
           {
            "marker": {
             "line": {
              "color": "#E5ECF6",
              "width": 0.5
             },
             "pattern": {
              "fillmode": "overlay",
              "size": 10,
              "solidity": 0.2
             }
            },
            "type": "barpolar"
           }
          ],
          "carpet": [
           {
            "aaxis": {
             "endlinecolor": "#2a3f5f",
             "gridcolor": "white",
             "linecolor": "white",
             "minorgridcolor": "white",
             "startlinecolor": "#2a3f5f"
            },
            "baxis": {
             "endlinecolor": "#2a3f5f",
             "gridcolor": "white",
             "linecolor": "white",
             "minorgridcolor": "white",
             "startlinecolor": "#2a3f5f"
            },
            "type": "carpet"
           }
          ],
          "choropleth": [
           {
            "colorbar": {
             "outlinewidth": 0,
             "ticks": ""
            },
            "type": "choropleth"
           }
          ],
          "contour": [
           {
            "colorbar": {
             "outlinewidth": 0,
             "ticks": ""
            },
            "colorscale": [
             [
              0,
              "#0d0887"
             ],
             [
              0.1111111111111111,
              "#46039f"
             ],
             [
              0.2222222222222222,
              "#7201a8"
             ],
             [
              0.3333333333333333,
              "#9c179e"
             ],
             [
              0.4444444444444444,
              "#bd3786"
             ],
             [
              0.5555555555555556,
              "#d8576b"
             ],
             [
              0.6666666666666666,
              "#ed7953"
             ],
             [
              0.7777777777777778,
              "#fb9f3a"
             ],
             [
              0.8888888888888888,
              "#fdca26"
             ],
             [
              1,
              "#f0f921"
             ]
            ],
            "type": "contour"
           }
          ],
          "contourcarpet": [
           {
            "colorbar": {
             "outlinewidth": 0,
             "ticks": ""
            },
            "type": "contourcarpet"
           }
          ],
          "heatmap": [
           {
            "colorbar": {
             "outlinewidth": 0,
             "ticks": ""
            },
            "colorscale": [
             [
              0,
              "#0d0887"
             ],
             [
              0.1111111111111111,
              "#46039f"
             ],
             [
              0.2222222222222222,
              "#7201a8"
             ],
             [
              0.3333333333333333,
              "#9c179e"
             ],
             [
              0.4444444444444444,
              "#bd3786"
             ],
             [
              0.5555555555555556,
              "#d8576b"
             ],
             [
              0.6666666666666666,
              "#ed7953"
             ],
             [
              0.7777777777777778,
              "#fb9f3a"
             ],
             [
              0.8888888888888888,
              "#fdca26"
             ],
             [
              1,
              "#f0f921"
             ]
            ],
            "type": "heatmap"
           }
          ],
          "heatmapgl": [
           {
            "colorbar": {
             "outlinewidth": 0,
             "ticks": ""
            },
            "colorscale": [
             [
              0,
              "#0d0887"
             ],
             [
              0.1111111111111111,
              "#46039f"
             ],
             [
              0.2222222222222222,
              "#7201a8"
             ],
             [
              0.3333333333333333,
              "#9c179e"
             ],
             [
              0.4444444444444444,
              "#bd3786"
             ],
             [
              0.5555555555555556,
              "#d8576b"
             ],
             [
              0.6666666666666666,
              "#ed7953"
             ],
             [
              0.7777777777777778,
              "#fb9f3a"
             ],
             [
              0.8888888888888888,
              "#fdca26"
             ],
             [
              1,
              "#f0f921"
             ]
            ],
            "type": "heatmapgl"
           }
          ],
          "histogram": [
           {
            "marker": {
             "pattern": {
              "fillmode": "overlay",
              "size": 10,
              "solidity": 0.2
             }
            },
            "type": "histogram"
           }
          ],
          "histogram2d": [
           {
            "colorbar": {
             "outlinewidth": 0,
             "ticks": ""
            },
            "colorscale": [
             [
              0,
              "#0d0887"
             ],
             [
              0.1111111111111111,
              "#46039f"
             ],
             [
              0.2222222222222222,
              "#7201a8"
             ],
             [
              0.3333333333333333,
              "#9c179e"
             ],
             [
              0.4444444444444444,
              "#bd3786"
             ],
             [
              0.5555555555555556,
              "#d8576b"
             ],
             [
              0.6666666666666666,
              "#ed7953"
             ],
             [
              0.7777777777777778,
              "#fb9f3a"
             ],
             [
              0.8888888888888888,
              "#fdca26"
             ],
             [
              1,
              "#f0f921"
             ]
            ],
            "type": "histogram2d"
           }
          ],
          "histogram2dcontour": [
           {
            "colorbar": {
             "outlinewidth": 0,
             "ticks": ""
            },
            "colorscale": [
             [
              0,
              "#0d0887"
             ],
             [
              0.1111111111111111,
              "#46039f"
             ],
             [
              0.2222222222222222,
              "#7201a8"
             ],
             [
              0.3333333333333333,
              "#9c179e"
             ],
             [
              0.4444444444444444,
              "#bd3786"
             ],
             [
              0.5555555555555556,
              "#d8576b"
             ],
             [
              0.6666666666666666,
              "#ed7953"
             ],
             [
              0.7777777777777778,
              "#fb9f3a"
             ],
             [
              0.8888888888888888,
              "#fdca26"
             ],
             [
              1,
              "#f0f921"
             ]
            ],
            "type": "histogram2dcontour"
           }
          ],
          "mesh3d": [
           {
            "colorbar": {
             "outlinewidth": 0,
             "ticks": ""
            },
            "type": "mesh3d"
           }
          ],
          "parcoords": [
           {
            "line": {
             "colorbar": {
              "outlinewidth": 0,
              "ticks": ""
             }
            },
            "type": "parcoords"
           }
          ],
          "pie": [
           {
            "automargin": true,
            "type": "pie"
           }
          ],
          "scatter": [
           {
            "fillpattern": {
             "fillmode": "overlay",
             "size": 10,
             "solidity": 0.2
            },
            "type": "scatter"
           }
          ],
          "scatter3d": [
           {
            "line": {
             "colorbar": {
              "outlinewidth": 0,
              "ticks": ""
             }
            },
            "marker": {
             "colorbar": {
              "outlinewidth": 0,
              "ticks": ""
             }
            },
            "type": "scatter3d"
           }
          ],
          "scattercarpet": [
           {
            "marker": {
             "colorbar": {
              "outlinewidth": 0,
              "ticks": ""
             }
            },
            "type": "scattercarpet"
           }
          ],
          "scattergeo": [
           {
            "marker": {
             "colorbar": {
              "outlinewidth": 0,
              "ticks": ""
             }
            },
            "type": "scattergeo"
           }
          ],
          "scattergl": [
           {
            "marker": {
             "colorbar": {
              "outlinewidth": 0,
              "ticks": ""
             }
            },
            "type": "scattergl"
           }
          ],
          "scattermapbox": [
           {
            "marker": {
             "colorbar": {
              "outlinewidth": 0,
              "ticks": ""
             }
            },
            "type": "scattermapbox"
           }
          ],
          "scatterpolar": [
           {
            "marker": {
             "colorbar": {
              "outlinewidth": 0,
              "ticks": ""
             }
            },
            "type": "scatterpolar"
           }
          ],
          "scatterpolargl": [
           {
            "marker": {
             "colorbar": {
              "outlinewidth": 0,
              "ticks": ""
             }
            },
            "type": "scatterpolargl"
           }
          ],
          "scatterternary": [
           {
            "marker": {
             "colorbar": {
              "outlinewidth": 0,
              "ticks": ""
             }
            },
            "type": "scatterternary"
           }
          ],
          "surface": [
           {
            "colorbar": {
             "outlinewidth": 0,
             "ticks": ""
            },
            "colorscale": [
             [
              0,
              "#0d0887"
             ],
             [
              0.1111111111111111,
              "#46039f"
             ],
             [
              0.2222222222222222,
              "#7201a8"
             ],
             [
              0.3333333333333333,
              "#9c179e"
             ],
             [
              0.4444444444444444,
              "#bd3786"
             ],
             [
              0.5555555555555556,
              "#d8576b"
             ],
             [
              0.6666666666666666,
              "#ed7953"
             ],
             [
              0.7777777777777778,
              "#fb9f3a"
             ],
             [
              0.8888888888888888,
              "#fdca26"
             ],
             [
              1,
              "#f0f921"
             ]
            ],
            "type": "surface"
           }
          ],
          "table": [
           {
            "cells": {
             "fill": {
              "color": "#EBF0F8"
             },
             "line": {
              "color": "white"
             }
            },
            "header": {
             "fill": {
              "color": "#C8D4E3"
             },
             "line": {
              "color": "white"
             }
            },
            "type": "table"
           }
          ]
         },
         "layout": {
          "annotationdefaults": {
           "arrowcolor": "#2a3f5f",
           "arrowhead": 0,
           "arrowwidth": 1
          },
          "autotypenumbers": "strict",
          "coloraxis": {
           "colorbar": {
            "outlinewidth": 0,
            "ticks": ""
           }
          },
          "colorscale": {
           "diverging": [
            [
             0,
             "#8e0152"
            ],
            [
             0.1,
             "#c51b7d"
            ],
            [
             0.2,
             "#de77ae"
            ],
            [
             0.3,
             "#f1b6da"
            ],
            [
             0.4,
             "#fde0ef"
            ],
            [
             0.5,
             "#f7f7f7"
            ],
            [
             0.6,
             "#e6f5d0"
            ],
            [
             0.7,
             "#b8e186"
            ],
            [
             0.8,
             "#7fbc41"
            ],
            [
             0.9,
             "#4d9221"
            ],
            [
             1,
             "#276419"
            ]
           ],
           "sequential": [
            [
             0,
             "#0d0887"
            ],
            [
             0.1111111111111111,
             "#46039f"
            ],
            [
             0.2222222222222222,
             "#7201a8"
            ],
            [
             0.3333333333333333,
             "#9c179e"
            ],
            [
             0.4444444444444444,
             "#bd3786"
            ],
            [
             0.5555555555555556,
             "#d8576b"
            ],
            [
             0.6666666666666666,
             "#ed7953"
            ],
            [
             0.7777777777777778,
             "#fb9f3a"
            ],
            [
             0.8888888888888888,
             "#fdca26"
            ],
            [
             1,
             "#f0f921"
            ]
           ],
           "sequentialminus": [
            [
             0,
             "#0d0887"
            ],
            [
             0.1111111111111111,
             "#46039f"
            ],
            [
             0.2222222222222222,
             "#7201a8"
            ],
            [
             0.3333333333333333,
             "#9c179e"
            ],
            [
             0.4444444444444444,
             "#bd3786"
            ],
            [
             0.5555555555555556,
             "#d8576b"
            ],
            [
             0.6666666666666666,
             "#ed7953"
            ],
            [
             0.7777777777777778,
             "#fb9f3a"
            ],
            [
             0.8888888888888888,
             "#fdca26"
            ],
            [
             1,
             "#f0f921"
            ]
           ]
          },
          "colorway": [
           "#636efa",
           "#EF553B",
           "#00cc96",
           "#ab63fa",
           "#FFA15A",
           "#19d3f3",
           "#FF6692",
           "#B6E880",
           "#FF97FF",
           "#FECB52"
          ],
          "font": {
           "color": "#2a3f5f"
          },
          "geo": {
           "bgcolor": "white",
           "lakecolor": "white",
           "landcolor": "#E5ECF6",
           "showlakes": true,
           "showland": true,
           "subunitcolor": "white"
          },
          "hoverlabel": {
           "align": "left"
          },
          "hovermode": "closest",
          "mapbox": {
           "style": "light"
          },
          "paper_bgcolor": "white",
          "plot_bgcolor": "#E5ECF6",
          "polar": {
           "angularaxis": {
            "gridcolor": "white",
            "linecolor": "white",
            "ticks": ""
           },
           "bgcolor": "#E5ECF6",
           "radialaxis": {
            "gridcolor": "white",
            "linecolor": "white",
            "ticks": ""
           }
          },
          "scene": {
           "xaxis": {
            "backgroundcolor": "#E5ECF6",
            "gridcolor": "white",
            "gridwidth": 2,
            "linecolor": "white",
            "showbackground": true,
            "ticks": "",
            "zerolinecolor": "white"
           },
           "yaxis": {
            "backgroundcolor": "#E5ECF6",
            "gridcolor": "white",
            "gridwidth": 2,
            "linecolor": "white",
            "showbackground": true,
            "ticks": "",
            "zerolinecolor": "white"
           },
           "zaxis": {
            "backgroundcolor": "#E5ECF6",
            "gridcolor": "white",
            "gridwidth": 2,
            "linecolor": "white",
            "showbackground": true,
            "ticks": "",
            "zerolinecolor": "white"
           }
          },
          "shapedefaults": {
           "line": {
            "color": "#2a3f5f"
           }
          },
          "ternary": {
           "aaxis": {
            "gridcolor": "white",
            "linecolor": "white",
            "ticks": ""
           },
           "baxis": {
            "gridcolor": "white",
            "linecolor": "white",
            "ticks": ""
           },
           "bgcolor": "#E5ECF6",
           "caxis": {
            "gridcolor": "white",
            "linecolor": "white",
            "ticks": ""
           }
          },
          "title": {
           "x": 0.05
          },
          "xaxis": {
           "automargin": true,
           "gridcolor": "white",
           "linecolor": "white",
           "ticks": "",
           "title": {
            "standoff": 15
           },
           "zerolinecolor": "white",
           "zerolinewidth": 2
          },
          "yaxis": {
           "automargin": true,
           "gridcolor": "white",
           "linecolor": "white",
           "ticks": "",
           "title": {
            "standoff": 15
           },
           "zerolinecolor": "white",
           "zerolinewidth": 2
          }
         }
        },
        "title": {
         "text": "stationary"
        },
        "xaxis": {
         "title": {
          "text": "date"
         }
        },
        "yaxis": {
         "title": {
          "text": "Passengers"
         }
        }
       }
      },
      "text/html": [
       "<div>                            <div id=\"637c9519-dd30-4497-b93c-8be7f5e87eb9\" class=\"plotly-graph-div\" style=\"height:525px; width:100%;\"></div>            <script type=\"text/javascript\">                require([\"plotly\"], function(Plotly) {                    window.PLOTLYENV=window.PLOTLYENV || {};                                    if (document.getElementById(\"637c9519-dd30-4497-b93c-8be7f5e87eb9\")) {                    Plotly.newPlot(                        \"637c9519-dd30-4497-b93c-8be7f5e87eb9\",                        [{\"mode\":\"lines\",\"name\":\"Train\",\"x\":[\"1949-01\",\"1949-02\",\"1949-03\",\"1949-04\",\"1949-05\",\"1949-06\",\"1949-07\",\"1949-08\",\"1949-09\",\"1949-10\",\"1949-11\",\"1949-12\",\"1950-01\",\"1950-02\",\"1950-03\",\"1950-04\",\"1950-05\",\"1950-06\",\"1950-07\",\"1950-08\",\"1950-09\",\"1950-10\",\"1950-11\",\"1950-12\",\"1951-01\",\"1951-02\",\"1951-03\",\"1951-04\",\"1951-05\",\"1951-06\",\"1951-07\",\"1951-08\",\"1951-09\",\"1951-10\",\"1951-11\",\"1951-12\",\"1952-01\",\"1952-02\",\"1952-03\",\"1952-04\",\"1952-05\",\"1952-06\",\"1952-07\",\"1952-08\",\"1952-09\",\"1952-10\",\"1952-11\",\"1952-12\",\"1953-01\",\"1953-02\",\"1953-03\",\"1953-04\",\"1953-05\",\"1953-06\",\"1953-07\",\"1953-08\",\"1953-09\",\"1953-10\",\"1953-11\",\"1953-12\",\"1954-01\",\"1954-02\",\"1954-03\",\"1954-04\",\"1954-05\",\"1954-06\",\"1954-07\",\"1954-08\",\"1954-09\",\"1954-10\",\"1954-11\",\"1954-12\",\"1955-01\",\"1955-02\",\"1955-03\",\"1955-04\",\"1955-05\",\"1955-06\",\"1955-07\",\"1955-08\",\"1955-09\",\"1955-10\",\"1955-11\",\"1955-12\",\"1956-01\",\"1956-02\",\"1956-03\",\"1956-04\",\"1956-05\",\"1956-06\",\"1956-07\",\"1956-08\",\"1956-09\",\"1956-10\",\"1956-11\",\"1956-12\",\"1957-01\",\"1957-02\",\"1957-03\",\"1957-04\",\"1957-05\",\"1957-06\",\"1957-07\",\"1957-08\",\"1957-09\",\"1957-10\",\"1957-11\",\"1957-12\",\"1958-01\",\"1958-02\",\"1958-03\",\"1958-04\",\"1958-05\",\"1958-06\",\"1958-07\"],\"y\":[21.69003831417629,25.032854406130312,36.37567049808433,30.718486590038367,20.061302681992387,31.404118773946408,41.74693486590043,39.08975095785445,24.43256704980847,4.7753831417624895,-12.881800766283476,-1.5389846743294555,-7.196168582375435,1.1466475095785853,13.489463601532606,4.83227969348664,-7.8249042145593535,13.517911877394681,31.860727969348716,29.203544061302722,14.546360153256728,-13.110823754789237,-34.7680076628352,-11.425191570881196,-9.082375478927162,-6.739559386973156,18.60325670498088,0.9460727969349136,7.28888888888892,10.631704980842954,28.97452107279696,26.317337164750995,8.66015325670503,-15.997030651340964,-34.65421455938696,-17.311398467432923,-14.968582375478888,-8.625766283524854,1.7170498084291523,-12.940134099616841,-13.597318007662807,18.745498084291228,28.088314176245262,37.43113026819927,1.7739463601532748,-18.88323754789269,-40.540421455938656,-21.19760536398465,-21.854789272030615,-24.51197318007661,12.830842911877426,9.173659003831432,0.5164750957854665,11.859291187739501,30.202107279693507,35.54492337164754,-2.112260536398452,-30.769444444444417,-64.42662835249038,-46.08381226053638,-45.74099616858234,-64.39818007662834,-20.0553639846743,-30.712547892720295,-26.36973180076626,0.9730842911877744,36.31590038314175,24.658716475095844,-11.998467432950179,-44.655651340996144,-73.31283524904211,-49.97001915708813,-39.62720306513404,-51.28438697318006,-19.941570881226028,-20.598754789271993,-22.255938697318015,20.086877394636076,66.42969348659005,46.77250957854409,9.115325670498123,-31.5418582375479,-71.19904214559386,-32.85622605363983,-29.513409961685795,-39.17059386973176,-1.8277777777777828,-8.484961685823748,-6.142145593869714,47.200670498084264,83.54348659003836,72.88630268199233,20.229118773946368,-31.428065134099597,-69.08524904214562,-36.74243295019153,-30.39961685823755,-47.05680076628346,5.286015325670519,-5.371168582375503,-1.0283524904214119,63.314463601532566,103.65727969348654,103.00009578544064,37.34291187739461,-22.314272030651296,-66.97145593869732,-38.62863984674334,-37.28582375478925,-61.94300766283527,-20.60019157088118,-37.2573754789272,-24.914559386973224,44.42825670498087,97.77107279693485],\"type\":\"scatter\"},{\"mode\":\"lines\",\"name\":\"Test\",\"x\":[\"1958-04\",\"1958-05\",\"1958-06\",\"1958-07\",\"1958-08\",\"1958-09\",\"1958-10\",\"1958-11\",\"1958-12\",\"1959-01\",\"1959-02\",\"1959-03\",\"1959-04\",\"1959-05\",\"1959-06\",\"1959-07\",\"1959-08\",\"1959-09\",\"1959-10\",\"1959-11\",\"1959-12\",\"1960-01\",\"1960-02\",\"1960-03\",\"1960-04\",\"1960-05\",\"1960-06\",\"1960-07\",\"1960-08\",\"1960-09\",\"1960-10\",\"1960-11\",\"1960-12\"],\"y\":[-37.2573754789272,-24.914559386973224,44.42825670498087,97.77107279693485,109.11388888888894,5.456704980842915,-42.20047892720311,-93.85766283524902,-69.51484674329504,-49.17203065134095,-69.82921455938697,-8.486398467432991,-21.1435823754789,0.19923371647507793,49.54204980842917,122.88486590038315,131.22768199233712,32.570498084291216,-26.086685823754806,-73.74386973180071,-33.40105363984674,-24.05823754789276,-52.71542145593867,-27.37260536398469,11.970210727969402,20.31302681992338,80.65584291187736,164.99865900383145,146.34147509578543,45.684291187739404,-3.972892720306504,-77.63007662835253,-38.287260536398435],\"type\":\"scatter\"}],                        {\"template\":{\"data\":{\"histogram2dcontour\":[{\"type\":\"histogram2dcontour\",\"colorbar\":{\"outlinewidth\":0,\"ticks\":\"\"},\"colorscale\":[[0.0,\"#0d0887\"],[0.1111111111111111,\"#46039f\"],[0.2222222222222222,\"#7201a8\"],[0.3333333333333333,\"#9c179e\"],[0.4444444444444444,\"#bd3786\"],[0.5555555555555556,\"#d8576b\"],[0.6666666666666666,\"#ed7953\"],[0.7777777777777778,\"#fb9f3a\"],[0.8888888888888888,\"#fdca26\"],[1.0,\"#f0f921\"]]}],\"choropleth\":[{\"type\":\"choropleth\",\"colorbar\":{\"outlinewidth\":0,\"ticks\":\"\"}}],\"histogram2d\":[{\"type\":\"histogram2d\",\"colorbar\":{\"outlinewidth\":0,\"ticks\":\"\"},\"colorscale\":[[0.0,\"#0d0887\"],[0.1111111111111111,\"#46039f\"],[0.2222222222222222,\"#7201a8\"],[0.3333333333333333,\"#9c179e\"],[0.4444444444444444,\"#bd3786\"],[0.5555555555555556,\"#d8576b\"],[0.6666666666666666,\"#ed7953\"],[0.7777777777777778,\"#fb9f3a\"],[0.8888888888888888,\"#fdca26\"],[1.0,\"#f0f921\"]]}],\"heatmap\":[{\"type\":\"heatmap\",\"colorbar\":{\"outlinewidth\":0,\"ticks\":\"\"},\"colorscale\":[[0.0,\"#0d0887\"],[0.1111111111111111,\"#46039f\"],[0.2222222222222222,\"#7201a8\"],[0.3333333333333333,\"#9c179e\"],[0.4444444444444444,\"#bd3786\"],[0.5555555555555556,\"#d8576b\"],[0.6666666666666666,\"#ed7953\"],[0.7777777777777778,\"#fb9f3a\"],[0.8888888888888888,\"#fdca26\"],[1.0,\"#f0f921\"]]}],\"heatmapgl\":[{\"type\":\"heatmapgl\",\"colorbar\":{\"outlinewidth\":0,\"ticks\":\"\"},\"colorscale\":[[0.0,\"#0d0887\"],[0.1111111111111111,\"#46039f\"],[0.2222222222222222,\"#7201a8\"],[0.3333333333333333,\"#9c179e\"],[0.4444444444444444,\"#bd3786\"],[0.5555555555555556,\"#d8576b\"],[0.6666666666666666,\"#ed7953\"],[0.7777777777777778,\"#fb9f3a\"],[0.8888888888888888,\"#fdca26\"],[1.0,\"#f0f921\"]]}],\"contourcarpet\":[{\"type\":\"contourcarpet\",\"colorbar\":{\"outlinewidth\":0,\"ticks\":\"\"}}],\"contour\":[{\"type\":\"contour\",\"colorbar\":{\"outlinewidth\":0,\"ticks\":\"\"},\"colorscale\":[[0.0,\"#0d0887\"],[0.1111111111111111,\"#46039f\"],[0.2222222222222222,\"#7201a8\"],[0.3333333333333333,\"#9c179e\"],[0.4444444444444444,\"#bd3786\"],[0.5555555555555556,\"#d8576b\"],[0.6666666666666666,\"#ed7953\"],[0.7777777777777778,\"#fb9f3a\"],[0.8888888888888888,\"#fdca26\"],[1.0,\"#f0f921\"]]}],\"surface\":[{\"type\":\"surface\",\"colorbar\":{\"outlinewidth\":0,\"ticks\":\"\"},\"colorscale\":[[0.0,\"#0d0887\"],[0.1111111111111111,\"#46039f\"],[0.2222222222222222,\"#7201a8\"],[0.3333333333333333,\"#9c179e\"],[0.4444444444444444,\"#bd3786\"],[0.5555555555555556,\"#d8576b\"],[0.6666666666666666,\"#ed7953\"],[0.7777777777777778,\"#fb9f3a\"],[0.8888888888888888,\"#fdca26\"],[1.0,\"#f0f921\"]]}],\"mesh3d\":[{\"type\":\"mesh3d\",\"colorbar\":{\"outlinewidth\":0,\"ticks\":\"\"}}],\"scatter\":[{\"fillpattern\":{\"fillmode\":\"overlay\",\"size\":10,\"solidity\":0.2},\"type\":\"scatter\"}],\"parcoords\":[{\"type\":\"parcoords\",\"line\":{\"colorbar\":{\"outlinewidth\":0,\"ticks\":\"\"}}}],\"scatterpolargl\":[{\"type\":\"scatterpolargl\",\"marker\":{\"colorbar\":{\"outlinewidth\":0,\"ticks\":\"\"}}}],\"bar\":[{\"error_x\":{\"color\":\"#2a3f5f\"},\"error_y\":{\"color\":\"#2a3f5f\"},\"marker\":{\"line\":{\"color\":\"#E5ECF6\",\"width\":0.5},\"pattern\":{\"fillmode\":\"overlay\",\"size\":10,\"solidity\":0.2}},\"type\":\"bar\"}],\"scattergeo\":[{\"type\":\"scattergeo\",\"marker\":{\"colorbar\":{\"outlinewidth\":0,\"ticks\":\"\"}}}],\"scatterpolar\":[{\"type\":\"scatterpolar\",\"marker\":{\"colorbar\":{\"outlinewidth\":0,\"ticks\":\"\"}}}],\"histogram\":[{\"marker\":{\"pattern\":{\"fillmode\":\"overlay\",\"size\":10,\"solidity\":0.2}},\"type\":\"histogram\"}],\"scattergl\":[{\"type\":\"scattergl\",\"marker\":{\"colorbar\":{\"outlinewidth\":0,\"ticks\":\"\"}}}],\"scatter3d\":[{\"type\":\"scatter3d\",\"line\":{\"colorbar\":{\"outlinewidth\":0,\"ticks\":\"\"}},\"marker\":{\"colorbar\":{\"outlinewidth\":0,\"ticks\":\"\"}}}],\"scattermapbox\":[{\"type\":\"scattermapbox\",\"marker\":{\"colorbar\":{\"outlinewidth\":0,\"ticks\":\"\"}}}],\"scatterternary\":[{\"type\":\"scatterternary\",\"marker\":{\"colorbar\":{\"outlinewidth\":0,\"ticks\":\"\"}}}],\"scattercarpet\":[{\"type\":\"scattercarpet\",\"marker\":{\"colorbar\":{\"outlinewidth\":0,\"ticks\":\"\"}}}],\"carpet\":[{\"aaxis\":{\"endlinecolor\":\"#2a3f5f\",\"gridcolor\":\"white\",\"linecolor\":\"white\",\"minorgridcolor\":\"white\",\"startlinecolor\":\"#2a3f5f\"},\"baxis\":{\"endlinecolor\":\"#2a3f5f\",\"gridcolor\":\"white\",\"linecolor\":\"white\",\"minorgridcolor\":\"white\",\"startlinecolor\":\"#2a3f5f\"},\"type\":\"carpet\"}],\"table\":[{\"cells\":{\"fill\":{\"color\":\"#EBF0F8\"},\"line\":{\"color\":\"white\"}},\"header\":{\"fill\":{\"color\":\"#C8D4E3\"},\"line\":{\"color\":\"white\"}},\"type\":\"table\"}],\"barpolar\":[{\"marker\":{\"line\":{\"color\":\"#E5ECF6\",\"width\":0.5},\"pattern\":{\"fillmode\":\"overlay\",\"size\":10,\"solidity\":0.2}},\"type\":\"barpolar\"}],\"pie\":[{\"automargin\":true,\"type\":\"pie\"}]},\"layout\":{\"autotypenumbers\":\"strict\",\"colorway\":[\"#636efa\",\"#EF553B\",\"#00cc96\",\"#ab63fa\",\"#FFA15A\",\"#19d3f3\",\"#FF6692\",\"#B6E880\",\"#FF97FF\",\"#FECB52\"],\"font\":{\"color\":\"#2a3f5f\"},\"hovermode\":\"closest\",\"hoverlabel\":{\"align\":\"left\"},\"paper_bgcolor\":\"white\",\"plot_bgcolor\":\"#E5ECF6\",\"polar\":{\"bgcolor\":\"#E5ECF6\",\"angularaxis\":{\"gridcolor\":\"white\",\"linecolor\":\"white\",\"ticks\":\"\"},\"radialaxis\":{\"gridcolor\":\"white\",\"linecolor\":\"white\",\"ticks\":\"\"}},\"ternary\":{\"bgcolor\":\"#E5ECF6\",\"aaxis\":{\"gridcolor\":\"white\",\"linecolor\":\"white\",\"ticks\":\"\"},\"baxis\":{\"gridcolor\":\"white\",\"linecolor\":\"white\",\"ticks\":\"\"},\"caxis\":{\"gridcolor\":\"white\",\"linecolor\":\"white\",\"ticks\":\"\"}},\"coloraxis\":{\"colorbar\":{\"outlinewidth\":0,\"ticks\":\"\"}},\"colorscale\":{\"sequential\":[[0.0,\"#0d0887\"],[0.1111111111111111,\"#46039f\"],[0.2222222222222222,\"#7201a8\"],[0.3333333333333333,\"#9c179e\"],[0.4444444444444444,\"#bd3786\"],[0.5555555555555556,\"#d8576b\"],[0.6666666666666666,\"#ed7953\"],[0.7777777777777778,\"#fb9f3a\"],[0.8888888888888888,\"#fdca26\"],[1.0,\"#f0f921\"]],\"sequentialminus\":[[0.0,\"#0d0887\"],[0.1111111111111111,\"#46039f\"],[0.2222222222222222,\"#7201a8\"],[0.3333333333333333,\"#9c179e\"],[0.4444444444444444,\"#bd3786\"],[0.5555555555555556,\"#d8576b\"],[0.6666666666666666,\"#ed7953\"],[0.7777777777777778,\"#fb9f3a\"],[0.8888888888888888,\"#fdca26\"],[1.0,\"#f0f921\"]],\"diverging\":[[0,\"#8e0152\"],[0.1,\"#c51b7d\"],[0.2,\"#de77ae\"],[0.3,\"#f1b6da\"],[0.4,\"#fde0ef\"],[0.5,\"#f7f7f7\"],[0.6,\"#e6f5d0\"],[0.7,\"#b8e186\"],[0.8,\"#7fbc41\"],[0.9,\"#4d9221\"],[1,\"#276419\"]]},\"xaxis\":{\"gridcolor\":\"white\",\"linecolor\":\"white\",\"ticks\":\"\",\"title\":{\"standoff\":15},\"zerolinecolor\":\"white\",\"automargin\":true,\"zerolinewidth\":2},\"yaxis\":{\"gridcolor\":\"white\",\"linecolor\":\"white\",\"ticks\":\"\",\"title\":{\"standoff\":15},\"zerolinecolor\":\"white\",\"automargin\":true,\"zerolinewidth\":2},\"scene\":{\"xaxis\":{\"backgroundcolor\":\"#E5ECF6\",\"gridcolor\":\"white\",\"linecolor\":\"white\",\"showbackground\":true,\"ticks\":\"\",\"zerolinecolor\":\"white\",\"gridwidth\":2},\"yaxis\":{\"backgroundcolor\":\"#E5ECF6\",\"gridcolor\":\"white\",\"linecolor\":\"white\",\"showbackground\":true,\"ticks\":\"\",\"zerolinecolor\":\"white\",\"gridwidth\":2},\"zaxis\":{\"backgroundcolor\":\"#E5ECF6\",\"gridcolor\":\"white\",\"linecolor\":\"white\",\"showbackground\":true,\"ticks\":\"\",\"zerolinecolor\":\"white\",\"gridwidth\":2}},\"shapedefaults\":{\"line\":{\"color\":\"#2a3f5f\"}},\"annotationdefaults\":{\"arrowcolor\":\"#2a3f5f\",\"arrowhead\":0,\"arrowwidth\":1},\"geo\":{\"bgcolor\":\"white\",\"landcolor\":\"#E5ECF6\",\"subunitcolor\":\"white\",\"showland\":true,\"showlakes\":true,\"lakecolor\":\"white\"},\"title\":{\"x\":0.05},\"mapbox\":{\"style\":\"light\"}}},\"xaxis\":{\"title\":{\"text\":\"date\"}},\"yaxis\":{\"title\":{\"text\":\"Passengers\"}},\"title\":{\"text\":\"stationary\"}},                        {\"responsive\": true}                    ).then(function(){\n",
       "                            \n",
       "var gd = document.getElementById('637c9519-dd30-4497-b93c-8be7f5e87eb9');\n",
       "var x = new MutationObserver(function (mutations, observer) {{\n",
       "        var display = window.getComputedStyle(gd).display;\n",
       "        if (!display || display === 'none') {{\n",
       "            console.log([gd, 'removed!']);\n",
       "            Plotly.purge(gd);\n",
       "            observer.disconnect();\n",
       "        }}\n",
       "}});\n",
       "\n",
       "// Listen for the removal of the full notebook cells\n",
       "var notebookContainer = gd.closest('#notebook-container');\n",
       "if (notebookContainer) {{\n",
       "    x.observe(notebookContainer, {childList: true});\n",
       "}}\n",
       "\n",
       "// Listen for the clearing of the current output cell\n",
       "var outputEl = gd.closest('.output');\n",
       "if (outputEl) {{\n",
       "    x.observe(outputEl, {childList: true});\n",
       "}}\n",
       "\n",
       "                        })                };                });            </script>        </div>"
      ]
     },
     "metadata": {},
     "output_type": "display_data"
    }
   ],
   "source": [
    "fig=go.Figure()\n",
    "fig.add_trace(go.Scatter(x=train[timeax],y=train[values_col],mode='lines',name='Train'))\n",
    "fig.add_trace(go.Scatter(x=test[timeax],y=test[values_col],mode='lines',name='Test'))\n",
    "fig.update_xaxes(title='date')\n",
    "fig.update_yaxes(title='Passengers')\n",
    "fig.update_layout(title='stationary')\n",
    "fig.show()"
   ]
  },
  {
   "cell_type": "code",
   "execution_count": 875,
   "id": "f4fd871b",
   "metadata": {},
   "outputs": [],
   "source": [
    "X_train,y_train,train_xaxis=create_window(train,values_col,timeax,window_size=window_size)\n",
    "X_test,y_test,test_xaxis=create_window(test,values_col,timeax,window_size=window_size)"
   ]
  },
  {
   "cell_type": "code",
   "execution_count": 876,
   "id": "8c9c12fb",
   "metadata": {},
   "outputs": [],
   "source": [
    "model=XGBRegressor()"
   ]
  },
  {
   "cell_type": "code",
   "execution_count": 877,
   "id": "7abb3201",
   "metadata": {},
   "outputs": [
    {
     "data": {
      "text/html": [
       "<style>#sk-container-id-26 {color: black;background-color: white;}#sk-container-id-26 pre{padding: 0;}#sk-container-id-26 div.sk-toggleable {background-color: white;}#sk-container-id-26 label.sk-toggleable__label {cursor: pointer;display: block;width: 100%;margin-bottom: 0;padding: 0.3em;box-sizing: border-box;text-align: center;}#sk-container-id-26 label.sk-toggleable__label-arrow:before {content: \"▸\";float: left;margin-right: 0.25em;color: #696969;}#sk-container-id-26 label.sk-toggleable__label-arrow:hover:before {color: black;}#sk-container-id-26 div.sk-estimator:hover label.sk-toggleable__label-arrow:before {color: black;}#sk-container-id-26 div.sk-toggleable__content {max-height: 0;max-width: 0;overflow: hidden;text-align: left;background-color: #f0f8ff;}#sk-container-id-26 div.sk-toggleable__content pre {margin: 0.2em;color: black;border-radius: 0.25em;background-color: #f0f8ff;}#sk-container-id-26 input.sk-toggleable__control:checked~div.sk-toggleable__content {max-height: 200px;max-width: 100%;overflow: auto;}#sk-container-id-26 input.sk-toggleable__control:checked~label.sk-toggleable__label-arrow:before {content: \"▾\";}#sk-container-id-26 div.sk-estimator input.sk-toggleable__control:checked~label.sk-toggleable__label {background-color: #d4ebff;}#sk-container-id-26 div.sk-label input.sk-toggleable__control:checked~label.sk-toggleable__label {background-color: #d4ebff;}#sk-container-id-26 input.sk-hidden--visually {border: 0;clip: rect(1px 1px 1px 1px);clip: rect(1px, 1px, 1px, 1px);height: 1px;margin: -1px;overflow: hidden;padding: 0;position: absolute;width: 1px;}#sk-container-id-26 div.sk-estimator {font-family: monospace;background-color: #f0f8ff;border: 1px dotted black;border-radius: 0.25em;box-sizing: border-box;margin-bottom: 0.5em;}#sk-container-id-26 div.sk-estimator:hover {background-color: #d4ebff;}#sk-container-id-26 div.sk-parallel-item::after {content: \"\";width: 100%;border-bottom: 1px solid gray;flex-grow: 1;}#sk-container-id-26 div.sk-label:hover label.sk-toggleable__label {background-color: #d4ebff;}#sk-container-id-26 div.sk-serial::before {content: \"\";position: absolute;border-left: 1px solid gray;box-sizing: border-box;top: 0;bottom: 0;left: 50%;z-index: 0;}#sk-container-id-26 div.sk-serial {display: flex;flex-direction: column;align-items: center;background-color: white;padding-right: 0.2em;padding-left: 0.2em;position: relative;}#sk-container-id-26 div.sk-item {position: relative;z-index: 1;}#sk-container-id-26 div.sk-parallel {display: flex;align-items: stretch;justify-content: center;background-color: white;position: relative;}#sk-container-id-26 div.sk-item::before, #sk-container-id-26 div.sk-parallel-item::before {content: \"\";position: absolute;border-left: 1px solid gray;box-sizing: border-box;top: 0;bottom: 0;left: 50%;z-index: -1;}#sk-container-id-26 div.sk-parallel-item {display: flex;flex-direction: column;z-index: 1;position: relative;background-color: white;}#sk-container-id-26 div.sk-parallel-item:first-child::after {align-self: flex-end;width: 50%;}#sk-container-id-26 div.sk-parallel-item:last-child::after {align-self: flex-start;width: 50%;}#sk-container-id-26 div.sk-parallel-item:only-child::after {width: 0;}#sk-container-id-26 div.sk-dashed-wrapped {border: 1px dashed gray;margin: 0 0.4em 0.5em 0.4em;box-sizing: border-box;padding-bottom: 0.4em;background-color: white;}#sk-container-id-26 div.sk-label label {font-family: monospace;font-weight: bold;display: inline-block;line-height: 1.2em;}#sk-container-id-26 div.sk-label-container {text-align: center;}#sk-container-id-26 div.sk-container {/* jupyter's `normalize.less` sets `[hidden] { display: none; }` but bootstrap.min.css set `[hidden] { display: none !important; }` so we also need the `!important` here to be able to override the default hidden behavior on the sphinx rendered scikit-learn.org. See: https://github.com/scikit-learn/scikit-learn/issues/21755 */display: inline-block !important;position: relative;}#sk-container-id-26 div.sk-text-repr-fallback {display: none;}</style><div id=\"sk-container-id-26\" class=\"sk-top-container\"><div class=\"sk-text-repr-fallback\"><pre>XGBRegressor(base_score=None, booster=None, callbacks=None,\n",
       "             colsample_bylevel=None, colsample_bynode=None,\n",
       "             colsample_bytree=None, early_stopping_rounds=None,\n",
       "             enable_categorical=False, eval_metric=None, feature_types=None,\n",
       "             gamma=None, gpu_id=None, grow_policy=None, importance_type=None,\n",
       "             interaction_constraints=None, learning_rate=None, max_bin=None,\n",
       "             max_cat_threshold=None, max_cat_to_onehot=None,\n",
       "             max_delta_step=None, max_depth=None, max_leaves=None,\n",
       "             min_child_weight=None, missing=nan, monotone_constraints=None,\n",
       "             n_estimators=100, n_jobs=None, num_parallel_tree=None,\n",
       "             predictor=None, random_state=None, ...)</pre><b>In a Jupyter environment, please rerun this cell to show the HTML representation or trust the notebook. <br />On GitHub, the HTML representation is unable to render, please try loading this page with nbviewer.org.</b></div><div class=\"sk-container\" hidden><div class=\"sk-item\"><div class=\"sk-estimator sk-toggleable\"><input class=\"sk-toggleable__control sk-hidden--visually\" id=\"sk-estimator-id-26\" type=\"checkbox\" checked><label for=\"sk-estimator-id-26\" class=\"sk-toggleable__label sk-toggleable__label-arrow\">XGBRegressor</label><div class=\"sk-toggleable__content\"><pre>XGBRegressor(base_score=None, booster=None, callbacks=None,\n",
       "             colsample_bylevel=None, colsample_bynode=None,\n",
       "             colsample_bytree=None, early_stopping_rounds=None,\n",
       "             enable_categorical=False, eval_metric=None, feature_types=None,\n",
       "             gamma=None, gpu_id=None, grow_policy=None, importance_type=None,\n",
       "             interaction_constraints=None, learning_rate=None, max_bin=None,\n",
       "             max_cat_threshold=None, max_cat_to_onehot=None,\n",
       "             max_delta_step=None, max_depth=None, max_leaves=None,\n",
       "             min_child_weight=None, missing=nan, monotone_constraints=None,\n",
       "             n_estimators=100, n_jobs=None, num_parallel_tree=None,\n",
       "             predictor=None, random_state=None, ...)</pre></div></div></div></div></div>"
      ],
      "text/plain": [
       "XGBRegressor(base_score=None, booster=None, callbacks=None,\n",
       "             colsample_bylevel=None, colsample_bynode=None,\n",
       "             colsample_bytree=None, early_stopping_rounds=None,\n",
       "             enable_categorical=False, eval_metric=None, feature_types=None,\n",
       "             gamma=None, gpu_id=None, grow_policy=None, importance_type=None,\n",
       "             interaction_constraints=None, learning_rate=None, max_bin=None,\n",
       "             max_cat_threshold=None, max_cat_to_onehot=None,\n",
       "             max_delta_step=None, max_depth=None, max_leaves=None,\n",
       "             min_child_weight=None, missing=nan, monotone_constraints=None,\n",
       "             n_estimators=100, n_jobs=None, num_parallel_tree=None,\n",
       "             predictor=None, random_state=None, ...)"
      ]
     },
     "execution_count": 877,
     "metadata": {},
     "output_type": "execute_result"
    }
   ],
   "source": [
    "model.fit(X_train,y_train.values)"
   ]
  },
  {
   "cell_type": "code",
   "execution_count": 878,
   "id": "5a30d0a3",
   "metadata": {},
   "outputs": [],
   "source": [
    "preds=model.predict(X_test)"
   ]
  },
  {
   "cell_type": "code",
   "execution_count": 880,
   "id": "4489bc6b",
   "metadata": {},
   "outputs": [
    {
     "data": {
      "application/vnd.plotly.v1+json": {
       "config": {
        "plotlyServerURL": "https://plot.ly"
       },
       "data": [
        {
         "mode": "lines",
         "name": "Train",
         "type": "scatter",
         "x": [
          "1949-05",
          "1949-06",
          "1949-07",
          "1949-08",
          "1949-09",
          "1949-10",
          "1949-11",
          "1949-12",
          "1950-01",
          "1950-02",
          "1950-03",
          "1950-04",
          "1950-05",
          "1950-06",
          "1950-07",
          "1950-08",
          "1950-09",
          "1950-10",
          "1950-11",
          "1950-12",
          "1951-01",
          "1951-02",
          "1951-03",
          "1951-04",
          "1951-05",
          "1951-06",
          "1951-07",
          "1951-08",
          "1951-09",
          "1951-10",
          "1951-11",
          "1951-12",
          "1952-01",
          "1952-02",
          "1952-03",
          "1952-04",
          "1952-05",
          "1952-06",
          "1952-07",
          "1952-08",
          "1952-09",
          "1952-10",
          "1952-11",
          "1952-12",
          "1953-01",
          "1953-02",
          "1953-03",
          "1953-04",
          "1953-05",
          "1953-06",
          "1953-07",
          "1953-08",
          "1953-09",
          "1953-10",
          "1953-11",
          "1953-12",
          "1954-01",
          "1954-02",
          "1954-03",
          "1954-04",
          "1954-05",
          "1954-06",
          "1954-07",
          "1954-08",
          "1954-09",
          "1954-10",
          "1954-11",
          "1954-12",
          "1955-01",
          "1955-02",
          "1955-03",
          "1955-04",
          "1955-05",
          "1955-06",
          "1955-07",
          "1955-08",
          "1955-09",
          "1955-10",
          "1955-11",
          "1955-12",
          "1956-01",
          "1956-02",
          "1956-03",
          "1956-04",
          "1956-05",
          "1956-06",
          "1956-07",
          "1956-08",
          "1956-09",
          "1956-10",
          "1956-11",
          "1956-12",
          "1957-01",
          "1957-02",
          "1957-03",
          "1957-04",
          "1957-05",
          "1957-06",
          "1957-07",
          "1957-08",
          "1957-09",
          "1957-10",
          "1957-11",
          "1957-12",
          "1958-01",
          "1958-02",
          "1958-03",
          "1958-04",
          "1958-05",
          "1958-06",
          "1958-07"
         ],
         "y": [
          20.061302681992387,
          31.404118773946408,
          41.74693486590043,
          39.08975095785445,
          24.43256704980847,
          4.7753831417624895,
          -12.881800766283476,
          -1.5389846743294555,
          -7.196168582375435,
          1.1466475095785853,
          13.489463601532606,
          4.83227969348664,
          -7.8249042145593535,
          13.517911877394681,
          31.860727969348716,
          29.203544061302722,
          14.546360153256728,
          -13.110823754789237,
          -34.7680076628352,
          -11.425191570881196,
          -9.082375478927162,
          -6.739559386973156,
          18.60325670498088,
          0.9460727969349136,
          7.28888888888892,
          10.631704980842954,
          28.97452107279696,
          26.317337164750995,
          8.66015325670503,
          -15.997030651340964,
          -34.65421455938696,
          -17.311398467432923,
          -14.968582375478888,
          -8.625766283524854,
          1.7170498084291523,
          -12.940134099616841,
          -13.597318007662807,
          18.745498084291228,
          28.088314176245262,
          37.43113026819927,
          1.7739463601532748,
          -18.88323754789269,
          -40.540421455938656,
          -21.19760536398465,
          -21.854789272030615,
          -24.51197318007661,
          12.830842911877426,
          9.173659003831432,
          0.5164750957854665,
          11.859291187739501,
          30.202107279693507,
          35.54492337164754,
          -2.112260536398452,
          -30.769444444444417,
          -64.42662835249038,
          -46.08381226053638,
          -45.74099616858234,
          -64.39818007662834,
          -20.0553639846743,
          -30.712547892720295,
          -26.36973180076626,
          0.9730842911877744,
          36.31590038314175,
          24.658716475095844,
          -11.998467432950179,
          -44.655651340996144,
          -73.31283524904211,
          -49.97001915708813,
          -39.62720306513404,
          -51.28438697318006,
          -19.941570881226028,
          -20.598754789271993,
          -22.255938697318015,
          20.086877394636076,
          66.42969348659005,
          46.77250957854409,
          9.115325670498123,
          -31.5418582375479,
          -71.19904214559386,
          -32.85622605363983,
          -29.513409961685795,
          -39.17059386973176,
          -1.8277777777777828,
          -8.484961685823748,
          -6.142145593869714,
          47.200670498084264,
          83.54348659003836,
          72.88630268199233,
          20.229118773946368,
          -31.428065134099597,
          -69.08524904214562,
          -36.74243295019153,
          -30.39961685823755,
          -47.05680076628346,
          5.286015325670519,
          -5.371168582375503,
          -1.0283524904214119,
          63.314463601532566,
          103.65727969348654,
          103.00009578544064,
          37.34291187739461,
          -22.314272030651296,
          -66.97145593869732,
          -38.62863984674334,
          -37.28582375478925,
          -61.94300766283527,
          -20.60019157088118,
          -37.2573754789272,
          -24.914559386973224,
          44.42825670498087,
          97.77107279693485
         ]
        },
        {
         "mode": "lines",
         "name": "Test",
         "type": "scatter",
         "x": [
          "1958-08",
          "1958-09",
          "1958-10",
          "1958-11",
          "1958-12",
          "1959-01",
          "1959-02",
          "1959-03",
          "1959-04",
          "1959-05",
          "1959-06",
          "1959-07",
          "1959-08",
          "1959-09",
          "1959-10",
          "1959-11",
          "1959-12",
          "1960-01",
          "1960-02",
          "1960-03",
          "1960-04",
          "1960-05",
          "1960-06",
          "1960-07",
          "1960-08",
          "1960-09",
          "1960-10",
          "1960-11",
          "1960-12"
         ],
         "y": [
          109.11388888888894,
          5.456704980842915,
          -42.20047892720311,
          -93.85766283524902,
          -69.51484674329504,
          -49.17203065134095,
          -69.82921455938697,
          -8.486398467432991,
          -21.1435823754789,
          0.19923371647507793,
          49.54204980842917,
          122.88486590038315,
          131.22768199233712,
          32.570498084291216,
          -26.086685823754806,
          -73.74386973180071,
          -33.40105363984674,
          -24.05823754789276,
          -52.71542145593867,
          -27.37260536398469,
          11.970210727969402,
          20.31302681992338,
          80.65584291187736,
          164.99865900383145,
          146.34147509578543,
          45.684291187739404,
          -3.972892720306504,
          -77.63007662835253,
          -38.287260536398435
         ]
        },
        {
         "mode": "lines",
         "name": "Pred",
         "type": "scatter",
         "x": [
          "1958-08",
          "1958-09",
          "1958-10",
          "1958-11",
          "1958-12",
          "1959-01",
          "1959-02",
          "1959-03",
          "1959-04",
          "1959-05",
          "1959-06",
          "1959-07",
          "1959-08",
          "1959-09",
          "1959-10",
          "1959-11",
          "1959-12",
          "1960-01",
          "1960-02",
          "1960-03",
          "1960-04",
          "1960-05",
          "1960-06",
          "1960-07",
          "1960-08",
          "1960-09",
          "1960-10",
          "1960-11",
          "1960-12"
         ],
         "y": [
          57.902702,
          17.30405,
          -31.751305,
          -67.37657,
          -39.27246,
          -38.408268,
          -50.997906,
          -31.48988,
          9.666213,
          -16.52516,
          49.917892,
          72.02914,
          69.727295,
          42.064728,
          -25.993378,
          -65.78806,
          -36.96053,
          -29.778152,
          -34.148827,
          -1.7479411,
          -39.23056,
          8.558926,
          48.98969,
          16.352757,
          48.40208,
          42.069664,
          26.918198,
          -35.799374,
          -66.70309
         ]
        }
       ],
       "layout": {
        "template": {
         "data": {
          "bar": [
           {
            "error_x": {
             "color": "#2a3f5f"
            },
            "error_y": {
             "color": "#2a3f5f"
            },
            "marker": {
             "line": {
              "color": "#E5ECF6",
              "width": 0.5
             },
             "pattern": {
              "fillmode": "overlay",
              "size": 10,
              "solidity": 0.2
             }
            },
            "type": "bar"
           }
          ],
          "barpolar": [
           {
            "marker": {
             "line": {
              "color": "#E5ECF6",
              "width": 0.5
             },
             "pattern": {
              "fillmode": "overlay",
              "size": 10,
              "solidity": 0.2
             }
            },
            "type": "barpolar"
           }
          ],
          "carpet": [
           {
            "aaxis": {
             "endlinecolor": "#2a3f5f",
             "gridcolor": "white",
             "linecolor": "white",
             "minorgridcolor": "white",
             "startlinecolor": "#2a3f5f"
            },
            "baxis": {
             "endlinecolor": "#2a3f5f",
             "gridcolor": "white",
             "linecolor": "white",
             "minorgridcolor": "white",
             "startlinecolor": "#2a3f5f"
            },
            "type": "carpet"
           }
          ],
          "choropleth": [
           {
            "colorbar": {
             "outlinewidth": 0,
             "ticks": ""
            },
            "type": "choropleth"
           }
          ],
          "contour": [
           {
            "colorbar": {
             "outlinewidth": 0,
             "ticks": ""
            },
            "colorscale": [
             [
              0,
              "#0d0887"
             ],
             [
              0.1111111111111111,
              "#46039f"
             ],
             [
              0.2222222222222222,
              "#7201a8"
             ],
             [
              0.3333333333333333,
              "#9c179e"
             ],
             [
              0.4444444444444444,
              "#bd3786"
             ],
             [
              0.5555555555555556,
              "#d8576b"
             ],
             [
              0.6666666666666666,
              "#ed7953"
             ],
             [
              0.7777777777777778,
              "#fb9f3a"
             ],
             [
              0.8888888888888888,
              "#fdca26"
             ],
             [
              1,
              "#f0f921"
             ]
            ],
            "type": "contour"
           }
          ],
          "contourcarpet": [
           {
            "colorbar": {
             "outlinewidth": 0,
             "ticks": ""
            },
            "type": "contourcarpet"
           }
          ],
          "heatmap": [
           {
            "colorbar": {
             "outlinewidth": 0,
             "ticks": ""
            },
            "colorscale": [
             [
              0,
              "#0d0887"
             ],
             [
              0.1111111111111111,
              "#46039f"
             ],
             [
              0.2222222222222222,
              "#7201a8"
             ],
             [
              0.3333333333333333,
              "#9c179e"
             ],
             [
              0.4444444444444444,
              "#bd3786"
             ],
             [
              0.5555555555555556,
              "#d8576b"
             ],
             [
              0.6666666666666666,
              "#ed7953"
             ],
             [
              0.7777777777777778,
              "#fb9f3a"
             ],
             [
              0.8888888888888888,
              "#fdca26"
             ],
             [
              1,
              "#f0f921"
             ]
            ],
            "type": "heatmap"
           }
          ],
          "heatmapgl": [
           {
            "colorbar": {
             "outlinewidth": 0,
             "ticks": ""
            },
            "colorscale": [
             [
              0,
              "#0d0887"
             ],
             [
              0.1111111111111111,
              "#46039f"
             ],
             [
              0.2222222222222222,
              "#7201a8"
             ],
             [
              0.3333333333333333,
              "#9c179e"
             ],
             [
              0.4444444444444444,
              "#bd3786"
             ],
             [
              0.5555555555555556,
              "#d8576b"
             ],
             [
              0.6666666666666666,
              "#ed7953"
             ],
             [
              0.7777777777777778,
              "#fb9f3a"
             ],
             [
              0.8888888888888888,
              "#fdca26"
             ],
             [
              1,
              "#f0f921"
             ]
            ],
            "type": "heatmapgl"
           }
          ],
          "histogram": [
           {
            "marker": {
             "pattern": {
              "fillmode": "overlay",
              "size": 10,
              "solidity": 0.2
             }
            },
            "type": "histogram"
           }
          ],
          "histogram2d": [
           {
            "colorbar": {
             "outlinewidth": 0,
             "ticks": ""
            },
            "colorscale": [
             [
              0,
              "#0d0887"
             ],
             [
              0.1111111111111111,
              "#46039f"
             ],
             [
              0.2222222222222222,
              "#7201a8"
             ],
             [
              0.3333333333333333,
              "#9c179e"
             ],
             [
              0.4444444444444444,
              "#bd3786"
             ],
             [
              0.5555555555555556,
              "#d8576b"
             ],
             [
              0.6666666666666666,
              "#ed7953"
             ],
             [
              0.7777777777777778,
              "#fb9f3a"
             ],
             [
              0.8888888888888888,
              "#fdca26"
             ],
             [
              1,
              "#f0f921"
             ]
            ],
            "type": "histogram2d"
           }
          ],
          "histogram2dcontour": [
           {
            "colorbar": {
             "outlinewidth": 0,
             "ticks": ""
            },
            "colorscale": [
             [
              0,
              "#0d0887"
             ],
             [
              0.1111111111111111,
              "#46039f"
             ],
             [
              0.2222222222222222,
              "#7201a8"
             ],
             [
              0.3333333333333333,
              "#9c179e"
             ],
             [
              0.4444444444444444,
              "#bd3786"
             ],
             [
              0.5555555555555556,
              "#d8576b"
             ],
             [
              0.6666666666666666,
              "#ed7953"
             ],
             [
              0.7777777777777778,
              "#fb9f3a"
             ],
             [
              0.8888888888888888,
              "#fdca26"
             ],
             [
              1,
              "#f0f921"
             ]
            ],
            "type": "histogram2dcontour"
           }
          ],
          "mesh3d": [
           {
            "colorbar": {
             "outlinewidth": 0,
             "ticks": ""
            },
            "type": "mesh3d"
           }
          ],
          "parcoords": [
           {
            "line": {
             "colorbar": {
              "outlinewidth": 0,
              "ticks": ""
             }
            },
            "type": "parcoords"
           }
          ],
          "pie": [
           {
            "automargin": true,
            "type": "pie"
           }
          ],
          "scatter": [
           {
            "fillpattern": {
             "fillmode": "overlay",
             "size": 10,
             "solidity": 0.2
            },
            "type": "scatter"
           }
          ],
          "scatter3d": [
           {
            "line": {
             "colorbar": {
              "outlinewidth": 0,
              "ticks": ""
             }
            },
            "marker": {
             "colorbar": {
              "outlinewidth": 0,
              "ticks": ""
             }
            },
            "type": "scatter3d"
           }
          ],
          "scattercarpet": [
           {
            "marker": {
             "colorbar": {
              "outlinewidth": 0,
              "ticks": ""
             }
            },
            "type": "scattercarpet"
           }
          ],
          "scattergeo": [
           {
            "marker": {
             "colorbar": {
              "outlinewidth": 0,
              "ticks": ""
             }
            },
            "type": "scattergeo"
           }
          ],
          "scattergl": [
           {
            "marker": {
             "colorbar": {
              "outlinewidth": 0,
              "ticks": ""
             }
            },
            "type": "scattergl"
           }
          ],
          "scattermapbox": [
           {
            "marker": {
             "colorbar": {
              "outlinewidth": 0,
              "ticks": ""
             }
            },
            "type": "scattermapbox"
           }
          ],
          "scatterpolar": [
           {
            "marker": {
             "colorbar": {
              "outlinewidth": 0,
              "ticks": ""
             }
            },
            "type": "scatterpolar"
           }
          ],
          "scatterpolargl": [
           {
            "marker": {
             "colorbar": {
              "outlinewidth": 0,
              "ticks": ""
             }
            },
            "type": "scatterpolargl"
           }
          ],
          "scatterternary": [
           {
            "marker": {
             "colorbar": {
              "outlinewidth": 0,
              "ticks": ""
             }
            },
            "type": "scatterternary"
           }
          ],
          "surface": [
           {
            "colorbar": {
             "outlinewidth": 0,
             "ticks": ""
            },
            "colorscale": [
             [
              0,
              "#0d0887"
             ],
             [
              0.1111111111111111,
              "#46039f"
             ],
             [
              0.2222222222222222,
              "#7201a8"
             ],
             [
              0.3333333333333333,
              "#9c179e"
             ],
             [
              0.4444444444444444,
              "#bd3786"
             ],
             [
              0.5555555555555556,
              "#d8576b"
             ],
             [
              0.6666666666666666,
              "#ed7953"
             ],
             [
              0.7777777777777778,
              "#fb9f3a"
             ],
             [
              0.8888888888888888,
              "#fdca26"
             ],
             [
              1,
              "#f0f921"
             ]
            ],
            "type": "surface"
           }
          ],
          "table": [
           {
            "cells": {
             "fill": {
              "color": "#EBF0F8"
             },
             "line": {
              "color": "white"
             }
            },
            "header": {
             "fill": {
              "color": "#C8D4E3"
             },
             "line": {
              "color": "white"
             }
            },
            "type": "table"
           }
          ]
         },
         "layout": {
          "annotationdefaults": {
           "arrowcolor": "#2a3f5f",
           "arrowhead": 0,
           "arrowwidth": 1
          },
          "autotypenumbers": "strict",
          "coloraxis": {
           "colorbar": {
            "outlinewidth": 0,
            "ticks": ""
           }
          },
          "colorscale": {
           "diverging": [
            [
             0,
             "#8e0152"
            ],
            [
             0.1,
             "#c51b7d"
            ],
            [
             0.2,
             "#de77ae"
            ],
            [
             0.3,
             "#f1b6da"
            ],
            [
             0.4,
             "#fde0ef"
            ],
            [
             0.5,
             "#f7f7f7"
            ],
            [
             0.6,
             "#e6f5d0"
            ],
            [
             0.7,
             "#b8e186"
            ],
            [
             0.8,
             "#7fbc41"
            ],
            [
             0.9,
             "#4d9221"
            ],
            [
             1,
             "#276419"
            ]
           ],
           "sequential": [
            [
             0,
             "#0d0887"
            ],
            [
             0.1111111111111111,
             "#46039f"
            ],
            [
             0.2222222222222222,
             "#7201a8"
            ],
            [
             0.3333333333333333,
             "#9c179e"
            ],
            [
             0.4444444444444444,
             "#bd3786"
            ],
            [
             0.5555555555555556,
             "#d8576b"
            ],
            [
             0.6666666666666666,
             "#ed7953"
            ],
            [
             0.7777777777777778,
             "#fb9f3a"
            ],
            [
             0.8888888888888888,
             "#fdca26"
            ],
            [
             1,
             "#f0f921"
            ]
           ],
           "sequentialminus": [
            [
             0,
             "#0d0887"
            ],
            [
             0.1111111111111111,
             "#46039f"
            ],
            [
             0.2222222222222222,
             "#7201a8"
            ],
            [
             0.3333333333333333,
             "#9c179e"
            ],
            [
             0.4444444444444444,
             "#bd3786"
            ],
            [
             0.5555555555555556,
             "#d8576b"
            ],
            [
             0.6666666666666666,
             "#ed7953"
            ],
            [
             0.7777777777777778,
             "#fb9f3a"
            ],
            [
             0.8888888888888888,
             "#fdca26"
            ],
            [
             1,
             "#f0f921"
            ]
           ]
          },
          "colorway": [
           "#636efa",
           "#EF553B",
           "#00cc96",
           "#ab63fa",
           "#FFA15A",
           "#19d3f3",
           "#FF6692",
           "#B6E880",
           "#FF97FF",
           "#FECB52"
          ],
          "font": {
           "color": "#2a3f5f"
          },
          "geo": {
           "bgcolor": "white",
           "lakecolor": "white",
           "landcolor": "#E5ECF6",
           "showlakes": true,
           "showland": true,
           "subunitcolor": "white"
          },
          "hoverlabel": {
           "align": "left"
          },
          "hovermode": "closest",
          "mapbox": {
           "style": "light"
          },
          "paper_bgcolor": "white",
          "plot_bgcolor": "#E5ECF6",
          "polar": {
           "angularaxis": {
            "gridcolor": "white",
            "linecolor": "white",
            "ticks": ""
           },
           "bgcolor": "#E5ECF6",
           "radialaxis": {
            "gridcolor": "white",
            "linecolor": "white",
            "ticks": ""
           }
          },
          "scene": {
           "xaxis": {
            "backgroundcolor": "#E5ECF6",
            "gridcolor": "white",
            "gridwidth": 2,
            "linecolor": "white",
            "showbackground": true,
            "ticks": "",
            "zerolinecolor": "white"
           },
           "yaxis": {
            "backgroundcolor": "#E5ECF6",
            "gridcolor": "white",
            "gridwidth": 2,
            "linecolor": "white",
            "showbackground": true,
            "ticks": "",
            "zerolinecolor": "white"
           },
           "zaxis": {
            "backgroundcolor": "#E5ECF6",
            "gridcolor": "white",
            "gridwidth": 2,
            "linecolor": "white",
            "showbackground": true,
            "ticks": "",
            "zerolinecolor": "white"
           }
          },
          "shapedefaults": {
           "line": {
            "color": "#2a3f5f"
           }
          },
          "ternary": {
           "aaxis": {
            "gridcolor": "white",
            "linecolor": "white",
            "ticks": ""
           },
           "baxis": {
            "gridcolor": "white",
            "linecolor": "white",
            "ticks": ""
           },
           "bgcolor": "#E5ECF6",
           "caxis": {
            "gridcolor": "white",
            "linecolor": "white",
            "ticks": ""
           }
          },
          "title": {
           "x": 0.05
          },
          "xaxis": {
           "automargin": true,
           "gridcolor": "white",
           "linecolor": "white",
           "ticks": "",
           "title": {
            "standoff": 15
           },
           "zerolinecolor": "white",
           "zerolinewidth": 2
          },
          "yaxis": {
           "automargin": true,
           "gridcolor": "white",
           "linecolor": "white",
           "ticks": "",
           "title": {
            "standoff": 15
           },
           "zerolinecolor": "white",
           "zerolinewidth": 2
          }
         }
        },
        "xaxis": {
         "title": {
          "text": "date"
         }
        },
        "yaxis": {
         "title": {
          "text": "Passengers"
         }
        }
       }
      },
      "text/html": [
       "<div>                            <div id=\"a760a450-330f-4a06-9469-ab1e1a8db5c9\" class=\"plotly-graph-div\" style=\"height:525px; width:100%;\"></div>            <script type=\"text/javascript\">                require([\"plotly\"], function(Plotly) {                    window.PLOTLYENV=window.PLOTLYENV || {};                                    if (document.getElementById(\"a760a450-330f-4a06-9469-ab1e1a8db5c9\")) {                    Plotly.newPlot(                        \"a760a450-330f-4a06-9469-ab1e1a8db5c9\",                        [{\"mode\":\"lines\",\"name\":\"Train\",\"x\":[\"1949-05\",\"1949-06\",\"1949-07\",\"1949-08\",\"1949-09\",\"1949-10\",\"1949-11\",\"1949-12\",\"1950-01\",\"1950-02\",\"1950-03\",\"1950-04\",\"1950-05\",\"1950-06\",\"1950-07\",\"1950-08\",\"1950-09\",\"1950-10\",\"1950-11\",\"1950-12\",\"1951-01\",\"1951-02\",\"1951-03\",\"1951-04\",\"1951-05\",\"1951-06\",\"1951-07\",\"1951-08\",\"1951-09\",\"1951-10\",\"1951-11\",\"1951-12\",\"1952-01\",\"1952-02\",\"1952-03\",\"1952-04\",\"1952-05\",\"1952-06\",\"1952-07\",\"1952-08\",\"1952-09\",\"1952-10\",\"1952-11\",\"1952-12\",\"1953-01\",\"1953-02\",\"1953-03\",\"1953-04\",\"1953-05\",\"1953-06\",\"1953-07\",\"1953-08\",\"1953-09\",\"1953-10\",\"1953-11\",\"1953-12\",\"1954-01\",\"1954-02\",\"1954-03\",\"1954-04\",\"1954-05\",\"1954-06\",\"1954-07\",\"1954-08\",\"1954-09\",\"1954-10\",\"1954-11\",\"1954-12\",\"1955-01\",\"1955-02\",\"1955-03\",\"1955-04\",\"1955-05\",\"1955-06\",\"1955-07\",\"1955-08\",\"1955-09\",\"1955-10\",\"1955-11\",\"1955-12\",\"1956-01\",\"1956-02\",\"1956-03\",\"1956-04\",\"1956-05\",\"1956-06\",\"1956-07\",\"1956-08\",\"1956-09\",\"1956-10\",\"1956-11\",\"1956-12\",\"1957-01\",\"1957-02\",\"1957-03\",\"1957-04\",\"1957-05\",\"1957-06\",\"1957-07\",\"1957-08\",\"1957-09\",\"1957-10\",\"1957-11\",\"1957-12\",\"1958-01\",\"1958-02\",\"1958-03\",\"1958-04\",\"1958-05\",\"1958-06\",\"1958-07\"],\"y\":[20.061302681992387,31.404118773946408,41.74693486590043,39.08975095785445,24.43256704980847,4.7753831417624895,-12.881800766283476,-1.5389846743294555,-7.196168582375435,1.1466475095785853,13.489463601532606,4.83227969348664,-7.8249042145593535,13.517911877394681,31.860727969348716,29.203544061302722,14.546360153256728,-13.110823754789237,-34.7680076628352,-11.425191570881196,-9.082375478927162,-6.739559386973156,18.60325670498088,0.9460727969349136,7.28888888888892,10.631704980842954,28.97452107279696,26.317337164750995,8.66015325670503,-15.997030651340964,-34.65421455938696,-17.311398467432923,-14.968582375478888,-8.625766283524854,1.7170498084291523,-12.940134099616841,-13.597318007662807,18.745498084291228,28.088314176245262,37.43113026819927,1.7739463601532748,-18.88323754789269,-40.540421455938656,-21.19760536398465,-21.854789272030615,-24.51197318007661,12.830842911877426,9.173659003831432,0.5164750957854665,11.859291187739501,30.202107279693507,35.54492337164754,-2.112260536398452,-30.769444444444417,-64.42662835249038,-46.08381226053638,-45.74099616858234,-64.39818007662834,-20.0553639846743,-30.712547892720295,-26.36973180076626,0.9730842911877744,36.31590038314175,24.658716475095844,-11.998467432950179,-44.655651340996144,-73.31283524904211,-49.97001915708813,-39.62720306513404,-51.28438697318006,-19.941570881226028,-20.598754789271993,-22.255938697318015,20.086877394636076,66.42969348659005,46.77250957854409,9.115325670498123,-31.5418582375479,-71.19904214559386,-32.85622605363983,-29.513409961685795,-39.17059386973176,-1.8277777777777828,-8.484961685823748,-6.142145593869714,47.200670498084264,83.54348659003836,72.88630268199233,20.229118773946368,-31.428065134099597,-69.08524904214562,-36.74243295019153,-30.39961685823755,-47.05680076628346,5.286015325670519,-5.371168582375503,-1.0283524904214119,63.314463601532566,103.65727969348654,103.00009578544064,37.34291187739461,-22.314272030651296,-66.97145593869732,-38.62863984674334,-37.28582375478925,-61.94300766283527,-20.60019157088118,-37.2573754789272,-24.914559386973224,44.42825670498087,97.77107279693485],\"type\":\"scatter\"},{\"mode\":\"lines\",\"name\":\"Test\",\"x\":[\"1958-08\",\"1958-09\",\"1958-10\",\"1958-11\",\"1958-12\",\"1959-01\",\"1959-02\",\"1959-03\",\"1959-04\",\"1959-05\",\"1959-06\",\"1959-07\",\"1959-08\",\"1959-09\",\"1959-10\",\"1959-11\",\"1959-12\",\"1960-01\",\"1960-02\",\"1960-03\",\"1960-04\",\"1960-05\",\"1960-06\",\"1960-07\",\"1960-08\",\"1960-09\",\"1960-10\",\"1960-11\",\"1960-12\"],\"y\":[109.11388888888894,5.456704980842915,-42.20047892720311,-93.85766283524902,-69.51484674329504,-49.17203065134095,-69.82921455938697,-8.486398467432991,-21.1435823754789,0.19923371647507793,49.54204980842917,122.88486590038315,131.22768199233712,32.570498084291216,-26.086685823754806,-73.74386973180071,-33.40105363984674,-24.05823754789276,-52.71542145593867,-27.37260536398469,11.970210727969402,20.31302681992338,80.65584291187736,164.99865900383145,146.34147509578543,45.684291187739404,-3.972892720306504,-77.63007662835253,-38.287260536398435],\"type\":\"scatter\"},{\"mode\":\"lines\",\"name\":\"Pred\",\"x\":[\"1958-08\",\"1958-09\",\"1958-10\",\"1958-11\",\"1958-12\",\"1959-01\",\"1959-02\",\"1959-03\",\"1959-04\",\"1959-05\",\"1959-06\",\"1959-07\",\"1959-08\",\"1959-09\",\"1959-10\",\"1959-11\",\"1959-12\",\"1960-01\",\"1960-02\",\"1960-03\",\"1960-04\",\"1960-05\",\"1960-06\",\"1960-07\",\"1960-08\",\"1960-09\",\"1960-10\",\"1960-11\",\"1960-12\"],\"y\":[57.902702,17.30405,-31.751305,-67.37657,-39.27246,-38.408268,-50.997906,-31.48988,9.666213,-16.52516,49.917892,72.02914,69.727295,42.064728,-25.993378,-65.78806,-36.96053,-29.778152,-34.148827,-1.7479411,-39.23056,8.558926,48.98969,16.352757,48.40208,42.069664,26.918198,-35.799374,-66.70309],\"type\":\"scatter\"}],                        {\"template\":{\"data\":{\"histogram2dcontour\":[{\"type\":\"histogram2dcontour\",\"colorbar\":{\"outlinewidth\":0,\"ticks\":\"\"},\"colorscale\":[[0.0,\"#0d0887\"],[0.1111111111111111,\"#46039f\"],[0.2222222222222222,\"#7201a8\"],[0.3333333333333333,\"#9c179e\"],[0.4444444444444444,\"#bd3786\"],[0.5555555555555556,\"#d8576b\"],[0.6666666666666666,\"#ed7953\"],[0.7777777777777778,\"#fb9f3a\"],[0.8888888888888888,\"#fdca26\"],[1.0,\"#f0f921\"]]}],\"choropleth\":[{\"type\":\"choropleth\",\"colorbar\":{\"outlinewidth\":0,\"ticks\":\"\"}}],\"histogram2d\":[{\"type\":\"histogram2d\",\"colorbar\":{\"outlinewidth\":0,\"ticks\":\"\"},\"colorscale\":[[0.0,\"#0d0887\"],[0.1111111111111111,\"#46039f\"],[0.2222222222222222,\"#7201a8\"],[0.3333333333333333,\"#9c179e\"],[0.4444444444444444,\"#bd3786\"],[0.5555555555555556,\"#d8576b\"],[0.6666666666666666,\"#ed7953\"],[0.7777777777777778,\"#fb9f3a\"],[0.8888888888888888,\"#fdca26\"],[1.0,\"#f0f921\"]]}],\"heatmap\":[{\"type\":\"heatmap\",\"colorbar\":{\"outlinewidth\":0,\"ticks\":\"\"},\"colorscale\":[[0.0,\"#0d0887\"],[0.1111111111111111,\"#46039f\"],[0.2222222222222222,\"#7201a8\"],[0.3333333333333333,\"#9c179e\"],[0.4444444444444444,\"#bd3786\"],[0.5555555555555556,\"#d8576b\"],[0.6666666666666666,\"#ed7953\"],[0.7777777777777778,\"#fb9f3a\"],[0.8888888888888888,\"#fdca26\"],[1.0,\"#f0f921\"]]}],\"heatmapgl\":[{\"type\":\"heatmapgl\",\"colorbar\":{\"outlinewidth\":0,\"ticks\":\"\"},\"colorscale\":[[0.0,\"#0d0887\"],[0.1111111111111111,\"#46039f\"],[0.2222222222222222,\"#7201a8\"],[0.3333333333333333,\"#9c179e\"],[0.4444444444444444,\"#bd3786\"],[0.5555555555555556,\"#d8576b\"],[0.6666666666666666,\"#ed7953\"],[0.7777777777777778,\"#fb9f3a\"],[0.8888888888888888,\"#fdca26\"],[1.0,\"#f0f921\"]]}],\"contourcarpet\":[{\"type\":\"contourcarpet\",\"colorbar\":{\"outlinewidth\":0,\"ticks\":\"\"}}],\"contour\":[{\"type\":\"contour\",\"colorbar\":{\"outlinewidth\":0,\"ticks\":\"\"},\"colorscale\":[[0.0,\"#0d0887\"],[0.1111111111111111,\"#46039f\"],[0.2222222222222222,\"#7201a8\"],[0.3333333333333333,\"#9c179e\"],[0.4444444444444444,\"#bd3786\"],[0.5555555555555556,\"#d8576b\"],[0.6666666666666666,\"#ed7953\"],[0.7777777777777778,\"#fb9f3a\"],[0.8888888888888888,\"#fdca26\"],[1.0,\"#f0f921\"]]}],\"surface\":[{\"type\":\"surface\",\"colorbar\":{\"outlinewidth\":0,\"ticks\":\"\"},\"colorscale\":[[0.0,\"#0d0887\"],[0.1111111111111111,\"#46039f\"],[0.2222222222222222,\"#7201a8\"],[0.3333333333333333,\"#9c179e\"],[0.4444444444444444,\"#bd3786\"],[0.5555555555555556,\"#d8576b\"],[0.6666666666666666,\"#ed7953\"],[0.7777777777777778,\"#fb9f3a\"],[0.8888888888888888,\"#fdca26\"],[1.0,\"#f0f921\"]]}],\"mesh3d\":[{\"type\":\"mesh3d\",\"colorbar\":{\"outlinewidth\":0,\"ticks\":\"\"}}],\"scatter\":[{\"fillpattern\":{\"fillmode\":\"overlay\",\"size\":10,\"solidity\":0.2},\"type\":\"scatter\"}],\"parcoords\":[{\"type\":\"parcoords\",\"line\":{\"colorbar\":{\"outlinewidth\":0,\"ticks\":\"\"}}}],\"scatterpolargl\":[{\"type\":\"scatterpolargl\",\"marker\":{\"colorbar\":{\"outlinewidth\":0,\"ticks\":\"\"}}}],\"bar\":[{\"error_x\":{\"color\":\"#2a3f5f\"},\"error_y\":{\"color\":\"#2a3f5f\"},\"marker\":{\"line\":{\"color\":\"#E5ECF6\",\"width\":0.5},\"pattern\":{\"fillmode\":\"overlay\",\"size\":10,\"solidity\":0.2}},\"type\":\"bar\"}],\"scattergeo\":[{\"type\":\"scattergeo\",\"marker\":{\"colorbar\":{\"outlinewidth\":0,\"ticks\":\"\"}}}],\"scatterpolar\":[{\"type\":\"scatterpolar\",\"marker\":{\"colorbar\":{\"outlinewidth\":0,\"ticks\":\"\"}}}],\"histogram\":[{\"marker\":{\"pattern\":{\"fillmode\":\"overlay\",\"size\":10,\"solidity\":0.2}},\"type\":\"histogram\"}],\"scattergl\":[{\"type\":\"scattergl\",\"marker\":{\"colorbar\":{\"outlinewidth\":0,\"ticks\":\"\"}}}],\"scatter3d\":[{\"type\":\"scatter3d\",\"line\":{\"colorbar\":{\"outlinewidth\":0,\"ticks\":\"\"}},\"marker\":{\"colorbar\":{\"outlinewidth\":0,\"ticks\":\"\"}}}],\"scattermapbox\":[{\"type\":\"scattermapbox\",\"marker\":{\"colorbar\":{\"outlinewidth\":0,\"ticks\":\"\"}}}],\"scatterternary\":[{\"type\":\"scatterternary\",\"marker\":{\"colorbar\":{\"outlinewidth\":0,\"ticks\":\"\"}}}],\"scattercarpet\":[{\"type\":\"scattercarpet\",\"marker\":{\"colorbar\":{\"outlinewidth\":0,\"ticks\":\"\"}}}],\"carpet\":[{\"aaxis\":{\"endlinecolor\":\"#2a3f5f\",\"gridcolor\":\"white\",\"linecolor\":\"white\",\"minorgridcolor\":\"white\",\"startlinecolor\":\"#2a3f5f\"},\"baxis\":{\"endlinecolor\":\"#2a3f5f\",\"gridcolor\":\"white\",\"linecolor\":\"white\",\"minorgridcolor\":\"white\",\"startlinecolor\":\"#2a3f5f\"},\"type\":\"carpet\"}],\"table\":[{\"cells\":{\"fill\":{\"color\":\"#EBF0F8\"},\"line\":{\"color\":\"white\"}},\"header\":{\"fill\":{\"color\":\"#C8D4E3\"},\"line\":{\"color\":\"white\"}},\"type\":\"table\"}],\"barpolar\":[{\"marker\":{\"line\":{\"color\":\"#E5ECF6\",\"width\":0.5},\"pattern\":{\"fillmode\":\"overlay\",\"size\":10,\"solidity\":0.2}},\"type\":\"barpolar\"}],\"pie\":[{\"automargin\":true,\"type\":\"pie\"}]},\"layout\":{\"autotypenumbers\":\"strict\",\"colorway\":[\"#636efa\",\"#EF553B\",\"#00cc96\",\"#ab63fa\",\"#FFA15A\",\"#19d3f3\",\"#FF6692\",\"#B6E880\",\"#FF97FF\",\"#FECB52\"],\"font\":{\"color\":\"#2a3f5f\"},\"hovermode\":\"closest\",\"hoverlabel\":{\"align\":\"left\"},\"paper_bgcolor\":\"white\",\"plot_bgcolor\":\"#E5ECF6\",\"polar\":{\"bgcolor\":\"#E5ECF6\",\"angularaxis\":{\"gridcolor\":\"white\",\"linecolor\":\"white\",\"ticks\":\"\"},\"radialaxis\":{\"gridcolor\":\"white\",\"linecolor\":\"white\",\"ticks\":\"\"}},\"ternary\":{\"bgcolor\":\"#E5ECF6\",\"aaxis\":{\"gridcolor\":\"white\",\"linecolor\":\"white\",\"ticks\":\"\"},\"baxis\":{\"gridcolor\":\"white\",\"linecolor\":\"white\",\"ticks\":\"\"},\"caxis\":{\"gridcolor\":\"white\",\"linecolor\":\"white\",\"ticks\":\"\"}},\"coloraxis\":{\"colorbar\":{\"outlinewidth\":0,\"ticks\":\"\"}},\"colorscale\":{\"sequential\":[[0.0,\"#0d0887\"],[0.1111111111111111,\"#46039f\"],[0.2222222222222222,\"#7201a8\"],[0.3333333333333333,\"#9c179e\"],[0.4444444444444444,\"#bd3786\"],[0.5555555555555556,\"#d8576b\"],[0.6666666666666666,\"#ed7953\"],[0.7777777777777778,\"#fb9f3a\"],[0.8888888888888888,\"#fdca26\"],[1.0,\"#f0f921\"]],\"sequentialminus\":[[0.0,\"#0d0887\"],[0.1111111111111111,\"#46039f\"],[0.2222222222222222,\"#7201a8\"],[0.3333333333333333,\"#9c179e\"],[0.4444444444444444,\"#bd3786\"],[0.5555555555555556,\"#d8576b\"],[0.6666666666666666,\"#ed7953\"],[0.7777777777777778,\"#fb9f3a\"],[0.8888888888888888,\"#fdca26\"],[1.0,\"#f0f921\"]],\"diverging\":[[0,\"#8e0152\"],[0.1,\"#c51b7d\"],[0.2,\"#de77ae\"],[0.3,\"#f1b6da\"],[0.4,\"#fde0ef\"],[0.5,\"#f7f7f7\"],[0.6,\"#e6f5d0\"],[0.7,\"#b8e186\"],[0.8,\"#7fbc41\"],[0.9,\"#4d9221\"],[1,\"#276419\"]]},\"xaxis\":{\"gridcolor\":\"white\",\"linecolor\":\"white\",\"ticks\":\"\",\"title\":{\"standoff\":15},\"zerolinecolor\":\"white\",\"automargin\":true,\"zerolinewidth\":2},\"yaxis\":{\"gridcolor\":\"white\",\"linecolor\":\"white\",\"ticks\":\"\",\"title\":{\"standoff\":15},\"zerolinecolor\":\"white\",\"automargin\":true,\"zerolinewidth\":2},\"scene\":{\"xaxis\":{\"backgroundcolor\":\"#E5ECF6\",\"gridcolor\":\"white\",\"linecolor\":\"white\",\"showbackground\":true,\"ticks\":\"\",\"zerolinecolor\":\"white\",\"gridwidth\":2},\"yaxis\":{\"backgroundcolor\":\"#E5ECF6\",\"gridcolor\":\"white\",\"linecolor\":\"white\",\"showbackground\":true,\"ticks\":\"\",\"zerolinecolor\":\"white\",\"gridwidth\":2},\"zaxis\":{\"backgroundcolor\":\"#E5ECF6\",\"gridcolor\":\"white\",\"linecolor\":\"white\",\"showbackground\":true,\"ticks\":\"\",\"zerolinecolor\":\"white\",\"gridwidth\":2}},\"shapedefaults\":{\"line\":{\"color\":\"#2a3f5f\"}},\"annotationdefaults\":{\"arrowcolor\":\"#2a3f5f\",\"arrowhead\":0,\"arrowwidth\":1},\"geo\":{\"bgcolor\":\"white\",\"landcolor\":\"#E5ECF6\",\"subunitcolor\":\"white\",\"showland\":true,\"showlakes\":true,\"lakecolor\":\"white\"},\"title\":{\"x\":0.05},\"mapbox\":{\"style\":\"light\"}}},\"xaxis\":{\"title\":{\"text\":\"date\"}},\"yaxis\":{\"title\":{\"text\":\"Passengers\"}}},                        {\"responsive\": true}                    ).then(function(){\n",
       "                            \n",
       "var gd = document.getElementById('a760a450-330f-4a06-9469-ab1e1a8db5c9');\n",
       "var x = new MutationObserver(function (mutations, observer) {{\n",
       "        var display = window.getComputedStyle(gd).display;\n",
       "        if (!display || display === 'none') {{\n",
       "            console.log([gd, 'removed!']);\n",
       "            Plotly.purge(gd);\n",
       "            observer.disconnect();\n",
       "        }}\n",
       "}});\n",
       "\n",
       "// Listen for the removal of the full notebook cells\n",
       "var notebookContainer = gd.closest('#notebook-container');\n",
       "if (notebookContainer) {{\n",
       "    x.observe(notebookContainer, {childList: true});\n",
       "}}\n",
       "\n",
       "// Listen for the clearing of the current output cell\n",
       "var outputEl = gd.closest('.output');\n",
       "if (outputEl) {{\n",
       "    x.observe(outputEl, {childList: true});\n",
       "}}\n",
       "\n",
       "                        })                };                });            </script>        </div>"
      ]
     },
     "metadata": {},
     "output_type": "display_data"
    }
   ],
   "source": [
    "fig=go.Figure()\n",
    "fig.add_trace(go.Scatter(x=train_xaxis,y=y_train,mode='lines',name='Train'))\n",
    "fig.add_trace(go.Scatter(x=test_xaxis,y=y_test,mode='lines',name='Test'))\n",
    "fig.add_trace(go.Scatter(x=test_xaxis,y=preds,mode='lines',name='Pred'))\n",
    "fig.update_xaxes(title='date')\n",
    "fig.update_yaxes(title='Passengers')\n",
    "fig.show()"
   ]
  },
  {
   "cell_type": "code",
   "execution_count": 812,
   "id": "99156d28",
   "metadata": {},
   "outputs": [
    {
     "data": {
      "text/plain": [
       "91.43421855242369"
      ]
     },
     "execution_count": 812,
     "metadata": {},
     "output_type": "execute_result"
    }
   ],
   "source": [
    "np.sqrt(mean_squared_error(y_test.values, preds))"
   ]
  },
  {
   "cell_type": "code",
   "execution_count": 881,
   "id": "1923041d",
   "metadata": {},
   "outputs": [],
   "source": [
    "def objective(trial):\n",
    "    params = {\n",
    "        \"objective\": \"reg:squarederror\",\n",
    "        \"n_estimators\": trial.suggest_int(\"n_estimators\", 10, 1000),\n",
    "        \"verbosity\": 0,\n",
    "        \"learning_rate\": trial.suggest_float(\"learning_rate\", 1e-4, 0.1, log=True),\n",
    "        \"max_depth\": trial.suggest_int(\"max_depth\", 1, 10),\n",
    "        \"subsample\": trial.suggest_float(\"subsample\", 0.05, 1.0),\n",
    "        \"colsample_bytree\": trial.suggest_float(\"colsample_bytree\", 0.05, 1.0),\n",
    "        \"min_child_weight\": trial.suggest_int(\"min_child_weight\", 1, 20),\n",
    "    }\n",
    "\n",
    "    model = XGBRegressor(**params)\n",
    "    model.fit(X_train, y_train.values, verbose=False)\n",
    "    predictions = model.predict(X_test)\n",
    "    rmse =np.sqrt( mean_squared_error(y_test.values, predictions))\n",
    "    return rmse"
   ]
  },
  {
   "cell_type": "code",
   "execution_count": 882,
   "id": "050007bb",
   "metadata": {},
   "outputs": [
    {
     "name": "stderr",
     "output_type": "stream",
     "text": [
      "[I 2024-08-02 20:17:16,447] A new study created in memory with name: no-name-d658fc16-709d-4b96-9336-ad869eec707d\n",
      "[I 2024-08-02 20:17:16,580] Trial 0 finished with value: 68.28605691264924 and parameters: {'n_estimators': 146, 'learning_rate': 0.0015213388597225459, 'max_depth': 5, 'subsample': 0.8125076924968035, 'colsample_bytree': 0.2869422699643352, 'min_child_weight': 9}. Best is trial 0 with value: 68.28605691264924.\n",
      "[I 2024-08-02 20:17:16,672] Trial 1 finished with value: 57.941698834684715 and parameters: {'n_estimators': 269, 'learning_rate': 0.004731438436933944, 'max_depth': 7, 'subsample': 0.8402732765040626, 'colsample_bytree': 0.5280103744829445, 'min_child_weight': 20}. Best is trial 1 with value: 57.941698834684715.\n",
      "[I 2024-08-02 20:17:16,745] Trial 2 finished with value: 53.61723806972625 and parameters: {'n_estimators': 253, 'learning_rate': 0.02035017225233822, 'max_depth': 9, 'subsample': 0.29486676133063877, 'colsample_bytree': 0.10746892518552788, 'min_child_weight': 9}. Best is trial 2 with value: 53.61723806972625.\n",
      "[I 2024-08-02 20:17:16,922] Trial 3 finished with value: 71.14000428979392 and parameters: {'n_estimators': 993, 'learning_rate': 0.00019003155343348728, 'max_depth': 1, 'subsample': 0.20385743843298132, 'colsample_bytree': 0.5688949748303899, 'min_child_weight': 14}. Best is trial 2 with value: 53.61723806972625.\n",
      "[I 2024-08-02 20:17:17,067] Trial 4 finished with value: 45.90770809388356 and parameters: {'n_estimators': 276, 'learning_rate': 0.02723895306148199, 'max_depth': 8, 'subsample': 0.23190852834893655, 'colsample_bytree': 0.21050205911950653, 'min_child_weight': 1}. Best is trial 4 with value: 45.90770809388356.\n",
      "[I 2024-08-02 20:17:17,132] Trial 5 finished with value: 49.35699942417195 and parameters: {'n_estimators': 225, 'learning_rate': 0.08693521279411363, 'max_depth': 6, 'subsample': 0.13756265287906527, 'colsample_bytree': 0.6312468799069643, 'min_child_weight': 6}. Best is trial 4 with value: 45.90770809388356.\n",
      "[I 2024-08-02 20:17:17,338] Trial 6 finished with value: 48.977022486263174 and parameters: {'n_estimators': 652, 'learning_rate': 0.0055512758402727755, 'max_depth': 4, 'subsample': 0.6829512585921577, 'colsample_bytree': 0.0957287122942975, 'min_child_weight': 2}. Best is trial 4 with value: 45.90770809388356.\n",
      "[I 2024-08-02 20:17:17,436] Trial 7 finished with value: 55.27693860156501 and parameters: {'n_estimators': 341, 'learning_rate': 0.09348726420490318, 'max_depth': 10, 'subsample': 0.3721900267379131, 'colsample_bytree': 0.48484389708008596, 'min_child_weight': 20}. Best is trial 4 with value: 45.90770809388356.\n",
      "[I 2024-08-02 20:17:17,864] Trial 8 finished with value: 47.30222174919212 and parameters: {'n_estimators': 949, 'learning_rate': 0.019163550567417777, 'max_depth': 9, 'subsample': 0.8864933580103632, 'colsample_bytree': 0.7965832698722562, 'min_child_weight': 16}. Best is trial 4 with value: 45.90770809388356.\n",
      "[I 2024-08-02 20:17:17,947] Trial 9 finished with value: 68.54127084541044 and parameters: {'n_estimators': 368, 'learning_rate': 0.005626030429532329, 'max_depth': 2, 'subsample': 0.11886055741526488, 'colsample_bytree': 0.15913629097121523, 'min_child_weight': 8}. Best is trial 4 with value: 45.90770809388356.\n",
      "[I 2024-08-02 20:17:18,254] Trial 10 finished with value: 67.85604857416742 and parameters: {'n_estimators': 583, 'learning_rate': 0.0005043239007616801, 'max_depth': 7, 'subsample': 0.46812587024947894, 'colsample_bytree': 0.29157509357501643, 'min_child_weight': 2}. Best is trial 4 with value: 45.90770809388356.\n",
      "[I 2024-08-02 20:17:18,512] Trial 11 finished with value: 49.3258715575324 and parameters: {'n_estimators': 934, 'learning_rate': 0.021015344069853902, 'max_depth': 8, 'subsample': 0.5299722578191635, 'colsample_bytree': 0.8665362502337907, 'min_child_weight': 16}. Best is trial 4 with value: 45.90770809388356.\n",
      "[I 2024-08-02 20:17:18,571] Trial 12 finished with value: 59.517937739448094 and parameters: {'n_estimators': 32, 'learning_rate': 0.02190511403695694, 'max_depth': 10, 'subsample': 0.9960191754508034, 'colsample_bytree': 0.9955615790754112, 'min_child_weight': 13}. Best is trial 4 with value: 45.90770809388356.\n",
      "[I 2024-08-02 20:17:19,024] Trial 13 finished with value: 42.675922301502375 and parameters: {'n_estimators': 775, 'learning_rate': 0.03332163467188631, 'max_depth': 8, 'subsample': 0.5702674196548051, 'colsample_bytree': 0.6931700234251171, 'min_child_weight': 5}. Best is trial 13 with value: 42.675922301502375.\n",
      "[I 2024-08-02 20:17:19,346] Trial 14 finished with value: 40.42537382953906 and parameters: {'n_estimators': 761, 'learning_rate': 0.050260460005578156, 'max_depth': 8, 'subsample': 0.6094746855185278, 'colsample_bytree': 0.430341072698752, 'min_child_weight': 5}. Best is trial 14 with value: 40.42537382953906.\n",
      "[I 2024-08-02 20:17:19,608] Trial 15 finished with value: 39.152335777623485 and parameters: {'n_estimators': 779, 'learning_rate': 0.05778320036494622, 'max_depth': 4, 'subsample': 0.6068881227628025, 'colsample_bytree': 0.40079411724818853, 'min_child_weight': 5}. Best is trial 15 with value: 39.152335777623485.\n",
      "[I 2024-08-02 20:17:19,826] Trial 16 finished with value: 37.9918360830297 and parameters: {'n_estimators': 779, 'learning_rate': 0.05453647330596054, 'max_depth': 3, 'subsample': 0.653573878850633, 'colsample_bytree': 0.4304038438830128, 'min_child_weight': 5}. Best is trial 16 with value: 37.9918360830297.\n",
      "[I 2024-08-02 20:17:20,087] Trial 17 finished with value: 39.8324049936786 and parameters: {'n_estimators': 825, 'learning_rate': 0.011903429981920495, 'max_depth': 3, 'subsample': 0.6911312063973395, 'colsample_bytree': 0.39278667515135, 'min_child_weight': 4}. Best is trial 16 with value: 37.9918360830297.\n",
      "[I 2024-08-02 20:17:20,426] Trial 18 finished with value: 42.77871241489863 and parameters: {'n_estimators': 478, 'learning_rate': 0.04465212053797468, 'max_depth': 4, 'subsample': 0.44681989240485237, 'colsample_bytree': 0.36705296173055674, 'min_child_weight': 7}. Best is trial 16 with value: 37.9918360830297.\n",
      "[I 2024-08-02 20:17:20,620] Trial 19 finished with value: 47.82422082242095 and parameters: {'n_estimators': 659, 'learning_rate': 0.010398080869617075, 'max_depth': 3, 'subsample': 0.7259426967046971, 'colsample_bytree': 0.4671359707923332, 'min_child_weight': 12}. Best is trial 16 with value: 37.9918360830297.\n",
      "[I 2024-08-02 20:17:20,793] Trial 20 finished with value: 42.628598698766055 and parameters: {'n_estimators': 848, 'learning_rate': 0.09677188506383207, 'max_depth': 1, 'subsample': 0.6050953005093671, 'colsample_bytree': 0.32451512982717207, 'min_child_weight': 11}. Best is trial 16 with value: 37.9918360830297.\n",
      "[I 2024-08-02 20:17:21,033] Trial 21 finished with value: 40.09909903012485 and parameters: {'n_estimators': 828, 'learning_rate': 0.011341601496524497, 'max_depth': 3, 'subsample': 0.6908260979509423, 'colsample_bytree': 0.3978034188367965, 'min_child_weight': 4}. Best is trial 16 with value: 37.9918360830297.\n",
      "[I 2024-08-02 20:17:21,249] Trial 22 finished with value: 37.43016039023921 and parameters: {'n_estimators': 684, 'learning_rate': 0.055038020870004485, 'max_depth': 3, 'subsample': 0.7371558758790628, 'colsample_bytree': 0.4246122663713575, 'min_child_weight': 3}. Best is trial 22 with value: 37.43016039023921.\n",
      "[I 2024-08-02 20:17:21,651] Trial 23 finished with value: 43.69395681856752 and parameters: {'n_estimators': 679, 'learning_rate': 0.05455093208511017, 'max_depth': 5, 'subsample': 0.7656367922334024, 'colsample_bytree': 0.5539176869422806, 'min_child_weight': 3}. Best is trial 22 with value: 37.43016039023921.\n",
      "[I 2024-08-02 20:17:21,833] Trial 24 finished with value: 39.92467994284021 and parameters: {'n_estimators': 545, 'learning_rate': 0.0560665600002882, 'max_depth': 4, 'subsample': 0.6008861059823963, 'colsample_bytree': 0.23714868872282413, 'min_child_weight': 7}. Best is trial 22 with value: 37.43016039023921.\n",
      "[I 2024-08-02 20:17:21,971] Trial 25 finished with value: 37.52024432931531 and parameters: {'n_estimators': 457, 'learning_rate': 0.04408060788314582, 'max_depth': 2, 'subsample': 0.5199190871797285, 'colsample_bytree': 0.4585719688443475, 'min_child_weight': 1}. Best is trial 22 with value: 37.43016039023921.\n"
     ]
    },
    {
     "name": "stderr",
     "output_type": "stream",
     "text": [
      "[I 2024-08-02 20:17:22,112] Trial 26 finished with value: 36.86766952225442 and parameters: {'n_estimators': 487, 'learning_rate': 0.03547586437119162, 'max_depth': 2, 'subsample': 0.45553100289305726, 'colsample_bytree': 0.5000646307047825, 'min_child_weight': 1}. Best is trial 26 with value: 36.86766952225442.\n",
      "[I 2024-08-02 20:17:22,245] Trial 27 finished with value: 38.966744481632524 and parameters: {'n_estimators': 436, 'learning_rate': 0.030525441907376827, 'max_depth': 2, 'subsample': 0.4771882392064973, 'colsample_bytree': 0.48483115471379806, 'min_child_weight': 1}. Best is trial 26 with value: 36.86766952225442.\n",
      "[I 2024-08-02 20:17:22,378] Trial 28 finished with value: 35.52194059230062 and parameters: {'n_estimators': 471, 'learning_rate': 0.034442022196633, 'max_depth': 2, 'subsample': 0.3900921443939027, 'colsample_bytree': 0.6101856018557161, 'min_child_weight': 1}. Best is trial 28 with value: 35.52194059230062.\n",
      "[I 2024-08-02 20:17:22,514] Trial 29 finished with value: 62.75802255972099 and parameters: {'n_estimators': 584, 'learning_rate': 0.001557115131009034, 'max_depth': 1, 'subsample': 0.37505775434958905, 'colsample_bytree': 0.595104645040673, 'min_child_weight': 3}. Best is trial 28 with value: 35.52194059230062.\n",
      "[I 2024-08-02 20:17:22,641] Trial 30 finished with value: 58.659660663814435 and parameters: {'n_estimators': 385, 'learning_rate': 0.002322886173532892, 'max_depth': 2, 'subsample': 0.4043342098845575, 'colsample_bytree': 0.6762552390069813, 'min_child_weight': 3}. Best is trial 28 with value: 35.52194059230062.\n",
      "[I 2024-08-02 20:17:22,777] Trial 31 finished with value: 37.31389646660469 and parameters: {'n_estimators': 481, 'learning_rate': 0.033408586214863804, 'max_depth': 2, 'subsample': 0.5260703354879752, 'colsample_bytree': 0.5041666411711037, 'min_child_weight': 1}. Best is trial 28 with value: 35.52194059230062.\n",
      "[I 2024-08-02 20:17:22,925] Trial 32 finished with value: 37.030766539908484 and parameters: {'n_estimators': 509, 'learning_rate': 0.03448237697221832, 'max_depth': 2, 'subsample': 0.30053020659423424, 'colsample_bytree': 0.5210296423129908, 'min_child_weight': 1}. Best is trial 28 with value: 35.52194059230062.\n",
      "[I 2024-08-02 20:17:23,056] Trial 33 finished with value: 39.31274382144474 and parameters: {'n_estimators': 529, 'learning_rate': 0.015059403450742607, 'max_depth': 1, 'subsample': 0.314801524611969, 'colsample_bytree': 0.5200686805925829, 'min_child_weight': 1}. Best is trial 28 with value: 35.52194059230062.\n",
      "[I 2024-08-02 20:17:23,180] Trial 34 finished with value: 37.56026998360138 and parameters: {'n_estimators': 431, 'learning_rate': 0.030616584125717914, 'max_depth': 2, 'subsample': 0.2923619053199542, 'colsample_bytree': 0.592805271665867, 'min_child_weight': 2}. Best is trial 28 with value: 35.52194059230062.\n",
      "[I 2024-08-02 20:17:23,366] Trial 35 finished with value: 51.821206233228736 and parameters: {'n_estimators': 303, 'learning_rate': 0.008803725876411834, 'max_depth': 5, 'subsample': 0.4143142876665523, 'colsample_bytree': 0.5174771642098016, 'min_child_weight': 9}. Best is trial 28 with value: 35.52194059230062.\n",
      "[I 2024-08-02 20:17:23,509] Trial 36 finished with value: 37.114869487459764 and parameters: {'n_estimators': 592, 'learning_rate': 0.01896693833462748, 'max_depth': 1, 'subsample': 0.34825805213344707, 'colsample_bytree': 0.5390362392259387, 'min_child_weight': 2}. Best is trial 28 with value: 35.52194059230062.\n",
      "[I 2024-08-02 20:17:23,663] Trial 37 finished with value: 38.04603825570513 and parameters: {'n_estimators': 610, 'learning_rate': 0.023789910445577826, 'max_depth': 1, 'subsample': 0.22086020250519928, 'colsample_bytree': 0.6384193517751724, 'min_child_weight': 2}. Best is trial 28 with value: 35.52194059230062.\n",
      "[I 2024-08-02 20:17:23,789] Trial 38 finished with value: 41.91598095841306 and parameters: {'n_estimators': 534, 'learning_rate': 0.013864360100951866, 'max_depth': 1, 'subsample': 0.3252710747991604, 'colsample_bytree': 0.5494094391049273, 'min_child_weight': 4}. Best is trial 28 with value: 35.52194059230062.\n",
      "[I 2024-08-02 20:17:24,060] Trial 39 finished with value: 55.53337998694084 and parameters: {'n_estimators': 227, 'learning_rate': 0.008026349667255512, 'max_depth': 6, 'subsample': 0.2570284661562501, 'colsample_bytree': 0.5926395595856019, 'min_child_weight': 6}. Best is trial 28 with value: 35.52194059230062.\n",
      "[I 2024-08-02 20:17:24,180] Trial 40 finished with value: 43.05575614036038 and parameters: {'n_estimators': 399, 'learning_rate': 0.016168373524963503, 'max_depth': 2, 'subsample': 0.15854504338842407, 'colsample_bytree': 0.5569147877352456, 'min_child_weight': 2}. Best is trial 28 with value: 35.52194059230062.\n",
      "[I 2024-08-02 20:17:24,323] Trial 41 finished with value: 36.050291022705615 and parameters: {'n_estimators': 494, 'learning_rate': 0.03668329123497656, 'max_depth': 2, 'subsample': 0.35128521116971406, 'colsample_bytree': 0.5178542085941179, 'min_child_weight': 1}. Best is trial 28 with value: 35.52194059230062.\n",
      "[I 2024-08-02 20:17:24,437] Trial 42 finished with value: 36.15168398756728 and parameters: {'n_estimators': 326, 'learning_rate': 0.07261227749034997, 'max_depth': 1, 'subsample': 0.3507754241876042, 'colsample_bytree': 0.5171394464918289, 'min_child_weight': 1}. Best is trial 28 with value: 35.52194059230062.\n",
      "[I 2024-08-02 20:17:24,525] Trial 43 finished with value: 38.49580878136113 and parameters: {'n_estimators': 171, 'learning_rate': 0.07690122024660109, 'max_depth': 2, 'subsample': 0.2727367146440074, 'colsample_bytree': 0.48107491563797933, 'min_child_weight': 1}. Best is trial 28 with value: 35.52194059230062.\n",
      "[I 2024-08-02 20:17:24,668] Trial 44 finished with value: 37.988325177831705 and parameters: {'n_estimators': 329, 'learning_rate': 0.08109898260875772, 'max_depth': 3, 'subsample': 0.34329604856794793, 'colsample_bytree': 0.64175208902427, 'min_child_weight': 3}. Best is trial 28 with value: 35.52194059230062.\n",
      "[I 2024-08-02 20:17:24,793] Trial 45 finished with value: 36.73136700592726 and parameters: {'n_estimators': 402, 'learning_rate': 0.03759011272852127, 'max_depth': 1, 'subsample': 0.3970513904380927, 'colsample_bytree': 0.35151784033008726, 'min_child_weight': 1}. Best is trial 28 with value: 35.52194059230062.\n",
      "[I 2024-08-02 20:17:24,893] Trial 46 finished with value: 55.84590277119993 and parameters: {'n_estimators': 294, 'learning_rate': 0.024379908498701645, 'max_depth': 1, 'subsample': 0.39263919908917766, 'colsample_bytree': 0.34024992944758464, 'min_child_weight': 18}. Best is trial 28 with value: 35.52194059230062.\n",
      "[I 2024-08-02 20:17:25,001] Trial 47 finished with value: 36.15147618727128 and parameters: {'n_estimators': 360, 'learning_rate': 0.07395157905887803, 'max_depth': 1, 'subsample': 0.4399053293208709, 'colsample_bytree': 0.3110429886169203, 'min_child_weight': 4}. Best is trial 28 with value: 35.52194059230062.\n",
      "[I 2024-08-02 20:17:25,256] Trial 48 finished with value: 36.95755694271489 and parameters: {'n_estimators': 366, 'learning_rate': 0.08087195512068605, 'max_depth': 1, 'subsample': 0.36539340290711936, 'colsample_bytree': 0.26542018950409463, 'min_child_weight': 4}. Best is trial 28 with value: 35.52194059230062.\n",
      "[I 2024-08-02 20:17:25,353] Trial 49 finished with value: 44.319992778524316 and parameters: {'n_estimators': 109, 'learning_rate': 0.06868995139727913, 'max_depth': 1, 'subsample': 0.4273454165841988, 'colsample_bytree': 0.17616042250995154, 'min_child_weight': 6}. Best is trial 28 with value: 35.52194059230062.\n",
      "[I 2024-08-02 20:17:25,450] Trial 50 finished with value: 37.930674810310684 and parameters: {'n_estimators': 182, 'learning_rate': 0.09472851248080558, 'max_depth': 1, 'subsample': 0.2501977124221645, 'colsample_bytree': 0.2998054197468723, 'min_child_weight': 2}. Best is trial 28 with value: 35.52194059230062.\n",
      "[I 2024-08-02 20:17:25,586] Trial 51 finished with value: 38.03303828529087 and parameters: {'n_estimators': 432, 'learning_rate': 0.038612115637044225, 'max_depth': 2, 'subsample': 0.4544554685911135, 'colsample_bytree': 0.3493214080162878, 'min_child_weight': 2}. Best is trial 28 with value: 35.52194059230062.\n",
      "[I 2024-08-02 20:17:25,729] Trial 52 finished with value: 39.00731875464121 and parameters: {'n_estimators': 404, 'learning_rate': 0.038208274326895775, 'max_depth': 3, 'subsample': 0.492033161120146, 'colsample_bytree': 0.4418800422976751, 'min_child_weight': 1}. Best is trial 28 with value: 35.52194059230062.\n"
     ]
    },
    {
     "name": "stderr",
     "output_type": "stream",
     "text": [
      "[I 2024-08-02 20:17:25,843] Trial 53 finished with value: 38.18255708881059 and parameters: {'n_estimators': 261, 'learning_rate': 0.06664426249361032, 'max_depth': 2, 'subsample': 0.42702914889522897, 'colsample_bytree': 0.3728445975091924, 'min_child_weight': 3}. Best is trial 28 with value: 35.52194059230062.\n",
      "[I 2024-08-02 20:17:26,008] Trial 54 finished with value: 41.259614197420795 and parameters: {'n_estimators': 346, 'learning_rate': 0.028584294036851594, 'max_depth': 4, 'subsample': 0.3859073103325707, 'colsample_bytree': 0.31583573452608954, 'min_child_weight': 4}. Best is trial 28 with value: 35.52194059230062.\n",
      "[I 2024-08-02 20:17:26,153] Trial 55 finished with value: 36.62311001473269 and parameters: {'n_estimators': 484, 'learning_rate': 0.04280956403959693, 'max_depth': 1, 'subsample': 0.33883529821531044, 'colsample_bytree': 0.06467145614078523, 'min_child_weight': 1}. Best is trial 28 with value: 35.52194059230062.\n",
      "[I 2024-08-02 20:17:26,258] Trial 56 finished with value: 38.56888149411738 and parameters: {'n_estimators': 321, 'learning_rate': 0.04550443011664348, 'max_depth': 1, 'subsample': 0.34376056527465093, 'colsample_bytree': 0.12179157038877336, 'min_child_weight': 2}. Best is trial 28 with value: 35.52194059230062.\n",
      "[I 2024-08-02 20:17:26,567] Trial 57 finished with value: 48.800708839190996 and parameters: {'n_estimators': 560, 'learning_rate': 0.06158244527930029, 'max_depth': 7, 'subsample': 0.2939474556358218, 'colsample_bytree': 0.26430818113657256, 'min_child_weight': 9}. Best is trial 28 with value: 35.52194059230062.\n",
      "[I 2024-08-02 20:17:26,728] Trial 58 finished with value: 40.961373796362466 and parameters: {'n_estimators': 631, 'learning_rate': 0.024888295052916908, 'max_depth': 1, 'subsample': 0.20040520687070884, 'colsample_bytree': 0.05109494569798324, 'min_child_weight': 3}. Best is trial 28 with value: 35.52194059230062.\n",
      "[I 2024-08-02 20:17:26,849] Trial 59 finished with value: 37.399645191911304 and parameters: {'n_estimators': 363, 'learning_rate': 0.09840969995988007, 'max_depth': 1, 'subsample': 0.3717238190008818, 'colsample_bytree': 0.20890068521230043, 'min_child_weight': 5}. Best is trial 28 with value: 35.52194059230062.\n",
      "[I 2024-08-02 20:17:27,053] Trial 60 finished with value: 39.849154930705346 and parameters: {'n_estimators': 416, 'learning_rate': 0.05080106337788778, 'max_depth': 9, 'subsample': 0.4278340579532619, 'colsample_bytree': 0.3814751265915835, 'min_child_weight': 4}. Best is trial 28 with value: 35.52194059230062.\n",
      "[I 2024-08-02 20:17:27,190] Trial 61 finished with value: 37.38203621004153 and parameters: {'n_estimators': 463, 'learning_rate': 0.04197872614278948, 'max_depth': 2, 'subsample': 0.484013048894309, 'colsample_bytree': 0.4106733592606328, 'min_child_weight': 1}. Best is trial 28 with value: 35.52194059230062.\n",
      "[I 2024-08-02 20:17:27,379] Trial 62 finished with value: 36.57709107161307 and parameters: {'n_estimators': 502, 'learning_rate': 0.06850120187642252, 'max_depth': 3, 'subsample': 0.4563136328719767, 'colsample_bytree': 0.441302509823961, 'min_child_weight': 1}. Best is trial 28 with value: 35.52194059230062.\n",
      "[I 2024-08-02 20:17:27,572] Trial 63 finished with value: 37.197437533262864 and parameters: {'n_estimators': 505, 'learning_rate': 0.07363853460444232, 'max_depth': 3, 'subsample': 0.3911299738646773, 'colsample_bytree': 0.46280658476403963, 'min_child_weight': 2}. Best is trial 28 with value: 35.52194059230062.\n",
      "[I 2024-08-02 20:17:27,708] Trial 64 finished with value: 52.98822107092704 and parameters: {'n_estimators': 447, 'learning_rate': 0.06936943370223873, 'max_depth': 1, 'subsample': 0.3300668222748353, 'colsample_bytree': 0.4400483960741169, 'min_child_weight': 14}. Best is trial 28 with value: 35.52194059230062.\n",
      "[I 2024-08-02 20:17:27,924] Trial 65 finished with value: 37.361455407955745 and parameters: {'n_estimators': 562, 'learning_rate': 0.0464972163236757, 'max_depth': 3, 'subsample': 0.5032687809281372, 'colsample_bytree': 0.313401878213936, 'min_child_weight': 1}. Best is trial 28 with value: 35.52194059230062.\n",
      "[I 2024-08-02 20:17:28,077] Trial 66 finished with value: 36.75170627609956 and parameters: {'n_estimators': 512, 'learning_rate': 0.05803566566658845, 'max_depth': 2, 'subsample': 0.4457171093583937, 'colsample_bytree': 0.41744184275558366, 'min_child_weight': 3}. Best is trial 28 with value: 35.52194059230062.\n",
      "[I 2024-08-02 20:17:28,168] Trial 67 finished with value: 39.15384649076868 and parameters: {'n_estimators': 233, 'learning_rate': 0.04375607335775945, 'max_depth': 1, 'subsample': 0.40767520375014243, 'colsample_bytree': 0.3520348495409309, 'min_child_weight': 1}. Best is trial 28 with value: 35.52194059230062.\n",
      "[I 2024-08-02 20:17:28,288] Trial 68 finished with value: 40.54803212555716 and parameters: {'n_estimators': 374, 'learning_rate': 0.02153282395683409, 'max_depth': 2, 'subsample': 0.5453035999621593, 'colsample_bytree': 0.38952976983688126, 'min_child_weight': 2}. Best is trial 28 with value: 35.52194059230062.\n",
      "[I 2024-08-02 20:17:28,441] Trial 69 finished with value: 49.15766693969566 and parameters: {'n_estimators': 479, 'learning_rate': 0.027332011214584003, 'max_depth': 4, 'subsample': 0.3541698597515016, 'colsample_bytree': 0.27222001739956414, 'min_child_weight': 11}. Best is trial 28 with value: 35.52194059230062.\n",
      "[I 2024-08-02 20:17:28,566] Trial 70 finished with value: 37.80537227174667 and parameters: {'n_estimators': 278, 'learning_rate': 0.08264346345610166, 'max_depth': 3, 'subsample': 0.4678404144647416, 'colsample_bytree': 0.22710416440070746, 'min_child_weight': 2}. Best is trial 28 with value: 35.52194059230062.\n",
      "[I 2024-08-02 20:17:28,727] Trial 71 finished with value: 36.55274183248886 and parameters: {'n_estimators': 524, 'learning_rate': 0.059622292935789946, 'max_depth': 2, 'subsample': 0.4439611665174737, 'colsample_bytree': 0.4874971863654802, 'min_child_weight': 3}. Best is trial 28 with value: 35.52194059230062.\n",
      "[I 2024-08-02 20:17:28,917] Trial 72 finished with value: 36.23426728556641 and parameters: {'n_estimators': 717, 'learning_rate': 0.059653639812294, 'max_depth': 2, 'subsample': 0.36981197466287274, 'colsample_bytree': 0.4911071013857744, 'min_child_weight': 3}. Best is trial 28 with value: 35.52194059230062.\n",
      "[I 2024-08-02 20:17:29,099] Trial 73 finished with value: 36.812792881868916 and parameters: {'n_estimators': 670, 'learning_rate': 0.06689571804395016, 'max_depth': 2, 'subsample': 0.32132958326385347, 'colsample_bytree': 0.4835869981561879, 'min_child_weight': 3}. Best is trial 28 with value: 35.52194059230062.\n",
      "[I 2024-08-02 20:17:29,326] Trial 74 finished with value: 37.33698654322043 and parameters: {'n_estimators': 739, 'learning_rate': 0.05114830859590202, 'max_depth': 3, 'subsample': 0.3691001336106771, 'colsample_bytree': 0.5048709445524784, 'min_child_weight': 4}. Best is trial 28 with value: 35.52194059230062.\n",
      "[I 2024-08-02 20:17:29,562] Trial 75 finished with value: 37.509413471033184 and parameters: {'n_estimators': 712, 'learning_rate': 0.09556151652901614, 'max_depth': 2, 'subsample': 0.4418253615572178, 'colsample_bytree': 0.4549074910962082, 'min_child_weight': 5}. Best is trial 28 with value: 35.52194059230062.\n",
      "[I 2024-08-02 20:17:29,821] Trial 76 finished with value: 36.243866391395755 and parameters: {'n_estimators': 887, 'learning_rate': 0.0561955573030545, 'max_depth': 2, 'subsample': 0.469662364103067, 'colsample_bytree': 0.5698099374257058, 'min_child_weight': 3}. Best is trial 28 with value: 35.52194059230062.\n",
      "[I 2024-08-02 20:17:30,095] Trial 77 finished with value: 39.972645411019464 and parameters: {'n_estimators': 874, 'learning_rate': 0.058625501988343064, 'max_depth': 2, 'subsample': 0.509330186479091, 'colsample_bytree': 0.5557375438987177, 'min_child_weight': 7}. Best is trial 28 with value: 35.52194059230062.\n",
      "[I 2024-08-02 20:17:30,460] Trial 78 finished with value: 38.62489558367161 and parameters: {'n_estimators': 982, 'learning_rate': 0.032047507098391714, 'max_depth': 3, 'subsample': 0.4796872051947144, 'colsample_bytree': 0.5281113345915504, 'min_child_weight': 3}. Best is trial 28 with value: 35.52194059230062.\n",
      "[I 2024-08-02 20:17:30,811] Trial 79 finished with value: 38.507594712190375 and parameters: {'n_estimators': 911, 'learning_rate': 0.0833510690075655, 'max_depth': 2, 'subsample': 0.4647079047990471, 'colsample_bytree': 0.6010414787765317, 'min_child_weight': 5}. Best is trial 28 with value: 35.52194059230062.\n"
     ]
    },
    {
     "name": "stderr",
     "output_type": "stream",
     "text": [
      "[I 2024-08-02 20:17:31,126] Trial 80 finished with value: 39.049648064528604 and parameters: {'n_estimators': 625, 'learning_rate': 0.06241855109741182, 'max_depth': 6, 'subsample': 0.4095609153989469, 'colsample_bytree': 0.5800455536493776, 'min_child_weight': 4}. Best is trial 28 with value: 35.52194059230062.\n",
      "[I 2024-08-02 20:17:31,298] Trial 81 finished with value: 34.57619496799906 and parameters: {'n_estimators': 543, 'learning_rate': 0.05298245329017633, 'max_depth': 1, 'subsample': 0.3557370924839977, 'colsample_bytree': 0.5384095085909312, 'min_child_weight': 1}. Best is trial 81 with value: 34.57619496799906.\n",
      "[I 2024-08-02 20:17:31,673] Trial 82 finished with value: 36.918625979960716 and parameters: {'n_estimators': 548, 'learning_rate': 0.049975610749799865, 'max_depth': 2, 'subsample': 0.4316119699961935, 'colsample_bytree': 0.4981649546707929, 'min_child_weight': 2}. Best is trial 81 with value: 34.57619496799906.\n",
      "[I 2024-08-02 20:17:31,894] Trial 83 finished with value: 34.93619691029675 and parameters: {'n_estimators': 830, 'learning_rate': 0.03600593626049777, 'max_depth': 1, 'subsample': 0.3886149122099122, 'colsample_bytree': 0.5386892491376234, 'min_child_weight': 3}. Best is trial 81 with value: 34.57619496799906.\n",
      "[I 2024-08-02 20:17:32,124] Trial 84 finished with value: 35.205390481426846 and parameters: {'n_estimators': 893, 'learning_rate': 0.035021548364659864, 'max_depth': 1, 'subsample': 0.36552429756543214, 'colsample_bytree': 0.5686236512974795, 'min_child_weight': 3}. Best is trial 81 with value: 34.57619496799906.\n",
      "[I 2024-08-02 20:17:32,355] Trial 85 finished with value: 35.364939893480525 and parameters: {'n_estimators': 797, 'learning_rate': 0.03636474774979422, 'max_depth': 1, 'subsample': 0.3079481038861226, 'colsample_bytree': 0.5669900113969487, 'min_child_weight': 2}. Best is trial 81 with value: 34.57619496799906.\n",
      "[I 2024-08-02 20:17:32,551] Trial 86 finished with value: 46.96488195566208 and parameters: {'n_estimators': 830, 'learning_rate': 0.034061137404335584, 'max_depth': 1, 'subsample': 0.3110110066192586, 'colsample_bytree': 0.5423322330931664, 'min_child_weight': 10}. Best is trial 81 with value: 34.57619496799906.\n",
      "[I 2024-08-02 20:17:32,773] Trial 87 finished with value: 42.724185315423284 and parameters: {'n_estimators': 808, 'learning_rate': 0.019056161478246455, 'max_depth': 1, 'subsample': 0.28932659852589404, 'colsample_bytree': 0.5292284010893336, 'min_child_weight': 6}. Best is trial 81 with value: 34.57619496799906.\n",
      "[I 2024-08-02 20:17:33,108] Trial 88 finished with value: 35.69175929236738 and parameters: {'n_estimators': 739, 'learning_rate': 0.02887169959916934, 'max_depth': 1, 'subsample': 0.3624779311087133, 'colsample_bytree': 0.6061728454853555, 'min_child_weight': 2}. Best is trial 81 with value: 34.57619496799906.\n",
      "[I 2024-08-02 20:17:33,332] Trial 89 finished with value: 34.823583950332775 and parameters: {'n_estimators': 963, 'learning_rate': 0.03135773169340933, 'max_depth': 1, 'subsample': 0.353802089434218, 'colsample_bytree': 0.6287043733536131, 'min_child_weight': 2}. Best is trial 81 with value: 34.57619496799906.\n",
      "[I 2024-08-02 20:17:33,548] Trial 90 finished with value: 34.97885954115211 and parameters: {'n_estimators': 955, 'learning_rate': 0.026525578850068825, 'max_depth': 1, 'subsample': 0.32103623820081467, 'colsample_bytree': 0.6287824247733731, 'min_child_weight': 2}. Best is trial 81 with value: 34.57619496799906.\n",
      "[I 2024-08-02 20:17:33,763] Trial 91 finished with value: 34.78239778288739 and parameters: {'n_estimators': 951, 'learning_rate': 0.02886313272411925, 'max_depth': 1, 'subsample': 0.3151605314031396, 'colsample_bytree': 0.6158119051536893, 'min_child_weight': 2}. Best is trial 81 with value: 34.57619496799906.\n",
      "[I 2024-08-02 20:17:33,976] Trial 92 finished with value: 36.047440026795435 and parameters: {'n_estimators': 956, 'learning_rate': 0.02671287916574454, 'max_depth': 1, 'subsample': 0.2755276970992637, 'colsample_bytree': 0.6187901247427671, 'min_child_weight': 2}. Best is trial 81 with value: 34.57619496799906.\n",
      "[I 2024-08-02 20:17:34,183] Trial 93 finished with value: 35.606006140800126 and parameters: {'n_estimators': 949, 'learning_rate': 0.027683940004387383, 'max_depth': 1, 'subsample': 0.26959767821715985, 'colsample_bytree': 0.6176548562529733, 'min_child_weight': 2}. Best is trial 81 with value: 34.57619496799906.\n",
      "[I 2024-08-02 20:17:34,393] Trial 94 finished with value: 35.5065211882987 and parameters: {'n_estimators': 996, 'learning_rate': 0.021663455664235838, 'max_depth': 1, 'subsample': 0.310862458564584, 'colsample_bytree': 0.6812875326862106, 'min_child_weight': 2}. Best is trial 81 with value: 34.57619496799906.\n",
      "[I 2024-08-02 20:17:34,688] Trial 95 finished with value: 34.922533270916404 and parameters: {'n_estimators': 999, 'learning_rate': 0.021285756144893704, 'max_depth': 1, 'subsample': 0.31690097452013927, 'colsample_bytree': 0.666507284269273, 'min_child_weight': 2}. Best is trial 81 with value: 34.57619496799906.\n",
      "[I 2024-08-02 20:17:34,919] Trial 96 finished with value: 54.752595898813695 and parameters: {'n_estimators': 979, 'learning_rate': 0.015835121326804088, 'max_depth': 1, 'subsample': 0.29762118384773373, 'colsample_bytree': 0.6626153796742218, 'min_child_weight': 16}. Best is trial 81 with value: 34.57619496799906.\n",
      "[I 2024-08-02 20:17:35,150] Trial 97 finished with value: 36.6177206099217 and parameters: {'n_estimators': 929, 'learning_rate': 0.018230877135079183, 'max_depth': 1, 'subsample': 0.3235092135365019, 'colsample_bytree': 0.7200501605951743, 'min_child_weight': 3}. Best is trial 81 with value: 34.57619496799906.\n",
      "[I 2024-08-02 20:17:35,365] Trial 98 finished with value: 36.37600611484688 and parameters: {'n_estimators': 994, 'learning_rate': 0.022059000804237314, 'max_depth': 1, 'subsample': 0.24489897199631844, 'colsample_bytree': 0.6457903973437727, 'min_child_weight': 2}. Best is trial 81 with value: 34.57619496799906.\n",
      "[I 2024-08-02 20:17:35,565] Trial 99 finished with value: 34.056323448287095 and parameters: {'n_estimators': 903, 'learning_rate': 0.0321088752646328, 'max_depth': 1, 'subsample': 0.3135021440177204, 'colsample_bytree': 0.57785347372426, 'min_child_weight': 1}. Best is trial 99 with value: 34.056323448287095.\n",
      "[I 2024-08-02 20:17:35,791] Trial 100 finished with value: 35.45224164550135 and parameters: {'n_estimators': 894, 'learning_rate': 0.022336295578990275, 'max_depth': 1, 'subsample': 0.3092226762170193, 'colsample_bytree': 0.5813464117939238, 'min_child_weight': 2}. Best is trial 99 with value: 34.056323448287095.\n",
      "[I 2024-08-02 20:17:36,350] Trial 101 finished with value: 35.5173474136209 and parameters: {'n_estimators': 896, 'learning_rate': 0.02240206410387572, 'max_depth': 1, 'subsample': 0.3036636758771315, 'colsample_bytree': 0.5786239071803233, 'min_child_weight': 2}. Best is trial 99 with value: 34.056323448287095.\n",
      "[I 2024-08-02 20:17:36,620] Trial 102 finished with value: 34.122969418528825 and parameters: {'n_estimators': 966, 'learning_rate': 0.031379514946800344, 'max_depth': 1, 'subsample': 0.3311542783745294, 'colsample_bytree': 0.6261769965525203, 'min_child_weight': 1}. Best is trial 99 with value: 34.056323448287095.\n",
      "[I 2024-08-02 20:17:36,841] Trial 103 finished with value: 33.909045668383065 and parameters: {'n_estimators': 926, 'learning_rate': 0.03669041834429276, 'max_depth': 1, 'subsample': 0.3344309899335235, 'colsample_bytree': 0.6299574054908258, 'min_child_weight': 1}. Best is trial 103 with value: 33.909045668383065.\n",
      "[I 2024-08-02 20:17:37,064] Trial 104 finished with value: 34.089377832566065 and parameters: {'n_estimators': 863, 'learning_rate': 0.032112771479737685, 'max_depth': 1, 'subsample': 0.3393941822892832, 'colsample_bytree': 0.623324652402807, 'min_child_weight': 1}. Best is trial 103 with value: 33.909045668383065.\n",
      "[I 2024-08-02 20:17:37,303] Trial 105 finished with value: 34.020489809757464 and parameters: {'n_estimators': 923, 'learning_rate': 0.031010213001947506, 'max_depth': 1, 'subsample': 0.33470862035807863, 'colsample_bytree': 0.6158749063631834, 'min_child_weight': 1}. Best is trial 103 with value: 33.909045668383065.\n",
      "[I 2024-08-02 20:17:37,610] Trial 106 finished with value: 34.28506266316544 and parameters: {'n_estimators': 862, 'learning_rate': 0.03066953528371015, 'max_depth': 1, 'subsample': 0.3388854186152516, 'colsample_bytree': 0.6275050589152107, 'min_child_weight': 1}. Best is trial 103 with value: 33.909045668383065.\n"
     ]
    },
    {
     "name": "stderr",
     "output_type": "stream",
     "text": [
      "[I 2024-08-02 20:17:37,952] Trial 107 finished with value: 34.317726861774034 and parameters: {'n_estimators': 864, 'learning_rate': 0.031937404823304774, 'max_depth': 1, 'subsample': 0.33831870422704424, 'colsample_bytree': 0.6474524978153358, 'min_child_weight': 1}. Best is trial 103 with value: 33.909045668383065.\n",
      "[I 2024-08-02 20:17:38,706] Trial 108 finished with value: 34.30996479425016 and parameters: {'n_estimators': 860, 'learning_rate': 0.04071534491672725, 'max_depth': 1, 'subsample': 0.3335699197948138, 'colsample_bytree': 0.6592905037206657, 'min_child_weight': 1}. Best is trial 103 with value: 33.909045668383065.\n",
      "[I 2024-08-02 20:17:38,892] Trial 109 finished with value: 34.445949316891365 and parameters: {'n_estimators': 859, 'learning_rate': 0.03107058673303487, 'max_depth': 1, 'subsample': 0.3390861091269543, 'colsample_bytree': 0.6983893756616544, 'min_child_weight': 1}. Best is trial 103 with value: 33.909045668383065.\n",
      "[I 2024-08-02 20:17:39,093] Trial 110 finished with value: 34.48261511063456 and parameters: {'n_estimators': 852, 'learning_rate': 0.040976115216139405, 'max_depth': 1, 'subsample': 0.33510898935979855, 'colsample_bytree': 0.697334249438232, 'min_child_weight': 1}. Best is trial 103 with value: 33.909045668383065.\n",
      "[I 2024-08-02 20:17:39,390] Trial 111 finished with value: 34.138400673932296 and parameters: {'n_estimators': 863, 'learning_rate': 0.0393506183830251, 'max_depth': 1, 'subsample': 0.3353633972899514, 'colsample_bytree': 0.6938640359154578, 'min_child_weight': 1}. Best is trial 103 with value: 33.909045668383065.\n",
      "[I 2024-08-02 20:17:39,756] Trial 112 finished with value: 34.35634259091643 and parameters: {'n_estimators': 861, 'learning_rate': 0.040736339076946695, 'max_depth': 1, 'subsample': 0.34460186183004365, 'colsample_bytree': 0.7349328855882648, 'min_child_weight': 1}. Best is trial 103 with value: 33.909045668383065.\n",
      "[I 2024-08-02 20:17:40,292] Trial 113 finished with value: 35.54278557342161 and parameters: {'n_estimators': 874, 'learning_rate': 0.04095157873952339, 'max_depth': 1, 'subsample': 0.277968013728051, 'colsample_bytree': 0.7006338521493648, 'min_child_weight': 1}. Best is trial 103 with value: 33.909045668383065.\n",
      "[I 2024-08-02 20:17:40,698] Trial 114 finished with value: 34.22718860698434 and parameters: {'n_estimators': 861, 'learning_rate': 0.04073924416377723, 'max_depth': 1, 'subsample': 0.33369223318310376, 'colsample_bytree': 0.7300471216290544, 'min_child_weight': 1}. Best is trial 103 with value: 33.909045668383065.\n",
      "[I 2024-08-02 20:17:41,024] Trial 115 finished with value: 34.74984903475732 and parameters: {'n_estimators': 865, 'learning_rate': 0.04690912697823078, 'max_depth': 1, 'subsample': 0.33620206818690035, 'colsample_bytree': 0.7156084332031416, 'min_child_weight': 1}. Best is trial 103 with value: 33.909045668383065.\n",
      "[I 2024-08-02 20:17:41,320] Trial 116 finished with value: 33.475430349158145 and parameters: {'n_estimators': 923, 'learning_rate': 0.03142254191513031, 'max_depth': 1, 'subsample': 0.38149456743672855, 'colsample_bytree': 0.6555724825101497, 'min_child_weight': 1}. Best is trial 116 with value: 33.475430349158145.\n",
      "[I 2024-08-02 20:17:41,638] Trial 117 finished with value: 33.76777899584994 and parameters: {'n_estimators': 923, 'learning_rate': 0.025093835110732546, 'max_depth': 1, 'subsample': 0.383598868024805, 'colsample_bytree': 0.6574137372948019, 'min_child_weight': 1}. Best is trial 116 with value: 33.475430349158145.\n",
      "[I 2024-08-02 20:17:42,018] Trial 118 finished with value: 34.89658203767878 and parameters: {'n_estimators': 921, 'learning_rate': 0.0265522082769378, 'max_depth': 2, 'subsample': 0.3832384756795077, 'colsample_bytree': 0.655150035475349, 'min_child_weight': 1}. Best is trial 116 with value: 33.475430349158145.\n",
      "[I 2024-08-02 20:17:42,620] Trial 119 finished with value: 35.66003398168915 and parameters: {'n_estimators': 915, 'learning_rate': 0.01845548399126126, 'max_depth': 1, 'subsample': 0.28285789024831176, 'colsample_bytree': 0.6436435940251766, 'min_child_weight': 1}. Best is trial 116 with value: 33.475430349158145.\n",
      "[I 2024-08-02 20:17:43,374] Trial 120 finished with value: 40.12892442466477 and parameters: {'n_estimators': 933, 'learning_rate': 0.031287908561685576, 'max_depth': 10, 'subsample': 0.4049733496324041, 'colsample_bytree': 0.6538771428539447, 'min_child_weight': 1}. Best is trial 116 with value: 33.475430349158145.\n",
      "[I 2024-08-02 20:17:43,604] Trial 121 finished with value: 34.456129927073626 and parameters: {'n_estimators': 801, 'learning_rate': 0.0393592399827313, 'max_depth': 1, 'subsample': 0.37961798753971226, 'colsample_bytree': 0.6753501345052301, 'min_child_weight': 1}. Best is trial 116 with value: 33.475430349158145.\n",
      "[I 2024-08-02 20:17:43,963] Trial 122 finished with value: 34.31122857426687 and parameters: {'n_estimators': 905, 'learning_rate': 0.044412233487561265, 'max_depth': 1, 'subsample': 0.34131820052340023, 'colsample_bytree': 0.743808215028019, 'min_child_weight': 1}. Best is trial 116 with value: 33.475430349158145.\n",
      "[I 2024-08-02 20:17:44,186] Trial 123 finished with value: 35.68343525677404 and parameters: {'n_estimators': 916, 'learning_rate': 0.024302428682885933, 'max_depth': 1, 'subsample': 0.2569114047961643, 'colsample_bytree': 0.7506453323839433, 'min_child_weight': 1}. Best is trial 116 with value: 33.475430349158145.\n",
      "[I 2024-08-02 20:17:44,382] Trial 124 finished with value: 34.608524781384006 and parameters: {'n_estimators': 838, 'learning_rate': 0.03290665193796353, 'max_depth': 1, 'subsample': 0.2920761181031209, 'colsample_bytree': 0.6786279910790474, 'min_child_weight': 1}. Best is trial 116 with value: 33.475430349158145.\n",
      "[I 2024-08-02 20:17:44,585] Trial 125 finished with value: 34.788121707678215 and parameters: {'n_estimators': 903, 'learning_rate': 0.04823946846948573, 'max_depth': 1, 'subsample': 0.33361657892009033, 'colsample_bytree': 0.6390314706534788, 'min_child_weight': 1}. Best is trial 116 with value: 33.475430349158145.\n",
      "[I 2024-08-02 20:17:44,885] Trial 126 finished with value: 34.524036274570896 and parameters: {'n_estimators': 881, 'learning_rate': 0.04548351732945944, 'max_depth': 2, 'subsample': 0.3745042621517068, 'colsample_bytree': 0.5974863446871249, 'min_child_weight': 1}. Best is trial 116 with value: 33.475430349158145.\n",
      "[I 2024-08-02 20:17:45,093] Trial 127 finished with value: 34.38067778423947 and parameters: {'n_estimators': 779, 'learning_rate': 0.037701280860717966, 'max_depth': 1, 'subsample': 0.39732981630104874, 'colsample_bytree': 0.6598341898225797, 'min_child_weight': 1}. Best is trial 116 with value: 33.475430349158145.\n",
      "[I 2024-08-02 20:17:45,359] Trial 128 finished with value: 36.59306249616353 and parameters: {'n_estimators': 937, 'learning_rate': 0.013782072986893363, 'max_depth': 2, 'subsample': 0.3556209748673287, 'colsample_bytree': 0.6265212794208521, 'min_child_weight': 1}. Best is trial 116 with value: 33.475430349158145.\n",
      "[I 2024-08-02 20:17:45,542] Trial 129 finished with value: 34.56936887786558 and parameters: {'n_estimators': 814, 'learning_rate': 0.025218557463925637, 'max_depth': 1, 'subsample': 0.4200851591176907, 'colsample_bytree': 0.5967251298416498, 'min_child_weight': 2}. Best is trial 116 with value: 33.475430349158145.\n",
      "[I 2024-08-02 20:17:45,746] Trial 130 finished with value: 71.26516249372659 and parameters: {'n_estimators': 974, 'learning_rate': 0.03056181628270171, 'max_depth': 7, 'subsample': 0.22820740925998464, 'colsample_bytree': 0.683400732646233, 'min_child_weight': 20}. Best is trial 116 with value: 33.475430349158145.\n",
      "[I 2024-08-02 20:17:46,002] Trial 131 finished with value: 34.64578222580619 and parameters: {'n_estimators': 849, 'learning_rate': 0.04183981240893578, 'max_depth': 1, 'subsample': 0.34323748578958435, 'colsample_bytree': 0.7380118550809102, 'min_child_weight': 1}. Best is trial 116 with value: 33.475430349158145.\n",
      "[I 2024-08-02 20:17:46,293] Trial 132 finished with value: 34.884671797789125 and parameters: {'n_estimators': 863, 'learning_rate': 0.03710120705947348, 'max_depth': 1, 'subsample': 0.3300026418661234, 'colsample_bytree': 0.7574977231288006, 'min_child_weight': 1}. Best is trial 116 with value: 33.475430349158145.\n"
     ]
    },
    {
     "name": "stderr",
     "output_type": "stream",
     "text": [
      "[I 2024-08-02 20:17:46,514] Trial 133 finished with value: 34.211366952015666 and parameters: {'n_estimators': 936, 'learning_rate': 0.049293163783790866, 'max_depth': 1, 'subsample': 0.3530448366991825, 'colsample_bytree': 0.6670445671252726, 'min_child_weight': 1}. Best is trial 116 with value: 33.475430349158145.\n",
      "[I 2024-08-02 20:17:46,718] Trial 134 finished with value: 60.161400404014366 and parameters: {'n_estimators': 939, 'learning_rate': 0.04684308945964265, 'max_depth': 1, 'subsample': 0.26807198284812034, 'colsample_bytree': 0.6632984086136532, 'min_child_weight': 19}. Best is trial 116 with value: 33.475430349158145.\n",
      "[I 2024-08-02 20:17:46,949] Trial 135 finished with value: 34.67588635875412 and parameters: {'n_estimators': 913, 'learning_rate': 0.03359816582343233, 'max_depth': 1, 'subsample': 0.3704034528222835, 'colsample_bytree': 0.6263089234895176, 'min_child_weight': 2}. Best is trial 116 with value: 33.475430349158145.\n",
      "[I 2024-08-02 20:17:47,805] Trial 136 finished with value: 38.815982855228384 and parameters: {'n_estimators': 883, 'learning_rate': 0.024970661414503287, 'max_depth': 9, 'subsample': 0.29449382450112865, 'colsample_bytree': 0.6443092545594291, 'min_child_weight': 1}. Best is trial 116 with value: 33.475430349158145.\n",
      "[I 2024-08-02 20:17:48,232] Trial 137 finished with value: 34.37329578967044 and parameters: {'n_estimators': 972, 'learning_rate': 0.04965591618325653, 'max_depth': 1, 'subsample': 0.378636672926305, 'colsample_bytree': 0.6888450264440648, 'min_child_weight': 1}. Best is trial 116 with value: 33.475430349158145.\n",
      "[I 2024-08-02 20:17:48,545] Trial 138 finished with value: 35.5146520291069 and parameters: {'n_estimators': 897, 'learning_rate': 0.03015234593956351, 'max_depth': 2, 'subsample': 0.4078600602638601, 'colsample_bytree': 0.6083531492129486, 'min_child_weight': 2}. Best is trial 116 with value: 33.475430349158145.\n",
      "[I 2024-08-02 20:17:48,742] Trial 139 finished with value: 34.896044241604244 and parameters: {'n_estimators': 837, 'learning_rate': 0.05698185886258675, 'max_depth': 1, 'subsample': 0.35743993333639945, 'colsample_bytree': 0.7099564800139865, 'min_child_weight': 1}. Best is trial 116 with value: 33.475430349158145.\n",
      "[I 2024-08-02 20:17:49,098] Trial 140 finished with value: 35.149708589149206 and parameters: {'n_estimators': 927, 'learning_rate': 0.0356201157474742, 'max_depth': 1, 'subsample': 0.32470107475646104, 'colsample_bytree': 0.671819547980785, 'min_child_weight': 2}. Best is trial 116 with value: 33.475430349158145.\n",
      "[I 2024-08-02 20:17:49,466] Trial 141 finished with value: 34.86909352392605 and parameters: {'n_estimators': 871, 'learning_rate': 0.04359752068029495, 'max_depth': 1, 'subsample': 0.34639771203698544, 'colsample_bytree': 0.7296010707695614, 'min_child_weight': 1}. Best is trial 116 with value: 33.475430349158145.\n",
      "[I 2024-08-02 20:17:49,778] Trial 142 finished with value: 34.9951447320364 and parameters: {'n_estimators': 823, 'learning_rate': 0.0405602049594612, 'max_depth': 1, 'subsample': 0.38836141599231044, 'colsample_bytree': 0.7715076928626968, 'min_child_weight': 1}. Best is trial 116 with value: 33.475430349158145.\n",
      "[I 2024-08-02 20:17:50,177] Trial 143 finished with value: 52.099663529620514 and parameters: {'n_estimators': 855, 'learning_rate': 0.028088590328564235, 'max_depth': 8, 'subsample': 0.30233097130953723, 'colsample_bytree': 0.7191112944687587, 'min_child_weight': 13}. Best is trial 116 with value: 33.475430349158145.\n",
      "[I 2024-08-02 20:17:50,386] Trial 144 finished with value: 42.56532551555478 and parameters: {'n_estimators': 902, 'learning_rate': 0.05266887046850771, 'max_depth': 1, 'subsample': 0.34998000464849555, 'colsample_bytree': 0.6987267465254869, 'min_child_weight': 8}. Best is trial 116 with value: 33.475430349158145.\n",
      "[I 2024-08-02 20:17:50,592] Trial 145 finished with value: 34.51310957120905 and parameters: {'n_estimators': 945, 'learning_rate': 0.0388604831492933, 'max_depth': 1, 'subsample': 0.331171406024191, 'colsample_bytree': 0.655263671868187, 'min_child_weight': 2}. Best is trial 116 with value: 33.475430349158145.\n",
      "[I 2024-08-02 20:17:50,828] Trial 146 finished with value: 35.279411308949896 and parameters: {'n_estimators': 877, 'learning_rate': 0.03360443775992712, 'max_depth': 2, 'subsample': 0.2769936286030441, 'colsample_bytree': 0.7355103689011783, 'min_child_weight': 1}. Best is trial 116 with value: 33.475430349158145.\n",
      "[I 2024-08-02 20:17:51,147] Trial 147 finished with value: 39.49402455943015 and parameters: {'n_estimators': 762, 'learning_rate': 0.04500805165079561, 'max_depth': 5, 'subsample': 0.3138393414721662, 'colsample_bytree': 0.6376774826219268, 'min_child_weight': 2}. Best is trial 116 with value: 33.475430349158145.\n",
      "[I 2024-08-02 20:17:51,346] Trial 148 finished with value: 34.492944418237855 and parameters: {'n_estimators': 922, 'learning_rate': 0.01922720138019083, 'max_depth': 1, 'subsample': 0.3643287784496272, 'colsample_bytree': 0.7086933552382356, 'min_child_weight': 1}. Best is trial 116 with value: 33.475430349158145.\n",
      "[I 2024-08-02 20:17:51,569] Trial 149 finished with value: 36.461656599051025 and parameters: {'n_estimators': 963, 'learning_rate': 0.0274936753195502, 'max_depth': 1, 'subsample': 0.2468363107020995, 'colsample_bytree': 0.6110268051494785, 'min_child_weight': 2}. Best is trial 116 with value: 33.475430349158145.\n",
      "[I 2024-08-02 20:17:51,867] Trial 150 finished with value: 34.18869640353693 and parameters: {'n_estimators': 845, 'learning_rate': 0.06514929725194658, 'max_depth': 1, 'subsample': 0.39688994038151737, 'colsample_bytree': 0.6855811777014569, 'min_child_weight': 1}. Best is trial 116 with value: 33.475430349158145.\n",
      "[I 2024-08-02 20:17:52,071] Trial 151 finished with value: 34.567029521665944 and parameters: {'n_estimators': 848, 'learning_rate': 0.06383502462989636, 'max_depth': 1, 'subsample': 0.39701572631957105, 'colsample_bytree': 0.6873020801985815, 'min_child_weight': 1}. Best is trial 116 with value: 33.475430349158145.\n",
      "[I 2024-08-02 20:17:52,270] Trial 152 finished with value: 47.27721820528396 and parameters: {'n_estimators': 894, 'learning_rate': 0.004098121654156613, 'max_depth': 1, 'subsample': 0.3340404692003593, 'colsample_bytree': 0.672631451310149, 'min_child_weight': 1}. Best is trial 116 with value: 33.475430349158145.\n",
      "[I 2024-08-02 20:17:52,461] Trial 153 finished with value: 34.47486430614488 and parameters: {'n_estimators': 815, 'learning_rate': 0.052335382601573124, 'max_depth': 1, 'subsample': 0.3585800660237682, 'colsample_bytree': 0.633549123828088, 'min_child_weight': 1}. Best is trial 116 with value: 33.475430349158145.\n",
      "[I 2024-08-02 20:17:52,662] Trial 154 finished with value: 35.12928458929451 and parameters: {'n_estimators': 868, 'learning_rate': 0.03911372770277011, 'max_depth': 1, 'subsample': 0.41473618440336535, 'colsample_bytree': 0.7912295069045749, 'min_child_weight': 2}. Best is trial 116 with value: 33.475430349158145.\n",
      "[I 2024-08-02 20:17:52,858] Trial 155 finished with value: 33.98388544256091 and parameters: {'n_estimators': 914, 'learning_rate': 0.03171275407802143, 'max_depth': 1, 'subsample': 0.3756420963677646, 'colsample_bytree': 0.5910859393588227, 'min_child_weight': 1}. Best is trial 116 with value: 33.475430349158145.\n",
      "[I 2024-08-02 20:17:53,061] Trial 156 finished with value: 34.16443407226994 and parameters: {'n_estimators': 912, 'learning_rate': 0.031042541309645184, 'max_depth': 1, 'subsample': 0.3796815449682824, 'colsample_bytree': 0.586691558718101, 'min_child_weight': 2}. Best is trial 116 with value: 33.475430349158145.\n",
      "[I 2024-08-02 20:17:53,277] Trial 157 finished with value: 34.5122259994685 and parameters: {'n_estimators': 938, 'learning_rate': 0.026381558088246423, 'max_depth': 1, 'subsample': 0.38305263546500806, 'colsample_bytree': 0.5966761398917895, 'min_child_weight': 2}. Best is trial 116 with value: 33.475430349158145.\n",
      "[I 2024-08-02 20:17:53,654] Trial 158 finished with value: 33.85529686651115 and parameters: {'n_estimators': 911, 'learning_rate': 0.07015143802254971, 'max_depth': 2, 'subsample': 0.41925149634818293, 'colsample_bytree': 0.6151704985271791, 'min_child_weight': 1}. Best is trial 116 with value: 33.475430349158145.\n"
     ]
    },
    {
     "name": "stderr",
     "output_type": "stream",
     "text": [
      "[I 2024-08-02 20:17:53,895] Trial 159 finished with value: 34.349941865198126 and parameters: {'n_estimators': 962, 'learning_rate': 0.07970501639816878, 'max_depth': 2, 'subsample': 0.41880044075094963, 'colsample_bytree': 0.5643440195168457, 'min_child_weight': 2}. Best is trial 116 with value: 33.475430349158145.\n",
      "[I 2024-08-02 20:17:54,136] Trial 160 finished with value: 34.399818924266384 and parameters: {'n_estimators': 921, 'learning_rate': 0.07211777379326804, 'max_depth': 2, 'subsample': 0.39928920013157815, 'colsample_bytree': 0.5887913872596154, 'min_child_weight': 1}. Best is trial 116 with value: 33.475430349158145.\n",
      "[I 2024-08-02 20:17:54,330] Trial 161 finished with value: 34.67741364492685 and parameters: {'n_estimators': 888, 'learning_rate': 0.0646464938514283, 'max_depth': 1, 'subsample': 0.37336309160994596, 'colsample_bytree': 0.6232318563194492, 'min_child_weight': 1}. Best is trial 116 with value: 33.475430349158145.\n",
      "[I 2024-08-02 20:17:54,534] Trial 162 finished with value: 33.931742676498146 and parameters: {'n_estimators': 905, 'learning_rate': 0.054318224049115196, 'max_depth': 1, 'subsample': 0.429093268315326, 'colsample_bytree': 0.5823444347926721, 'min_child_weight': 1}. Best is trial 116 with value: 33.475430349158145.\n",
      "[I 2024-08-02 20:17:54,736] Trial 163 finished with value: 35.55986419245825 and parameters: {'n_estimators': 909, 'learning_rate': 0.08746648055694847, 'max_depth': 1, 'subsample': 0.4379969848424169, 'colsample_bytree': 0.5869403188071542, 'min_child_weight': 2}. Best is trial 116 with value: 33.475430349158145.\n",
      "[I 2024-08-02 20:17:54,942] Trial 164 finished with value: 34.32685110742585 and parameters: {'n_estimators': 948, 'learning_rate': 0.05572562342488151, 'max_depth': 1, 'subsample': 0.38925452338298294, 'colsample_bytree': 0.6104032876253102, 'min_child_weight': 1}. Best is trial 116 with value: 33.475430349158145.\n",
      "[I 2024-08-02 20:17:55,166] Trial 165 finished with value: 33.65175874002264 and parameters: {'n_estimators': 983, 'learning_rate': 0.03547340449275589, 'max_depth': 1, 'subsample': 0.42552734200710124, 'colsample_bytree': 0.5583413712016974, 'min_child_weight': 1}. Best is trial 116 with value: 33.475430349158145.\n",
      "[I 2024-08-02 20:17:55,377] Trial 166 finished with value: 34.38714933600445 and parameters: {'n_estimators': 966, 'learning_rate': 0.022765052357777076, 'max_depth': 1, 'subsample': 0.45809246773114964, 'colsample_bytree': 0.5561847520283892, 'min_child_weight': 2}. Best is trial 116 with value: 33.475430349158145.\n",
      "[I 2024-08-02 20:17:55,684] Trial 167 finished with value: 33.21172930109081 and parameters: {'n_estimators': 978, 'learning_rate': 0.03434207316223595, 'max_depth': 1, 'subsample': 0.42013102465487245, 'colsample_bytree': 0.5745409317239089, 'min_child_weight': 1}. Best is trial 167 with value: 33.21172930109081.\n",
      "[I 2024-08-02 20:17:56,118] Trial 168 finished with value: 33.432710998837145 and parameters: {'n_estimators': 992, 'learning_rate': 0.03422216588900478, 'max_depth': 1, 'subsample': 0.4221857345683466, 'colsample_bytree': 0.5706715880898605, 'min_child_weight': 1}. Best is trial 167 with value: 33.21172930109081.\n",
      "[I 2024-08-02 20:17:56,350] Trial 169 finished with value: 33.81252465996065 and parameters: {'n_estimators': 985, 'learning_rate': 0.03467370954600258, 'max_depth': 1, 'subsample': 0.4179197364694523, 'colsample_bytree': 0.5742057200846924, 'min_child_weight': 2}. Best is trial 167 with value: 33.21172930109081.\n",
      "[I 2024-08-02 20:17:56,647] Trial 170 finished with value: 36.99559658019074 and parameters: {'n_estimators': 1000, 'learning_rate': 0.023965547496733554, 'max_depth': 2, 'subsample': 0.4502856687305212, 'colsample_bytree': 0.5640046511839897, 'min_child_weight': 3}. Best is trial 167 with value: 33.21172930109081.\n",
      "[I 2024-08-02 20:17:56,852] Trial 171 finished with value: 34.044755482167766 and parameters: {'n_estimators': 980, 'learning_rate': 0.03588372104652061, 'max_depth': 1, 'subsample': 0.4258800149750712, 'colsample_bytree': 0.5802479238075313, 'min_child_weight': 2}. Best is trial 167 with value: 33.21172930109081.\n",
      "[I 2024-08-02 20:17:57,107] Trial 172 finished with value: 33.756414643250594 and parameters: {'n_estimators': 978, 'learning_rate': 0.03442392667563378, 'max_depth': 1, 'subsample': 0.4237460194185444, 'colsample_bytree': 0.5791679097173341, 'min_child_weight': 2}. Best is trial 167 with value: 33.21172930109081.\n",
      "[I 2024-08-02 20:17:57,401] Trial 173 finished with value: 34.80112791310719 and parameters: {'n_estimators': 978, 'learning_rate': 0.034544869825001136, 'max_depth': 1, 'subsample': 0.42753389589330654, 'colsample_bytree': 0.5476734667661116, 'min_child_weight': 3}. Best is trial 167 with value: 33.21172930109081.\n",
      "[I 2024-08-02 20:17:57,610] Trial 174 finished with value: 34.04592546324756 and parameters: {'n_estimators': 978, 'learning_rate': 0.031248173587527423, 'max_depth': 1, 'subsample': 0.4251419477975491, 'colsample_bytree': 0.5758191420832932, 'min_child_weight': 2}. Best is trial 167 with value: 33.21172930109081.\n",
      "[I 2024-08-02 20:17:57,833] Trial 175 finished with value: 34.37779480484688 and parameters: {'n_estimators': 983, 'learning_rate': 0.034145562464243995, 'max_depth': 1, 'subsample': 0.43975938417920807, 'colsample_bytree': 0.5806052076483128, 'min_child_weight': 2}. Best is trial 167 with value: 33.21172930109081.\n",
      "[I 2024-08-02 20:17:58,067] Trial 176 finished with value: 34.14837833627502 and parameters: {'n_estimators': 986, 'learning_rate': 0.028056440022608816, 'max_depth': 1, 'subsample': 0.423486169653009, 'colsample_bytree': 0.5641063185403749, 'min_child_weight': 2}. Best is trial 167 with value: 33.21172930109081.\n",
      "[I 2024-08-02 20:17:58,334] Trial 177 finished with value: 35.268112830594056 and parameters: {'n_estimators': 962, 'learning_rate': 0.024195275868473975, 'max_depth': 1, 'subsample': 0.47767772050980184, 'colsample_bytree': 0.5430478869051407, 'min_child_weight': 3}. Best is trial 167 with value: 33.21172930109081.\n",
      "[I 2024-08-02 20:17:58,553] Trial 178 finished with value: 33.67451178431888 and parameters: {'n_estimators': 999, 'learning_rate': 0.034630765697380717, 'max_depth': 1, 'subsample': 0.41789570391893166, 'colsample_bytree': 0.57655426085863, 'min_child_weight': 2}. Best is trial 167 with value: 33.21172930109081.\n",
      "[I 2024-08-02 20:17:58,774] Trial 179 finished with value: 34.51452756601462 and parameters: {'n_estimators': 997, 'learning_rate': 0.01984502478975181, 'max_depth': 1, 'subsample': 0.4170788783131136, 'colsample_bytree': 0.5756995087330954, 'min_child_weight': 2}. Best is trial 167 with value: 33.21172930109081.\n",
      "[I 2024-08-02 20:17:59,049] Trial 180 finished with value: 34.64499893327973 and parameters: {'n_estimators': 981, 'learning_rate': 0.02956546533749061, 'max_depth': 1, 'subsample': 0.45967081907996493, 'colsample_bytree': 0.6041117794334256, 'min_child_weight': 3}. Best is trial 167 with value: 33.21172930109081.\n",
      "[I 2024-08-02 20:17:59,292] Trial 181 finished with value: 34.21657739103129 and parameters: {'n_estimators': 951, 'learning_rate': 0.03535767021288879, 'max_depth': 1, 'subsample': 0.43758493344712923, 'colsample_bytree': 0.5756727074056581, 'min_child_weight': 2}. Best is trial 167 with value: 33.21172930109081.\n",
      "[I 2024-08-02 20:17:59,562] Trial 182 finished with value: 34.04101327967722 and parameters: {'n_estimators': 972, 'learning_rate': 0.036722378018377695, 'max_depth': 1, 'subsample': 0.4956668954587836, 'colsample_bytree': 0.6030326292131156, 'min_child_weight': 1}. Best is trial 167 with value: 33.21172930109081.\n",
      "[I 2024-08-02 20:17:59,820] Trial 183 finished with value: 33.84492914557655 and parameters: {'n_estimators': 967, 'learning_rate': 0.03412167962034773, 'max_depth': 1, 'subsample': 0.4832705695446614, 'colsample_bytree': 0.600829694214863, 'min_child_weight': 1}. Best is trial 167 with value: 33.21172930109081.\n",
      "[I 2024-08-02 20:18:00,063] Trial 184 finished with value: 34.51097491317361 and parameters: {'n_estimators': 971, 'learning_rate': 0.026598491986737572, 'max_depth': 1, 'subsample': 0.4756935516787037, 'colsample_bytree': 0.5265678629789393, 'min_child_weight': 2}. Best is trial 167 with value: 33.21172930109081.\n"
     ]
    },
    {
     "name": "stderr",
     "output_type": "stream",
     "text": [
      "[I 2024-08-02 20:18:00,281] Trial 185 finished with value: 33.979692817203535 and parameters: {'n_estimators': 1000, 'learning_rate': 0.03649637543349554, 'max_depth': 1, 'subsample': 0.5121030066012181, 'colsample_bytree': 0.5504484551728208, 'min_child_weight': 1}. Best is trial 167 with value: 33.21172930109081.\n",
      "[I 2024-08-02 20:18:00,572] Trial 186 finished with value: 38.399277187046295 and parameters: {'n_estimators': 997, 'learning_rate': 0.008044836740226725, 'max_depth': 1, 'subsample': 0.4987424449446483, 'colsample_bytree': 0.5543958848027477, 'min_child_weight': 1}. Best is trial 167 with value: 33.21172930109081.\n",
      "[I 2024-08-02 20:18:01,623] Trial 187 finished with value: 40.89090567466429 and parameters: {'n_estimators': 1000, 'learning_rate': 0.037301179809199246, 'max_depth': 6, 'subsample': 0.5098676147973837, 'colsample_bytree': 0.5944896065791606, 'min_child_weight': 2}. Best is trial 167 with value: 33.21172930109081.\n",
      "[I 2024-08-02 20:18:01,889] Trial 188 finished with value: 34.32277970598781 and parameters: {'n_estimators': 951, 'learning_rate': 0.04582394160650021, 'max_depth': 1, 'subsample': 0.48495419013906826, 'colsample_bytree': 0.5402738992695038, 'min_child_weight': 1}. Best is trial 167 with value: 33.21172930109081.\n",
      "[I 2024-08-02 20:18:02,101] Trial 189 finished with value: 34.208462979442174 and parameters: {'n_estimators': 979, 'learning_rate': 0.036349725842651795, 'max_depth': 1, 'subsample': 0.5314184411022018, 'colsample_bytree': 0.571279789405849, 'min_child_weight': 2}. Best is trial 167 with value: 33.21172930109081.\n",
      "[I 2024-08-02 20:18:02,362] Trial 190 finished with value: 33.837052468481865 and parameters: {'n_estimators': 938, 'learning_rate': 0.02794534651732424, 'max_depth': 1, 'subsample': 0.45763656145589343, 'colsample_bytree': 0.6025694632525042, 'min_child_weight': 1}. Best is trial 167 with value: 33.21172930109081.\n",
      "[I 2024-08-02 20:18:02,619] Trial 191 finished with value: 33.946718701378124 and parameters: {'n_estimators': 938, 'learning_rate': 0.028581243340229222, 'max_depth': 1, 'subsample': 0.4540907152267782, 'colsample_bytree': 0.5879877661173752, 'min_child_weight': 1}. Best is trial 167 with value: 33.21172930109081.\n",
      "[I 2024-08-02 20:18:02,863] Trial 192 finished with value: 33.82756437738715 and parameters: {'n_estimators': 939, 'learning_rate': 0.028636378630997106, 'max_depth': 1, 'subsample': 0.46067339830792103, 'colsample_bytree': 0.5957670027830323, 'min_child_weight': 1}. Best is trial 167 with value: 33.21172930109081.\n",
      "[I 2024-08-02 20:18:03,112] Trial 193 finished with value: 33.779455354230514 and parameters: {'n_estimators': 953, 'learning_rate': 0.024332586265550054, 'max_depth': 1, 'subsample': 0.45765900211885435, 'colsample_bytree': 0.6053919298805633, 'min_child_weight': 1}. Best is trial 167 with value: 33.21172930109081.\n",
      "[I 2024-08-02 20:18:03,313] Trial 194 finished with value: 33.70730136737996 and parameters: {'n_estimators': 937, 'learning_rate': 0.025350136649115486, 'max_depth': 1, 'subsample': 0.44992261274218004, 'colsample_bytree': 0.6094077800608775, 'min_child_weight': 1}. Best is trial 167 with value: 33.21172930109081.\n",
      "[I 2024-08-02 20:18:03,550] Trial 195 finished with value: 34.004963012022785 and parameters: {'n_estimators': 940, 'learning_rate': 0.022485263163429563, 'max_depth': 1, 'subsample': 0.4590567422099454, 'colsample_bytree': 0.6069339575535843, 'min_child_weight': 1}. Best is trial 167 with value: 33.21172930109081.\n",
      "[I 2024-08-02 20:18:03,766] Trial 196 finished with value: 33.91633116728562 and parameters: {'n_estimators': 943, 'learning_rate': 0.021178183081004102, 'max_depth': 1, 'subsample': 0.45532594201377474, 'colsample_bytree': 0.6045173878848381, 'min_child_weight': 1}. Best is trial 167 with value: 33.21172930109081.\n",
      "[I 2024-08-02 20:18:03,995] Trial 197 finished with value: 34.94451667825774 and parameters: {'n_estimators': 951, 'learning_rate': 0.016342447970313378, 'max_depth': 1, 'subsample': 0.4668120387241088, 'colsample_bytree': 0.5551040876360599, 'min_child_weight': 1}. Best is trial 167 with value: 33.21172930109081.\n",
      "[I 2024-08-02 20:18:04,270] Trial 198 finished with value: 34.26313342408188 and parameters: {'n_estimators': 930, 'learning_rate': 0.01981701428134997, 'max_depth': 1, 'subsample': 0.4439336481709295, 'colsample_bytree': 0.5160106120825296, 'min_child_weight': 1}. Best is trial 167 with value: 33.21172930109081.\n",
      "[I 2024-08-02 20:18:04,551] Trial 199 finished with value: 36.44579867792735 and parameters: {'n_estimators': 946, 'learning_rate': 0.023180772596959727, 'max_depth': 2, 'subsample': 0.4843079246842517, 'colsample_bytree': 0.5981605996537612, 'min_child_weight': 1}. Best is trial 167 with value: 33.21172930109081.\n"
     ]
    }
   ],
   "source": [
    "study = optuna.create_study(direction='minimize')\n",
    "study.optimize(objective, n_trials=200)"
   ]
  },
  {
   "cell_type": "code",
   "execution_count": 883,
   "id": "58250a7c",
   "metadata": {},
   "outputs": [],
   "source": [
    "final_model=XGBRegressor(**study.best_params)"
   ]
  },
  {
   "cell_type": "code",
   "execution_count": 884,
   "id": "8cad4f67",
   "metadata": {},
   "outputs": [],
   "source": [
    "final_model.fit(X_train, y_train.values, verbose=False)\n",
    "tuned_preds = final_model.predict(X_test)"
   ]
  },
  {
   "cell_type": "code",
   "execution_count": 885,
   "id": "0393ce90",
   "metadata": {},
   "outputs": [
    {
     "data": {
      "text/plain": [
       "33.21172930109081"
      ]
     },
     "execution_count": 885,
     "metadata": {},
     "output_type": "execute_result"
    }
   ],
   "source": [
    "np.sqrt(mean_squared_error(y_test.values, tuned_preds))"
   ]
  },
  {
   "cell_type": "code",
   "execution_count": 886,
   "id": "e5673e4a",
   "metadata": {},
   "outputs": [
    {
     "data": {
      "application/vnd.plotly.v1+json": {
       "config": {
        "plotlyServerURL": "https://plot.ly"
       },
       "data": [
        {
         "mode": "lines",
         "name": "Train",
         "type": "scatter",
         "x": [
          "1949-05",
          "1949-06",
          "1949-07",
          "1949-08",
          "1949-09",
          "1949-10",
          "1949-11",
          "1949-12",
          "1950-01",
          "1950-02",
          "1950-03",
          "1950-04",
          "1950-05",
          "1950-06",
          "1950-07",
          "1950-08",
          "1950-09",
          "1950-10",
          "1950-11",
          "1950-12",
          "1951-01",
          "1951-02",
          "1951-03",
          "1951-04",
          "1951-05",
          "1951-06",
          "1951-07",
          "1951-08",
          "1951-09",
          "1951-10",
          "1951-11",
          "1951-12",
          "1952-01",
          "1952-02",
          "1952-03",
          "1952-04",
          "1952-05",
          "1952-06",
          "1952-07",
          "1952-08",
          "1952-09",
          "1952-10",
          "1952-11",
          "1952-12",
          "1953-01",
          "1953-02",
          "1953-03",
          "1953-04",
          "1953-05",
          "1953-06",
          "1953-07",
          "1953-08",
          "1953-09",
          "1953-10",
          "1953-11",
          "1953-12",
          "1954-01",
          "1954-02",
          "1954-03",
          "1954-04",
          "1954-05",
          "1954-06",
          "1954-07",
          "1954-08",
          "1954-09",
          "1954-10",
          "1954-11",
          "1954-12",
          "1955-01",
          "1955-02",
          "1955-03",
          "1955-04",
          "1955-05",
          "1955-06",
          "1955-07",
          "1955-08",
          "1955-09",
          "1955-10",
          "1955-11",
          "1955-12",
          "1956-01",
          "1956-02",
          "1956-03",
          "1956-04",
          "1956-05",
          "1956-06",
          "1956-07",
          "1956-08",
          "1956-09",
          "1956-10",
          "1956-11",
          "1956-12",
          "1957-01",
          "1957-02",
          "1957-03",
          "1957-04",
          "1957-05",
          "1957-06",
          "1957-07",
          "1957-08",
          "1957-09",
          "1957-10",
          "1957-11",
          "1957-12",
          "1958-01",
          "1958-02",
          "1958-03",
          "1958-04",
          "1958-05",
          "1958-06",
          "1958-07"
         ],
         "y": [
          20.061302681992387,
          31.404118773946408,
          41.74693486590043,
          39.08975095785445,
          24.43256704980847,
          4.7753831417624895,
          -12.881800766283476,
          -1.5389846743294555,
          -7.196168582375435,
          1.1466475095785853,
          13.489463601532606,
          4.83227969348664,
          -7.8249042145593535,
          13.517911877394681,
          31.860727969348716,
          29.203544061302722,
          14.546360153256728,
          -13.110823754789237,
          -34.7680076628352,
          -11.425191570881196,
          -9.082375478927162,
          -6.739559386973156,
          18.60325670498088,
          0.9460727969349136,
          7.28888888888892,
          10.631704980842954,
          28.97452107279696,
          26.317337164750995,
          8.66015325670503,
          -15.997030651340964,
          -34.65421455938696,
          -17.311398467432923,
          -14.968582375478888,
          -8.625766283524854,
          1.7170498084291523,
          -12.940134099616841,
          -13.597318007662807,
          18.745498084291228,
          28.088314176245262,
          37.43113026819927,
          1.7739463601532748,
          -18.88323754789269,
          -40.540421455938656,
          -21.19760536398465,
          -21.854789272030615,
          -24.51197318007661,
          12.830842911877426,
          9.173659003831432,
          0.5164750957854665,
          11.859291187739501,
          30.202107279693507,
          35.54492337164754,
          -2.112260536398452,
          -30.769444444444417,
          -64.42662835249038,
          -46.08381226053638,
          -45.74099616858234,
          -64.39818007662834,
          -20.0553639846743,
          -30.712547892720295,
          -26.36973180076626,
          0.9730842911877744,
          36.31590038314175,
          24.658716475095844,
          -11.998467432950179,
          -44.655651340996144,
          -73.31283524904211,
          -49.97001915708813,
          -39.62720306513404,
          -51.28438697318006,
          -19.941570881226028,
          -20.598754789271993,
          -22.255938697318015,
          20.086877394636076,
          66.42969348659005,
          46.77250957854409,
          9.115325670498123,
          -31.5418582375479,
          -71.19904214559386,
          -32.85622605363983,
          -29.513409961685795,
          -39.17059386973176,
          -1.8277777777777828,
          -8.484961685823748,
          -6.142145593869714,
          47.200670498084264,
          83.54348659003836,
          72.88630268199233,
          20.229118773946368,
          -31.428065134099597,
          -69.08524904214562,
          -36.74243295019153,
          -30.39961685823755,
          -47.05680076628346,
          5.286015325670519,
          -5.371168582375503,
          -1.0283524904214119,
          63.314463601532566,
          103.65727969348654,
          103.00009578544064,
          37.34291187739461,
          -22.314272030651296,
          -66.97145593869732,
          -38.62863984674334,
          -37.28582375478925,
          -61.94300766283527,
          -20.60019157088118,
          -37.2573754789272,
          -24.914559386973224,
          44.42825670498087,
          97.77107279693485
         ]
        },
        {
         "mode": "lines",
         "name": "Test",
         "type": "scatter",
         "x": [
          "1958-08",
          "1958-09",
          "1958-10",
          "1958-11",
          "1958-12",
          "1959-01",
          "1959-02",
          "1959-03",
          "1959-04",
          "1959-05",
          "1959-06",
          "1959-07",
          "1959-08",
          "1959-09",
          "1959-10",
          "1959-11",
          "1959-12",
          "1960-01",
          "1960-02",
          "1960-03",
          "1960-04",
          "1960-05",
          "1960-06",
          "1960-07",
          "1960-08",
          "1960-09",
          "1960-10",
          "1960-11",
          "1960-12"
         ],
         "y": [
          109.11388888888894,
          5.456704980842915,
          -42.20047892720311,
          -93.85766283524902,
          -69.51484674329504,
          -49.17203065134095,
          -69.82921455938697,
          -8.486398467432991,
          -21.1435823754789,
          0.19923371647507793,
          49.54204980842917,
          122.88486590038315,
          131.22768199233712,
          32.570498084291216,
          -26.086685823754806,
          -73.74386973180071,
          -33.40105363984674,
          -24.05823754789276,
          -52.71542145593867,
          -27.37260536398469,
          11.970210727969402,
          20.31302681992338,
          80.65584291187736,
          164.99865900383145,
          146.34147509578543,
          45.684291187739404,
          -3.972892720306504,
          -77.63007662835253,
          -38.287260536398435
         ]
        },
        {
         "mode": "lines",
         "name": "Pred",
         "type": "scatter",
         "x": [
          "1958-08",
          "1958-09",
          "1958-10",
          "1958-11",
          "1958-12",
          "1959-01",
          "1959-02",
          "1959-03",
          "1959-04",
          "1959-05",
          "1959-06",
          "1959-07",
          "1959-08",
          "1959-09",
          "1959-10",
          "1959-11",
          "1959-12",
          "1960-01",
          "1960-02",
          "1960-03",
          "1960-04",
          "1960-05",
          "1960-06",
          "1960-07",
          "1960-08",
          "1960-09",
          "1960-10",
          "1960-11",
          "1960-12"
         ],
         "y": [
          77.97312,
          44.410915,
          -47.746952,
          -59.70888,
          -41.86713,
          -49.327854,
          -44.934742,
          -24.585442,
          13.928794,
          -2.0461652,
          53.591854,
          79.76275,
          86.43068,
          47.14781,
          -19.817738,
          -63.486248,
          -41.97414,
          -42.434998,
          -38.09387,
          6.0305786,
          -30.951052,
          11.114737,
          55.311623,
          70.77431,
          69.27891,
          47.246067,
          11.347448,
          -39.954983,
          -58.33582
         ]
        }
       ],
       "layout": {
        "template": {
         "data": {
          "bar": [
           {
            "error_x": {
             "color": "#2a3f5f"
            },
            "error_y": {
             "color": "#2a3f5f"
            },
            "marker": {
             "line": {
              "color": "#E5ECF6",
              "width": 0.5
             },
             "pattern": {
              "fillmode": "overlay",
              "size": 10,
              "solidity": 0.2
             }
            },
            "type": "bar"
           }
          ],
          "barpolar": [
           {
            "marker": {
             "line": {
              "color": "#E5ECF6",
              "width": 0.5
             },
             "pattern": {
              "fillmode": "overlay",
              "size": 10,
              "solidity": 0.2
             }
            },
            "type": "barpolar"
           }
          ],
          "carpet": [
           {
            "aaxis": {
             "endlinecolor": "#2a3f5f",
             "gridcolor": "white",
             "linecolor": "white",
             "minorgridcolor": "white",
             "startlinecolor": "#2a3f5f"
            },
            "baxis": {
             "endlinecolor": "#2a3f5f",
             "gridcolor": "white",
             "linecolor": "white",
             "minorgridcolor": "white",
             "startlinecolor": "#2a3f5f"
            },
            "type": "carpet"
           }
          ],
          "choropleth": [
           {
            "colorbar": {
             "outlinewidth": 0,
             "ticks": ""
            },
            "type": "choropleth"
           }
          ],
          "contour": [
           {
            "colorbar": {
             "outlinewidth": 0,
             "ticks": ""
            },
            "colorscale": [
             [
              0,
              "#0d0887"
             ],
             [
              0.1111111111111111,
              "#46039f"
             ],
             [
              0.2222222222222222,
              "#7201a8"
             ],
             [
              0.3333333333333333,
              "#9c179e"
             ],
             [
              0.4444444444444444,
              "#bd3786"
             ],
             [
              0.5555555555555556,
              "#d8576b"
             ],
             [
              0.6666666666666666,
              "#ed7953"
             ],
             [
              0.7777777777777778,
              "#fb9f3a"
             ],
             [
              0.8888888888888888,
              "#fdca26"
             ],
             [
              1,
              "#f0f921"
             ]
            ],
            "type": "contour"
           }
          ],
          "contourcarpet": [
           {
            "colorbar": {
             "outlinewidth": 0,
             "ticks": ""
            },
            "type": "contourcarpet"
           }
          ],
          "heatmap": [
           {
            "colorbar": {
             "outlinewidth": 0,
             "ticks": ""
            },
            "colorscale": [
             [
              0,
              "#0d0887"
             ],
             [
              0.1111111111111111,
              "#46039f"
             ],
             [
              0.2222222222222222,
              "#7201a8"
             ],
             [
              0.3333333333333333,
              "#9c179e"
             ],
             [
              0.4444444444444444,
              "#bd3786"
             ],
             [
              0.5555555555555556,
              "#d8576b"
             ],
             [
              0.6666666666666666,
              "#ed7953"
             ],
             [
              0.7777777777777778,
              "#fb9f3a"
             ],
             [
              0.8888888888888888,
              "#fdca26"
             ],
             [
              1,
              "#f0f921"
             ]
            ],
            "type": "heatmap"
           }
          ],
          "heatmapgl": [
           {
            "colorbar": {
             "outlinewidth": 0,
             "ticks": ""
            },
            "colorscale": [
             [
              0,
              "#0d0887"
             ],
             [
              0.1111111111111111,
              "#46039f"
             ],
             [
              0.2222222222222222,
              "#7201a8"
             ],
             [
              0.3333333333333333,
              "#9c179e"
             ],
             [
              0.4444444444444444,
              "#bd3786"
             ],
             [
              0.5555555555555556,
              "#d8576b"
             ],
             [
              0.6666666666666666,
              "#ed7953"
             ],
             [
              0.7777777777777778,
              "#fb9f3a"
             ],
             [
              0.8888888888888888,
              "#fdca26"
             ],
             [
              1,
              "#f0f921"
             ]
            ],
            "type": "heatmapgl"
           }
          ],
          "histogram": [
           {
            "marker": {
             "pattern": {
              "fillmode": "overlay",
              "size": 10,
              "solidity": 0.2
             }
            },
            "type": "histogram"
           }
          ],
          "histogram2d": [
           {
            "colorbar": {
             "outlinewidth": 0,
             "ticks": ""
            },
            "colorscale": [
             [
              0,
              "#0d0887"
             ],
             [
              0.1111111111111111,
              "#46039f"
             ],
             [
              0.2222222222222222,
              "#7201a8"
             ],
             [
              0.3333333333333333,
              "#9c179e"
             ],
             [
              0.4444444444444444,
              "#bd3786"
             ],
             [
              0.5555555555555556,
              "#d8576b"
             ],
             [
              0.6666666666666666,
              "#ed7953"
             ],
             [
              0.7777777777777778,
              "#fb9f3a"
             ],
             [
              0.8888888888888888,
              "#fdca26"
             ],
             [
              1,
              "#f0f921"
             ]
            ],
            "type": "histogram2d"
           }
          ],
          "histogram2dcontour": [
           {
            "colorbar": {
             "outlinewidth": 0,
             "ticks": ""
            },
            "colorscale": [
             [
              0,
              "#0d0887"
             ],
             [
              0.1111111111111111,
              "#46039f"
             ],
             [
              0.2222222222222222,
              "#7201a8"
             ],
             [
              0.3333333333333333,
              "#9c179e"
             ],
             [
              0.4444444444444444,
              "#bd3786"
             ],
             [
              0.5555555555555556,
              "#d8576b"
             ],
             [
              0.6666666666666666,
              "#ed7953"
             ],
             [
              0.7777777777777778,
              "#fb9f3a"
             ],
             [
              0.8888888888888888,
              "#fdca26"
             ],
             [
              1,
              "#f0f921"
             ]
            ],
            "type": "histogram2dcontour"
           }
          ],
          "mesh3d": [
           {
            "colorbar": {
             "outlinewidth": 0,
             "ticks": ""
            },
            "type": "mesh3d"
           }
          ],
          "parcoords": [
           {
            "line": {
             "colorbar": {
              "outlinewidth": 0,
              "ticks": ""
             }
            },
            "type": "parcoords"
           }
          ],
          "pie": [
           {
            "automargin": true,
            "type": "pie"
           }
          ],
          "scatter": [
           {
            "fillpattern": {
             "fillmode": "overlay",
             "size": 10,
             "solidity": 0.2
            },
            "type": "scatter"
           }
          ],
          "scatter3d": [
           {
            "line": {
             "colorbar": {
              "outlinewidth": 0,
              "ticks": ""
             }
            },
            "marker": {
             "colorbar": {
              "outlinewidth": 0,
              "ticks": ""
             }
            },
            "type": "scatter3d"
           }
          ],
          "scattercarpet": [
           {
            "marker": {
             "colorbar": {
              "outlinewidth": 0,
              "ticks": ""
             }
            },
            "type": "scattercarpet"
           }
          ],
          "scattergeo": [
           {
            "marker": {
             "colorbar": {
              "outlinewidth": 0,
              "ticks": ""
             }
            },
            "type": "scattergeo"
           }
          ],
          "scattergl": [
           {
            "marker": {
             "colorbar": {
              "outlinewidth": 0,
              "ticks": ""
             }
            },
            "type": "scattergl"
           }
          ],
          "scattermapbox": [
           {
            "marker": {
             "colorbar": {
              "outlinewidth": 0,
              "ticks": ""
             }
            },
            "type": "scattermapbox"
           }
          ],
          "scatterpolar": [
           {
            "marker": {
             "colorbar": {
              "outlinewidth": 0,
              "ticks": ""
             }
            },
            "type": "scatterpolar"
           }
          ],
          "scatterpolargl": [
           {
            "marker": {
             "colorbar": {
              "outlinewidth": 0,
              "ticks": ""
             }
            },
            "type": "scatterpolargl"
           }
          ],
          "scatterternary": [
           {
            "marker": {
             "colorbar": {
              "outlinewidth": 0,
              "ticks": ""
             }
            },
            "type": "scatterternary"
           }
          ],
          "surface": [
           {
            "colorbar": {
             "outlinewidth": 0,
             "ticks": ""
            },
            "colorscale": [
             [
              0,
              "#0d0887"
             ],
             [
              0.1111111111111111,
              "#46039f"
             ],
             [
              0.2222222222222222,
              "#7201a8"
             ],
             [
              0.3333333333333333,
              "#9c179e"
             ],
             [
              0.4444444444444444,
              "#bd3786"
             ],
             [
              0.5555555555555556,
              "#d8576b"
             ],
             [
              0.6666666666666666,
              "#ed7953"
             ],
             [
              0.7777777777777778,
              "#fb9f3a"
             ],
             [
              0.8888888888888888,
              "#fdca26"
             ],
             [
              1,
              "#f0f921"
             ]
            ],
            "type": "surface"
           }
          ],
          "table": [
           {
            "cells": {
             "fill": {
              "color": "#EBF0F8"
             },
             "line": {
              "color": "white"
             }
            },
            "header": {
             "fill": {
              "color": "#C8D4E3"
             },
             "line": {
              "color": "white"
             }
            },
            "type": "table"
           }
          ]
         },
         "layout": {
          "annotationdefaults": {
           "arrowcolor": "#2a3f5f",
           "arrowhead": 0,
           "arrowwidth": 1
          },
          "autotypenumbers": "strict",
          "coloraxis": {
           "colorbar": {
            "outlinewidth": 0,
            "ticks": ""
           }
          },
          "colorscale": {
           "diverging": [
            [
             0,
             "#8e0152"
            ],
            [
             0.1,
             "#c51b7d"
            ],
            [
             0.2,
             "#de77ae"
            ],
            [
             0.3,
             "#f1b6da"
            ],
            [
             0.4,
             "#fde0ef"
            ],
            [
             0.5,
             "#f7f7f7"
            ],
            [
             0.6,
             "#e6f5d0"
            ],
            [
             0.7,
             "#b8e186"
            ],
            [
             0.8,
             "#7fbc41"
            ],
            [
             0.9,
             "#4d9221"
            ],
            [
             1,
             "#276419"
            ]
           ],
           "sequential": [
            [
             0,
             "#0d0887"
            ],
            [
             0.1111111111111111,
             "#46039f"
            ],
            [
             0.2222222222222222,
             "#7201a8"
            ],
            [
             0.3333333333333333,
             "#9c179e"
            ],
            [
             0.4444444444444444,
             "#bd3786"
            ],
            [
             0.5555555555555556,
             "#d8576b"
            ],
            [
             0.6666666666666666,
             "#ed7953"
            ],
            [
             0.7777777777777778,
             "#fb9f3a"
            ],
            [
             0.8888888888888888,
             "#fdca26"
            ],
            [
             1,
             "#f0f921"
            ]
           ],
           "sequentialminus": [
            [
             0,
             "#0d0887"
            ],
            [
             0.1111111111111111,
             "#46039f"
            ],
            [
             0.2222222222222222,
             "#7201a8"
            ],
            [
             0.3333333333333333,
             "#9c179e"
            ],
            [
             0.4444444444444444,
             "#bd3786"
            ],
            [
             0.5555555555555556,
             "#d8576b"
            ],
            [
             0.6666666666666666,
             "#ed7953"
            ],
            [
             0.7777777777777778,
             "#fb9f3a"
            ],
            [
             0.8888888888888888,
             "#fdca26"
            ],
            [
             1,
             "#f0f921"
            ]
           ]
          },
          "colorway": [
           "#636efa",
           "#EF553B",
           "#00cc96",
           "#ab63fa",
           "#FFA15A",
           "#19d3f3",
           "#FF6692",
           "#B6E880",
           "#FF97FF",
           "#FECB52"
          ],
          "font": {
           "color": "#2a3f5f"
          },
          "geo": {
           "bgcolor": "white",
           "lakecolor": "white",
           "landcolor": "#E5ECF6",
           "showlakes": true,
           "showland": true,
           "subunitcolor": "white"
          },
          "hoverlabel": {
           "align": "left"
          },
          "hovermode": "closest",
          "mapbox": {
           "style": "light"
          },
          "paper_bgcolor": "white",
          "plot_bgcolor": "#E5ECF6",
          "polar": {
           "angularaxis": {
            "gridcolor": "white",
            "linecolor": "white",
            "ticks": ""
           },
           "bgcolor": "#E5ECF6",
           "radialaxis": {
            "gridcolor": "white",
            "linecolor": "white",
            "ticks": ""
           }
          },
          "scene": {
           "xaxis": {
            "backgroundcolor": "#E5ECF6",
            "gridcolor": "white",
            "gridwidth": 2,
            "linecolor": "white",
            "showbackground": true,
            "ticks": "",
            "zerolinecolor": "white"
           },
           "yaxis": {
            "backgroundcolor": "#E5ECF6",
            "gridcolor": "white",
            "gridwidth": 2,
            "linecolor": "white",
            "showbackground": true,
            "ticks": "",
            "zerolinecolor": "white"
           },
           "zaxis": {
            "backgroundcolor": "#E5ECF6",
            "gridcolor": "white",
            "gridwidth": 2,
            "linecolor": "white",
            "showbackground": true,
            "ticks": "",
            "zerolinecolor": "white"
           }
          },
          "shapedefaults": {
           "line": {
            "color": "#2a3f5f"
           }
          },
          "ternary": {
           "aaxis": {
            "gridcolor": "white",
            "linecolor": "white",
            "ticks": ""
           },
           "baxis": {
            "gridcolor": "white",
            "linecolor": "white",
            "ticks": ""
           },
           "bgcolor": "#E5ECF6",
           "caxis": {
            "gridcolor": "white",
            "linecolor": "white",
            "ticks": ""
           }
          },
          "title": {
           "x": 0.05
          },
          "xaxis": {
           "automargin": true,
           "gridcolor": "white",
           "linecolor": "white",
           "ticks": "",
           "title": {
            "standoff": 15
           },
           "zerolinecolor": "white",
           "zerolinewidth": 2
          },
          "yaxis": {
           "automargin": true,
           "gridcolor": "white",
           "linecolor": "white",
           "ticks": "",
           "title": {
            "standoff": 15
           },
           "zerolinecolor": "white",
           "zerolinewidth": 2
          }
         }
        },
        "xaxis": {
         "title": {
          "text": "date"
         }
        },
        "yaxis": {
         "title": {
          "text": "Passengers"
         }
        }
       }
      },
      "text/html": [
       "<div>                            <div id=\"04e48d0a-a97b-4552-916d-b3842f3c0ee4\" class=\"plotly-graph-div\" style=\"height:525px; width:100%;\"></div>            <script type=\"text/javascript\">                require([\"plotly\"], function(Plotly) {                    window.PLOTLYENV=window.PLOTLYENV || {};                                    if (document.getElementById(\"04e48d0a-a97b-4552-916d-b3842f3c0ee4\")) {                    Plotly.newPlot(                        \"04e48d0a-a97b-4552-916d-b3842f3c0ee4\",                        [{\"mode\":\"lines\",\"name\":\"Train\",\"x\":[\"1949-05\",\"1949-06\",\"1949-07\",\"1949-08\",\"1949-09\",\"1949-10\",\"1949-11\",\"1949-12\",\"1950-01\",\"1950-02\",\"1950-03\",\"1950-04\",\"1950-05\",\"1950-06\",\"1950-07\",\"1950-08\",\"1950-09\",\"1950-10\",\"1950-11\",\"1950-12\",\"1951-01\",\"1951-02\",\"1951-03\",\"1951-04\",\"1951-05\",\"1951-06\",\"1951-07\",\"1951-08\",\"1951-09\",\"1951-10\",\"1951-11\",\"1951-12\",\"1952-01\",\"1952-02\",\"1952-03\",\"1952-04\",\"1952-05\",\"1952-06\",\"1952-07\",\"1952-08\",\"1952-09\",\"1952-10\",\"1952-11\",\"1952-12\",\"1953-01\",\"1953-02\",\"1953-03\",\"1953-04\",\"1953-05\",\"1953-06\",\"1953-07\",\"1953-08\",\"1953-09\",\"1953-10\",\"1953-11\",\"1953-12\",\"1954-01\",\"1954-02\",\"1954-03\",\"1954-04\",\"1954-05\",\"1954-06\",\"1954-07\",\"1954-08\",\"1954-09\",\"1954-10\",\"1954-11\",\"1954-12\",\"1955-01\",\"1955-02\",\"1955-03\",\"1955-04\",\"1955-05\",\"1955-06\",\"1955-07\",\"1955-08\",\"1955-09\",\"1955-10\",\"1955-11\",\"1955-12\",\"1956-01\",\"1956-02\",\"1956-03\",\"1956-04\",\"1956-05\",\"1956-06\",\"1956-07\",\"1956-08\",\"1956-09\",\"1956-10\",\"1956-11\",\"1956-12\",\"1957-01\",\"1957-02\",\"1957-03\",\"1957-04\",\"1957-05\",\"1957-06\",\"1957-07\",\"1957-08\",\"1957-09\",\"1957-10\",\"1957-11\",\"1957-12\",\"1958-01\",\"1958-02\",\"1958-03\",\"1958-04\",\"1958-05\",\"1958-06\",\"1958-07\"],\"y\":[20.061302681992387,31.404118773946408,41.74693486590043,39.08975095785445,24.43256704980847,4.7753831417624895,-12.881800766283476,-1.5389846743294555,-7.196168582375435,1.1466475095785853,13.489463601532606,4.83227969348664,-7.8249042145593535,13.517911877394681,31.860727969348716,29.203544061302722,14.546360153256728,-13.110823754789237,-34.7680076628352,-11.425191570881196,-9.082375478927162,-6.739559386973156,18.60325670498088,0.9460727969349136,7.28888888888892,10.631704980842954,28.97452107279696,26.317337164750995,8.66015325670503,-15.997030651340964,-34.65421455938696,-17.311398467432923,-14.968582375478888,-8.625766283524854,1.7170498084291523,-12.940134099616841,-13.597318007662807,18.745498084291228,28.088314176245262,37.43113026819927,1.7739463601532748,-18.88323754789269,-40.540421455938656,-21.19760536398465,-21.854789272030615,-24.51197318007661,12.830842911877426,9.173659003831432,0.5164750957854665,11.859291187739501,30.202107279693507,35.54492337164754,-2.112260536398452,-30.769444444444417,-64.42662835249038,-46.08381226053638,-45.74099616858234,-64.39818007662834,-20.0553639846743,-30.712547892720295,-26.36973180076626,0.9730842911877744,36.31590038314175,24.658716475095844,-11.998467432950179,-44.655651340996144,-73.31283524904211,-49.97001915708813,-39.62720306513404,-51.28438697318006,-19.941570881226028,-20.598754789271993,-22.255938697318015,20.086877394636076,66.42969348659005,46.77250957854409,9.115325670498123,-31.5418582375479,-71.19904214559386,-32.85622605363983,-29.513409961685795,-39.17059386973176,-1.8277777777777828,-8.484961685823748,-6.142145593869714,47.200670498084264,83.54348659003836,72.88630268199233,20.229118773946368,-31.428065134099597,-69.08524904214562,-36.74243295019153,-30.39961685823755,-47.05680076628346,5.286015325670519,-5.371168582375503,-1.0283524904214119,63.314463601532566,103.65727969348654,103.00009578544064,37.34291187739461,-22.314272030651296,-66.97145593869732,-38.62863984674334,-37.28582375478925,-61.94300766283527,-20.60019157088118,-37.2573754789272,-24.914559386973224,44.42825670498087,97.77107279693485],\"type\":\"scatter\"},{\"mode\":\"lines\",\"name\":\"Test\",\"x\":[\"1958-08\",\"1958-09\",\"1958-10\",\"1958-11\",\"1958-12\",\"1959-01\",\"1959-02\",\"1959-03\",\"1959-04\",\"1959-05\",\"1959-06\",\"1959-07\",\"1959-08\",\"1959-09\",\"1959-10\",\"1959-11\",\"1959-12\",\"1960-01\",\"1960-02\",\"1960-03\",\"1960-04\",\"1960-05\",\"1960-06\",\"1960-07\",\"1960-08\",\"1960-09\",\"1960-10\",\"1960-11\",\"1960-12\"],\"y\":[109.11388888888894,5.456704980842915,-42.20047892720311,-93.85766283524902,-69.51484674329504,-49.17203065134095,-69.82921455938697,-8.486398467432991,-21.1435823754789,0.19923371647507793,49.54204980842917,122.88486590038315,131.22768199233712,32.570498084291216,-26.086685823754806,-73.74386973180071,-33.40105363984674,-24.05823754789276,-52.71542145593867,-27.37260536398469,11.970210727969402,20.31302681992338,80.65584291187736,164.99865900383145,146.34147509578543,45.684291187739404,-3.972892720306504,-77.63007662835253,-38.287260536398435],\"type\":\"scatter\"},{\"mode\":\"lines\",\"name\":\"Pred\",\"x\":[\"1958-08\",\"1958-09\",\"1958-10\",\"1958-11\",\"1958-12\",\"1959-01\",\"1959-02\",\"1959-03\",\"1959-04\",\"1959-05\",\"1959-06\",\"1959-07\",\"1959-08\",\"1959-09\",\"1959-10\",\"1959-11\",\"1959-12\",\"1960-01\",\"1960-02\",\"1960-03\",\"1960-04\",\"1960-05\",\"1960-06\",\"1960-07\",\"1960-08\",\"1960-09\",\"1960-10\",\"1960-11\",\"1960-12\"],\"y\":[77.97312,44.410915,-47.746952,-59.70888,-41.86713,-49.327854,-44.934742,-24.585442,13.928794,-2.0461652,53.591854,79.76275,86.43068,47.14781,-19.817738,-63.486248,-41.97414,-42.434998,-38.09387,6.0305786,-30.951052,11.114737,55.311623,70.77431,69.27891,47.246067,11.347448,-39.954983,-58.33582],\"type\":\"scatter\"}],                        {\"template\":{\"data\":{\"histogram2dcontour\":[{\"type\":\"histogram2dcontour\",\"colorbar\":{\"outlinewidth\":0,\"ticks\":\"\"},\"colorscale\":[[0.0,\"#0d0887\"],[0.1111111111111111,\"#46039f\"],[0.2222222222222222,\"#7201a8\"],[0.3333333333333333,\"#9c179e\"],[0.4444444444444444,\"#bd3786\"],[0.5555555555555556,\"#d8576b\"],[0.6666666666666666,\"#ed7953\"],[0.7777777777777778,\"#fb9f3a\"],[0.8888888888888888,\"#fdca26\"],[1.0,\"#f0f921\"]]}],\"choropleth\":[{\"type\":\"choropleth\",\"colorbar\":{\"outlinewidth\":0,\"ticks\":\"\"}}],\"histogram2d\":[{\"type\":\"histogram2d\",\"colorbar\":{\"outlinewidth\":0,\"ticks\":\"\"},\"colorscale\":[[0.0,\"#0d0887\"],[0.1111111111111111,\"#46039f\"],[0.2222222222222222,\"#7201a8\"],[0.3333333333333333,\"#9c179e\"],[0.4444444444444444,\"#bd3786\"],[0.5555555555555556,\"#d8576b\"],[0.6666666666666666,\"#ed7953\"],[0.7777777777777778,\"#fb9f3a\"],[0.8888888888888888,\"#fdca26\"],[1.0,\"#f0f921\"]]}],\"heatmap\":[{\"type\":\"heatmap\",\"colorbar\":{\"outlinewidth\":0,\"ticks\":\"\"},\"colorscale\":[[0.0,\"#0d0887\"],[0.1111111111111111,\"#46039f\"],[0.2222222222222222,\"#7201a8\"],[0.3333333333333333,\"#9c179e\"],[0.4444444444444444,\"#bd3786\"],[0.5555555555555556,\"#d8576b\"],[0.6666666666666666,\"#ed7953\"],[0.7777777777777778,\"#fb9f3a\"],[0.8888888888888888,\"#fdca26\"],[1.0,\"#f0f921\"]]}],\"heatmapgl\":[{\"type\":\"heatmapgl\",\"colorbar\":{\"outlinewidth\":0,\"ticks\":\"\"},\"colorscale\":[[0.0,\"#0d0887\"],[0.1111111111111111,\"#46039f\"],[0.2222222222222222,\"#7201a8\"],[0.3333333333333333,\"#9c179e\"],[0.4444444444444444,\"#bd3786\"],[0.5555555555555556,\"#d8576b\"],[0.6666666666666666,\"#ed7953\"],[0.7777777777777778,\"#fb9f3a\"],[0.8888888888888888,\"#fdca26\"],[1.0,\"#f0f921\"]]}],\"contourcarpet\":[{\"type\":\"contourcarpet\",\"colorbar\":{\"outlinewidth\":0,\"ticks\":\"\"}}],\"contour\":[{\"type\":\"contour\",\"colorbar\":{\"outlinewidth\":0,\"ticks\":\"\"},\"colorscale\":[[0.0,\"#0d0887\"],[0.1111111111111111,\"#46039f\"],[0.2222222222222222,\"#7201a8\"],[0.3333333333333333,\"#9c179e\"],[0.4444444444444444,\"#bd3786\"],[0.5555555555555556,\"#d8576b\"],[0.6666666666666666,\"#ed7953\"],[0.7777777777777778,\"#fb9f3a\"],[0.8888888888888888,\"#fdca26\"],[1.0,\"#f0f921\"]]}],\"surface\":[{\"type\":\"surface\",\"colorbar\":{\"outlinewidth\":0,\"ticks\":\"\"},\"colorscale\":[[0.0,\"#0d0887\"],[0.1111111111111111,\"#46039f\"],[0.2222222222222222,\"#7201a8\"],[0.3333333333333333,\"#9c179e\"],[0.4444444444444444,\"#bd3786\"],[0.5555555555555556,\"#d8576b\"],[0.6666666666666666,\"#ed7953\"],[0.7777777777777778,\"#fb9f3a\"],[0.8888888888888888,\"#fdca26\"],[1.0,\"#f0f921\"]]}],\"mesh3d\":[{\"type\":\"mesh3d\",\"colorbar\":{\"outlinewidth\":0,\"ticks\":\"\"}}],\"scatter\":[{\"fillpattern\":{\"fillmode\":\"overlay\",\"size\":10,\"solidity\":0.2},\"type\":\"scatter\"}],\"parcoords\":[{\"type\":\"parcoords\",\"line\":{\"colorbar\":{\"outlinewidth\":0,\"ticks\":\"\"}}}],\"scatterpolargl\":[{\"type\":\"scatterpolargl\",\"marker\":{\"colorbar\":{\"outlinewidth\":0,\"ticks\":\"\"}}}],\"bar\":[{\"error_x\":{\"color\":\"#2a3f5f\"},\"error_y\":{\"color\":\"#2a3f5f\"},\"marker\":{\"line\":{\"color\":\"#E5ECF6\",\"width\":0.5},\"pattern\":{\"fillmode\":\"overlay\",\"size\":10,\"solidity\":0.2}},\"type\":\"bar\"}],\"scattergeo\":[{\"type\":\"scattergeo\",\"marker\":{\"colorbar\":{\"outlinewidth\":0,\"ticks\":\"\"}}}],\"scatterpolar\":[{\"type\":\"scatterpolar\",\"marker\":{\"colorbar\":{\"outlinewidth\":0,\"ticks\":\"\"}}}],\"histogram\":[{\"marker\":{\"pattern\":{\"fillmode\":\"overlay\",\"size\":10,\"solidity\":0.2}},\"type\":\"histogram\"}],\"scattergl\":[{\"type\":\"scattergl\",\"marker\":{\"colorbar\":{\"outlinewidth\":0,\"ticks\":\"\"}}}],\"scatter3d\":[{\"type\":\"scatter3d\",\"line\":{\"colorbar\":{\"outlinewidth\":0,\"ticks\":\"\"}},\"marker\":{\"colorbar\":{\"outlinewidth\":0,\"ticks\":\"\"}}}],\"scattermapbox\":[{\"type\":\"scattermapbox\",\"marker\":{\"colorbar\":{\"outlinewidth\":0,\"ticks\":\"\"}}}],\"scatterternary\":[{\"type\":\"scatterternary\",\"marker\":{\"colorbar\":{\"outlinewidth\":0,\"ticks\":\"\"}}}],\"scattercarpet\":[{\"type\":\"scattercarpet\",\"marker\":{\"colorbar\":{\"outlinewidth\":0,\"ticks\":\"\"}}}],\"carpet\":[{\"aaxis\":{\"endlinecolor\":\"#2a3f5f\",\"gridcolor\":\"white\",\"linecolor\":\"white\",\"minorgridcolor\":\"white\",\"startlinecolor\":\"#2a3f5f\"},\"baxis\":{\"endlinecolor\":\"#2a3f5f\",\"gridcolor\":\"white\",\"linecolor\":\"white\",\"minorgridcolor\":\"white\",\"startlinecolor\":\"#2a3f5f\"},\"type\":\"carpet\"}],\"table\":[{\"cells\":{\"fill\":{\"color\":\"#EBF0F8\"},\"line\":{\"color\":\"white\"}},\"header\":{\"fill\":{\"color\":\"#C8D4E3\"},\"line\":{\"color\":\"white\"}},\"type\":\"table\"}],\"barpolar\":[{\"marker\":{\"line\":{\"color\":\"#E5ECF6\",\"width\":0.5},\"pattern\":{\"fillmode\":\"overlay\",\"size\":10,\"solidity\":0.2}},\"type\":\"barpolar\"}],\"pie\":[{\"automargin\":true,\"type\":\"pie\"}]},\"layout\":{\"autotypenumbers\":\"strict\",\"colorway\":[\"#636efa\",\"#EF553B\",\"#00cc96\",\"#ab63fa\",\"#FFA15A\",\"#19d3f3\",\"#FF6692\",\"#B6E880\",\"#FF97FF\",\"#FECB52\"],\"font\":{\"color\":\"#2a3f5f\"},\"hovermode\":\"closest\",\"hoverlabel\":{\"align\":\"left\"},\"paper_bgcolor\":\"white\",\"plot_bgcolor\":\"#E5ECF6\",\"polar\":{\"bgcolor\":\"#E5ECF6\",\"angularaxis\":{\"gridcolor\":\"white\",\"linecolor\":\"white\",\"ticks\":\"\"},\"radialaxis\":{\"gridcolor\":\"white\",\"linecolor\":\"white\",\"ticks\":\"\"}},\"ternary\":{\"bgcolor\":\"#E5ECF6\",\"aaxis\":{\"gridcolor\":\"white\",\"linecolor\":\"white\",\"ticks\":\"\"},\"baxis\":{\"gridcolor\":\"white\",\"linecolor\":\"white\",\"ticks\":\"\"},\"caxis\":{\"gridcolor\":\"white\",\"linecolor\":\"white\",\"ticks\":\"\"}},\"coloraxis\":{\"colorbar\":{\"outlinewidth\":0,\"ticks\":\"\"}},\"colorscale\":{\"sequential\":[[0.0,\"#0d0887\"],[0.1111111111111111,\"#46039f\"],[0.2222222222222222,\"#7201a8\"],[0.3333333333333333,\"#9c179e\"],[0.4444444444444444,\"#bd3786\"],[0.5555555555555556,\"#d8576b\"],[0.6666666666666666,\"#ed7953\"],[0.7777777777777778,\"#fb9f3a\"],[0.8888888888888888,\"#fdca26\"],[1.0,\"#f0f921\"]],\"sequentialminus\":[[0.0,\"#0d0887\"],[0.1111111111111111,\"#46039f\"],[0.2222222222222222,\"#7201a8\"],[0.3333333333333333,\"#9c179e\"],[0.4444444444444444,\"#bd3786\"],[0.5555555555555556,\"#d8576b\"],[0.6666666666666666,\"#ed7953\"],[0.7777777777777778,\"#fb9f3a\"],[0.8888888888888888,\"#fdca26\"],[1.0,\"#f0f921\"]],\"diverging\":[[0,\"#8e0152\"],[0.1,\"#c51b7d\"],[0.2,\"#de77ae\"],[0.3,\"#f1b6da\"],[0.4,\"#fde0ef\"],[0.5,\"#f7f7f7\"],[0.6,\"#e6f5d0\"],[0.7,\"#b8e186\"],[0.8,\"#7fbc41\"],[0.9,\"#4d9221\"],[1,\"#276419\"]]},\"xaxis\":{\"gridcolor\":\"white\",\"linecolor\":\"white\",\"ticks\":\"\",\"title\":{\"standoff\":15},\"zerolinecolor\":\"white\",\"automargin\":true,\"zerolinewidth\":2},\"yaxis\":{\"gridcolor\":\"white\",\"linecolor\":\"white\",\"ticks\":\"\",\"title\":{\"standoff\":15},\"zerolinecolor\":\"white\",\"automargin\":true,\"zerolinewidth\":2},\"scene\":{\"xaxis\":{\"backgroundcolor\":\"#E5ECF6\",\"gridcolor\":\"white\",\"linecolor\":\"white\",\"showbackground\":true,\"ticks\":\"\",\"zerolinecolor\":\"white\",\"gridwidth\":2},\"yaxis\":{\"backgroundcolor\":\"#E5ECF6\",\"gridcolor\":\"white\",\"linecolor\":\"white\",\"showbackground\":true,\"ticks\":\"\",\"zerolinecolor\":\"white\",\"gridwidth\":2},\"zaxis\":{\"backgroundcolor\":\"#E5ECF6\",\"gridcolor\":\"white\",\"linecolor\":\"white\",\"showbackground\":true,\"ticks\":\"\",\"zerolinecolor\":\"white\",\"gridwidth\":2}},\"shapedefaults\":{\"line\":{\"color\":\"#2a3f5f\"}},\"annotationdefaults\":{\"arrowcolor\":\"#2a3f5f\",\"arrowhead\":0,\"arrowwidth\":1},\"geo\":{\"bgcolor\":\"white\",\"landcolor\":\"#E5ECF6\",\"subunitcolor\":\"white\",\"showland\":true,\"showlakes\":true,\"lakecolor\":\"white\"},\"title\":{\"x\":0.05},\"mapbox\":{\"style\":\"light\"}}},\"xaxis\":{\"title\":{\"text\":\"date\"}},\"yaxis\":{\"title\":{\"text\":\"Passengers\"}}},                        {\"responsive\": true}                    ).then(function(){\n",
       "                            \n",
       "var gd = document.getElementById('04e48d0a-a97b-4552-916d-b3842f3c0ee4');\n",
       "var x = new MutationObserver(function (mutations, observer) {{\n",
       "        var display = window.getComputedStyle(gd).display;\n",
       "        if (!display || display === 'none') {{\n",
       "            console.log([gd, 'removed!']);\n",
       "            Plotly.purge(gd);\n",
       "            observer.disconnect();\n",
       "        }}\n",
       "}});\n",
       "\n",
       "// Listen for the removal of the full notebook cells\n",
       "var notebookContainer = gd.closest('#notebook-container');\n",
       "if (notebookContainer) {{\n",
       "    x.observe(notebookContainer, {childList: true});\n",
       "}}\n",
       "\n",
       "// Listen for the clearing of the current output cell\n",
       "var outputEl = gd.closest('.output');\n",
       "if (outputEl) {{\n",
       "    x.observe(outputEl, {childList: true});\n",
       "}}\n",
       "\n",
       "                        })                };                });            </script>        </div>"
      ]
     },
     "metadata": {},
     "output_type": "display_data"
    }
   ],
   "source": [
    "fig=go.Figure()\n",
    "fig.add_trace(go.Scatter(x=train_xaxis,y=y_train,mode='lines',name='Train'))\n",
    "fig.add_trace(go.Scatter(x=test_xaxis,y=y_test,mode='lines',name='Test'))\n",
    "fig.add_trace(go.Scatter(x=test_xaxis,y=tuned_preds,mode='lines',name='Pred'))\n",
    "fig.update_xaxes(title='date')\n",
    "fig.update_yaxes(title='Passengers')\n",
    "\n",
    "fig.show()"
   ]
  },
  {
   "cell_type": "code",
   "execution_count": 887,
   "id": "83aa2a1a",
   "metadata": {},
   "outputs": [
    {
     "data": {
      "application/vnd.plotly.v1+json": {
       "config": {
        "plotlyServerURL": "https://plot.ly"
       },
       "data": [
        {
         "mode": "lines",
         "name": "Preds",
         "type": "scatter",
         "x": [
          "1949-05",
          "1949-06",
          "1949-07",
          "1949-08",
          "1949-09",
          "1949-10",
          "1949-11",
          "1949-12",
          "1950-01",
          "1950-02",
          "1950-03",
          "1950-04",
          "1950-05",
          "1950-06",
          "1950-07",
          "1950-08",
          "1950-09",
          "1950-10",
          "1950-11",
          "1950-12",
          "1951-01",
          "1951-02",
          "1951-03",
          "1951-04",
          "1951-05",
          "1951-06",
          "1951-07",
          "1951-08",
          "1951-09",
          "1951-10",
          "1951-11",
          "1951-12",
          "1952-01",
          "1952-02",
          "1952-03",
          "1952-04",
          "1952-05",
          "1952-06",
          "1952-07",
          "1952-08",
          "1952-09",
          "1952-10",
          "1952-11",
          "1952-12",
          "1953-01",
          "1953-02",
          "1953-03",
          "1953-04",
          "1953-05",
          "1953-06",
          "1953-07",
          "1953-08",
          "1953-09",
          "1953-10",
          "1953-11",
          "1953-12",
          "1954-01",
          "1954-02",
          "1954-03",
          "1954-04",
          "1954-05",
          "1954-06",
          "1954-07",
          "1954-08",
          "1954-09",
          "1954-10",
          "1954-11",
          "1954-12",
          "1955-01",
          "1955-02",
          "1955-03",
          "1955-04",
          "1955-05",
          "1955-06",
          "1955-07",
          "1955-08",
          "1955-09",
          "1955-10",
          "1955-11",
          "1955-12",
          "1956-01",
          "1956-02",
          "1956-03",
          "1956-04",
          "1956-05",
          "1956-06",
          "1956-07",
          "1956-08",
          "1956-09",
          "1956-10",
          "1956-11",
          "1956-12",
          "1957-01",
          "1957-02",
          "1957-03",
          "1957-04",
          "1957-05",
          "1957-06",
          "1957-07",
          "1957-08",
          "1957-09",
          "1957-10",
          "1957-11",
          "1957-12",
          "1958-01",
          "1958-02",
          "1958-03",
          "1958-04",
          "1958-05",
          "1958-06",
          "1958-07",
          "1958-08",
          "1958-09",
          "1958-10",
          "1958-11",
          "1958-12",
          "1959-01",
          "1959-02",
          "1959-03",
          "1959-04",
          "1959-05",
          "1959-06",
          "1959-07",
          "1959-08",
          "1959-09",
          "1959-10",
          "1959-11",
          "1959-12",
          "1960-01",
          "1960-02",
          "1960-03",
          "1960-04",
          "1960-05",
          "1960-06",
          "1960-07",
          "1960-08",
          "1960-09",
          "1960-10",
          "1960-11",
          "1960-12"
         ],
         "y": [
          121,
          135,
          148,
          148,
          136,
          119,
          104,
          118,
          115,
          126,
          141,
          135,
          125,
          149,
          170,
          170,
          158,
          133,
          114,
          140,
          145,
          150,
          178,
          163,
          172,
          178,
          199,
          199,
          184,
          162,
          146,
          166,
          171,
          180,
          193,
          181,
          183,
          218,
          230,
          242,
          209,
          191,
          172,
          194,
          196,
          196,
          236,
          235,
          229,
          243,
          264,
          272,
          237,
          211,
          180,
          201,
          204,
          188,
          235,
          227,
          234,
          264,
          302,
          293,
          259,
          229,
          203,
          229,
          242,
          233,
          267,
          269,
          270,
          315,
          364,
          347,
          312,
          274,
          237,
          278,
          284,
          277,
          317,
          313,
          318,
          374,
          413,
          405,
          355,
          306,
          271,
          306,
          315,
          301,
          356,
          348,
          355,
          422,
          465,
          467,
          404,
          347,
          305,
          336,
          340,
          318,
          362,
          348,
          363,
          435,
          491,
          473.85923275417747,
          442.95421039391294,
          353.45352687031834,
          344.1487814570752,
          364.647716463754,
          359.8441764948468,
          366.89447258551,
          389.9009568780775,
          431.0723762826444,
          417.7546010556349,
          476.0498042870298,
          504.8778828178786,
          514.2029973289519,
          477.5773138053572,
          413.2689482444091,
          372.2576217154433,
          396.4269134726104,
          398.623239989299,
          405.62155320032343,
          452.40318397726594,
          418.07873755999447,
          462.80170973708346,
          509.65577970775155,
          527.7756482471451,
          528.9374326800935,
          509.56177585937974,
          476.3203410693055,
          427.67509387078417,
          411.95144129201367
         ]
        },
        {
         "mode": "lines",
         "name": "Real",
         "type": "scatter",
         "x": [
          "1949-05",
          "1949-06",
          "1949-07",
          "1949-08",
          "1949-09",
          "1949-10",
          "1949-11",
          "1949-12",
          "1950-01",
          "1950-02",
          "1950-03",
          "1950-04",
          "1950-05",
          "1950-06",
          "1950-07",
          "1950-08",
          "1950-09",
          "1950-10",
          "1950-11",
          "1950-12",
          "1951-01",
          "1951-02",
          "1951-03",
          "1951-04",
          "1951-05",
          "1951-06",
          "1951-07",
          "1951-08",
          "1951-09",
          "1951-10",
          "1951-11",
          "1951-12",
          "1952-01",
          "1952-02",
          "1952-03",
          "1952-04",
          "1952-05",
          "1952-06",
          "1952-07",
          "1952-08",
          "1952-09",
          "1952-10",
          "1952-11",
          "1952-12",
          "1953-01",
          "1953-02",
          "1953-03",
          "1953-04",
          "1953-05",
          "1953-06",
          "1953-07",
          "1953-08",
          "1953-09",
          "1953-10",
          "1953-11",
          "1953-12",
          "1954-01",
          "1954-02",
          "1954-03",
          "1954-04",
          "1954-05",
          "1954-06",
          "1954-07",
          "1954-08",
          "1954-09",
          "1954-10",
          "1954-11",
          "1954-12",
          "1955-01",
          "1955-02",
          "1955-03",
          "1955-04",
          "1955-05",
          "1955-06",
          "1955-07",
          "1955-08",
          "1955-09",
          "1955-10",
          "1955-11",
          "1955-12",
          "1956-01",
          "1956-02",
          "1956-03",
          "1956-04",
          "1956-05",
          "1956-06",
          "1956-07",
          "1956-08",
          "1956-09",
          "1956-10",
          "1956-11",
          "1956-12",
          "1957-01",
          "1957-02",
          "1957-03",
          "1957-04",
          "1957-05",
          "1957-06",
          "1957-07",
          "1957-08",
          "1957-09",
          "1957-10",
          "1957-11",
          "1957-12",
          "1958-01",
          "1958-02",
          "1958-03",
          "1958-04",
          "1958-05",
          "1958-06",
          "1958-07",
          "1958-08",
          "1958-09",
          "1958-10",
          "1958-11",
          "1958-12",
          "1959-01",
          "1959-02",
          "1959-03",
          "1959-04",
          "1959-05",
          "1959-06",
          "1959-07",
          "1959-08",
          "1959-09",
          "1959-10",
          "1959-11",
          "1959-12",
          "1960-01",
          "1960-02",
          "1960-03",
          "1960-04",
          "1960-05",
          "1960-06",
          "1960-07",
          "1960-08",
          "1960-09",
          "1960-10",
          "1960-11",
          "1960-12"
         ],
         "y": [
          121,
          135,
          148,
          148,
          136,
          119,
          104,
          118,
          115,
          126,
          141,
          135,
          125,
          149,
          170,
          170,
          158,
          133,
          114,
          140,
          145,
          150,
          178,
          163,
          172,
          178,
          199,
          199,
          184,
          162,
          146,
          166,
          171,
          180,
          193,
          181,
          183,
          218,
          230,
          242,
          209,
          191,
          172,
          194,
          196,
          196,
          236,
          235,
          229,
          243,
          264,
          272,
          237,
          211,
          180,
          201,
          204,
          188,
          235,
          227,
          234,
          264,
          302,
          293,
          259,
          229,
          203,
          229,
          242,
          233,
          267,
          269,
          270,
          315,
          364,
          347,
          312,
          274,
          237,
          278,
          284,
          277,
          317,
          313,
          318,
          374,
          413,
          405,
          355,
          306,
          271,
          306,
          315,
          301,
          356,
          348,
          355,
          422,
          465,
          467,
          404,
          347,
          305,
          336,
          340,
          318,
          362,
          348,
          363,
          435,
          491,
          505,
          404,
          359,
          310,
          337,
          360,
          342,
          406,
          396,
          420,
          472,
          548,
          559,
          463,
          407,
          362,
          405,
          417,
          391,
          419,
          461,
          472,
          535,
          622,
          606,
          508,
          461,
          390,
          432
         ]
        }
       ],
       "layout": {
        "template": {
         "data": {
          "bar": [
           {
            "error_x": {
             "color": "#2a3f5f"
            },
            "error_y": {
             "color": "#2a3f5f"
            },
            "marker": {
             "line": {
              "color": "#E5ECF6",
              "width": 0.5
             },
             "pattern": {
              "fillmode": "overlay",
              "size": 10,
              "solidity": 0.2
             }
            },
            "type": "bar"
           }
          ],
          "barpolar": [
           {
            "marker": {
             "line": {
              "color": "#E5ECF6",
              "width": 0.5
             },
             "pattern": {
              "fillmode": "overlay",
              "size": 10,
              "solidity": 0.2
             }
            },
            "type": "barpolar"
           }
          ],
          "carpet": [
           {
            "aaxis": {
             "endlinecolor": "#2a3f5f",
             "gridcolor": "white",
             "linecolor": "white",
             "minorgridcolor": "white",
             "startlinecolor": "#2a3f5f"
            },
            "baxis": {
             "endlinecolor": "#2a3f5f",
             "gridcolor": "white",
             "linecolor": "white",
             "minorgridcolor": "white",
             "startlinecolor": "#2a3f5f"
            },
            "type": "carpet"
           }
          ],
          "choropleth": [
           {
            "colorbar": {
             "outlinewidth": 0,
             "ticks": ""
            },
            "type": "choropleth"
           }
          ],
          "contour": [
           {
            "colorbar": {
             "outlinewidth": 0,
             "ticks": ""
            },
            "colorscale": [
             [
              0,
              "#0d0887"
             ],
             [
              0.1111111111111111,
              "#46039f"
             ],
             [
              0.2222222222222222,
              "#7201a8"
             ],
             [
              0.3333333333333333,
              "#9c179e"
             ],
             [
              0.4444444444444444,
              "#bd3786"
             ],
             [
              0.5555555555555556,
              "#d8576b"
             ],
             [
              0.6666666666666666,
              "#ed7953"
             ],
             [
              0.7777777777777778,
              "#fb9f3a"
             ],
             [
              0.8888888888888888,
              "#fdca26"
             ],
             [
              1,
              "#f0f921"
             ]
            ],
            "type": "contour"
           }
          ],
          "contourcarpet": [
           {
            "colorbar": {
             "outlinewidth": 0,
             "ticks": ""
            },
            "type": "contourcarpet"
           }
          ],
          "heatmap": [
           {
            "colorbar": {
             "outlinewidth": 0,
             "ticks": ""
            },
            "colorscale": [
             [
              0,
              "#0d0887"
             ],
             [
              0.1111111111111111,
              "#46039f"
             ],
             [
              0.2222222222222222,
              "#7201a8"
             ],
             [
              0.3333333333333333,
              "#9c179e"
             ],
             [
              0.4444444444444444,
              "#bd3786"
             ],
             [
              0.5555555555555556,
              "#d8576b"
             ],
             [
              0.6666666666666666,
              "#ed7953"
             ],
             [
              0.7777777777777778,
              "#fb9f3a"
             ],
             [
              0.8888888888888888,
              "#fdca26"
             ],
             [
              1,
              "#f0f921"
             ]
            ],
            "type": "heatmap"
           }
          ],
          "heatmapgl": [
           {
            "colorbar": {
             "outlinewidth": 0,
             "ticks": ""
            },
            "colorscale": [
             [
              0,
              "#0d0887"
             ],
             [
              0.1111111111111111,
              "#46039f"
             ],
             [
              0.2222222222222222,
              "#7201a8"
             ],
             [
              0.3333333333333333,
              "#9c179e"
             ],
             [
              0.4444444444444444,
              "#bd3786"
             ],
             [
              0.5555555555555556,
              "#d8576b"
             ],
             [
              0.6666666666666666,
              "#ed7953"
             ],
             [
              0.7777777777777778,
              "#fb9f3a"
             ],
             [
              0.8888888888888888,
              "#fdca26"
             ],
             [
              1,
              "#f0f921"
             ]
            ],
            "type": "heatmapgl"
           }
          ],
          "histogram": [
           {
            "marker": {
             "pattern": {
              "fillmode": "overlay",
              "size": 10,
              "solidity": 0.2
             }
            },
            "type": "histogram"
           }
          ],
          "histogram2d": [
           {
            "colorbar": {
             "outlinewidth": 0,
             "ticks": ""
            },
            "colorscale": [
             [
              0,
              "#0d0887"
             ],
             [
              0.1111111111111111,
              "#46039f"
             ],
             [
              0.2222222222222222,
              "#7201a8"
             ],
             [
              0.3333333333333333,
              "#9c179e"
             ],
             [
              0.4444444444444444,
              "#bd3786"
             ],
             [
              0.5555555555555556,
              "#d8576b"
             ],
             [
              0.6666666666666666,
              "#ed7953"
             ],
             [
              0.7777777777777778,
              "#fb9f3a"
             ],
             [
              0.8888888888888888,
              "#fdca26"
             ],
             [
              1,
              "#f0f921"
             ]
            ],
            "type": "histogram2d"
           }
          ],
          "histogram2dcontour": [
           {
            "colorbar": {
             "outlinewidth": 0,
             "ticks": ""
            },
            "colorscale": [
             [
              0,
              "#0d0887"
             ],
             [
              0.1111111111111111,
              "#46039f"
             ],
             [
              0.2222222222222222,
              "#7201a8"
             ],
             [
              0.3333333333333333,
              "#9c179e"
             ],
             [
              0.4444444444444444,
              "#bd3786"
             ],
             [
              0.5555555555555556,
              "#d8576b"
             ],
             [
              0.6666666666666666,
              "#ed7953"
             ],
             [
              0.7777777777777778,
              "#fb9f3a"
             ],
             [
              0.8888888888888888,
              "#fdca26"
             ],
             [
              1,
              "#f0f921"
             ]
            ],
            "type": "histogram2dcontour"
           }
          ],
          "mesh3d": [
           {
            "colorbar": {
             "outlinewidth": 0,
             "ticks": ""
            },
            "type": "mesh3d"
           }
          ],
          "parcoords": [
           {
            "line": {
             "colorbar": {
              "outlinewidth": 0,
              "ticks": ""
             }
            },
            "type": "parcoords"
           }
          ],
          "pie": [
           {
            "automargin": true,
            "type": "pie"
           }
          ],
          "scatter": [
           {
            "fillpattern": {
             "fillmode": "overlay",
             "size": 10,
             "solidity": 0.2
            },
            "type": "scatter"
           }
          ],
          "scatter3d": [
           {
            "line": {
             "colorbar": {
              "outlinewidth": 0,
              "ticks": ""
             }
            },
            "marker": {
             "colorbar": {
              "outlinewidth": 0,
              "ticks": ""
             }
            },
            "type": "scatter3d"
           }
          ],
          "scattercarpet": [
           {
            "marker": {
             "colorbar": {
              "outlinewidth": 0,
              "ticks": ""
             }
            },
            "type": "scattercarpet"
           }
          ],
          "scattergeo": [
           {
            "marker": {
             "colorbar": {
              "outlinewidth": 0,
              "ticks": ""
             }
            },
            "type": "scattergeo"
           }
          ],
          "scattergl": [
           {
            "marker": {
             "colorbar": {
              "outlinewidth": 0,
              "ticks": ""
             }
            },
            "type": "scattergl"
           }
          ],
          "scattermapbox": [
           {
            "marker": {
             "colorbar": {
              "outlinewidth": 0,
              "ticks": ""
             }
            },
            "type": "scattermapbox"
           }
          ],
          "scatterpolar": [
           {
            "marker": {
             "colorbar": {
              "outlinewidth": 0,
              "ticks": ""
             }
            },
            "type": "scatterpolar"
           }
          ],
          "scatterpolargl": [
           {
            "marker": {
             "colorbar": {
              "outlinewidth": 0,
              "ticks": ""
             }
            },
            "type": "scatterpolargl"
           }
          ],
          "scatterternary": [
           {
            "marker": {
             "colorbar": {
              "outlinewidth": 0,
              "ticks": ""
             }
            },
            "type": "scatterternary"
           }
          ],
          "surface": [
           {
            "colorbar": {
             "outlinewidth": 0,
             "ticks": ""
            },
            "colorscale": [
             [
              0,
              "#0d0887"
             ],
             [
              0.1111111111111111,
              "#46039f"
             ],
             [
              0.2222222222222222,
              "#7201a8"
             ],
             [
              0.3333333333333333,
              "#9c179e"
             ],
             [
              0.4444444444444444,
              "#bd3786"
             ],
             [
              0.5555555555555556,
              "#d8576b"
             ],
             [
              0.6666666666666666,
              "#ed7953"
             ],
             [
              0.7777777777777778,
              "#fb9f3a"
             ],
             [
              0.8888888888888888,
              "#fdca26"
             ],
             [
              1,
              "#f0f921"
             ]
            ],
            "type": "surface"
           }
          ],
          "table": [
           {
            "cells": {
             "fill": {
              "color": "#EBF0F8"
             },
             "line": {
              "color": "white"
             }
            },
            "header": {
             "fill": {
              "color": "#C8D4E3"
             },
             "line": {
              "color": "white"
             }
            },
            "type": "table"
           }
          ]
         },
         "layout": {
          "annotationdefaults": {
           "arrowcolor": "#2a3f5f",
           "arrowhead": 0,
           "arrowwidth": 1
          },
          "autotypenumbers": "strict",
          "coloraxis": {
           "colorbar": {
            "outlinewidth": 0,
            "ticks": ""
           }
          },
          "colorscale": {
           "diverging": [
            [
             0,
             "#8e0152"
            ],
            [
             0.1,
             "#c51b7d"
            ],
            [
             0.2,
             "#de77ae"
            ],
            [
             0.3,
             "#f1b6da"
            ],
            [
             0.4,
             "#fde0ef"
            ],
            [
             0.5,
             "#f7f7f7"
            ],
            [
             0.6,
             "#e6f5d0"
            ],
            [
             0.7,
             "#b8e186"
            ],
            [
             0.8,
             "#7fbc41"
            ],
            [
             0.9,
             "#4d9221"
            ],
            [
             1,
             "#276419"
            ]
           ],
           "sequential": [
            [
             0,
             "#0d0887"
            ],
            [
             0.1111111111111111,
             "#46039f"
            ],
            [
             0.2222222222222222,
             "#7201a8"
            ],
            [
             0.3333333333333333,
             "#9c179e"
            ],
            [
             0.4444444444444444,
             "#bd3786"
            ],
            [
             0.5555555555555556,
             "#d8576b"
            ],
            [
             0.6666666666666666,
             "#ed7953"
            ],
            [
             0.7777777777777778,
             "#fb9f3a"
            ],
            [
             0.8888888888888888,
             "#fdca26"
            ],
            [
             1,
             "#f0f921"
            ]
           ],
           "sequentialminus": [
            [
             0,
             "#0d0887"
            ],
            [
             0.1111111111111111,
             "#46039f"
            ],
            [
             0.2222222222222222,
             "#7201a8"
            ],
            [
             0.3333333333333333,
             "#9c179e"
            ],
            [
             0.4444444444444444,
             "#bd3786"
            ],
            [
             0.5555555555555556,
             "#d8576b"
            ],
            [
             0.6666666666666666,
             "#ed7953"
            ],
            [
             0.7777777777777778,
             "#fb9f3a"
            ],
            [
             0.8888888888888888,
             "#fdca26"
            ],
            [
             1,
             "#f0f921"
            ]
           ]
          },
          "colorway": [
           "#636efa",
           "#EF553B",
           "#00cc96",
           "#ab63fa",
           "#FFA15A",
           "#19d3f3",
           "#FF6692",
           "#B6E880",
           "#FF97FF",
           "#FECB52"
          ],
          "font": {
           "color": "#2a3f5f"
          },
          "geo": {
           "bgcolor": "white",
           "lakecolor": "white",
           "landcolor": "#E5ECF6",
           "showlakes": true,
           "showland": true,
           "subunitcolor": "white"
          },
          "hoverlabel": {
           "align": "left"
          },
          "hovermode": "closest",
          "mapbox": {
           "style": "light"
          },
          "paper_bgcolor": "white",
          "plot_bgcolor": "#E5ECF6",
          "polar": {
           "angularaxis": {
            "gridcolor": "white",
            "linecolor": "white",
            "ticks": ""
           },
           "bgcolor": "#E5ECF6",
           "radialaxis": {
            "gridcolor": "white",
            "linecolor": "white",
            "ticks": ""
           }
          },
          "scene": {
           "xaxis": {
            "backgroundcolor": "#E5ECF6",
            "gridcolor": "white",
            "gridwidth": 2,
            "linecolor": "white",
            "showbackground": true,
            "ticks": "",
            "zerolinecolor": "white"
           },
           "yaxis": {
            "backgroundcolor": "#E5ECF6",
            "gridcolor": "white",
            "gridwidth": 2,
            "linecolor": "white",
            "showbackground": true,
            "ticks": "",
            "zerolinecolor": "white"
           },
           "zaxis": {
            "backgroundcolor": "#E5ECF6",
            "gridcolor": "white",
            "gridwidth": 2,
            "linecolor": "white",
            "showbackground": true,
            "ticks": "",
            "zerolinecolor": "white"
           }
          },
          "shapedefaults": {
           "line": {
            "color": "#2a3f5f"
           }
          },
          "ternary": {
           "aaxis": {
            "gridcolor": "white",
            "linecolor": "white",
            "ticks": ""
           },
           "baxis": {
            "gridcolor": "white",
            "linecolor": "white",
            "ticks": ""
           },
           "bgcolor": "#E5ECF6",
           "caxis": {
            "gridcolor": "white",
            "linecolor": "white",
            "ticks": ""
           }
          },
          "title": {
           "x": 0.05
          },
          "xaxis": {
           "automargin": true,
           "gridcolor": "white",
           "linecolor": "white",
           "ticks": "",
           "title": {
            "standoff": 15
           },
           "zerolinecolor": "white",
           "zerolinewidth": 2
          },
          "yaxis": {
           "automargin": true,
           "gridcolor": "white",
           "linecolor": "white",
           "ticks": "",
           "title": {
            "standoff": 15
           },
           "zerolinecolor": "white",
           "zerolinewidth": 2
          }
         }
        },
        "xaxis": {
         "title": {
          "text": "date"
         }
        },
        "yaxis": {
         "title": {
          "text": "Passengers"
         }
        }
       }
      },
      "text/html": [
       "<div>                            <div id=\"bd15da45-7cd9-47a1-aeb4-d52ec70d8952\" class=\"plotly-graph-div\" style=\"height:525px; width:100%;\"></div>            <script type=\"text/javascript\">                require([\"plotly\"], function(Plotly) {                    window.PLOTLYENV=window.PLOTLYENV || {};                                    if (document.getElementById(\"bd15da45-7cd9-47a1-aeb4-d52ec70d8952\")) {                    Plotly.newPlot(                        \"bd15da45-7cd9-47a1-aeb4-d52ec70d8952\",                        [{\"mode\":\"lines\",\"name\":\"Preds\",\"x\":[\"1949-05\",\"1949-06\",\"1949-07\",\"1949-08\",\"1949-09\",\"1949-10\",\"1949-11\",\"1949-12\",\"1950-01\",\"1950-02\",\"1950-03\",\"1950-04\",\"1950-05\",\"1950-06\",\"1950-07\",\"1950-08\",\"1950-09\",\"1950-10\",\"1950-11\",\"1950-12\",\"1951-01\",\"1951-02\",\"1951-03\",\"1951-04\",\"1951-05\",\"1951-06\",\"1951-07\",\"1951-08\",\"1951-09\",\"1951-10\",\"1951-11\",\"1951-12\",\"1952-01\",\"1952-02\",\"1952-03\",\"1952-04\",\"1952-05\",\"1952-06\",\"1952-07\",\"1952-08\",\"1952-09\",\"1952-10\",\"1952-11\",\"1952-12\",\"1953-01\",\"1953-02\",\"1953-03\",\"1953-04\",\"1953-05\",\"1953-06\",\"1953-07\",\"1953-08\",\"1953-09\",\"1953-10\",\"1953-11\",\"1953-12\",\"1954-01\",\"1954-02\",\"1954-03\",\"1954-04\",\"1954-05\",\"1954-06\",\"1954-07\",\"1954-08\",\"1954-09\",\"1954-10\",\"1954-11\",\"1954-12\",\"1955-01\",\"1955-02\",\"1955-03\",\"1955-04\",\"1955-05\",\"1955-06\",\"1955-07\",\"1955-08\",\"1955-09\",\"1955-10\",\"1955-11\",\"1955-12\",\"1956-01\",\"1956-02\",\"1956-03\",\"1956-04\",\"1956-05\",\"1956-06\",\"1956-07\",\"1956-08\",\"1956-09\",\"1956-10\",\"1956-11\",\"1956-12\",\"1957-01\",\"1957-02\",\"1957-03\",\"1957-04\",\"1957-05\",\"1957-06\",\"1957-07\",\"1957-08\",\"1957-09\",\"1957-10\",\"1957-11\",\"1957-12\",\"1958-01\",\"1958-02\",\"1958-03\",\"1958-04\",\"1958-05\",\"1958-06\",\"1958-07\",\"1958-08\",\"1958-09\",\"1958-10\",\"1958-11\",\"1958-12\",\"1959-01\",\"1959-02\",\"1959-03\",\"1959-04\",\"1959-05\",\"1959-06\",\"1959-07\",\"1959-08\",\"1959-09\",\"1959-10\",\"1959-11\",\"1959-12\",\"1960-01\",\"1960-02\",\"1960-03\",\"1960-04\",\"1960-05\",\"1960-06\",\"1960-07\",\"1960-08\",\"1960-09\",\"1960-10\",\"1960-11\",\"1960-12\"],\"y\":[121.0,135.0,148.0,148.0,136.0,119.0,104.0,118.0,115.0,126.0,141.0,135.0,125.0,149.0,170.0,170.0,158.0,133.0,114.0,140.0,145.0,150.0,178.0,163.0,172.0,178.0,199.0,199.0,184.0,162.0,146.0,166.0,171.0,180.0,193.0,181.0,183.0,218.0,230.0,242.0,209.0,191.0,172.0,194.0,196.0,196.0,236.0,235.0,229.0,243.0,264.0,272.0,237.0,211.0,180.0,201.0,204.0,188.0,235.0,227.0,234.0,264.0,302.0,293.0,259.0,229.0,203.0,229.0,242.0,233.0,267.0,269.0,270.0,315.0,364.0,347.0,312.0,274.0,237.0,278.0,284.0,277.0,317.0,313.0,318.0,374.0,413.0,405.0,355.0,306.0,271.0,306.0,315.0,301.0,356.0,348.0,355.0,422.0,465.0,467.0,404.0,347.0,305.0,336.0,340.0,318.0,362.0,348.0,363.0,435.0,491.0,473.85923275417747,442.95421039391294,353.45352687031834,344.1487814570752,364.647716463754,359.8441764948468,366.89447258551,389.9009568780775,431.0723762826444,417.7546010556349,476.0498042870298,504.8778828178786,514.2029973289519,477.5773138053572,413.2689482444091,372.2576217154433,396.4269134726104,398.623239989299,405.62155320032343,452.40318397726594,418.07873755999447,462.80170973708346,509.65577970775155,527.7756482471451,528.9374326800935,509.56177585937974,476.3203410693055,427.67509387078417,411.95144129201367],\"type\":\"scatter\"},{\"mode\":\"lines\",\"name\":\"Real\",\"x\":[\"1949-05\",\"1949-06\",\"1949-07\",\"1949-08\",\"1949-09\",\"1949-10\",\"1949-11\",\"1949-12\",\"1950-01\",\"1950-02\",\"1950-03\",\"1950-04\",\"1950-05\",\"1950-06\",\"1950-07\",\"1950-08\",\"1950-09\",\"1950-10\",\"1950-11\",\"1950-12\",\"1951-01\",\"1951-02\",\"1951-03\",\"1951-04\",\"1951-05\",\"1951-06\",\"1951-07\",\"1951-08\",\"1951-09\",\"1951-10\",\"1951-11\",\"1951-12\",\"1952-01\",\"1952-02\",\"1952-03\",\"1952-04\",\"1952-05\",\"1952-06\",\"1952-07\",\"1952-08\",\"1952-09\",\"1952-10\",\"1952-11\",\"1952-12\",\"1953-01\",\"1953-02\",\"1953-03\",\"1953-04\",\"1953-05\",\"1953-06\",\"1953-07\",\"1953-08\",\"1953-09\",\"1953-10\",\"1953-11\",\"1953-12\",\"1954-01\",\"1954-02\",\"1954-03\",\"1954-04\",\"1954-05\",\"1954-06\",\"1954-07\",\"1954-08\",\"1954-09\",\"1954-10\",\"1954-11\",\"1954-12\",\"1955-01\",\"1955-02\",\"1955-03\",\"1955-04\",\"1955-05\",\"1955-06\",\"1955-07\",\"1955-08\",\"1955-09\",\"1955-10\",\"1955-11\",\"1955-12\",\"1956-01\",\"1956-02\",\"1956-03\",\"1956-04\",\"1956-05\",\"1956-06\",\"1956-07\",\"1956-08\",\"1956-09\",\"1956-10\",\"1956-11\",\"1956-12\",\"1957-01\",\"1957-02\",\"1957-03\",\"1957-04\",\"1957-05\",\"1957-06\",\"1957-07\",\"1957-08\",\"1957-09\",\"1957-10\",\"1957-11\",\"1957-12\",\"1958-01\",\"1958-02\",\"1958-03\",\"1958-04\",\"1958-05\",\"1958-06\",\"1958-07\",\"1958-08\",\"1958-09\",\"1958-10\",\"1958-11\",\"1958-12\",\"1959-01\",\"1959-02\",\"1959-03\",\"1959-04\",\"1959-05\",\"1959-06\",\"1959-07\",\"1959-08\",\"1959-09\",\"1959-10\",\"1959-11\",\"1959-12\",\"1960-01\",\"1960-02\",\"1960-03\",\"1960-04\",\"1960-05\",\"1960-06\",\"1960-07\",\"1960-08\",\"1960-09\",\"1960-10\",\"1960-11\",\"1960-12\"],\"y\":[121.0,135.0,148.0,148.0,136.0,119.0,104.0,118.0,115.0,126.0,141.0,135.0,125.0,149.0,170.0,170.0,158.0,133.0,114.0,140.0,145.0,150.0,178.0,163.0,172.0,178.0,199.0,199.0,184.0,162.0,146.0,166.0,171.0,180.0,193.0,181.0,183.0,218.0,230.0,242.0,209.0,191.0,172.0,194.0,196.0,196.0,236.0,235.0,229.0,243.0,264.0,272.0,237.0,211.0,180.0,201.0,204.0,188.0,235.0,227.0,234.0,264.0,302.0,293.0,259.0,229.0,203.0,229.0,242.0,233.0,267.0,269.0,270.0,315.0,364.0,347.0,312.0,274.0,237.0,278.0,284.0,277.0,317.0,313.0,318.0,374.0,413.0,405.0,355.0,306.0,271.0,306.0,315.0,301.0,356.0,348.0,355.0,422.0,465.0,467.0,404.0,347.0,305.0,336.0,340.0,318.0,362.0,348.0,363.0,435.0,491.0,505.0,404.0,359.0,310.0,337.0,360.0,342.0,406.0,396.0,420.0,472.0,548.0,559.0,463.0,407.0,362.0,405.0,417.0,391.0,419.0,461.0,472.0,535.0,622.0,606.0,508.0,461.0,390.0,432.0],\"type\":\"scatter\"}],                        {\"template\":{\"data\":{\"histogram2dcontour\":[{\"type\":\"histogram2dcontour\",\"colorbar\":{\"outlinewidth\":0,\"ticks\":\"\"},\"colorscale\":[[0.0,\"#0d0887\"],[0.1111111111111111,\"#46039f\"],[0.2222222222222222,\"#7201a8\"],[0.3333333333333333,\"#9c179e\"],[0.4444444444444444,\"#bd3786\"],[0.5555555555555556,\"#d8576b\"],[0.6666666666666666,\"#ed7953\"],[0.7777777777777778,\"#fb9f3a\"],[0.8888888888888888,\"#fdca26\"],[1.0,\"#f0f921\"]]}],\"choropleth\":[{\"type\":\"choropleth\",\"colorbar\":{\"outlinewidth\":0,\"ticks\":\"\"}}],\"histogram2d\":[{\"type\":\"histogram2d\",\"colorbar\":{\"outlinewidth\":0,\"ticks\":\"\"},\"colorscale\":[[0.0,\"#0d0887\"],[0.1111111111111111,\"#46039f\"],[0.2222222222222222,\"#7201a8\"],[0.3333333333333333,\"#9c179e\"],[0.4444444444444444,\"#bd3786\"],[0.5555555555555556,\"#d8576b\"],[0.6666666666666666,\"#ed7953\"],[0.7777777777777778,\"#fb9f3a\"],[0.8888888888888888,\"#fdca26\"],[1.0,\"#f0f921\"]]}],\"heatmap\":[{\"type\":\"heatmap\",\"colorbar\":{\"outlinewidth\":0,\"ticks\":\"\"},\"colorscale\":[[0.0,\"#0d0887\"],[0.1111111111111111,\"#46039f\"],[0.2222222222222222,\"#7201a8\"],[0.3333333333333333,\"#9c179e\"],[0.4444444444444444,\"#bd3786\"],[0.5555555555555556,\"#d8576b\"],[0.6666666666666666,\"#ed7953\"],[0.7777777777777778,\"#fb9f3a\"],[0.8888888888888888,\"#fdca26\"],[1.0,\"#f0f921\"]]}],\"heatmapgl\":[{\"type\":\"heatmapgl\",\"colorbar\":{\"outlinewidth\":0,\"ticks\":\"\"},\"colorscale\":[[0.0,\"#0d0887\"],[0.1111111111111111,\"#46039f\"],[0.2222222222222222,\"#7201a8\"],[0.3333333333333333,\"#9c179e\"],[0.4444444444444444,\"#bd3786\"],[0.5555555555555556,\"#d8576b\"],[0.6666666666666666,\"#ed7953\"],[0.7777777777777778,\"#fb9f3a\"],[0.8888888888888888,\"#fdca26\"],[1.0,\"#f0f921\"]]}],\"contourcarpet\":[{\"type\":\"contourcarpet\",\"colorbar\":{\"outlinewidth\":0,\"ticks\":\"\"}}],\"contour\":[{\"type\":\"contour\",\"colorbar\":{\"outlinewidth\":0,\"ticks\":\"\"},\"colorscale\":[[0.0,\"#0d0887\"],[0.1111111111111111,\"#46039f\"],[0.2222222222222222,\"#7201a8\"],[0.3333333333333333,\"#9c179e\"],[0.4444444444444444,\"#bd3786\"],[0.5555555555555556,\"#d8576b\"],[0.6666666666666666,\"#ed7953\"],[0.7777777777777778,\"#fb9f3a\"],[0.8888888888888888,\"#fdca26\"],[1.0,\"#f0f921\"]]}],\"surface\":[{\"type\":\"surface\",\"colorbar\":{\"outlinewidth\":0,\"ticks\":\"\"},\"colorscale\":[[0.0,\"#0d0887\"],[0.1111111111111111,\"#46039f\"],[0.2222222222222222,\"#7201a8\"],[0.3333333333333333,\"#9c179e\"],[0.4444444444444444,\"#bd3786\"],[0.5555555555555556,\"#d8576b\"],[0.6666666666666666,\"#ed7953\"],[0.7777777777777778,\"#fb9f3a\"],[0.8888888888888888,\"#fdca26\"],[1.0,\"#f0f921\"]]}],\"mesh3d\":[{\"type\":\"mesh3d\",\"colorbar\":{\"outlinewidth\":0,\"ticks\":\"\"}}],\"scatter\":[{\"fillpattern\":{\"fillmode\":\"overlay\",\"size\":10,\"solidity\":0.2},\"type\":\"scatter\"}],\"parcoords\":[{\"type\":\"parcoords\",\"line\":{\"colorbar\":{\"outlinewidth\":0,\"ticks\":\"\"}}}],\"scatterpolargl\":[{\"type\":\"scatterpolargl\",\"marker\":{\"colorbar\":{\"outlinewidth\":0,\"ticks\":\"\"}}}],\"bar\":[{\"error_x\":{\"color\":\"#2a3f5f\"},\"error_y\":{\"color\":\"#2a3f5f\"},\"marker\":{\"line\":{\"color\":\"#E5ECF6\",\"width\":0.5},\"pattern\":{\"fillmode\":\"overlay\",\"size\":10,\"solidity\":0.2}},\"type\":\"bar\"}],\"scattergeo\":[{\"type\":\"scattergeo\",\"marker\":{\"colorbar\":{\"outlinewidth\":0,\"ticks\":\"\"}}}],\"scatterpolar\":[{\"type\":\"scatterpolar\",\"marker\":{\"colorbar\":{\"outlinewidth\":0,\"ticks\":\"\"}}}],\"histogram\":[{\"marker\":{\"pattern\":{\"fillmode\":\"overlay\",\"size\":10,\"solidity\":0.2}},\"type\":\"histogram\"}],\"scattergl\":[{\"type\":\"scattergl\",\"marker\":{\"colorbar\":{\"outlinewidth\":0,\"ticks\":\"\"}}}],\"scatter3d\":[{\"type\":\"scatter3d\",\"line\":{\"colorbar\":{\"outlinewidth\":0,\"ticks\":\"\"}},\"marker\":{\"colorbar\":{\"outlinewidth\":0,\"ticks\":\"\"}}}],\"scattermapbox\":[{\"type\":\"scattermapbox\",\"marker\":{\"colorbar\":{\"outlinewidth\":0,\"ticks\":\"\"}}}],\"scatterternary\":[{\"type\":\"scatterternary\",\"marker\":{\"colorbar\":{\"outlinewidth\":0,\"ticks\":\"\"}}}],\"scattercarpet\":[{\"type\":\"scattercarpet\",\"marker\":{\"colorbar\":{\"outlinewidth\":0,\"ticks\":\"\"}}}],\"carpet\":[{\"aaxis\":{\"endlinecolor\":\"#2a3f5f\",\"gridcolor\":\"white\",\"linecolor\":\"white\",\"minorgridcolor\":\"white\",\"startlinecolor\":\"#2a3f5f\"},\"baxis\":{\"endlinecolor\":\"#2a3f5f\",\"gridcolor\":\"white\",\"linecolor\":\"white\",\"minorgridcolor\":\"white\",\"startlinecolor\":\"#2a3f5f\"},\"type\":\"carpet\"}],\"table\":[{\"cells\":{\"fill\":{\"color\":\"#EBF0F8\"},\"line\":{\"color\":\"white\"}},\"header\":{\"fill\":{\"color\":\"#C8D4E3\"},\"line\":{\"color\":\"white\"}},\"type\":\"table\"}],\"barpolar\":[{\"marker\":{\"line\":{\"color\":\"#E5ECF6\",\"width\":0.5},\"pattern\":{\"fillmode\":\"overlay\",\"size\":10,\"solidity\":0.2}},\"type\":\"barpolar\"}],\"pie\":[{\"automargin\":true,\"type\":\"pie\"}]},\"layout\":{\"autotypenumbers\":\"strict\",\"colorway\":[\"#636efa\",\"#EF553B\",\"#00cc96\",\"#ab63fa\",\"#FFA15A\",\"#19d3f3\",\"#FF6692\",\"#B6E880\",\"#FF97FF\",\"#FECB52\"],\"font\":{\"color\":\"#2a3f5f\"},\"hovermode\":\"closest\",\"hoverlabel\":{\"align\":\"left\"},\"paper_bgcolor\":\"white\",\"plot_bgcolor\":\"#E5ECF6\",\"polar\":{\"bgcolor\":\"#E5ECF6\",\"angularaxis\":{\"gridcolor\":\"white\",\"linecolor\":\"white\",\"ticks\":\"\"},\"radialaxis\":{\"gridcolor\":\"white\",\"linecolor\":\"white\",\"ticks\":\"\"}},\"ternary\":{\"bgcolor\":\"#E5ECF6\",\"aaxis\":{\"gridcolor\":\"white\",\"linecolor\":\"white\",\"ticks\":\"\"},\"baxis\":{\"gridcolor\":\"white\",\"linecolor\":\"white\",\"ticks\":\"\"},\"caxis\":{\"gridcolor\":\"white\",\"linecolor\":\"white\",\"ticks\":\"\"}},\"coloraxis\":{\"colorbar\":{\"outlinewidth\":0,\"ticks\":\"\"}},\"colorscale\":{\"sequential\":[[0.0,\"#0d0887\"],[0.1111111111111111,\"#46039f\"],[0.2222222222222222,\"#7201a8\"],[0.3333333333333333,\"#9c179e\"],[0.4444444444444444,\"#bd3786\"],[0.5555555555555556,\"#d8576b\"],[0.6666666666666666,\"#ed7953\"],[0.7777777777777778,\"#fb9f3a\"],[0.8888888888888888,\"#fdca26\"],[1.0,\"#f0f921\"]],\"sequentialminus\":[[0.0,\"#0d0887\"],[0.1111111111111111,\"#46039f\"],[0.2222222222222222,\"#7201a8\"],[0.3333333333333333,\"#9c179e\"],[0.4444444444444444,\"#bd3786\"],[0.5555555555555556,\"#d8576b\"],[0.6666666666666666,\"#ed7953\"],[0.7777777777777778,\"#fb9f3a\"],[0.8888888888888888,\"#fdca26\"],[1.0,\"#f0f921\"]],\"diverging\":[[0,\"#8e0152\"],[0.1,\"#c51b7d\"],[0.2,\"#de77ae\"],[0.3,\"#f1b6da\"],[0.4,\"#fde0ef\"],[0.5,\"#f7f7f7\"],[0.6,\"#e6f5d0\"],[0.7,\"#b8e186\"],[0.8,\"#7fbc41\"],[0.9,\"#4d9221\"],[1,\"#276419\"]]},\"xaxis\":{\"gridcolor\":\"white\",\"linecolor\":\"white\",\"ticks\":\"\",\"title\":{\"standoff\":15},\"zerolinecolor\":\"white\",\"automargin\":true,\"zerolinewidth\":2},\"yaxis\":{\"gridcolor\":\"white\",\"linecolor\":\"white\",\"ticks\":\"\",\"title\":{\"standoff\":15},\"zerolinecolor\":\"white\",\"automargin\":true,\"zerolinewidth\":2},\"scene\":{\"xaxis\":{\"backgroundcolor\":\"#E5ECF6\",\"gridcolor\":\"white\",\"linecolor\":\"white\",\"showbackground\":true,\"ticks\":\"\",\"zerolinecolor\":\"white\",\"gridwidth\":2},\"yaxis\":{\"backgroundcolor\":\"#E5ECF6\",\"gridcolor\":\"white\",\"linecolor\":\"white\",\"showbackground\":true,\"ticks\":\"\",\"zerolinecolor\":\"white\",\"gridwidth\":2},\"zaxis\":{\"backgroundcolor\":\"#E5ECF6\",\"gridcolor\":\"white\",\"linecolor\":\"white\",\"showbackground\":true,\"ticks\":\"\",\"zerolinecolor\":\"white\",\"gridwidth\":2}},\"shapedefaults\":{\"line\":{\"color\":\"#2a3f5f\"}},\"annotationdefaults\":{\"arrowcolor\":\"#2a3f5f\",\"arrowhead\":0,\"arrowwidth\":1},\"geo\":{\"bgcolor\":\"white\",\"landcolor\":\"#E5ECF6\",\"subunitcolor\":\"white\",\"showland\":true,\"showlakes\":true,\"lakecolor\":\"white\"},\"title\":{\"x\":0.05},\"mapbox\":{\"style\":\"light\"}}},\"xaxis\":{\"title\":{\"text\":\"date\"}},\"yaxis\":{\"title\":{\"text\":\"Passengers\"}}},                        {\"responsive\": true}                    ).then(function(){\n",
       "                            \n",
       "var gd = document.getElementById('bd15da45-7cd9-47a1-aeb4-d52ec70d8952');\n",
       "var x = new MutationObserver(function (mutations, observer) {{\n",
       "        var display = window.getComputedStyle(gd).display;\n",
       "        if (!display || display === 'none') {{\n",
       "            console.log([gd, 'removed!']);\n",
       "            Plotly.purge(gd);\n",
       "            observer.disconnect();\n",
       "        }}\n",
       "}});\n",
       "\n",
       "// Listen for the removal of the full notebook cells\n",
       "var notebookContainer = gd.closest('#notebook-container');\n",
       "if (notebookContainer) {{\n",
       "    x.observe(notebookContainer, {childList: true});\n",
       "}}\n",
       "\n",
       "// Listen for the clearing of the current output cell\n",
       "var outputEl = gd.closest('.output');\n",
       "if (outputEl) {{\n",
       "    x.observe(outputEl, {childList: true});\n",
       "}}\n",
       "\n",
       "                        })                };                });            </script>        </div>"
      ]
     },
     "metadata": {},
     "output_type": "display_data"
    }
   ],
   "source": [
    "g1=np.array(list(y_train)+list(y_test))+np.array(trend[window_size:])\n",
    "g2=np.array(list(y_train)+list(tuned_preds))+np.array(trend[window_size:])\n",
    "xaxistime=train_xaxis.to_list()+test_xaxis.to_list()\n",
    "fig=go.Figure()\n",
    "fig.add_trace(go.Scatter(x=xaxistime,y=g2,mode='lines',name='Preds'))\n",
    "fig.add_trace(go.Scatter(x=xaxistime,y=g1,mode='lines',name='Real'))\n",
    "fig.update_xaxes(title='date')\n",
    "fig.update_yaxes(title='Passengers')\n",
    "fig.show()"
   ]
  },
  {
   "cell_type": "code",
   "execution_count": null,
   "id": "eaccd83e",
   "metadata": {},
   "outputs": [],
   "source": []
  }
 ],
 "metadata": {
  "kernelspec": {
   "display_name": "Python 3 (ipykernel)",
   "language": "python",
   "name": "python3"
  },
  "language_info": {
   "codemirror_mode": {
    "name": "ipython",
    "version": 3
   },
   "file_extension": ".py",
   "mimetype": "text/x-python",
   "name": "python",
   "nbconvert_exporter": "python",
   "pygments_lexer": "ipython3",
   "version": "3.10.12"
  }
 },
 "nbformat": 4,
 "nbformat_minor": 5
}
