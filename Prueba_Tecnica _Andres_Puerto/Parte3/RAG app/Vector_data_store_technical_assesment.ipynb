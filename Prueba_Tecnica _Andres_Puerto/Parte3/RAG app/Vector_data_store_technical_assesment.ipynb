{
 "cells": [
  {
   "cell_type": "code",
   "execution_count": 4,
   "id": "4e7a5656",
   "metadata": {},
   "outputs": [],
   "source": [
    "import openai\n",
    "import pandas as pd\n",
    "import tiktoken\n",
    "from langchain.embeddings.openai import OpenAIEmbeddings\n",
    "from langchain.text_splitter import RecursiveCharacterTextSplitter\n",
    "from langchain.vectorstores import Chroma\n",
    "from langchain.chat_models import ChatOpenAI\n",
    "from langchain.memory import ConversationBufferMemory\n",
    "from langchain.document_loaders.generic import GenericLoader\n",
    "from langchain.document_loaders.parsers import OpenAIWhisperParser\n",
    "from langchain.document_loaders.blob_loaders.youtube_audio import YoutubeAudioLoader\n",
    "from langchain_community.document_loaders import TextLoader\n",
    "from langchain_community.document_loaders.csv_loader import CSVLoader\n",
    "import os\n",
    "from langchain_community.document_loaders import PyPDFLoader\n",
    "from langchain_community.document_loaders import Docx2txtLoader"
   ]
  },
  {
   "cell_type": "code",
   "execution_count": 5,
   "id": "af069b73",
   "metadata": {},
   "outputs": [],
   "source": [
    "# APIkey file\n",
    "with open('/home/andres/scrappersample/chatbot/filekey.txt','r') as keyfile:\n",
    "    apiKey=keyfile.read()\n",
    "apiKey=apiKey.replace('\\n','')"
   ]
  },
  {
   "cell_type": "code",
   "execution_count": 6,
   "id": "7474bd23",
   "metadata": {},
   "outputs": [],
   "source": [
    "openai.api_key=apiKey"
   ]
  },
  {
   "cell_type": "code",
   "execution_count": 7,
   "id": "533a3fcb",
   "metadata": {},
   "outputs": [
    {
     "name": "stderr",
     "output_type": "stream",
     "text": [
      "/home/andres/.local/lib/python3.10/site-packages/langchain_core/_api/deprecation.py:117: LangChainDeprecationWarning: The class `langchain_community.embeddings.openai.OpenAIEmbeddings` was deprecated in langchain-community 0.1.0 and will be removed in 0.2.0. An updated version of the class exists in the langchain-openai package and should be used instead. To use it run `pip install -U langchain-openai` and import as `from langchain_openai import OpenAIEmbeddings`.\n",
      "  warn_deprecated(\n",
      "/home/andres/.local/lib/python3.10/site-packages/langchain_core/_api/deprecation.py:117: LangChainDeprecationWarning: The class `langchain_community.chat_models.openai.ChatOpenAI` was deprecated in langchain-community 0.0.10 and will be removed in 0.2.0. An updated version of the class exists in the langchain-openai package and should be used instead. To use it run `pip install -U langchain-openai` and import as `from langchain_openai import ChatOpenAI`.\n",
      "  warn_deprecated(\n"
     ]
    }
   ],
   "source": [
    "# se instancian los embedding y el modelo a utilizar\n",
    "embedding = OpenAIEmbeddings(openai_api_key=openai.api_key)\n",
    "\n",
    "llm_name='gpt-3.5-turbo'\n",
    "llm = ChatOpenAI(model_name=llm_name, temperature=0,openai_api_key=openai.api_key)"
   ]
  },
  {
   "cell_type": "code",
   "execution_count": 2,
   "id": "32e16224",
   "metadata": {},
   "outputs": [],
   "source": [
    "# se lee el archivo pdf y se procede a crear los splits del documento\n",
    "pdfdocs=[]\n",
    "\n",
    "loader=PyPDFLoader(f\"beginning_birders_guide_5_Spanish.pdf\")\n",
    "pages = loader.load_and_split()\n",
    "pdfdocs.extend(pages)"
   ]
  },
  {
   "cell_type": "code",
   "execution_count": 3,
   "id": "04962b29",
   "metadata": {},
   "outputs": [
    {
     "data": {
      "text/plain": [
       "[Document(page_content='Pregunta a un B iólogo\\nGuía de Observación de Aves para Prin cipiantes\\n  David Pe arson • M ichae l Moore • CJ Kazil ek\\n      Traducido por Jul iana Sol er\\nÍndice\\nEquipamiento Esencial\\n• Guías de Campo\\n• Binoculares\\n• Vestimenta \\nHabilidades para la Identificación de las A ves \\n• Pistas de Campo para la Identificación \\n• Observ ación S ocial de los P ájaros\\nGuía W eb de los Pájaros del Suroeste \\n• Perspectiv a general\\n• Visión rápida\\n• Tarjetas de datos\\nEl conteni do de es te paquete puede s er copiado en s u total idad o parc ialmente. Al  utilizar\\npartes  de es te paquete, el  crédito y la referenc ia de Pregunta a un Bi ólogo s iempre deben\\nconservarse. \\nGuía de Observación de Aves par Principiant es   |  http://askabioloigst .asu.edu |  Pregunta a un Biólogo', metadata={'source': 'beginning_birders_guide_5_Spanish.pdf', 'page': 0}),\n",
       " Document(page_content='Página - 2\\n¿Estoy mirando a un Cac tus\\nWren o a un Si nsonte?\\n¿Todos  los colibríes tienen el\\nmismo aspecto? \\n¿Si estoy en el  desierto del\\nsuroes te, obs ervaré a una\\nTanagra de Verano o a una\\nTanagra Es carlata? \\nINTRODUCCI ÓN\\nEs divertido explorar el aviario virtual en el sitio web de Pregunta a\\nun Bi ólogo. Y a ún m ás divertido y gratificante es salir al campo a\\nobservar estas aves en su hábitat natural. Al principio puede\\nparecerte abrumador distinguir cuál, entre los varios cientos de\\nespecies de aves, es la que estás viendo o escuchando. Sin embargo,\\ncon un po co de esfuerzo, paciencia y persistencia, pronto podrás\\ndistinguir a un g orrión de  un pi nzón.\\nEL EQUIPAMIENTO ESENCI AL\\nLa pieza más importante del equipamiento para aprender a\\nidentificar los pájaros es, probablemente, un bue n libro de pájaros o\\nuna guía de campo. Lo segundo  es un pa r de binoculares. Si sólo\\ntienes un pe queño presupue sto, una  guía de campo es más asequible\\ny te colocará en el camino correcto mucho más rápido que teniendo\\nsólo un pa r de binoculares. Muy  pronto, sin embargo, que rrás\\ninvertir en un pa r de binoculares, ya que la observación de  pájaros a\\nsimple vista puede volverse rápidamente frustrante.\\nGuías de Campo\\nLas Guías de campo contienen las descripciones de los pájaros que\\nte permiten identificar el ave que estás mirando. Tendrás que elegir\\nentre una guía que utilice fotografías y una que utilice pinturas de\\ncolores. Aunque  muchos principiantes se sienten más atraídos por las\\nguías con fotografías, una s pinturas exactas de los pájaros suelen ser\\nmás deseables porque un bue n artista puede integrar todas las\\nvariaciones de iluminación y postura y mostrar cómo luce el pájaro\\ntípicamente. Tendrás que elegir una guía que cubra la región en que\\ndeseas observar a los pájaros. Algunas guías locales incluyen sólo las\\nespecies más comunes. Este enfoque hace que el proceso sea más\\nfácil y a menudo  es una buena manera de empezar. Sin embargo,\\nestas pequeñas guías pueden llegar a ser frustrantes al utilizarlas\\ncuando las aves que estés tratando de identificar no sean las más\\ncomunes. Otras guías incluyen todas las especies, raras y comunes.\\nPueden ser muy confusas para un pr incipiante, pero prácticamente\\ntodas las especies que observes estarán en la guía.\\nEstos son algunos ejemplos de guías de campo sobre pájaros\\nregionales y locales que creemos son bue nas para los principiantes: \\n#Una G uía de Cam po sobre Páj aros del Este y\\nCentro de Norteam érica, de Roger T ory Peters on \\n#Una G uía de Cam po sobre Páj aros Occidental es:\\nuna G uía Com pletam ente Nuev a para Marc as de\\nCam po de T odas  las Especies Localizadas  al\\noeste del  meridiano 100º en Am érica del  Norte y  al\\nNorte de Méx ico, con la firma de Roger T ory\\nPeters on \\n#La G uía de Cam po Si bley sobre Páj aros del Este\\nde Am érica del  Norte, de Dav id Allen Si bley \\nGuía de Observación de Aves par Principiant es   |  http://askabioloigst .asu.edu |  Pregunta a un Biólogo', metadata={'source': 'beginning_birders_guide_5_Spanish.pdf', 'page': 1}),\n",
       " Document(page_content='Página - 3\\nOye, ¡los pájaros en el  libro\\nno es tán en orden\\nalfabéti co! ¿Qué pas a? #La G uía de Cam po Si bley sobre Páj aros del Oeste\\nde Am érica del  Norte, de Dav id Allen Si bley \\n#Todas las Aves de Am érica del  Norte (G uía de\\nCam po de Cons ervación de Páj aros en E.E.U.U.),\\nde Jack Griggs \\n#50 Av es Com unes  del Suroes te, de Ri chard\\nCunni ngham  \\nEl Orden de las Cosas \\nUna vez que tengas una guía, tienes que encontrar al pájaro que estés\\nobservando en la guía. No tendría ningún sentido ordenar la guía por\\norden alfabético, ya que no conoces el nombre del pájaro. En\\ncambio, la mayoría de las guías se organizan por grupos de aves\\nrelacionadas evolutivamente, nombradas familias, que  se colocan\\njuntas.\\nPor ejemplo, la familia del somorgujo, la familia de la curruca o la\\nfamilia del pato comparten estructuras de formas y comportamientos\\nsimilares, ya que están estrechamente relacionadas. Las familias se\\nordenan en la guía en función de  su historia evolutiva, desde las más\\nantiguas evolutivamente, como las de los somorgujos, hasta las más\\nrecientes evolutivamente, como las de los gorriones y los mirlos.\\nEsto se denomina orden filogenético.\\nEs muy útil aprender algo sobre las diferentes características de las\\nfamilias y el orden en que  se colocan en el libro antes de ir al campo.\\nFamiliarízate con lo que hace peculiar a los miembros de cada\\nfamilia. La mayoría de las guías de campo tendrán una  lista de las\\nfamilias, o unas páginas codificadas por colores para ayudarte a\\nencontrar a las familias de aves que estés buscando. Dentro de una\\nfamilia, las especies de aves que comparten aspectos aún m ás\\nsimilares se colocan juntas, en un g rupo más pequeño denominado\\ngénero (géneros pleurales).\\nEsto significa que las 700 o  más especies de una guía de campo\\nsobre pájaros de América del Norte están agrupadas en uno s 300\\ngéneros, dentro de 80 familias. Las guías más locales, por supue sto,\\ntienen menos opciones.\\nSuge rencias para mejorar tus habi lidade s de observación de\\npájaros \\nComienza por tratar de identificar a las especies más comunes y\\nfáciles de ver, en los alrededores de tu casa. Apr enderás rápidamente\\nque las grandes familias de aves acuáticas, como las de los patos y\\nlas garzas, están al principio del libro. Las grandes aves, como los\\nhalcones y los pájaros carpinteros, son las siguientes, y las diversas\\nfamilias de pequeñas aves canoras están dispuestas a lo largo de la\\núltima mitad del libro. \\nGuía de Observación de Aves par Principiant es   |  http://askabioloigst .asu.edu |  Pregunta a un Biólogo', metadata={'source': 'beginning_birders_guide_5_Spanish.pdf', 'page': 2}),\n",
       " Document(page_content='Página - 4\\nUn tam año de pupi la de\\nsalida más grande\\n(imagen i nferior)\\nproporc iona una i magen\\nmás brillante.Binocul ares\\nLos binoculares aumentarán en gran medida tu disfrute durante la\\nobservación de  los pájaros y facilitarán la identificación, a l brindarte\\nuna imagen en primer plano de las aves. Sin embargo, hay cientos de\\nvariaciones de prismáticos disponibles en la actualidad y no todos\\nson adecuados para la observación de  las aves. Para un pr incipiante,\\nlas opciones se pueden reducir con relativa facilidad. Es tos son los\\nelementos simples a tener en cuenta:\\nPotencia de magnif icación - \\nTodos los binoculares vienen con dos núm eros separados por una\\n\"x\", c omo 8 x 30 o  10 x 50. El  primer núm ero es la potencia de\\nmagnificación de  los prismáticos. Un a ve u otro objeto aparecerán 8\\nó 10 v eces más cerca, dependiendo de la potencia de magnificación.\\nLas potencias más altas dan vistas más cercanas de las aves, pero son\\ndifíciles de mantener estables y te muestran un c ampo de visión m ás\\npequeño, por lo que resulta más difícil encontrar el ave. La mayoría\\nde los principiantes obtendrían mejores resultados con un pa r de\\nprismáticos de 7 u 8 de  potencia.   \\nCapacidad de recolección de luz - \\nEl segundo  núm ero, como 35 ó 50 de spués de la \"x,\" e s una medida\\nde la amplitud de  cada lente en milímetros. Un o bjetivo más amplio\\nrecoge más luz, pero también hace que un bi nocular sea más grande,\\ny más pesado. Muc hos principiantes se sienten atraídos por los\\nprismáticos compactos como los de 8 x 20, y a que son muy\\npequeños. Sin embargo, estos prismáticos no reúnen suficiente luz.\\nRecomendamos los prismáticos con una  lente de 35-42 m m. Los\\nbinoculares comúnmente disponibles son de 7 x 35 y  8 x 42, y  estas\\nson muy buenas opciones. Para calcular el tamaño de la pupi la de\\nsalida, se divide el tamaño de la lente del objetivo por la potencia de\\nmagnificación de  los prismáticos. \\nAlgunos  ejemplos de tam años  de pupi las de s alida \\nPotenc ia del\\nbinocular Diámetro  del  lente de\\nobjetivoPupila de\\nsalida\\n7 35 5mm\\n8 20 5,25m m\\n7 50 7,1m m \\nUna manera fácil de calcular la capacidad de recolección de  luz de\\nlos prismáticos es observar el tamaño de la pupi la de salida. Si\\nsostienes un pa r de binoculares con los brazos extendidos, pue des\\ncomparar el tamaño de las pupi las de salida. Cua nto mayor sea la\\npupila de salida, más brillante será la imagen. El  brillo de la imagen\\nes tan importante como la potencia y la nitidez del binocular. Se\\nrecomienda un tamaño de pupi la de salida no menor de 5 mm.\\nGuía de Observación de Aves par Principiant es   |  http://askabioloigst .asu.edu |  Pregunta a un Biólogo', metadata={'source': 'beginning_birders_guide_5_Spanish.pdf', 'page': 3}),\n",
       " Document(page_content='Página - 5\\nVisualiz ación de un solo círculo - \\nLos cilindros de los objetivos están articulados para que puedas\\najustar tus binoculares a la anchura de tus ojos. Mue ve los dos\\ncilindros de los objetivos para juntarlos o separarlos hasta que la\\nimagen que  sea vea a través de ellos sea un c írculo. . \\nAlineación - \\nLos dos cilindros de los lentes también tienen que  estar en forma\\nperfectamente paralela o alineada por el fabricante. Los binoculares\\nbaratos a menudo  cuentan con una  mala alineación o pueden\\nfácilmente perder la alineación. Si  los dos cilindros de los objetivos\\nestán mal alineados, entonces tendrás una visión do ble. Si están sólo\\nligeramente desalineados, tus ojos tendrán dificultades para fusionar\\nlas dos imágenes. En o casiones tendrás éxito y podrás ver bien la\\nimagen, pe ro el forzar la vista provoca fatiga visual y dolores de\\ncabeza. Ant es de comprar los prismáticos, sostenlos firme, mira a\\ntravés de ellos a un po ste de teléfono a distancia o algún otro objeto\\nvertical simple y cierra un o jo primero y luego el otro. Mientras\\nparpadeas de un lado a otro, el poste de teléfono debe mantenerse en\\nel mismo lugar. Si salta de arriba hacia abajo o de izquierda a\\nderecha mientras cierras un o jo u otro, esto significa que los\\nbinoculares están fuera de alineación. Si  se te caen tus binoculares,\\nutiliza esta técnica para asegurarte de que todavía estén alineados.\\nSólo un taller de reparación pue de realinear los prismáticos.  \\nAnteojos - \\nLa mayoría de los observadores de aves que usan anteojos prefieren\\npermanecer con ellos al utilizar los binoculares, ya que es más\\nrápido. Al hacer esto, que rrás colocar los prismáticos tan cerca de tus\\nojos como sea posible, para mantener un á ngulo de visión amplio. La\\nmayoría de los binoculares vienen con ojeras que se repliegan o\\nenroscan para que los prismáticos estén más cerca de tus ojos cuando\\nusas lentes. Asegúrate de realizar este ajuste o la vista será muy\\npobre. Algunos binoculares son mejores que otros para las personas\\nque usan lentes. La distancia a la que pueden mantenerse los\\nbinoculares y aun así ver todo el campo de visión se denomina\\nrelieve del ojo. Si usas anteojos, bus ca prismáticos con 15- 22 m m de\\nrelieve del ojo. Algunas personas que usan lentes solucionan este\\nproblema al colocar primeramente sus gafas sobre la frente, antes de\\nmirar a través de los prismáticos con las ojeras extendidas\\ndirectamente hacia los ojos. \\nDiferencias en los ojos -\\nTus binoculares tienen un m ecanismo para ajustar el enfoque de un\\nsolo ocular, para que puedas ajustar las ligeras diferencias de visión\\nde tus ojos. El ocular ajustable debe tener una pequeña regla y el otro\\nno. Mira hacia un o bjeto con tus binoculares y cierra el ojo que mira\\na través del ocular ajustable. Enf oca en el objeto, con la rueda\\nprincipal del foco, mientras miras sólo a través del ocular sin regla.\\nMantén el otro ojo cerrado. A c ontinuación, c ierra el primer ojo y\\nGuía de Observación de Aves par Principiant es   |  http://askabioloigst .asu.edu |  Pregunta a un Biólogo', metadata={'source': 'beginning_birders_guide_5_Spanish.pdf', 'page': 4}),\n",
       " Document(page_content='Página - 6\\nabre el otro. Girando el ocular y no la rueda del enfoque central,\\nreenfoca de nuevo en el mismo objeto, abriendo tan sólo el ojo del\\nocular de la pequeña regla. Aho ra abre los dos ojos. El objeto debe\\nestar en el foco perfecto para ambos ojos. \\nOtros detalles -\\nPrácticamente todos los prismáticos de la actualidad tienen ruedas de\\nenfoque central que enfocan de manera simultánea los dos lados de\\nlos prismáticos. Los binoculares de enfoque individual son muy\\npopulares entre los navegantes, pero no deben ser considerados para\\nla observación de  las aves. Los revestimientos especiales que dan al\\nlente un tono de color se suman al gasto de los prismáticos, pero\\ntambién mejoran la resolución y la fidelidad del color. Los\\nprismáticos revestidos (dos tubos rectos) son más caros, pero están\\nsellados contra el agua y el polvo y por lo general son más ligeros en\\nrelación con el peso. Cua ndo deseas dedicarte realmente a la\\nobservación de  las aves, es posible que decidas invertir en un l ente\\nde proyección m ás potente y en un t rípode, para identificar los\\npájaros a grandes distancias. \\n¿Cuánt o gastar? -  \\nLos binoculares más caros tienen mejor óptica y son más duraderos.\\nLos binoculares demasiado baratos pueden ser muy frustrantes\\ncuando se utilizan. Los prismáticos decentes para la observación de\\nlas aves, por lo general, cuestan entre $100- 200. L os prismáticos de\\nmucha mejor calidad se pueden encontrar en el rango de $300- 400.\\nLos binoculares sin costo de objeto pueden llegar a valorarse entre\\n$500- 1500.   \\nLa práctica en el campo -  \\nVer a un pá jaro a simple vista, y luego ser capaz de encontrar a la\\nmisma ave con tus prismáticos, al principio, es más difícil de lo que\\npudieras esperar, pero se hace más fácil con la práctica. El pájaro a\\nmenudo  se mueve por los alrededores mientras tú estás tratando de\\nbuscarlo y enfocarlo. No mires hacia abajo con los gemelos cuando\\nlos estés colocando sobre tus ojos. La mayoría de los observadores\\nde aves experimentados aprenden a mantener sus ojos en el pájaro y\\nlevantan sus binoculares hasta los ojos. Imagina una cuerda atada\\nentre tú y el pájaro. Trata de elevar los binoculares hacia tus ojos y\\ncoloca el cañón de  los prismáticos alrededor de la cuerda. A v eces,\\npuedes encontrar más fácilmente una rama u otra estructura distintiva\\nen la que sepas que el pájaro está posado, y luego puedes seguir esa\\nrama hasta su ubi cación. Si  estás buscando un pá jaro que trata de\\nesconderse y tú sabes que se halla en cierto arbusto, enfócate primero\\nen el arbusto. Ent onces, cuando veas al ave a simple vista, ya estarás\\nenfocado en la distancia correcta. Todas estas técnicas requieren de\\npráctica, por lo que espera cometer errores al principio. \\nGuía de Observación de Aves par Principiant es   |  http://askabioloigst .asu.edu |  Pregunta a un Biólogo', metadata={'source': 'beginning_birders_guide_5_Spanish.pdf', 'page': 5}),\n",
       " Document(page_content='Página - 7\\nVest iment a\\nLo que uses durante tus excursiones de observación de  aves puede\\nmarcar una diferencia. Un c olor de ropa equivocado o un tipo de\\nbotas erróneo pueden reducir tus posibilidades de observar las aves\\nen el medio silvestre. He aquí algunas recomendaciones. \\nEvita los colores brillantes, incluyendo la ropa de color blanco.\\nEsto te ayudará a acercarte a las aves que desees observar, sin\\nalertarlas de tu presencia.\\nMant ente alejado de  las ropas  ruidosas y de los tirantes de velcro.\\nMuchas prendas exteriores están hechas de telas que hacen un po co\\nde ruido cuando te mueves. Esto es especialmente cierto cuando se\\ntrata del equipamiento de lluvia. Los tirantes y los bolsillos de velcro\\ntambién pue den crear un s eguro bullicio cuando quieras sacar tu guía\\nde pájaros, o bien los prismáticos de su estuche. Evitar estos\\nmateriales te ayudará a acercarte a las aves para obtener mejores\\nobservaciones.\\nUsa una gor ra o s ombrero de ala anc ha. Las aves tienen una  gran\\nfacilidad de mantenerse en línea con el sol. Un s ombrero de ala\\nancha te ayudará a protegerte los ojos del sol y te permitirá ver las\\naves más fácilmente. La sombra extra sobre tus ojos también ayudará\\ncuando uses los prismáticos. \\n \\nHABILIDADES PARA LA IDENTIFICACIÓN DE LAS AVES \\nConocer  qué especies puedes esper ar -  \\nCuando te hayas familiarizado con el uso de la guía de campo y con\\ntus prismáticos, es hora de combinarlos con algunos consejos básicos\\npara la identificación de  las aves. Utiliza el hábitat y la distribución,\\nasí como la época del año, para eliminar muchas posibilidades\\ncuando trates de ponerle un no mbre a un pá jaro. Si estás observando\\naves en un de sierto de Arizona durante el verano, pue des estar\\nseguro de que el pinzón rojizo que veas no será un pi quigrueso de\\npino. Estos sólo se encuentran en los bosques de pinos de las\\nmontañas. Lo más probable es que estés viendo un pi nzón do méstico.\\nEspera las especies que sean más comunes para ese hábitat y\\ntemporada. Aunque  la búsqueda de aves raras fuera de su\\ndistribución no rmal sea emocionante, se llaman raras por una razón.\\nUsa los listados locales de las especies que se hayan publ icado y\\nestúdialos. De esta manera, estarás mejor preparado para saber qué\\nbuscar. No tengas miedo de marcar tu guía de campo con notas y\\ncódigos para que puedas rápidamente conocer las especies con más\\nprobabilidades de encajar con la que estás viendo en el campo. \\nGuía de Observación de Aves par Principiant es   |  http://askabioloigst .asu.edu |  Pregunta a un Biólogo', metadata={'source': 'beginning_birders_guide_5_Spanish.pdf', 'page': 6}),\n",
       " Document(page_content='Página - 8\\nPistas de campo para la ident ificación - \\nLa mayoría de los principiantes se enfocan en el color de los pájaros,\\npero a menudo  esta no es la señal más importante. Aquí  están\\nalgunas características claves a tener en cuenta para la identificación\\nde los pájaros. \\nCon esta información y los mapas de distribución en tu guía de\\ncampo, debes hallarte muy cerca de obtener una identificación, po r lo\\nmenos para un g rupo de aves similares. Incluso si sólo obtienes un\\ngrupo de pájaros similares, podrías entonces leer más, de manera\\nespecífica, sobre cómo separar estos pájaros semejantes y así estarás\\nmejor preparado la próxima vez. De esta manera, tus habilidades\\nmejorarán.\\nA medida que conozcas las especies más\\ncomunes, estas se convertirán en una  base que\\npuedes utilizar para recordar las especies menos\\ncomunes y más difíciles. El petirrojo, por\\nejemplo, es fácil de reconocer. El rascador\\nmanchado, sin embargo, es un po co más\\nescurridizo y difícil de reconocer. No obstante,\\npuedes recordar que el rascador manchado se\\nparece mucho al petirrojo, pero su parte trasera\\nes moteada y el rojo no cubre el centro de su\\npecho. Utiliza este método comparativo para\\nacumular rápidamente las pistas de\\nidentificación de  muchas especies.\\nRecuerda que una simple ilustración en una\\nguía de campo no siempre coincidirá\\nperfectamente con el pájaro que estás viendo.\\nUna simple imagen coincidente puede dar lugar\\na errores de identificación. En s u lugar,\\nenfócate en las marcas de campo críticas\\ndescritas en la guía. Al igual que en los seres\\nhumanos, todas las especies de aves muestran\\nuna serie de diferencias entre los individuos.\\nAlgunos serán más brillantes, más oscuros, o\\nmás grandes que otros de la misma especie. El\\nsexo, edad, época del año y las diferentes partes\\ndel área geográfica aumentan esta variación, y\\nla guía de campo no pueden incluir todas las\\nvariaciones. A m edida que tus habilidades se\\nincrementen, de bes estar preparado para utilizar\\ntambién un c omportamiento peculiar, el hábitat, la voz y otros\\ncaracteres más sutiles para identificar la especie. Una  de las\\ncaracterísticas que a menudo  resulta engañosa es el tamaño. El\\ntamaño es muy difícil de estimar. En l ugar de tratar de estimar el\\ntamaño de un pá jaro, compáralo con otras aves cercanas y comunes,\\nsi hay algunas a su alrededor. \"Má s grande que un pa to silvestre\" o\\n\"más pequeño que una paloma de luto\" pue de ser una información\\nmuy útil. Prueba y utiliza las combinaciones de caracteres de\\nidentificación, e n lugar de uno solo.\\nGuía de Observación de Aves par Principiant es   |  http://askabioloigst .asu.edu |  Pregunta a un Biólogo', metadata={'source': 'beginning_birders_guide_5_Spanish.pdf', 'page': 7}),\n",
       " Document(page_content='Página - 9\\nLa mayoría de los nuevos observadores de aves y muchos de los\\nobservadores más experimentados dependen casi por completo de las\\npistas visuales. Sin embargo, a medida que tus habilidades mejoren,\\nlas canciones y las llamadas a menudo  pueden ser mejores pistas para\\nla identificación. Si  puedes aprender a identificar la voz de un a migo\\npor el teléfono, también pue des llegar a conocer el canto de los\\npájaros. Obs erva el canto de las especies comunes y trata de recordar\\nsus canciones. Las descripciones en las Guías de Campo, a menudo ,\\nincluyen maneras útiles de recordar las canciones. Utilizar los CDs\\nde cantos de aves disponibles en el mercado o en la Internet es otra\\nforma de practicar. El sitio web de Pregunta a un Bi ólogo tiene una\\ngran colección de  canciones de aves que se encuentran en el suroeste\\nde los Estados Unidos. Apr enderse las canciones básicas de las\\nespecies comunes también hace que sea más fácil ampliar tu\\nrepertorio rápidamente, mediante la comparación entre ellas. Así, la\\ncanción común de l petirrojo sirve como una referencia, y el\\npiquigrueso de cabeza negra tendrá un s onido similar al de un\\npetirrojo \"borracho,\" la tanagra occidental se escuchará como un\\npetirrojo \"con trino \" y el  vireo plomizo como un pe tirrojo\\n\"vacilante\". Si ves un pá jaro que crees podría ser un v ireo plomizo,\\npero que no escucha ni de lejos como el petirrojo, sabes que estás en\\nel camino equivocado.  \\n  \\nObser vación social de los pájaros-\\nPor supue sto, pue des desarrollar todas estas habilidades de\\nidentificación de  aves por tu cuenta, pero la única manera\\ngarantizada de aumentar tu ritmo de aprendizaje es mediante la\\nobservación de  pájaros con amigos, sobre todo si algunos de ellos\\ntienen más experiencia. A los observadores de aves en general les\\nencanta compartir estas habilidades. Los grupos locales de\\nobservación de  aves, escuelas y estaciones de campo educativas son\\nlugares posibles para establecer contactos con observadores de aves\\ny ayudarte a desarrollar tus habilidades. \\nCuando estés solo o en grupo, asegúrate de conocer las leyes\\nestatales y locales con respecto a la propiedad públ ica y privada.\\nNunc a se debe entrar en los terrenos privados sin recibir el permiso\\nde los dueños. La parte difícil es saber cuándo el terreno es privado.\\nEn algunos estados se deben colocar señales para demostrar que la\\ntierra es privada. En o tros estados los terrenos públ icos deben tener\\nlas señales colocadas. Sin conocer las leyes locales y estatales\\npodrías terminar en un t erreno privado, lo que te puede producir\\nalgunos encuentros enojosos con los propietarios de las tierras. En\\ncaso de duda , no entres en una  finca cercada. \\nAvanza cuidadosamente sobre la tierra. No importa si estás en\\nterrenos públ icos o privados, sé amable con el medio ambiente. Todo\\nlo que hayas llevado contigo, debe salir contigo. Ten cuidado de no\\ndejar botellas, latas o recipientes atrás. Deja las entradas como las\\nencontraste. Si están cerradas, asegúrate de cerrar la puerta detrás de\\nti. \\nGuía de Observación de Aves par Principiant es   |  http://askabioloigst .asu.edu |  Pregunta a un Biólogo', metadata={'source': 'beginning_birders_guide_5_Spanish.pdf', 'page': 8})]"
      ]
     },
     "execution_count": 3,
     "metadata": {},
     "output_type": "execute_result"
    }
   ],
   "source": [
    "pdfdocs"
   ]
  },
  {
   "cell_type": "code",
   "execution_count": 8,
   "id": "1f38d7be",
   "metadata": {},
   "outputs": [],
   "source": [
    "# se crea la vector data store\n",
    "persist_directory='birders/chroma'\n",
    "vectordb = Chroma.from_documents(\n",
    "    documents=pdfdocs,\n",
    "    embedding=embedding,\n",
    "    persist_directory=persist_directory\n",
    ")\n"
   ]
  },
  {
   "cell_type": "code",
   "execution_count": 9,
   "id": "ae7da1f4",
   "metadata": {},
   "outputs": [],
   "source": [
    "vectordb.persist()"
   ]
  },
  {
   "cell_type": "code",
   "execution_count": 10,
   "id": "f2c59b11",
   "metadata": {},
   "outputs": [],
   "source": [
    "# se hace una prueba de siilitud entre una palabra clave y la base de datos vectorial\n",
    "question='binoculares'\n",
    "docs = vectordb.similarity_search(question,k=3)"
   ]
  },
  {
   "cell_type": "code",
   "execution_count": 11,
   "id": "9ee4822f",
   "metadata": {},
   "outputs": [
    {
     "data": {
      "text/plain": [
       "[Document(page_content='Página - 5\\nVisualiz ación de un solo círculo - \\nLos cilindros de los objetivos están articulados para que puedas\\najustar tus binoculares a la anchura de tus ojos. Mue ve los dos\\ncilindros de los objetivos para juntarlos o separarlos hasta que la\\nimagen que  sea vea a través de ellos sea un c írculo. . \\nAlineación - \\nLos dos cilindros de los lentes también tienen que  estar en forma\\nperfectamente paralela o alineada por el fabricante. Los binoculares\\nbaratos a menudo  cuentan con una  mala alineación o pueden\\nfácilmente perder la alineación. Si  los dos cilindros de los objetivos\\nestán mal alineados, entonces tendrás una visión do ble. Si están sólo\\nligeramente desalineados, tus ojos tendrán dificultades para fusionar\\nlas dos imágenes. En o casiones tendrás éxito y podrás ver bien la\\nimagen, pe ro el forzar la vista provoca fatiga visual y dolores de\\ncabeza. Ant es de comprar los prismáticos, sostenlos firme, mira a\\ntravés de ellos a un po ste de teléfono a distancia o algún otro objeto\\nvertical simple y cierra un o jo primero y luego el otro. Mientras\\nparpadeas de un lado a otro, el poste de teléfono debe mantenerse en\\nel mismo lugar. Si salta de arriba hacia abajo o de izquierda a\\nderecha mientras cierras un o jo u otro, esto significa que los\\nbinoculares están fuera de alineación. Si  se te caen tus binoculares,\\nutiliza esta técnica para asegurarte de que todavía estén alineados.\\nSólo un taller de reparación pue de realinear los prismáticos.  \\nAnteojos - \\nLa mayoría de los observadores de aves que usan anteojos prefieren\\npermanecer con ellos al utilizar los binoculares, ya que es más\\nrápido. Al hacer esto, que rrás colocar los prismáticos tan cerca de tus\\nojos como sea posible, para mantener un á ngulo de visión amplio. La\\nmayoría de los binoculares vienen con ojeras que se repliegan o\\nenroscan para que los prismáticos estén más cerca de tus ojos cuando\\nusas lentes. Asegúrate de realizar este ajuste o la vista será muy\\npobre. Algunos binoculares son mejores que otros para las personas\\nque usan lentes. La distancia a la que pueden mantenerse los\\nbinoculares y aun así ver todo el campo de visión se denomina\\nrelieve del ojo. Si usas anteojos, bus ca prismáticos con 15- 22 m m de\\nrelieve del ojo. Algunas personas que usan lentes solucionan este\\nproblema al colocar primeramente sus gafas sobre la frente, antes de\\nmirar a través de los prismáticos con las ojeras extendidas\\ndirectamente hacia los ojos. \\nDiferencias en los ojos -\\nTus binoculares tienen un m ecanismo para ajustar el enfoque de un\\nsolo ocular, para que puedas ajustar las ligeras diferencias de visión\\nde tus ojos. El ocular ajustable debe tener una pequeña regla y el otro\\nno. Mira hacia un o bjeto con tus binoculares y cierra el ojo que mira\\na través del ocular ajustable. Enf oca en el objeto, con la rueda\\nprincipal del foco, mientras miras sólo a través del ocular sin regla.\\nMantén el otro ojo cerrado. A c ontinuación, c ierra el primer ojo y\\nGuía de Observación de Aves par Principiant es   |  http://askabioloigst .asu.edu |  Pregunta a un Biólogo', metadata={'page': 4, 'source': 'beginning_birders_guide_5_Spanish.pdf'}),\n",
       " Document(page_content='Página - 4\\nUn tam año de pupi la de\\nsalida más grande\\n(imagen i nferior)\\nproporc iona una i magen\\nmás brillante.Binocul ares\\nLos binoculares aumentarán en gran medida tu disfrute durante la\\nobservación de  los pájaros y facilitarán la identificación, a l brindarte\\nuna imagen en primer plano de las aves. Sin embargo, hay cientos de\\nvariaciones de prismáticos disponibles en la actualidad y no todos\\nson adecuados para la observación de  las aves. Para un pr incipiante,\\nlas opciones se pueden reducir con relativa facilidad. Es tos son los\\nelementos simples a tener en cuenta:\\nPotencia de magnif icación - \\nTodos los binoculares vienen con dos núm eros separados por una\\n\"x\", c omo 8 x 30 o  10 x 50. El  primer núm ero es la potencia de\\nmagnificación de  los prismáticos. Un a ve u otro objeto aparecerán 8\\nó 10 v eces más cerca, dependiendo de la potencia de magnificación.\\nLas potencias más altas dan vistas más cercanas de las aves, pero son\\ndifíciles de mantener estables y te muestran un c ampo de visión m ás\\npequeño, por lo que resulta más difícil encontrar el ave. La mayoría\\nde los principiantes obtendrían mejores resultados con un pa r de\\nprismáticos de 7 u 8 de  potencia.   \\nCapacidad de recolección de luz - \\nEl segundo  núm ero, como 35 ó 50 de spués de la \"x,\" e s una medida\\nde la amplitud de  cada lente en milímetros. Un o bjetivo más amplio\\nrecoge más luz, pero también hace que un bi nocular sea más grande,\\ny más pesado. Muc hos principiantes se sienten atraídos por los\\nprismáticos compactos como los de 8 x 20, y a que son muy\\npequeños. Sin embargo, estos prismáticos no reúnen suficiente luz.\\nRecomendamos los prismáticos con una  lente de 35-42 m m. Los\\nbinoculares comúnmente disponibles son de 7 x 35 y  8 x 42, y  estas\\nson muy buenas opciones. Para calcular el tamaño de la pupi la de\\nsalida, se divide el tamaño de la lente del objetivo por la potencia de\\nmagnificación de  los prismáticos. \\nAlgunos  ejemplos de tam años  de pupi las de s alida \\nPotenc ia del\\nbinocular Diámetro  del  lente de\\nobjetivoPupila de\\nsalida\\n7 35 5mm\\n8 20 5,25m m\\n7 50 7,1m m \\nUna manera fácil de calcular la capacidad de recolección de  luz de\\nlos prismáticos es observar el tamaño de la pupi la de salida. Si\\nsostienes un pa r de binoculares con los brazos extendidos, pue des\\ncomparar el tamaño de las pupi las de salida. Cua nto mayor sea la\\npupila de salida, más brillante será la imagen. El  brillo de la imagen\\nes tan importante como la potencia y la nitidez del binocular. Se\\nrecomienda un tamaño de pupi la de salida no menor de 5 mm.\\nGuía de Observación de Aves par Principiant es   |  http://askabioloigst .asu.edu |  Pregunta a un Biólogo', metadata={'page': 3, 'source': 'beginning_birders_guide_5_Spanish.pdf'}),\n",
       " Document(page_content='Página - 6\\nabre el otro. Girando el ocular y no la rueda del enfoque central,\\nreenfoca de nuevo en el mismo objeto, abriendo tan sólo el ojo del\\nocular de la pequeña regla. Aho ra abre los dos ojos. El objeto debe\\nestar en el foco perfecto para ambos ojos. \\nOtros detalles -\\nPrácticamente todos los prismáticos de la actualidad tienen ruedas de\\nenfoque central que enfocan de manera simultánea los dos lados de\\nlos prismáticos. Los binoculares de enfoque individual son muy\\npopulares entre los navegantes, pero no deben ser considerados para\\nla observación de  las aves. Los revestimientos especiales que dan al\\nlente un tono de color se suman al gasto de los prismáticos, pero\\ntambién mejoran la resolución y la fidelidad del color. Los\\nprismáticos revestidos (dos tubos rectos) son más caros, pero están\\nsellados contra el agua y el polvo y por lo general son más ligeros en\\nrelación con el peso. Cua ndo deseas dedicarte realmente a la\\nobservación de  las aves, es posible que decidas invertir en un l ente\\nde proyección m ás potente y en un t rípode, para identificar los\\npájaros a grandes distancias. \\n¿Cuánt o gastar? -  \\nLos binoculares más caros tienen mejor óptica y son más duraderos.\\nLos binoculares demasiado baratos pueden ser muy frustrantes\\ncuando se utilizan. Los prismáticos decentes para la observación de\\nlas aves, por lo general, cuestan entre $100- 200. L os prismáticos de\\nmucha mejor calidad se pueden encontrar en el rango de $300- 400.\\nLos binoculares sin costo de objeto pueden llegar a valorarse entre\\n$500- 1500.   \\nLa práctica en el campo -  \\nVer a un pá jaro a simple vista, y luego ser capaz de encontrar a la\\nmisma ave con tus prismáticos, al principio, es más difícil de lo que\\npudieras esperar, pero se hace más fácil con la práctica. El pájaro a\\nmenudo  se mueve por los alrededores mientras tú estás tratando de\\nbuscarlo y enfocarlo. No mires hacia abajo con los gemelos cuando\\nlos estés colocando sobre tus ojos. La mayoría de los observadores\\nde aves experimentados aprenden a mantener sus ojos en el pájaro y\\nlevantan sus binoculares hasta los ojos. Imagina una cuerda atada\\nentre tú y el pájaro. Trata de elevar los binoculares hacia tus ojos y\\ncoloca el cañón de  los prismáticos alrededor de la cuerda. A v eces,\\npuedes encontrar más fácilmente una rama u otra estructura distintiva\\nen la que sepas que el pájaro está posado, y luego puedes seguir esa\\nrama hasta su ubi cación. Si  estás buscando un pá jaro que trata de\\nesconderse y tú sabes que se halla en cierto arbusto, enfócate primero\\nen el arbusto. Ent onces, cuando veas al ave a simple vista, ya estarás\\nenfocado en la distancia correcta. Todas estas técnicas requieren de\\npráctica, por lo que espera cometer errores al principio. \\nGuía de Observación de Aves par Principiant es   |  http://askabioloigst .asu.edu |  Pregunta a un Biólogo', metadata={'page': 5, 'source': 'beginning_birders_guide_5_Spanish.pdf'})]"
      ]
     },
     "execution_count": 11,
     "metadata": {},
     "output_type": "execute_result"
    }
   ],
   "source": [
    "docs"
   ]
  },
  {
   "cell_type": "markdown",
   "id": "11c2fdd1",
   "metadata": {},
   "source": [
    "# Metricas"
   ]
  },
  {
   "cell_type": "code",
   "execution_count": 79,
   "id": "c94381d0",
   "metadata": {},
   "outputs": [],
   "source": [
    "context=[\"\"\"La pieza más importante del equipamiento para aprender a\n",
    "identificar los pájaros es, probablemente, un buen libro de pájaros o\n",
    "una guía de campo. Lo segundo es un par de binoculares. Si sólo\n",
    "tienes un pequeño presupuesto, una guía de campo es más asequible\n",
    "y te colocará en el camino correcto mucho más rápido que teniendo\n",
    "sólo un par de binoculares. Muy pronto, sin embargo, querrás\n",
    "invertir en un par de binoculares, ya que la observación de pájaros a\n",
    "simple vista puede volverse rápidamente frustrante.\"\"\",\n",
    "\"\"\"\n",
    "Las Guías de campo contienen las descripciones de los pájaros que\n",
    "te permiten identificar el ave que estás mirando. Tendrás que elegir\n",
    "entre una guía que utilice fotografías y una que utilice pinturas de\n",
    "colores. Aunque muchos principiantes se sienten más atraídos por las\n",
    "guías con fotografías, unas pinturas exactas de los pájaros suelen ser\n",
    "más deseables porque un buen artista puede integrar todas las\n",
    "variaciones de iluminación y postura y mostrar cómo luce el pájaro\n",
    "típicamente. Tendrás que elegir una guía que cubra la región en que\n",
    "deseas observar a los pájaros. Algunas guías locales incluyen sólo las\n",
    "especies más comunes. Este enfoque hace que el proceso sea más\n",
    "fácil y a menudo es una buena manera de empezar. Sin embargo,\n",
    "estas pequeñas guías pueden llegar a ser frustrantes al utilizarlas\n",
    "cuando las aves que estés tratando de identificar no sean las más\n",
    "comunes. Otras guías incluyen todas las especies, raras y comunes.\n",
    "Pueden ser muy confusas para un principiante, pero prácticamente\n",
    "todas las especies que observes estarán en la guía.\n",
    "\n",
    "\"\"\",\n",
    "\"\"\"Una vez que tengas una guía, tienes que encontrar al pájaro que estés\n",
    "observando en la guía. No tendría ningún sentido ordenar la guía por\n",
    "orden alfabético, ya que no conoces el nombre del pájaro. En\n",
    "cambio, la mayoría de las guías se organizan por grupos de aves\n",
    "relacionadas evolutivamente, nombradas familias, que se colocan\n",
    "juntas.\n",
    "Oye, ¡los pájaros en el libro\n",
    "no están en orden\n",
    "alfabético! ¿Qué pasa?\n",
    "Por ejemplo, la familia del somorgujo, la familia de la curruca o la\n",
    "familia del pato comparten estructuras de formas y comportamientos\n",
    "similares, ya que están estrechamente relacionadas. Las familias se\n",
    "ordenan en la guía en función de su historia evolutiva, desde las más\n",
    "antiguas evolutivamente, como las de los somorgujos, hasta las más\n",
    "recientes evolutivamente, como las de los gorriones y los mirlos.\n",
    "Esto se denomina orden filogenético.\n",
    "Es muy útil aprender algo sobre las diferentes características de las\n",
    "familias y el orden en que se colocan en el libro antes de ir al campo.\n",
    "Familiarízate con lo que hace peculiar a los miembros de cada\n",
    "familia. La mayoría de las guías de campo tendrán una lista de las\n",
    "familias, o unas páginas codificadas por colores para ayudarte a\n",
    "encontrar a las familias de aves que estés buscando. Dentro de una\n",
    "familia, las especies de aves que comparten aspectos aún más\n",
    "similares se colocan juntas, en un grupo más pequeño denominado\n",
    "género (géneros pleurales).\n",
    "Esto significa que las 700 o más especies de una guía de campo\n",
    "sobre pájaros de América del Norte están agrupadas en unos 300\n",
    "géneros, dentro de 80 familias. Las guías más locales, por supuesto,\n",
    "tienen menos opciones.\"\"\",\n",
    "\"\"\"Los binoculares aumentarán en gran medida tu disfrute durante la\n",
    "observación de los pájaros y facilitarán la identificación, al brindarte\n",
    "una imagen en primer plano de las aves. Sin embargo, hay cientos de\n",
    "variaciones de prismáticos disponibles en la actualidad y no todos\n",
    "son adecuados para la observación de las aves. Para un principiante,\n",
    "las opciones se pueden reducir con relativa facilidad. Estos son los\n",
    "elementos simples a tener en cuenta:\n",
    "Potencia de magnificación -\n",
    "Todos los binoculares vienen con dos números separados por una\n",
    "\"x\", como 8 x 30 o 10 x 50. El primer número es la potencia de\n",
    "magnificación de los prismáticos. Un ave u otro objeto aparecerán 8\n",
    "ó 10 veces más cerca, dependiendo de la potencia de magnificación.\n",
    "Las potencias más altas dan vistas más cercanas de las aves, pero son\n",
    "difíciles de mantener estables y te muestran un campo de visión más\n",
    "pequeño, por lo que resulta más difícil encontrar el ave. La mayoría\n",
    "de los principiantes obtendrían mejores resultados con un par de\n",
    "prismáticos de 7 u 8 de potencia.\"\"\",\n",
    "\"\"\"El segundo número, como 35 ó 50 después de la \"x,\" es una medida\n",
    "de la amplitud de cada lente en milímetros. Un objetivo más amplio\n",
    "recoge más luz, pero también hace que un binocular sea más grande,\n",
    "y más pesado. Muchos principiantes se sienten atraídos por los\n",
    "prismáticos compactos como los de 8 x 20, ya que son muy\n",
    "pequeños. Sin embargo, estos prismáticos no reúnen suficiente luz.\n",
    "Recomendamos los prismáticos con una lente de 35-42 mm. Los\n",
    "binoculares comúnmente disponibles son de 7 x 35 y 8 x 42, y estas\n",
    "son muy buenas opciones. Para calcular el tamaño de la pupila de\n",
    "salida, se divide el tamaño de la lente del objetivo por la potencia de\n",
    "magnificación de los prismáticos.\"\"\"]"
   ]
  },
  {
   "cell_type": "code",
   "execution_count": 80,
   "id": "2caf155d",
   "metadata": {},
   "outputs": [
    {
     "data": {
      "text/plain": [
       "['La pieza más importante del equipamiento para aprender a\\nidentificar los pájaros es, probablemente, un buen libro de pájaros o\\nuna guía de campo. Lo segundo es un par de binoculares. Si sólo\\ntienes un pequeño presupuesto, una guía de campo es más asequible\\ny te colocará en el camino correcto mucho más rápido que teniendo\\nsólo un par de binoculares. Muy pronto, sin embargo, querrás\\ninvertir en un par de binoculares, ya que la observación de pájaros a\\nsimple vista puede volverse rápidamente frustrante.',\n",
       " '\\nLas Guías de campo contienen las descripciones de los pájaros que\\nte permiten identificar el ave que estás mirando. Tendrás que elegir\\nentre una guía que utilice fotografías y una que utilice pinturas de\\ncolores. Aunque muchos principiantes se sienten más atraídos por las\\nguías con fotografías, unas pinturas exactas de los pájaros suelen ser\\nmás deseables porque un buen artista puede integrar todas las\\nvariaciones de iluminación y postura y mostrar cómo luce el pájaro\\ntípicamente. Tendrás que elegir una guía que cubra la región en que\\ndeseas observar a los pájaros. Algunas guías locales incluyen sólo las\\nespecies más comunes. Este enfoque hace que el proceso sea más\\nfácil y a menudo es una buena manera de empezar. Sin embargo,\\nestas pequeñas guías pueden llegar a ser frustrantes al utilizarlas\\ncuando las aves que estés tratando de identificar no sean las más\\ncomunes. Otras guías incluyen todas las especies, raras y comunes.\\nPueden ser muy confusas para un principiante, pero prácticamente\\ntodas las especies que observes estarán en la guía.\\n\\n',\n",
       " 'Una vez que tengas una guía, tienes que encontrar al pájaro que estés\\nobservando en la guía. No tendría ningún sentido ordenar la guía por\\norden alfabético, ya que no conoces el nombre del pájaro. En\\ncambio, la mayoría de las guías se organizan por grupos de aves\\nrelacionadas evolutivamente, nombradas familias, que se colocan\\njuntas.\\nOye, ¡los pájaros en el libro\\nno están en orden\\nalfabético! ¿Qué pasa?\\nPor ejemplo, la familia del somorgujo, la familia de la curruca o la\\nfamilia del pato comparten estructuras de formas y comportamientos\\nsimilares, ya que están estrechamente relacionadas. Las familias se\\nordenan en la guía en función de su historia evolutiva, desde las más\\nantiguas evolutivamente, como las de los somorgujos, hasta las más\\nrecientes evolutivamente, como las de los gorriones y los mirlos.\\nEsto se denomina orden filogenético.\\nEs muy útil aprender algo sobre las diferentes características de las\\nfamilias y el orden en que se colocan en el libro antes de ir al campo.\\nFamiliarízate con lo que hace peculiar a los miembros de cada\\nfamilia. La mayoría de las guías de campo tendrán una lista de las\\nfamilias, o unas páginas codificadas por colores para ayudarte a\\nencontrar a las familias de aves que estés buscando. Dentro de una\\nfamilia, las especies de aves que comparten aspectos aún más\\nsimilares se colocan juntas, en un grupo más pequeño denominado\\ngénero (géneros pleurales).\\nEsto significa que las 700 o más especies de una guía de campo\\nsobre pájaros de América del Norte están agrupadas en unos 300\\ngéneros, dentro de 80 familias. Las guías más locales, por supuesto,\\ntienen menos opciones.',\n",
       " 'Los binoculares aumentarán en gran medida tu disfrute durante la\\nobservación de los pájaros y facilitarán la identificación, al brindarte\\nuna imagen en primer plano de las aves. Sin embargo, hay cientos de\\nvariaciones de prismáticos disponibles en la actualidad y no todos\\nson adecuados para la observación de las aves. Para un principiante,\\nlas opciones se pueden reducir con relativa facilidad. Estos son los\\nelementos simples a tener en cuenta:\\nPotencia de magnificación -\\nTodos los binoculares vienen con dos números separados por una\\n\"x\", como 8 x 30 o 10 x 50. El primer número es la potencia de\\nmagnificación de los prismáticos. Un ave u otro objeto aparecerán 8\\nó 10 veces más cerca, dependiendo de la potencia de magnificación.\\nLas potencias más altas dan vistas más cercanas de las aves, pero son\\ndifíciles de mantener estables y te muestran un campo de visión más\\npequeño, por lo que resulta más difícil encontrar el ave. La mayoría\\nde los principiantes obtendrían mejores resultados con un par de\\nprismáticos de 7 u 8 de potencia.',\n",
       " 'El segundo número, como 35 ó 50 después de la \"x,\" es una medida\\nde la amplitud de cada lente en milímetros. Un objetivo más amplio\\nrecoge más luz, pero también hace que un binocular sea más grande,\\ny más pesado. Muchos principiantes se sienten atraídos por los\\nprismáticos compactos como los de 8 x 20, ya que son muy\\npequeños. Sin embargo, estos prismáticos no reúnen suficiente luz.\\nRecomendamos los prismáticos con una lente de 35-42 mm. Los\\nbinoculares comúnmente disponibles son de 7 x 35 y 8 x 42, y estas\\nson muy buenas opciones. Para calcular el tamaño de la pupila de\\nsalida, se divide el tamaño de la lente del objetivo por la potencia de\\nmagnificación de los prismáticos.']"
      ]
     },
     "execution_count": 80,
     "metadata": {},
     "output_type": "execute_result"
    }
   ],
   "source": [
    "context"
   ]
  },
  {
   "cell_type": "code",
   "execution_count": 41,
   "id": "8fce65bc",
   "metadata": {},
   "outputs": [],
   "source": [
    "# usando a Claude como aplicación Rag de referencia\n",
    "claude_ground_truth = {\n",
    "    \"preguntas_respuestas\": [\n",
    "        {\n",
    "            \"pregunta\": \"¿Cuáles son las dos piezas más importantes del equipamiento para aprender a identificar pájaros?\",\n",
    "            \"respuesta\": \"Una buena guía de campo y un par de binoculares.\"\n",
    "            \n",
    "        },\n",
    "        {\n",
    "            \"pregunta\": \"¿Por qué las pinturas de aves en las guías de campo suelen ser más deseables que las fotografías?\",\n",
    "            \"respuesta\": \"Porque un buen artista puede integrar todas las variaciones de iluminación y postura, mostrando cómo luce el pájaro típicamente.\"\n",
    "        },\n",
    "        {\n",
    "            \"pregunta\": \"¿Cómo están organizadas la mayoría de las guías de campo de aves?\",\n",
    "            \"respuesta\": \"Por grupos de aves relacionadas evolutivamente, llamadas familias, que se colocan juntas en un orden filogenético.\"\n",
    "        },\n",
    "        {\n",
    "            \"pregunta\": \"¿Qué potencia de magnificación se recomienda para los binoculares de un principiante en la observación de aves?\",\n",
    "            \"respuesta\": \"Se recomienda una potencia de 7 u 8.\"\n",
    "        },\n",
    "        {\n",
    "            \"pregunta\": \"¿Cómo se calcula el tamaño de la pupila de salida en los binoculares?\",\n",
    "            \"respuesta\": \"Se divide el tamaño de la lente del objetivo por la potencia de magnificación de los prismáticos.\"\n",
    "        }\n",
    "        \n",
    "    ]\n",
    "}"
   ]
  },
  {
   "cell_type": "code",
   "execution_count": 42,
   "id": "5bf38f86",
   "metadata": {},
   "outputs": [],
   "source": [
    "# respuestas de nuestra aplicación Rag\n",
    "custom_rag_set = {\n",
    "    \"preguntas_respuestas\": [\n",
    "        {\n",
    "            \"pregunta\": \"¿Cuáles son las dos piezas más importantes del equipamiento para aprender a identificar pájaros?\",\n",
    "            \"respuesta\": \"Las dos piezas más importantes del equipamiento para aprender a identificar pájaros son un buen libro de pájaros o una guía de campo, y un par de binoculares.\"\n",
    "        },\n",
    "        {\n",
    "            \"pregunta\": \"¿Por qué las pinturas de aves en las guías de campo suelen ser más deseables que las fotografías?\",\n",
    "            \"respuesta\": \"Las pinturas de aves en las guías de campo suelen ser más deseables que las fotografías porque un buen artista puede integrar todas las variaciones de iluminación y postura, mostrando cómo luce el pájaro típicamente. Esto permite una representación más precisa y detallada de las características clave de cada especie, lo que facilita la identificación de las aves, especialmente para principiantes\"\n",
    "        },\n",
    "        {\n",
    "            \"pregunta\": \"¿Cómo están organizadas la mayoría de las guías de campo de aves?\",\n",
    "            \"respuesta\": \"La mayoría de las guías de campo de aves se organizan por grupos de aves relacionadas evolutivamente, llamadas familias. Estas familias se colocan juntas en la guía en función de su historia evolutiva, desde las más antiguas hasta las más recientes evolutivamente. Dentro de una familia, las especies de aves que comparten aspectos aún más similares se colocan juntas en un grupo más pequeño denominado género.\"\n",
    "        },\n",
    "        {\n",
    "            \"pregunta\": \"¿Qué potencia de magnificación se recomienda para los binoculares de un principiante en la observación de aves?\",\n",
    "            \"respuesta\": \"Se recomienda que los principiantes en la observación de aves utilicen binoculares con una potencia de magnificación de 7 u 8.\"\n",
    "        },\n",
    "        {\n",
    "            \"pregunta\": \"¿Cómo se calcula el tamaño de la pupila de salida en los binoculares?\",\n",
    "            \"respuesta\": \" Para calcular el tamaño de la pupila de salida en los binoculares, se divide el tamaño de la lente del objetivo por la potencia de magnificación de los prismáticos. Por ejemplo, si tienes unos binoculares con una lente de objetivo de 35 mm y una potencia de magnificación de 7x, la pupila de salida sería de aproximadamente 5 mm (35 mm / 7x = 5 mm).\"\n",
    "        },\n",
    "        \n",
    "    ]\n",
    "}"
   ]
  },
  {
   "cell_type": "code",
   "execution_count": 43,
   "id": "7fa03259",
   "metadata": {},
   "outputs": [],
   "source": [
    "claude_df=pd.DataFrame()\n",
    "custom_rag_df=pd.DataFrame()"
   ]
  },
  {
   "cell_type": "code",
   "execution_count": 44,
   "id": "5e870f8c",
   "metadata": {},
   "outputs": [],
   "source": [
    "for i,pair in enumerate(claude_ground_truth['preguntas_respuestas']):\n",
    "    claude_df.loc[i,'Pregunta']=pair['pregunta']\n",
    "    claude_df.loc[i,'Claude']=pair['respuesta']\n",
    "for i,pair in enumerate(custom_rag_set['preguntas_respuestas']):\n",
    "    custom_rag_df.loc[i,'Pregunta']=pair['pregunta']\n",
    "    custom_rag_df.loc[i,'Custom_RAG']=pair['respuesta']\n"
   ]
  },
  {
   "cell_type": "code",
   "execution_count": 45,
   "id": "5676c1ab",
   "metadata": {},
   "outputs": [],
   "source": [
    "comparative_df=custom_rag_df.merge(claude_df,how='inner',on='Pregunta')"
   ]
  },
  {
   "cell_type": "code",
   "execution_count": 81,
   "id": "0c6f7d3e",
   "metadata": {},
   "outputs": [],
   "source": [
    "comparative_df['Contexto']=context"
   ]
  },
  {
   "cell_type": "code",
   "execution_count": 82,
   "id": "3121c307",
   "metadata": {},
   "outputs": [],
   "source": [
    "comparative_df.to_csv('comparative.csv',index=False)"
   ]
  },
  {
   "cell_type": "code",
   "execution_count": 83,
   "id": "d8b714cb",
   "metadata": {},
   "outputs": [
    {
     "data": {
      "text/html": [
       "<div>\n",
       "<style scoped>\n",
       "    .dataframe tbody tr th:only-of-type {\n",
       "        vertical-align: middle;\n",
       "    }\n",
       "\n",
       "    .dataframe tbody tr th {\n",
       "        vertical-align: top;\n",
       "    }\n",
       "\n",
       "    .dataframe thead th {\n",
       "        text-align: right;\n",
       "    }\n",
       "</style>\n",
       "<table border=\"1\" class=\"dataframe\">\n",
       "  <thead>\n",
       "    <tr style=\"text-align: right;\">\n",
       "      <th></th>\n",
       "      <th>Pregunta</th>\n",
       "      <th>Custom_RAG</th>\n",
       "      <th>Claude</th>\n",
       "      <th>Contexto</th>\n",
       "      <th>contextual_precision</th>\n",
       "      <th>contextual_recall</th>\n",
       "      <th>contextual_relevancy</th>\n",
       "    </tr>\n",
       "  </thead>\n",
       "  <tbody>\n",
       "    <tr>\n",
       "      <th>0</th>\n",
       "      <td>¿Cuáles son las dos piezas más importantes del...</td>\n",
       "      <td>Las dos piezas más importantes del equipamient...</td>\n",
       "      <td>Una buena guía de campo y un par de binoculares.</td>\n",
       "      <td>La pieza más importante del equipamiento para ...</td>\n",
       "      <td>0.0</td>\n",
       "      <td>1.0</td>\n",
       "      <td>1.0</td>\n",
       "    </tr>\n",
       "    <tr>\n",
       "      <th>1</th>\n",
       "      <td>¿Por qué las pinturas de aves en las guías de ...</td>\n",
       "      <td>Las pinturas de aves en las guías de campo sue...</td>\n",
       "      <td>Porque un buen artista puede integrar todas la...</td>\n",
       "      <td>\\nLas Guías de campo contienen las descripcion...</td>\n",
       "      <td>1.0</td>\n",
       "      <td>1.0</td>\n",
       "      <td>1.0</td>\n",
       "    </tr>\n",
       "    <tr>\n",
       "      <th>2</th>\n",
       "      <td>¿Cómo están organizadas la mayoría de las guía...</td>\n",
       "      <td>La mayoría de las guías de campo de aves se or...</td>\n",
       "      <td>Por grupos de aves relacionadas evolutivamente...</td>\n",
       "      <td>Una vez que tengas una guía, tienes que encont...</td>\n",
       "      <td>0.0</td>\n",
       "      <td>1.0</td>\n",
       "      <td>1.0</td>\n",
       "    </tr>\n",
       "    <tr>\n",
       "      <th>3</th>\n",
       "      <td>¿Qué potencia de magnificación se recomienda p...</td>\n",
       "      <td>Se recomienda que los principiantes en la obse...</td>\n",
       "      <td>Se recomienda una potencia de 7 u 8.</td>\n",
       "      <td>Los binoculares aumentarán en gran medida tu d...</td>\n",
       "      <td>0.0</td>\n",
       "      <td>0.0</td>\n",
       "      <td>0.0</td>\n",
       "    </tr>\n",
       "    <tr>\n",
       "      <th>4</th>\n",
       "      <td>¿Cómo se calcula el tamaño de la pupila de sal...</td>\n",
       "      <td>Para calcular el tamaño de la pupila de salid...</td>\n",
       "      <td>Se divide el tamaño de la lente del objetivo p...</td>\n",
       "      <td>El segundo número, como 35 ó 50 después de la ...</td>\n",
       "      <td>0.0</td>\n",
       "      <td>1.0</td>\n",
       "      <td>1.0</td>\n",
       "    </tr>\n",
       "  </tbody>\n",
       "</table>\n",
       "</div>"
      ],
      "text/plain": [
       "                                            Pregunta  \\\n",
       "0  ¿Cuáles son las dos piezas más importantes del...   \n",
       "1  ¿Por qué las pinturas de aves en las guías de ...   \n",
       "2  ¿Cómo están organizadas la mayoría de las guía...   \n",
       "3  ¿Qué potencia de magnificación se recomienda p...   \n",
       "4  ¿Cómo se calcula el tamaño de la pupila de sal...   \n",
       "\n",
       "                                          Custom_RAG  \\\n",
       "0  Las dos piezas más importantes del equipamient...   \n",
       "1  Las pinturas de aves en las guías de campo sue...   \n",
       "2  La mayoría de las guías de campo de aves se or...   \n",
       "3  Se recomienda que los principiantes en la obse...   \n",
       "4   Para calcular el tamaño de la pupila de salid...   \n",
       "\n",
       "                                              Claude  \\\n",
       "0   Una buena guía de campo y un par de binoculares.   \n",
       "1  Porque un buen artista puede integrar todas la...   \n",
       "2  Por grupos de aves relacionadas evolutivamente...   \n",
       "3               Se recomienda una potencia de 7 u 8.   \n",
       "4  Se divide el tamaño de la lente del objetivo p...   \n",
       "\n",
       "                                            Contexto  contextual_precision  \\\n",
       "0  La pieza más importante del equipamiento para ...                   0.0   \n",
       "1  \\nLas Guías de campo contienen las descripcion...                   1.0   \n",
       "2  Una vez que tengas una guía, tienes que encont...                   0.0   \n",
       "3  Los binoculares aumentarán en gran medida tu d...                   0.0   \n",
       "4  El segundo número, como 35 ó 50 después de la ...                   0.0   \n",
       "\n",
       "   contextual_recall  contextual_relevancy  \n",
       "0                1.0                   1.0  \n",
       "1                1.0                   1.0  \n",
       "2                1.0                   1.0  \n",
       "3                0.0                   0.0  \n",
       "4                1.0                   1.0  "
      ]
     },
     "execution_count": 83,
     "metadata": {},
     "output_type": "execute_result"
    }
   ],
   "source": [
    "comparative_df"
   ]
  },
  {
   "cell_type": "code",
   "execution_count": 57,
   "id": "e5baa19f",
   "metadata": {},
   "outputs": [],
   "source": [
    "os.environ[\"OPENAI_API_KEY\"]=apiKey"
   ]
  },
  {
   "cell_type": "code",
   "execution_count": 70,
   "id": "c26cde1e",
   "metadata": {},
   "outputs": [],
   "source": [
    "from deepeval import evaluate\n",
    "from deepeval.metrics import ContextualPrecisionMetric\n",
    "from deepeval.test_case import LLMTestCase\n",
    "from deepeval.metrics import ContextualRecallMetric\n",
    "from deepeval.metrics import ContextualRelevancyMetric"
   ]
  },
  {
   "cell_type": "code",
   "execution_count": 72,
   "id": "36fe1eb2",
   "metadata": {},
   "outputs": [],
   "source": [
    "\n",
    "def evaluate_answer(question,answ1,answ2,context):\n",
    "    actual_output =answ1\n",
    "\n",
    "    expected_output = answ2\n",
    "\n",
    "\n",
    "    retrieval_context = [context]\n",
    "    \n",
    "    model_name=\"gpt-3.5-turbo\"\n",
    "\n",
    "    conte_prec = ContextualPrecisionMetric(\n",
    "        threshold=0.7,\n",
    "        model=model_name,\n",
    "        #include_reason=True\n",
    "    )\n",
    "    \n",
    "    conte_recall = ContextualRecallMetric(\n",
    "        threshold=0.7,\n",
    "        model=model_name,\n",
    "        #include_reason=True\n",
    "    )\n",
    "    \n",
    "    conte_relev = ContextualRelevancyMetric(\n",
    "        threshold=0.7,\n",
    "        model=model_name,\n",
    "        #include_reason=True\n",
    "    )\n",
    "    \n",
    "    \n",
    "    test_case = LLMTestCase(\n",
    "        input=question,\n",
    "        actual_output=actual_output,\n",
    "        expected_output=expected_output,\n",
    "        retrieval_context=retrieval_context\n",
    "    )\n",
    " \n",
    "\n",
    "    conte_prec.measure(test_case)\n",
    "    conte_recall.measure(test_case)\n",
    "    conte_relev.measure(test_case)\n",
    "    \n",
    "    \n",
    "    return conte_prec.score,conte_recall.score,conte_relev.score\n",
    "   \n",
    "\n",
    "   "
   ]
  },
  {
   "cell_type": "code",
   "execution_count": 73,
   "id": "770e5459",
   "metadata": {},
   "outputs": [
    {
     "data": {
      "application/vnd.jupyter.widget-view+json": {
       "model_id": "",
       "version_major": 2,
       "version_minor": 0
      },
      "text/plain": [
       "Output()"
      ]
     },
     "metadata": {},
     "output_type": "display_data"
    },
    {
     "data": {
      "text/html": [
       "<pre style=\"white-space:pre;overflow-x:auto;line-height:normal;font-family:Menlo,'DejaVu Sans Mono',consolas,'Courier New',monospace\">Event loop is already running. Applying nest_asyncio patch to allow async execution...\n",
       "</pre>\n"
      ],
      "text/plain": [
       "Event loop is already running. Applying nest_asyncio patch to allow async execution...\n"
      ]
     },
     "metadata": {},
     "output_type": "display_data"
    },
    {
     "data": {
      "text/html": [
       "<pre style=\"white-space:pre;overflow-x:auto;line-height:normal;font-family:Menlo,'DejaVu Sans Mono',consolas,'Courier New',monospace\"></pre>\n"
      ],
      "text/plain": []
     },
     "metadata": {},
     "output_type": "display_data"
    },
    {
     "data": {
      "text/html": [
       "<pre style=\"white-space:pre;overflow-x:auto;line-height:normal;font-family:Menlo,'DejaVu Sans Mono',consolas,'Courier New',monospace\">\n",
       "</pre>\n"
      ],
      "text/plain": [
       "\n"
      ]
     },
     "metadata": {},
     "output_type": "display_data"
    },
    {
     "data": {
      "application/vnd.jupyter.widget-view+json": {
       "model_id": "",
       "version_major": 2,
       "version_minor": 0
      },
      "text/plain": [
       "Output()"
      ]
     },
     "metadata": {},
     "output_type": "display_data"
    },
    {
     "data": {
      "text/html": [
       "<pre style=\"white-space:pre;overflow-x:auto;line-height:normal;font-family:Menlo,'DejaVu Sans Mono',consolas,'Courier New',monospace\">Event loop is already running. Applying nest_asyncio patch to allow async execution...\n",
       "</pre>\n"
      ],
      "text/plain": [
       "Event loop is already running. Applying nest_asyncio patch to allow async execution...\n"
      ]
     },
     "metadata": {},
     "output_type": "display_data"
    },
    {
     "data": {
      "text/html": [
       "<pre style=\"white-space:pre;overflow-x:auto;line-height:normal;font-family:Menlo,'DejaVu Sans Mono',consolas,'Courier New',monospace\"></pre>\n"
      ],
      "text/plain": []
     },
     "metadata": {},
     "output_type": "display_data"
    },
    {
     "data": {
      "text/html": [
       "<pre style=\"white-space:pre;overflow-x:auto;line-height:normal;font-family:Menlo,'DejaVu Sans Mono',consolas,'Courier New',monospace\">\n",
       "</pre>\n"
      ],
      "text/plain": [
       "\n"
      ]
     },
     "metadata": {},
     "output_type": "display_data"
    },
    {
     "data": {
      "application/vnd.jupyter.widget-view+json": {
       "model_id": "",
       "version_major": 2,
       "version_minor": 0
      },
      "text/plain": [
       "Output()"
      ]
     },
     "metadata": {},
     "output_type": "display_data"
    },
    {
     "data": {
      "text/html": [
       "<pre style=\"white-space:pre;overflow-x:auto;line-height:normal;font-family:Menlo,'DejaVu Sans Mono',consolas,'Courier New',monospace\">Event loop is already running. Applying nest_asyncio patch to allow async execution...\n",
       "</pre>\n"
      ],
      "text/plain": [
       "Event loop is already running. Applying nest_asyncio patch to allow async execution...\n"
      ]
     },
     "metadata": {},
     "output_type": "display_data"
    },
    {
     "data": {
      "text/html": [
       "<pre style=\"white-space:pre;overflow-x:auto;line-height:normal;font-family:Menlo,'DejaVu Sans Mono',consolas,'Courier New',monospace\"></pre>\n"
      ],
      "text/plain": []
     },
     "metadata": {},
     "output_type": "display_data"
    },
    {
     "data": {
      "text/html": [
       "<pre style=\"white-space:pre;overflow-x:auto;line-height:normal;font-family:Menlo,'DejaVu Sans Mono',consolas,'Courier New',monospace\">\n",
       "</pre>\n"
      ],
      "text/plain": [
       "\n"
      ]
     },
     "metadata": {},
     "output_type": "display_data"
    }
   ],
   "source": [
    "cont_prec,cont_recall,conte_relev=evaluate_answer(question,answ1,answ2,context)"
   ]
  },
  {
   "cell_type": "code",
   "execution_count": 87,
   "id": "49fe801c",
   "metadata": {},
   "outputs": [
    {
     "data": {
      "application/vnd.jupyter.widget-view+json": {
       "model_id": "",
       "version_major": 2,
       "version_minor": 0
      },
      "text/plain": [
       "Output()"
      ]
     },
     "metadata": {},
     "output_type": "display_data"
    },
    {
     "data": {
      "text/html": [
       "<pre style=\"white-space:pre;overflow-x:auto;line-height:normal;font-family:Menlo,'DejaVu Sans Mono',consolas,'Courier New',monospace\">Event loop is already running. Applying nest_asyncio patch to allow async execution...\n",
       "</pre>\n"
      ],
      "text/plain": [
       "Event loop is already running. Applying nest_asyncio patch to allow async execution...\n"
      ]
     },
     "metadata": {},
     "output_type": "display_data"
    },
    {
     "data": {
      "text/html": [
       "<pre style=\"white-space:pre;overflow-x:auto;line-height:normal;font-family:Menlo,'DejaVu Sans Mono',consolas,'Courier New',monospace\"></pre>\n"
      ],
      "text/plain": []
     },
     "metadata": {},
     "output_type": "display_data"
    },
    {
     "data": {
      "text/html": [
       "<pre style=\"white-space:pre;overflow-x:auto;line-height:normal;font-family:Menlo,'DejaVu Sans Mono',consolas,'Courier New',monospace\">\n",
       "</pre>\n"
      ],
      "text/plain": [
       "\n"
      ]
     },
     "metadata": {},
     "output_type": "display_data"
    },
    {
     "data": {
      "application/vnd.jupyter.widget-view+json": {
       "model_id": "",
       "version_major": 2,
       "version_minor": 0
      },
      "text/plain": [
       "Output()"
      ]
     },
     "metadata": {},
     "output_type": "display_data"
    },
    {
     "data": {
      "text/html": [
       "<pre style=\"white-space:pre;overflow-x:auto;line-height:normal;font-family:Menlo,'DejaVu Sans Mono',consolas,'Courier New',monospace\">Event loop is already running. Applying nest_asyncio patch to allow async execution...\n",
       "</pre>\n"
      ],
      "text/plain": [
       "Event loop is already running. Applying nest_asyncio patch to allow async execution...\n"
      ]
     },
     "metadata": {},
     "output_type": "display_data"
    },
    {
     "data": {
      "text/html": [
       "<pre style=\"white-space:pre;overflow-x:auto;line-height:normal;font-family:Menlo,'DejaVu Sans Mono',consolas,'Courier New',monospace\"></pre>\n"
      ],
      "text/plain": []
     },
     "metadata": {},
     "output_type": "display_data"
    },
    {
     "data": {
      "text/html": [
       "<pre style=\"white-space:pre;overflow-x:auto;line-height:normal;font-family:Menlo,'DejaVu Sans Mono',consolas,'Courier New',monospace\">\n",
       "</pre>\n"
      ],
      "text/plain": [
       "\n"
      ]
     },
     "metadata": {},
     "output_type": "display_data"
    },
    {
     "data": {
      "application/vnd.jupyter.widget-view+json": {
       "model_id": "",
       "version_major": 2,
       "version_minor": 0
      },
      "text/plain": [
       "Output()"
      ]
     },
     "metadata": {},
     "output_type": "display_data"
    },
    {
     "data": {
      "text/html": [
       "<pre style=\"white-space:pre;overflow-x:auto;line-height:normal;font-family:Menlo,'DejaVu Sans Mono',consolas,'Courier New',monospace\">Event loop is already running. Applying nest_asyncio patch to allow async execution...\n",
       "</pre>\n"
      ],
      "text/plain": [
       "Event loop is already running. Applying nest_asyncio patch to allow async execution...\n"
      ]
     },
     "metadata": {},
     "output_type": "display_data"
    },
    {
     "data": {
      "text/html": [
       "<pre style=\"white-space:pre;overflow-x:auto;line-height:normal;font-family:Menlo,'DejaVu Sans Mono',consolas,'Courier New',monospace\"></pre>\n"
      ],
      "text/plain": []
     },
     "metadata": {},
     "output_type": "display_data"
    },
    {
     "data": {
      "text/html": [
       "<pre style=\"white-space:pre;overflow-x:auto;line-height:normal;font-family:Menlo,'DejaVu Sans Mono',consolas,'Courier New',monospace\">\n",
       "</pre>\n"
      ],
      "text/plain": [
       "\n"
      ]
     },
     "metadata": {},
     "output_type": "display_data"
    },
    {
     "data": {
      "application/vnd.jupyter.widget-view+json": {
       "model_id": "",
       "version_major": 2,
       "version_minor": 0
      },
      "text/plain": [
       "Output()"
      ]
     },
     "metadata": {},
     "output_type": "display_data"
    },
    {
     "data": {
      "text/html": [
       "<pre style=\"white-space:pre;overflow-x:auto;line-height:normal;font-family:Menlo,'DejaVu Sans Mono',consolas,'Courier New',monospace\">Event loop is already running. Applying nest_asyncio patch to allow async execution...\n",
       "</pre>\n"
      ],
      "text/plain": [
       "Event loop is already running. Applying nest_asyncio patch to allow async execution...\n"
      ]
     },
     "metadata": {},
     "output_type": "display_data"
    },
    {
     "data": {
      "text/html": [
       "<pre style=\"white-space:pre;overflow-x:auto;line-height:normal;font-family:Menlo,'DejaVu Sans Mono',consolas,'Courier New',monospace\"></pre>\n"
      ],
      "text/plain": []
     },
     "metadata": {},
     "output_type": "display_data"
    },
    {
     "data": {
      "text/html": [
       "<pre style=\"white-space:pre;overflow-x:auto;line-height:normal;font-family:Menlo,'DejaVu Sans Mono',consolas,'Courier New',monospace\">\n",
       "</pre>\n"
      ],
      "text/plain": [
       "\n"
      ]
     },
     "metadata": {},
     "output_type": "display_data"
    },
    {
     "data": {
      "application/vnd.jupyter.widget-view+json": {
       "model_id": "",
       "version_major": 2,
       "version_minor": 0
      },
      "text/plain": [
       "Output()"
      ]
     },
     "metadata": {},
     "output_type": "display_data"
    },
    {
     "data": {
      "text/html": [
       "<pre style=\"white-space:pre;overflow-x:auto;line-height:normal;font-family:Menlo,'DejaVu Sans Mono',consolas,'Courier New',monospace\">Event loop is already running. Applying nest_asyncio patch to allow async execution...\n",
       "</pre>\n"
      ],
      "text/plain": [
       "Event loop is already running. Applying nest_asyncio patch to allow async execution...\n"
      ]
     },
     "metadata": {},
     "output_type": "display_data"
    },
    {
     "data": {
      "text/html": [
       "<pre style=\"white-space:pre;overflow-x:auto;line-height:normal;font-family:Menlo,'DejaVu Sans Mono',consolas,'Courier New',monospace\"></pre>\n"
      ],
      "text/plain": []
     },
     "metadata": {},
     "output_type": "display_data"
    },
    {
     "data": {
      "text/html": [
       "<pre style=\"white-space:pre;overflow-x:auto;line-height:normal;font-family:Menlo,'DejaVu Sans Mono',consolas,'Courier New',monospace\">\n",
       "</pre>\n"
      ],
      "text/plain": [
       "\n"
      ]
     },
     "metadata": {},
     "output_type": "display_data"
    },
    {
     "data": {
      "application/vnd.jupyter.widget-view+json": {
       "model_id": "",
       "version_major": 2,
       "version_minor": 0
      },
      "text/plain": [
       "Output()"
      ]
     },
     "metadata": {},
     "output_type": "display_data"
    },
    {
     "data": {
      "text/html": [
       "<pre style=\"white-space:pre;overflow-x:auto;line-height:normal;font-family:Menlo,'DejaVu Sans Mono',consolas,'Courier New',monospace\">Event loop is already running. Applying nest_asyncio patch to allow async execution...\n",
       "</pre>\n"
      ],
      "text/plain": [
       "Event loop is already running. Applying nest_asyncio patch to allow async execution...\n"
      ]
     },
     "metadata": {},
     "output_type": "display_data"
    },
    {
     "data": {
      "text/html": [
       "<pre style=\"white-space:pre;overflow-x:auto;line-height:normal;font-family:Menlo,'DejaVu Sans Mono',consolas,'Courier New',monospace\"></pre>\n"
      ],
      "text/plain": []
     },
     "metadata": {},
     "output_type": "display_data"
    },
    {
     "data": {
      "text/html": [
       "<pre style=\"white-space:pre;overflow-x:auto;line-height:normal;font-family:Menlo,'DejaVu Sans Mono',consolas,'Courier New',monospace\">\n",
       "</pre>\n"
      ],
      "text/plain": [
       "\n"
      ]
     },
     "metadata": {},
     "output_type": "display_data"
    },
    {
     "data": {
      "application/vnd.jupyter.widget-view+json": {
       "model_id": "",
       "version_major": 2,
       "version_minor": 0
      },
      "text/plain": [
       "Output()"
      ]
     },
     "metadata": {},
     "output_type": "display_data"
    },
    {
     "data": {
      "text/html": [
       "<pre style=\"white-space:pre;overflow-x:auto;line-height:normal;font-family:Menlo,'DejaVu Sans Mono',consolas,'Courier New',monospace\">Event loop is already running. Applying nest_asyncio patch to allow async execution...\n",
       "</pre>\n"
      ],
      "text/plain": [
       "Event loop is already running. Applying nest_asyncio patch to allow async execution...\n"
      ]
     },
     "metadata": {},
     "output_type": "display_data"
    },
    {
     "data": {
      "text/html": [
       "<pre style=\"white-space:pre;overflow-x:auto;line-height:normal;font-family:Menlo,'DejaVu Sans Mono',consolas,'Courier New',monospace\"></pre>\n"
      ],
      "text/plain": []
     },
     "metadata": {},
     "output_type": "display_data"
    },
    {
     "data": {
      "text/html": [
       "<pre style=\"white-space:pre;overflow-x:auto;line-height:normal;font-family:Menlo,'DejaVu Sans Mono',consolas,'Courier New',monospace\">\n",
       "</pre>\n"
      ],
      "text/plain": [
       "\n"
      ]
     },
     "metadata": {},
     "output_type": "display_data"
    },
    {
     "data": {
      "application/vnd.jupyter.widget-view+json": {
       "model_id": "",
       "version_major": 2,
       "version_minor": 0
      },
      "text/plain": [
       "Output()"
      ]
     },
     "metadata": {},
     "output_type": "display_data"
    },
    {
     "data": {
      "text/html": [
       "<pre style=\"white-space:pre;overflow-x:auto;line-height:normal;font-family:Menlo,'DejaVu Sans Mono',consolas,'Courier New',monospace\">Event loop is already running. Applying nest_asyncio patch to allow async execution...\n",
       "</pre>\n"
      ],
      "text/plain": [
       "Event loop is already running. Applying nest_asyncio patch to allow async execution...\n"
      ]
     },
     "metadata": {},
     "output_type": "display_data"
    },
    {
     "data": {
      "text/html": [
       "<pre style=\"white-space:pre;overflow-x:auto;line-height:normal;font-family:Menlo,'DejaVu Sans Mono',consolas,'Courier New',monospace\"></pre>\n"
      ],
      "text/plain": []
     },
     "metadata": {},
     "output_type": "display_data"
    },
    {
     "data": {
      "text/html": [
       "<pre style=\"white-space:pre;overflow-x:auto;line-height:normal;font-family:Menlo,'DejaVu Sans Mono',consolas,'Courier New',monospace\">\n",
       "</pre>\n"
      ],
      "text/plain": [
       "\n"
      ]
     },
     "metadata": {},
     "output_type": "display_data"
    },
    {
     "data": {
      "application/vnd.jupyter.widget-view+json": {
       "model_id": "",
       "version_major": 2,
       "version_minor": 0
      },
      "text/plain": [
       "Output()"
      ]
     },
     "metadata": {},
     "output_type": "display_data"
    },
    {
     "data": {
      "text/html": [
       "<pre style=\"white-space:pre;overflow-x:auto;line-height:normal;font-family:Menlo,'DejaVu Sans Mono',consolas,'Courier New',monospace\">Event loop is already running. Applying nest_asyncio patch to allow async execution...\n",
       "</pre>\n"
      ],
      "text/plain": [
       "Event loop is already running. Applying nest_asyncio patch to allow async execution...\n"
      ]
     },
     "metadata": {},
     "output_type": "display_data"
    },
    {
     "data": {
      "text/html": [
       "<pre style=\"white-space:pre;overflow-x:auto;line-height:normal;font-family:Menlo,'DejaVu Sans Mono',consolas,'Courier New',monospace\"></pre>\n"
      ],
      "text/plain": []
     },
     "metadata": {},
     "output_type": "display_data"
    },
    {
     "data": {
      "text/html": [
       "<pre style=\"white-space:pre;overflow-x:auto;line-height:normal;font-family:Menlo,'DejaVu Sans Mono',consolas,'Courier New',monospace\">\n",
       "</pre>\n"
      ],
      "text/plain": [
       "\n"
      ]
     },
     "metadata": {},
     "output_type": "display_data"
    },
    {
     "data": {
      "application/vnd.jupyter.widget-view+json": {
       "model_id": "",
       "version_major": 2,
       "version_minor": 0
      },
      "text/plain": [
       "Output()"
      ]
     },
     "metadata": {},
     "output_type": "display_data"
    },
    {
     "data": {
      "text/html": [
       "<pre style=\"white-space:pre;overflow-x:auto;line-height:normal;font-family:Menlo,'DejaVu Sans Mono',consolas,'Courier New',monospace\">Event loop is already running. Applying nest_asyncio patch to allow async execution...\n",
       "</pre>\n"
      ],
      "text/plain": [
       "Event loop is already running. Applying nest_asyncio patch to allow async execution...\n"
      ]
     },
     "metadata": {},
     "output_type": "display_data"
    },
    {
     "data": {
      "text/html": [
       "<pre style=\"white-space:pre;overflow-x:auto;line-height:normal;font-family:Menlo,'DejaVu Sans Mono',consolas,'Courier New',monospace\"></pre>\n"
      ],
      "text/plain": []
     },
     "metadata": {},
     "output_type": "display_data"
    },
    {
     "data": {
      "text/html": [
       "<pre style=\"white-space:pre;overflow-x:auto;line-height:normal;font-family:Menlo,'DejaVu Sans Mono',consolas,'Courier New',monospace\">\n",
       "</pre>\n"
      ],
      "text/plain": [
       "\n"
      ]
     },
     "metadata": {},
     "output_type": "display_data"
    },
    {
     "data": {
      "application/vnd.jupyter.widget-view+json": {
       "model_id": "",
       "version_major": 2,
       "version_minor": 0
      },
      "text/plain": [
       "Output()"
      ]
     },
     "metadata": {},
     "output_type": "display_data"
    },
    {
     "data": {
      "text/html": [
       "<pre style=\"white-space:pre;overflow-x:auto;line-height:normal;font-family:Menlo,'DejaVu Sans Mono',consolas,'Courier New',monospace\">Event loop is already running. Applying nest_asyncio patch to allow async execution...\n",
       "</pre>\n"
      ],
      "text/plain": [
       "Event loop is already running. Applying nest_asyncio patch to allow async execution...\n"
      ]
     },
     "metadata": {},
     "output_type": "display_data"
    },
    {
     "data": {
      "text/html": [
       "<pre style=\"white-space:pre;overflow-x:auto;line-height:normal;font-family:Menlo,'DejaVu Sans Mono',consolas,'Courier New',monospace\"></pre>\n"
      ],
      "text/plain": []
     },
     "metadata": {},
     "output_type": "display_data"
    },
    {
     "data": {
      "text/html": [
       "<pre style=\"white-space:pre;overflow-x:auto;line-height:normal;font-family:Menlo,'DejaVu Sans Mono',consolas,'Courier New',monospace\">\n",
       "</pre>\n"
      ],
      "text/plain": [
       "\n"
      ]
     },
     "metadata": {},
     "output_type": "display_data"
    },
    {
     "data": {
      "application/vnd.jupyter.widget-view+json": {
       "model_id": "",
       "version_major": 2,
       "version_minor": 0
      },
      "text/plain": [
       "Output()"
      ]
     },
     "metadata": {},
     "output_type": "display_data"
    },
    {
     "data": {
      "text/html": [
       "<pre style=\"white-space:pre;overflow-x:auto;line-height:normal;font-family:Menlo,'DejaVu Sans Mono',consolas,'Courier New',monospace\">Event loop is already running. Applying nest_asyncio patch to allow async execution...\n",
       "</pre>\n"
      ],
      "text/plain": [
       "Event loop is already running. Applying nest_asyncio patch to allow async execution...\n"
      ]
     },
     "metadata": {},
     "output_type": "display_data"
    },
    {
     "data": {
      "text/html": [
       "<pre style=\"white-space:pre;overflow-x:auto;line-height:normal;font-family:Menlo,'DejaVu Sans Mono',consolas,'Courier New',monospace\"></pre>\n"
      ],
      "text/plain": []
     },
     "metadata": {},
     "output_type": "display_data"
    },
    {
     "data": {
      "text/html": [
       "<pre style=\"white-space:pre;overflow-x:auto;line-height:normal;font-family:Menlo,'DejaVu Sans Mono',consolas,'Courier New',monospace\">\n",
       "</pre>\n"
      ],
      "text/plain": [
       "\n"
      ]
     },
     "metadata": {},
     "output_type": "display_data"
    },
    {
     "data": {
      "application/vnd.jupyter.widget-view+json": {
       "model_id": "",
       "version_major": 2,
       "version_minor": 0
      },
      "text/plain": [
       "Output()"
      ]
     },
     "metadata": {},
     "output_type": "display_data"
    },
    {
     "data": {
      "text/html": [
       "<pre style=\"white-space:pre;overflow-x:auto;line-height:normal;font-family:Menlo,'DejaVu Sans Mono',consolas,'Courier New',monospace\">Event loop is already running. Applying nest_asyncio patch to allow async execution...\n",
       "</pre>\n"
      ],
      "text/plain": [
       "Event loop is already running. Applying nest_asyncio patch to allow async execution...\n"
      ]
     },
     "metadata": {},
     "output_type": "display_data"
    },
    {
     "data": {
      "text/html": [
       "<pre style=\"white-space:pre;overflow-x:auto;line-height:normal;font-family:Menlo,'DejaVu Sans Mono',consolas,'Courier New',monospace\"></pre>\n"
      ],
      "text/plain": []
     },
     "metadata": {},
     "output_type": "display_data"
    },
    {
     "data": {
      "text/html": [
       "<pre style=\"white-space:pre;overflow-x:auto;line-height:normal;font-family:Menlo,'DejaVu Sans Mono',consolas,'Courier New',monospace\">\n",
       "</pre>\n"
      ],
      "text/plain": [
       "\n"
      ]
     },
     "metadata": {},
     "output_type": "display_data"
    },
    {
     "data": {
      "application/vnd.jupyter.widget-view+json": {
       "model_id": "",
       "version_major": 2,
       "version_minor": 0
      },
      "text/plain": [
       "Output()"
      ]
     },
     "metadata": {},
     "output_type": "display_data"
    },
    {
     "data": {
      "text/html": [
       "<pre style=\"white-space:pre;overflow-x:auto;line-height:normal;font-family:Menlo,'DejaVu Sans Mono',consolas,'Courier New',monospace\">Event loop is already running. Applying nest_asyncio patch to allow async execution...\n",
       "</pre>\n"
      ],
      "text/plain": [
       "Event loop is already running. Applying nest_asyncio patch to allow async execution...\n"
      ]
     },
     "metadata": {},
     "output_type": "display_data"
    },
    {
     "data": {
      "text/html": [
       "<pre style=\"white-space:pre;overflow-x:auto;line-height:normal;font-family:Menlo,'DejaVu Sans Mono',consolas,'Courier New',monospace\"></pre>\n"
      ],
      "text/plain": []
     },
     "metadata": {},
     "output_type": "display_data"
    },
    {
     "data": {
      "text/html": [
       "<pre style=\"white-space:pre;overflow-x:auto;line-height:normal;font-family:Menlo,'DejaVu Sans Mono',consolas,'Courier New',monospace\">\n",
       "</pre>\n"
      ],
      "text/plain": [
       "\n"
      ]
     },
     "metadata": {},
     "output_type": "display_data"
    },
    {
     "data": {
      "application/vnd.jupyter.widget-view+json": {
       "model_id": "",
       "version_major": 2,
       "version_minor": 0
      },
      "text/plain": [
       "Output()"
      ]
     },
     "metadata": {},
     "output_type": "display_data"
    },
    {
     "data": {
      "text/html": [
       "<pre style=\"white-space:pre;overflow-x:auto;line-height:normal;font-family:Menlo,'DejaVu Sans Mono',consolas,'Courier New',monospace\">Event loop is already running. Applying nest_asyncio patch to allow async execution...\n",
       "</pre>\n"
      ],
      "text/plain": [
       "Event loop is already running. Applying nest_asyncio patch to allow async execution...\n"
      ]
     },
     "metadata": {},
     "output_type": "display_data"
    },
    {
     "data": {
      "text/html": [
       "<pre style=\"white-space:pre;overflow-x:auto;line-height:normal;font-family:Menlo,'DejaVu Sans Mono',consolas,'Courier New',monospace\"></pre>\n"
      ],
      "text/plain": []
     },
     "metadata": {},
     "output_type": "display_data"
    },
    {
     "data": {
      "text/html": [
       "<pre style=\"white-space:pre;overflow-x:auto;line-height:normal;font-family:Menlo,'DejaVu Sans Mono',consolas,'Courier New',monospace\">\n",
       "</pre>\n"
      ],
      "text/plain": [
       "\n"
      ]
     },
     "metadata": {},
     "output_type": "display_data"
    }
   ],
   "source": [
    "\n",
    "for i in comparative_df.index:\n",
    "    context=comparative_df.loc[i,'Contexto']\n",
    "    answ1=comparative_df.loc[i,'Custom_RAG']\n",
    "    answ2=comparative_df.loc[i,'Claude']\n",
    "    question=comparative_df.loc[i,'Pregunta']\n",
    "    cont_prec,cont_recall,conte_relev=evaluate_answer(question,answ1,answ2,context)\n",
    "    comparative_df.loc[i,'contextual_precision']=cont_prec\n",
    "    comparative_df.loc[i,'contextual_recall']=cont_recall\n",
    "    comparative_df.loc[i,'contextual_relevancy']=conte_relev\n",
    "    "
   ]
  },
  {
   "cell_type": "code",
   "execution_count": 88,
   "id": "a96bf7ae",
   "metadata": {},
   "outputs": [
    {
     "data": {
      "text/html": [
       "<div>\n",
       "<style scoped>\n",
       "    .dataframe tbody tr th:only-of-type {\n",
       "        vertical-align: middle;\n",
       "    }\n",
       "\n",
       "    .dataframe tbody tr th {\n",
       "        vertical-align: top;\n",
       "    }\n",
       "\n",
       "    .dataframe thead th {\n",
       "        text-align: right;\n",
       "    }\n",
       "</style>\n",
       "<table border=\"1\" class=\"dataframe\">\n",
       "  <thead>\n",
       "    <tr style=\"text-align: right;\">\n",
       "      <th></th>\n",
       "      <th>Pregunta</th>\n",
       "      <th>Custom_RAG</th>\n",
       "      <th>Claude</th>\n",
       "      <th>Contexto</th>\n",
       "      <th>contextual_precision</th>\n",
       "      <th>contextual_recall</th>\n",
       "      <th>contextual_relevancy</th>\n",
       "    </tr>\n",
       "  </thead>\n",
       "  <tbody>\n",
       "    <tr>\n",
       "      <th>0</th>\n",
       "      <td>¿Cuáles son las dos piezas más importantes del...</td>\n",
       "      <td>Las dos piezas más importantes del equipamient...</td>\n",
       "      <td>Una buena guía de campo y un par de binoculares.</td>\n",
       "      <td>La pieza más importante del equipamiento para ...</td>\n",
       "      <td>1.0</td>\n",
       "      <td>1.0</td>\n",
       "      <td>1.0</td>\n",
       "    </tr>\n",
       "    <tr>\n",
       "      <th>1</th>\n",
       "      <td>¿Por qué las pinturas de aves en las guías de ...</td>\n",
       "      <td>Las pinturas de aves en las guías de campo sue...</td>\n",
       "      <td>Porque un buen artista puede integrar todas la...</td>\n",
       "      <td>\\nLas Guías de campo contienen las descripcion...</td>\n",
       "      <td>0.0</td>\n",
       "      <td>1.0</td>\n",
       "      <td>0.0</td>\n",
       "    </tr>\n",
       "    <tr>\n",
       "      <th>2</th>\n",
       "      <td>¿Cómo están organizadas la mayoría de las guía...</td>\n",
       "      <td>La mayoría de las guías de campo de aves se or...</td>\n",
       "      <td>Por grupos de aves relacionadas evolutivamente...</td>\n",
       "      <td>Una vez que tengas una guía, tienes que encont...</td>\n",
       "      <td>1.0</td>\n",
       "      <td>1.0</td>\n",
       "      <td>1.0</td>\n",
       "    </tr>\n",
       "    <tr>\n",
       "      <th>3</th>\n",
       "      <td>¿Qué potencia de magnificación se recomienda p...</td>\n",
       "      <td>Se recomienda que los principiantes en la obse...</td>\n",
       "      <td>Se recomienda una potencia de 7 u 8.</td>\n",
       "      <td>Los binoculares aumentarán en gran medida tu d...</td>\n",
       "      <td>1.0</td>\n",
       "      <td>1.0</td>\n",
       "      <td>1.0</td>\n",
       "    </tr>\n",
       "    <tr>\n",
       "      <th>4</th>\n",
       "      <td>¿Cómo se calcula el tamaño de la pupila de sal...</td>\n",
       "      <td>Para calcular el tamaño de la pupila de salid...</td>\n",
       "      <td>Se divide el tamaño de la lente del objetivo p...</td>\n",
       "      <td>El segundo número, como 35 ó 50 después de la ...</td>\n",
       "      <td>1.0</td>\n",
       "      <td>1.0</td>\n",
       "      <td>1.0</td>\n",
       "    </tr>\n",
       "  </tbody>\n",
       "</table>\n",
       "</div>"
      ],
      "text/plain": [
       "                                            Pregunta  \\\n",
       "0  ¿Cuáles son las dos piezas más importantes del...   \n",
       "1  ¿Por qué las pinturas de aves en las guías de ...   \n",
       "2  ¿Cómo están organizadas la mayoría de las guía...   \n",
       "3  ¿Qué potencia de magnificación se recomienda p...   \n",
       "4  ¿Cómo se calcula el tamaño de la pupila de sal...   \n",
       "\n",
       "                                          Custom_RAG  \\\n",
       "0  Las dos piezas más importantes del equipamient...   \n",
       "1  Las pinturas de aves en las guías de campo sue...   \n",
       "2  La mayoría de las guías de campo de aves se or...   \n",
       "3  Se recomienda que los principiantes en la obse...   \n",
       "4   Para calcular el tamaño de la pupila de salid...   \n",
       "\n",
       "                                              Claude  \\\n",
       "0   Una buena guía de campo y un par de binoculares.   \n",
       "1  Porque un buen artista puede integrar todas la...   \n",
       "2  Por grupos de aves relacionadas evolutivamente...   \n",
       "3               Se recomienda una potencia de 7 u 8.   \n",
       "4  Se divide el tamaño de la lente del objetivo p...   \n",
       "\n",
       "                                            Contexto  contextual_precision  \\\n",
       "0  La pieza más importante del equipamiento para ...                   1.0   \n",
       "1  \\nLas Guías de campo contienen las descripcion...                   0.0   \n",
       "2  Una vez que tengas una guía, tienes que encont...                   1.0   \n",
       "3  Los binoculares aumentarán en gran medida tu d...                   1.0   \n",
       "4  El segundo número, como 35 ó 50 después de la ...                   1.0   \n",
       "\n",
       "   contextual_recall  contextual_relevancy  \n",
       "0                1.0                   1.0  \n",
       "1                1.0                   0.0  \n",
       "2                1.0                   1.0  \n",
       "3                1.0                   1.0  \n",
       "4                1.0                   1.0  "
      ]
     },
     "execution_count": 88,
     "metadata": {},
     "output_type": "execute_result"
    }
   ],
   "source": [
    "comparative_df"
   ]
  },
  {
   "cell_type": "code",
   "execution_count": 86,
   "id": "63f4f122",
   "metadata": {},
   "outputs": [],
   "source": [
    "comparative_df.to_csv('comparative.csv',index=False)"
   ]
  },
  {
   "cell_type": "code",
   "execution_count": null,
   "id": "b2eb4835",
   "metadata": {},
   "outputs": [],
   "source": []
  }
 ],
 "metadata": {
  "kernelspec": {
   "display_name": "Python 3 (ipykernel)",
   "language": "python",
   "name": "python3"
  },
  "language_info": {
   "codemirror_mode": {
    "name": "ipython",
    "version": 3
   },
   "file_extension": ".py",
   "mimetype": "text/x-python",
   "name": "python",
   "nbconvert_exporter": "python",
   "pygments_lexer": "ipython3",
   "version": "3.10.12"
  }
 },
 "nbformat": 4,
 "nbformat_minor": 5
}
