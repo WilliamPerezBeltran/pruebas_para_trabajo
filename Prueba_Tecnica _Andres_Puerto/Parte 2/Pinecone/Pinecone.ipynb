{
  "nbformat": 4,
  "nbformat_minor": 0,
  "metadata": {
    "colab": {
      "provenance": []
    },
    "kernelspec": {
      "name": "python3",
      "display_name": "Python 3"
    },
    "language_info": {
      "name": "python"
    }
  },
  "cells": [
    {
      "cell_type": "code",
      "execution_count": null,
      "metadata": {
        "id": "ahaM5QhHLGdM"
      },
      "outputs": [],
      "source": [
        "\n",
        "!pip install pinecone-client==3.1.0\n",
        "!pip install pinecone-datasets==0.7.0\n",
        "!pip install  sentence-transformers==2.2.2\n",
        ""
      ]
    },
    {
      "cell_type": "code",
      "source": [
        "apikey='API KEY'"
      ],
      "metadata": {
        "id": "mc5c9u0nLiZW"
      },
      "execution_count": 1,
      "outputs": []
    },
    {
      "cell_type": "code",
      "source": [
        "from pinecone import Pinecone\n",
        "from pinecone import ServerlessSpec\n",
        "import torch\n",
        "from pinecone_datasets import load_dataset\n",
        "from sentence_transformers import SentenceTransformer\n",
        "import pandas as pd"
      ],
      "metadata": {
        "id": "Ck4xOH4HLkEY"
      },
      "execution_count": 88,
      "outputs": []
    },
    {
      "cell_type": "code",
      "source": [
        "if torch.cuda.is_available():\n",
        "    device = torch.device(\"cuda:0\")\n",
        "else:\n",
        "    device = torch.device(\"cpu\")"
      ],
      "metadata": {
        "id": "kyyzesDSkaYg"
      },
      "execution_count": 3,
      "outputs": []
    },
    {
      "cell_type": "code",
      "source": [
        "pc = Pinecone(api_key=apikey)# se instancia el objeto"
      ],
      "metadata": {
        "id": "X5NYGDQHRJ_t"
      },
      "execution_count": 19,
      "outputs": []
    },
    {
      "cell_type": "code",
      "source": [
        "specs = ServerlessSpec(cloud='aws', region='us-east-1') # se configura la infraestructura"
      ],
      "metadata": {
        "id": "pu9C9UtNRNXc"
      },
      "execution_count": 18,
      "outputs": []
    },
    {
      "cell_type": "code",
      "source": [
        "\n",
        "\n",
        "dataset = load_dataset('quora_all-MiniLM-L6-bm25') # se carga un dataset de ejemplo"
      ],
      "metadata": {
        "id": "nEyxfZSyRnCN"
      },
      "execution_count": 69,
      "outputs": []
    },
    {
      "cell_type": "code",
      "source": [
        "del dataset.documents['metadata']"
      ],
      "metadata": {
        "id": "ghfcDrYdl0f6"
      },
      "execution_count": 70,
      "outputs": []
    },
    {
      "cell_type": "code",
      "source": [
        "dataset.documents.rename(columns={'blob':'metadata'},inplace=True)"
      ],
      "metadata": {
        "id": "zHVpye_gSrn5"
      },
      "execution_count": 71,
      "outputs": []
    },
    {
      "cell_type": "code",
      "source": [
        "dataset.documents.loc[0,'values'].shape # esta es la lonogitud de los embeddings para ese dataset"
      ],
      "metadata": {
        "colab": {
          "base_uri": "https://localhost:8080/"
        },
        "id": "Jsy8YcWekVs9",
        "outputId": "0ea3bfd3-0f49-4a36-fea6-947682b373f8"
      },
      "execution_count": 72,
      "outputs": [
        {
          "output_type": "execute_result",
          "data": {
            "text/plain": [
              "(384,)"
            ]
          },
          "metadata": {},
          "execution_count": 72
        }
      ]
    },
    {
      "cell_type": "code",
      "source": [
        "dataset.documents.drop(dataset.documents.index[1000:], inplace=True) # dejamos solo 1000 filas por practicidad"
      ],
      "metadata": {
        "id": "3mc-9d6OqOxR"
      },
      "execution_count": 73,
      "outputs": []
    },
    {
      "cell_type": "code",
      "source": [
        "dataset.documents"
      ],
      "metadata": {
        "colab": {
          "base_uri": "https://localhost:8080/",
          "height": 423
        },
        "id": "mRb_AUUWqTEq",
        "outputId": "f1aa0c1a-e82f-4b0e-d528-a346bf24c654"
      },
      "execution_count": 74,
      "outputs": [
        {
          "output_type": "execute_result",
          "data": {
            "text/plain": [
              "       id                                             values  \\\n",
              "0       1  [0.06814987, -0.039664183, -0.06096721, 0.0074...   \n",
              "1       2  [0.08983771, -0.03493085, -0.057357617, 0.0222...   \n",
              "2       3  [-0.046798065, 0.1551149, -0.03920019, 0.04878...   \n",
              "3       4  [-0.077349104, 0.14786911, -0.0128817065, -0.0...   \n",
              "4       5  [-0.028324936, 0.037209604, -0.00040033547, 0....   \n",
              "..    ...                                                ...   \n",
              "995  1027  [0.012958857, -0.019112129, -0.0357613, 0.1456...   \n",
              "996  1028  [-0.000101657635, 0.03107518, 0.07726865, -0.0...   \n",
              "997  1029  [-0.00540815, -0.04188697, 0.06312727, -0.0552...   \n",
              "998  1030  [0.034669217, 0.07669944, 0.01589522, 0.047766...   \n",
              "999  1031  [0.08789124, -0.022596026, 0.036198985, 0.0548...   \n",
              "\n",
              "                                         sparse_values  \\\n",
              "0    {'indices': [7096, 8508, 13677, 23041, 24734, ...   \n",
              "1    {'indices': [7096, 8508, 13677, 24734, 26026, ...   \n",
              "2    {'indices': [6065, 13677, 17109, 20780, 24734,...   \n",
              "3    {'indices': [2408, 6065, 7582, 12225, 17109, 2...   \n",
              "4    {'indices': [5388, 12812, 18181, 19960, 20780,...   \n",
              "..                                                 ...   \n",
              "995  {'indices': [19960, 23463, 26754, 26853, 39832...   \n",
              "996  {'indices': [11129, 11710, 21006, 23100, 24734...   \n",
              "997  {'indices': [11710, 13730, 21006, 24734, 25991...   \n",
              "998  {'indices': [10311, 14506, 15984, 23463, 38585...   \n",
              "999  {'indices': [10311, 13295, 14506, 19153, 23463...   \n",
              "\n",
              "                                              metadata  \n",
              "0    {'text': ' What is the step by step guide to i...  \n",
              "1    {'text': ' What is the step by step guide to i...  \n",
              "2    {'text': ' What is the story of Kohinoor (Koh-...  \n",
              "3    {'text': ' What would happen if the Indian gov...  \n",
              "4    {'text': ' How can I increase the speed of my ...  \n",
              "..                                                 ...  \n",
              "995    {'text': ' Does anemia increase irritability?'}  \n",
              "996  {'text': ' How do you feel about the new MacBo...  \n",
              "997     {'text': ' Should I get the new Macbook Pro?'}  \n",
              "998  {'text': ' Does covering your head while sleep...  \n",
              "999  {'text': ' Does binge drinking cause long term...  \n",
              "\n",
              "[1000 rows x 4 columns]"
            ],
            "text/html": [
              "\n",
              "  <div id=\"df-a5580f31-18cb-4037-a14d-0051426f1db6\" class=\"colab-df-container\">\n",
              "    <div>\n",
              "<style scoped>\n",
              "    .dataframe tbody tr th:only-of-type {\n",
              "        vertical-align: middle;\n",
              "    }\n",
              "\n",
              "    .dataframe tbody tr th {\n",
              "        vertical-align: top;\n",
              "    }\n",
              "\n",
              "    .dataframe thead th {\n",
              "        text-align: right;\n",
              "    }\n",
              "</style>\n",
              "<table border=\"1\" class=\"dataframe\">\n",
              "  <thead>\n",
              "    <tr style=\"text-align: right;\">\n",
              "      <th></th>\n",
              "      <th>id</th>\n",
              "      <th>values</th>\n",
              "      <th>sparse_values</th>\n",
              "      <th>metadata</th>\n",
              "    </tr>\n",
              "  </thead>\n",
              "  <tbody>\n",
              "    <tr>\n",
              "      <th>0</th>\n",
              "      <td>1</td>\n",
              "      <td>[0.06814987, -0.039664183, -0.06096721, 0.0074...</td>\n",
              "      <td>{'indices': [7096, 8508, 13677, 23041, 24734, ...</td>\n",
              "      <td>{'text': ' What is the step by step guide to i...</td>\n",
              "    </tr>\n",
              "    <tr>\n",
              "      <th>1</th>\n",
              "      <td>2</td>\n",
              "      <td>[0.08983771, -0.03493085, -0.057357617, 0.0222...</td>\n",
              "      <td>{'indices': [7096, 8508, 13677, 24734, 26026, ...</td>\n",
              "      <td>{'text': ' What is the step by step guide to i...</td>\n",
              "    </tr>\n",
              "    <tr>\n",
              "      <th>2</th>\n",
              "      <td>3</td>\n",
              "      <td>[-0.046798065, 0.1551149, -0.03920019, 0.04878...</td>\n",
              "      <td>{'indices': [6065, 13677, 17109, 20780, 24734,...</td>\n",
              "      <td>{'text': ' What is the story of Kohinoor (Koh-...</td>\n",
              "    </tr>\n",
              "    <tr>\n",
              "      <th>3</th>\n",
              "      <td>4</td>\n",
              "      <td>[-0.077349104, 0.14786911, -0.0128817065, -0.0...</td>\n",
              "      <td>{'indices': [2408, 6065, 7582, 12225, 17109, 2...</td>\n",
              "      <td>{'text': ' What would happen if the Indian gov...</td>\n",
              "    </tr>\n",
              "    <tr>\n",
              "      <th>4</th>\n",
              "      <td>5</td>\n",
              "      <td>[-0.028324936, 0.037209604, -0.00040033547, 0....</td>\n",
              "      <td>{'indices': [5388, 12812, 18181, 19960, 20780,...</td>\n",
              "      <td>{'text': ' How can I increase the speed of my ...</td>\n",
              "    </tr>\n",
              "    <tr>\n",
              "      <th>...</th>\n",
              "      <td>...</td>\n",
              "      <td>...</td>\n",
              "      <td>...</td>\n",
              "      <td>...</td>\n",
              "    </tr>\n",
              "    <tr>\n",
              "      <th>995</th>\n",
              "      <td>1027</td>\n",
              "      <td>[0.012958857, -0.019112129, -0.0357613, 0.1456...</td>\n",
              "      <td>{'indices': [19960, 23463, 26754, 26853, 39832...</td>\n",
              "      <td>{'text': ' Does anemia increase irritability?'}</td>\n",
              "    </tr>\n",
              "    <tr>\n",
              "      <th>996</th>\n",
              "      <td>1028</td>\n",
              "      <td>[-0.000101657635, 0.03107518, 0.07726865, -0.0...</td>\n",
              "      <td>{'indices': [11129, 11710, 21006, 23100, 24734...</td>\n",
              "      <td>{'text': ' How do you feel about the new MacBo...</td>\n",
              "    </tr>\n",
              "    <tr>\n",
              "      <th>997</th>\n",
              "      <td>1029</td>\n",
              "      <td>[-0.00540815, -0.04188697, 0.06312727, -0.0552...</td>\n",
              "      <td>{'indices': [11710, 13730, 21006, 24734, 25991...</td>\n",
              "      <td>{'text': ' Should I get the new Macbook Pro?'}</td>\n",
              "    </tr>\n",
              "    <tr>\n",
              "      <th>998</th>\n",
              "      <td>1030</td>\n",
              "      <td>[0.034669217, 0.07669944, 0.01589522, 0.047766...</td>\n",
              "      <td>{'indices': [10311, 14506, 15984, 23463, 38585...</td>\n",
              "      <td>{'text': ' Does covering your head while sleep...</td>\n",
              "    </tr>\n",
              "    <tr>\n",
              "      <th>999</th>\n",
              "      <td>1031</td>\n",
              "      <td>[0.08789124, -0.022596026, 0.036198985, 0.0548...</td>\n",
              "      <td>{'indices': [10311, 13295, 14506, 19153, 23463...</td>\n",
              "      <td>{'text': ' Does binge drinking cause long term...</td>\n",
              "    </tr>\n",
              "  </tbody>\n",
              "</table>\n",
              "<p>1000 rows × 4 columns</p>\n",
              "</div>\n",
              "    <div class=\"colab-df-buttons\">\n",
              "\n",
              "  <div class=\"colab-df-container\">\n",
              "    <button class=\"colab-df-convert\" onclick=\"convertToInteractive('df-a5580f31-18cb-4037-a14d-0051426f1db6')\"\n",
              "            title=\"Convert this dataframe to an interactive table.\"\n",
              "            style=\"display:none;\">\n",
              "\n",
              "  <svg xmlns=\"http://www.w3.org/2000/svg\" height=\"24px\" viewBox=\"0 -960 960 960\">\n",
              "    <path d=\"M120-120v-720h720v720H120Zm60-500h600v-160H180v160Zm220 220h160v-160H400v160Zm0 220h160v-160H400v160ZM180-400h160v-160H180v160Zm440 0h160v-160H620v160ZM180-180h160v-160H180v160Zm440 0h160v-160H620v160Z\"/>\n",
              "  </svg>\n",
              "    </button>\n",
              "\n",
              "  <style>\n",
              "    .colab-df-container {\n",
              "      display:flex;\n",
              "      gap: 12px;\n",
              "    }\n",
              "\n",
              "    .colab-df-convert {\n",
              "      background-color: #E8F0FE;\n",
              "      border: none;\n",
              "      border-radius: 50%;\n",
              "      cursor: pointer;\n",
              "      display: none;\n",
              "      fill: #1967D2;\n",
              "      height: 32px;\n",
              "      padding: 0 0 0 0;\n",
              "      width: 32px;\n",
              "    }\n",
              "\n",
              "    .colab-df-convert:hover {\n",
              "      background-color: #E2EBFA;\n",
              "      box-shadow: 0px 1px 2px rgba(60, 64, 67, 0.3), 0px 1px 3px 1px rgba(60, 64, 67, 0.15);\n",
              "      fill: #174EA6;\n",
              "    }\n",
              "\n",
              "    .colab-df-buttons div {\n",
              "      margin-bottom: 4px;\n",
              "    }\n",
              "\n",
              "    [theme=dark] .colab-df-convert {\n",
              "      background-color: #3B4455;\n",
              "      fill: #D2E3FC;\n",
              "    }\n",
              "\n",
              "    [theme=dark] .colab-df-convert:hover {\n",
              "      background-color: #434B5C;\n",
              "      box-shadow: 0px 1px 3px 1px rgba(0, 0, 0, 0.15);\n",
              "      filter: drop-shadow(0px 1px 2px rgba(0, 0, 0, 0.3));\n",
              "      fill: #FFFFFF;\n",
              "    }\n",
              "  </style>\n",
              "\n",
              "    <script>\n",
              "      const buttonEl =\n",
              "        document.querySelector('#df-a5580f31-18cb-4037-a14d-0051426f1db6 button.colab-df-convert');\n",
              "      buttonEl.style.display =\n",
              "        google.colab.kernel.accessAllowed ? 'block' : 'none';\n",
              "\n",
              "      async function convertToInteractive(key) {\n",
              "        const element = document.querySelector('#df-a5580f31-18cb-4037-a14d-0051426f1db6');\n",
              "        const dataTable =\n",
              "          await google.colab.kernel.invokeFunction('convertToInteractive',\n",
              "                                                    [key], {});\n",
              "        if (!dataTable) return;\n",
              "\n",
              "        const docLinkHtml = 'Like what you see? Visit the ' +\n",
              "          '<a target=\"_blank\" href=https://colab.research.google.com/notebooks/data_table.ipynb>data table notebook</a>'\n",
              "          + ' to learn more about interactive tables.';\n",
              "        element.innerHTML = '';\n",
              "        dataTable['output_type'] = 'display_data';\n",
              "        await google.colab.output.renderOutput(dataTable, element);\n",
              "        const docLink = document.createElement('div');\n",
              "        docLink.innerHTML = docLinkHtml;\n",
              "        element.appendChild(docLink);\n",
              "      }\n",
              "    </script>\n",
              "  </div>\n",
              "\n",
              "\n",
              "<div id=\"df-c3aa5a79-9678-4c8b-ae3d-6f450868ff95\">\n",
              "  <button class=\"colab-df-quickchart\" onclick=\"quickchart('df-c3aa5a79-9678-4c8b-ae3d-6f450868ff95')\"\n",
              "            title=\"Suggest charts\"\n",
              "            style=\"display:none;\">\n",
              "\n",
              "<svg xmlns=\"http://www.w3.org/2000/svg\" height=\"24px\"viewBox=\"0 0 24 24\"\n",
              "     width=\"24px\">\n",
              "    <g>\n",
              "        <path d=\"M19 3H5c-1.1 0-2 .9-2 2v14c0 1.1.9 2 2 2h14c1.1 0 2-.9 2-2V5c0-1.1-.9-2-2-2zM9 17H7v-7h2v7zm4 0h-2V7h2v10zm4 0h-2v-4h2v4z\"/>\n",
              "    </g>\n",
              "</svg>\n",
              "  </button>\n",
              "\n",
              "<style>\n",
              "  .colab-df-quickchart {\n",
              "      --bg-color: #E8F0FE;\n",
              "      --fill-color: #1967D2;\n",
              "      --hover-bg-color: #E2EBFA;\n",
              "      --hover-fill-color: #174EA6;\n",
              "      --disabled-fill-color: #AAA;\n",
              "      --disabled-bg-color: #DDD;\n",
              "  }\n",
              "\n",
              "  [theme=dark] .colab-df-quickchart {\n",
              "      --bg-color: #3B4455;\n",
              "      --fill-color: #D2E3FC;\n",
              "      --hover-bg-color: #434B5C;\n",
              "      --hover-fill-color: #FFFFFF;\n",
              "      --disabled-bg-color: #3B4455;\n",
              "      --disabled-fill-color: #666;\n",
              "  }\n",
              "\n",
              "  .colab-df-quickchart {\n",
              "    background-color: var(--bg-color);\n",
              "    border: none;\n",
              "    border-radius: 50%;\n",
              "    cursor: pointer;\n",
              "    display: none;\n",
              "    fill: var(--fill-color);\n",
              "    height: 32px;\n",
              "    padding: 0;\n",
              "    width: 32px;\n",
              "  }\n",
              "\n",
              "  .colab-df-quickchart:hover {\n",
              "    background-color: var(--hover-bg-color);\n",
              "    box-shadow: 0 1px 2px rgba(60, 64, 67, 0.3), 0 1px 3px 1px rgba(60, 64, 67, 0.15);\n",
              "    fill: var(--button-hover-fill-color);\n",
              "  }\n",
              "\n",
              "  .colab-df-quickchart-complete:disabled,\n",
              "  .colab-df-quickchart-complete:disabled:hover {\n",
              "    background-color: var(--disabled-bg-color);\n",
              "    fill: var(--disabled-fill-color);\n",
              "    box-shadow: none;\n",
              "  }\n",
              "\n",
              "  .colab-df-spinner {\n",
              "    border: 2px solid var(--fill-color);\n",
              "    border-color: transparent;\n",
              "    border-bottom-color: var(--fill-color);\n",
              "    animation:\n",
              "      spin 1s steps(1) infinite;\n",
              "  }\n",
              "\n",
              "  @keyframes spin {\n",
              "    0% {\n",
              "      border-color: transparent;\n",
              "      border-bottom-color: var(--fill-color);\n",
              "      border-left-color: var(--fill-color);\n",
              "    }\n",
              "    20% {\n",
              "      border-color: transparent;\n",
              "      border-left-color: var(--fill-color);\n",
              "      border-top-color: var(--fill-color);\n",
              "    }\n",
              "    30% {\n",
              "      border-color: transparent;\n",
              "      border-left-color: var(--fill-color);\n",
              "      border-top-color: var(--fill-color);\n",
              "      border-right-color: var(--fill-color);\n",
              "    }\n",
              "    40% {\n",
              "      border-color: transparent;\n",
              "      border-right-color: var(--fill-color);\n",
              "      border-top-color: var(--fill-color);\n",
              "    }\n",
              "    60% {\n",
              "      border-color: transparent;\n",
              "      border-right-color: var(--fill-color);\n",
              "    }\n",
              "    80% {\n",
              "      border-color: transparent;\n",
              "      border-right-color: var(--fill-color);\n",
              "      border-bottom-color: var(--fill-color);\n",
              "    }\n",
              "    90% {\n",
              "      border-color: transparent;\n",
              "      border-bottom-color: var(--fill-color);\n",
              "    }\n",
              "  }\n",
              "</style>\n",
              "\n",
              "  <script>\n",
              "    async function quickchart(key) {\n",
              "      const quickchartButtonEl =\n",
              "        document.querySelector('#' + key + ' button');\n",
              "      quickchartButtonEl.disabled = true;  // To prevent multiple clicks.\n",
              "      quickchartButtonEl.classList.add('colab-df-spinner');\n",
              "      try {\n",
              "        const charts = await google.colab.kernel.invokeFunction(\n",
              "            'suggestCharts', [key], {});\n",
              "      } catch (error) {\n",
              "        console.error('Error during call to suggestCharts:', error);\n",
              "      }\n",
              "      quickchartButtonEl.classList.remove('colab-df-spinner');\n",
              "      quickchartButtonEl.classList.add('colab-df-quickchart-complete');\n",
              "    }\n",
              "    (() => {\n",
              "      let quickchartButtonEl =\n",
              "        document.querySelector('#df-c3aa5a79-9678-4c8b-ae3d-6f450868ff95 button');\n",
              "      quickchartButtonEl.style.display =\n",
              "        google.colab.kernel.accessAllowed ? 'block' : 'none';\n",
              "    })();\n",
              "  </script>\n",
              "</div>\n",
              "\n",
              "    </div>\n",
              "  </div>\n"
            ],
            "application/vnd.google.colaboratory.intrinsic+json": {
              "type": "dataframe",
              "summary": "{\n  \"name\": \"dataset\",\n  \"rows\": 1000,\n  \"fields\": [\n    {\n      \"column\": \"id\",\n      \"properties\": {\n        \"dtype\": \"string\",\n        \"num_unique_values\": 1000,\n        \"samples\": [\n          \"533\",\n          \"761\",\n          \"764\"\n        ],\n        \"semantic_type\": \"\",\n        \"description\": \"\"\n      }\n    },\n    {\n      \"column\": \"values\",\n      \"properties\": {\n        \"dtype\": \"object\",\n        \"semantic_type\": \"\",\n        \"description\": \"\"\n      }\n    },\n    {\n      \"column\": \"sparse_values\",\n      \"properties\": {\n        \"dtype\": \"object\",\n        \"semantic_type\": \"\",\n        \"description\": \"\"\n      }\n    },\n    {\n      \"column\": \"metadata\",\n      \"properties\": {\n        \"dtype\": \"object\",\n        \"semantic_type\": \"\",\n        \"description\": \"\"\n      }\n    }\n  ]\n}"
            }
          },
          "metadata": {},
          "execution_count": 74
        }
      ]
    },
    {
      "cell_type": "code",
      "source": [
        "model = SentenceTransformer('sentence-transformers/all-MiniLM-L6-v2',device=device) # tambien codifica embeddings de longitud 384\n",
        "model"
      ],
      "metadata": {
        "colab": {
          "base_uri": "https://localhost:8080/"
        },
        "id": "shzy83aTRrRc",
        "outputId": "69400676-0841-4ada-b742-22c6e4cd854e"
      },
      "execution_count": 63,
      "outputs": [
        {
          "output_type": "execute_result",
          "data": {
            "text/plain": [
              "SentenceTransformer(\n",
              "  (0): Transformer({'max_seq_length': 256, 'do_lower_case': False}) with Transformer model: BertModel \n",
              "  (1): Pooling({'word_embedding_dimension': 384, 'pooling_mode_cls_token': False, 'pooling_mode_mean_tokens': True, 'pooling_mode_max_tokens': False, 'pooling_mode_mean_sqrt_len_tokens': False})\n",
              "  (2): Normalize()\n",
              ")"
            ]
          },
          "metadata": {},
          "execution_count": 63
        }
      ]
    },
    {
      "cell_type": "code",
      "source": [
        " pc.list_indexes() # revisar si tenemos indexes"
      ],
      "metadata": {
        "colab": {
          "base_uri": "https://localhost:8080/"
        },
        "id": "kM41JY6CnafW",
        "outputId": "2207e8c1-b910-44dc-b7ba-0057a5662014"
      },
      "execution_count": 76,
      "outputs": [
        {
          "output_type": "execute_result",
          "data": {
            "text/plain": [
              "{'indexes': []}"
            ]
          },
          "metadata": {},
          "execution_count": 76
        }
      ]
    },
    {
      "cell_type": "code",
      "source": [
        "pc.delete_index(\"busqueda-andres\") # en caso de borrar alguno"
      ],
      "metadata": {
        "id": "kQu-FoJEpFPd"
      },
      "execution_count": 75,
      "outputs": []
    },
    {
      "cell_type": "code",
      "source": [
        "index_title='busqueda-prueba'# nuevo indice"
      ],
      "metadata": {
        "id": "FrsKage8lOcz"
      },
      "execution_count": 77,
      "outputs": []
    },
    {
      "cell_type": "code",
      "source": [
        "pc.create_index(\n",
        "        index_title,\n",
        "        dimension=384,\n",
        "        metric='dotproduct',\n",
        "        spec=specs\n",
        "    )"
      ],
      "metadata": {
        "collapsed": true,
        "id": "_6bpyEfBRtlm"
      },
      "execution_count": 78,
      "outputs": []
    },
    {
      "cell_type": "code",
      "source": [
        "index = pc.Index(index_title)"
      ],
      "metadata": {
        "id": "uXJUcqP_lGtj"
      },
      "execution_count": 79,
      "outputs": []
    },
    {
      "cell_type": "code",
      "source": [
        "from tqdm import tqdm\n",
        "\n",
        "for batch in tqdm(dataset.iter_documents(batch_size=100)): # se inserta la información\n",
        "    index.upsert(batch)"
      ],
      "metadata": {
        "colab": {
          "base_uri": "https://localhost:8080/"
        },
        "id": "-m-c20w6mNuD",
        "outputId": "cd1faad0-7f7d-44f0-eb79-1fff8004d07c"
      },
      "execution_count": 80,
      "outputs": [
        {
          "output_type": "stream",
          "name": "stderr",
          "text": [
            "10it [00:04,  2.27it/s]\n"
          ]
        }
      ]
    },
    {
      "cell_type": "code",
      "source": [
        "# se generaron algunas palabras que actuarán como querys\n",
        "tech_words = [\n",
        "    \"algorithm\", \"API\", \"application\", \"architecture\", \"artificial intelligence\", \"augmented reality\",\n",
        "    \"automation\", \"bandwidth\", \"big data\", \"binary\", \"bitcoin\", \"blockchain\", \"bot\", \"browser\",\n",
        "    \"byte\", \"cache\", \"cloud\", \"coding\", \"compiler\", \"compression\", \"computing\", \"connectivity\",\n",
        "    \"crypto\", \"cybersecurity\", \"database\", \"data mining\", \"data science\", \"debugging\", \"deployment\",\n",
        "    \"digital\", \"DNS\", \"encryption\", \"enterprise\", \"firewall\", \"firmware\", \"framework\", \"frontend\",\n",
        "    \"full stack\", \"GPU\", \"hardware\", \"HTML\", \"HTTP\", \"HTTPS\", \"hyperlink\", \"IoT\", \"IP address\",\n",
        "    \"Java\", \"JavaScript\", \"kernel\", \"latency\", \"load balancing\", \"machine learning\", \"malware\",\n",
        "    \"microservices\", \"middleware\", \"mobile\", \"module\", \"motherboard\", \"multithreading\", \"network\",\n",
        "    \"node\", \"object-oriented\", \"open source\", \"operating system\", \"packet\", \"password\", \"payload\",\n",
        "    \"ping\", \"pixel\", \"platform\", \"plugin\", \"port\", \"protocol\", \"Python\", \"QR code\", \"query\",\n",
        "    \"RAM\", \"reactive programming\", \"REST\", \"router\", \"runtime\", \"SaaS\", \"scalability\", \"SDK\",\n",
        "    \"server\", \"shell\", \"SMTP\", \"software\", \"SQL\", \"SSL\", \"stack\", \"storage\", \"streaming\",\n",
        "    \"syntax\", \"TCP/IP\", \"telecommunication\", \"token\", \"UI\", \"URL\", \"user experience\", \"UX\",\n",
        "    \"virtualization\", \"VPN\", \"VR\", \"web development\", \"Wi-Fi\", \"XML\", \"zip file\", \"zero-day\",\n",
        "    \"3D printing\", \"access control\", \"adblock\", \"agile\", \"analytics\", \"android\", \"API gateway\",\n",
        "    \"app store\", \"application server\", \"artificial neural network\", \"asset management\", \"attack vector\",\n",
        "    \"authentication\", \"authorization\", \"back end\", \"backup\", \"bandwidth throttling\", \"behavioral biometrics\",\n",
        "    \"bioinformatics\", \"biometrics\", \"bitrate\", \"blockchain\", \"blueprint\", \"Bluetooth\", \"bootloader\",\n",
        "    \"botnet\", \"broadband\", \"broadcast\", \"browser extension\", \"bus\", \"bytecode\", \"cache memory\",\n",
        "    \"captcha\", \"CDN\", \"cellular network\", \"chatbot\", \"chip\", \"CIO\", \"cipher\", \"cloud computing\",\n",
        "    \"cloud storage\", \"cluster\", \"codec\", \"code review\", \"command line\", \"compilation\", \"component\",\n",
        "    \"computational linguistics\", \"computer graphics\", \"computer vision\", \"content management system\",\n",
        "    \"content delivery network\", \"continuous integration\", \"control panel\", \"cookies\", \"cryptanalysis\",\n",
        "    \"cryptography\", \"CSS\", \"cyber attack\", \"cyber defense\", \"cyber hygiene\", \"cyber incident\",\n",
        "    \"cyber insurance\", \"cyber law\", \"cyber operation\", \"cyber physical system\", \"cyber resilience\",\n",
        "    \"cyber threat\", \"cyber warfare\", \"data breach\", \"data center\", \"data encryption\", \"data integrity\",\n",
        "    \"data loss prevention\", \"data privacy\", \"data protection\", \"data recovery\", \"data visualization\",\n",
        "    \"deep learning\", \"DevOps\", \"digital currency\", \"digital footprint\", \"digital identity\",\n",
        "    \"digital marketing\", \"digital rights\"]\n"
      ],
      "metadata": {
        "id": "K1VfPMVRsxe4"
      },
      "execution_count": 92,
      "outputs": []
    },
    {
      "cell_type": "code",
      "source": [
        "# se hacen las consultas y se toman los 3 valores mas cercanos\n",
        "final_results={}\n",
        "for query in tqdm(tech_words):\n",
        "  embedded = model.encode(query).tolist()\n",
        "  output = index.query(vector=embedded, top_k=3, include_metadata=True)\n",
        "  final_results[query]=output['matches']\n"
      ],
      "metadata": {
        "colab": {
          "base_uri": "https://localhost:8080/"
        },
        "id": "qc6q0B_Xk8Hp",
        "outputId": "66005d75-dbe3-481a-83c1-337d89fd4d3a"
      },
      "execution_count": 93,
      "outputs": [
        {
          "output_type": "stream",
          "name": "stderr",
          "text": [
            "100%|██████████| 194/194 [00:06<00:00, 32.08it/s]\n"
          ]
        }
      ]
    },
    {
      "cell_type": "code",
      "source": [
        "final_results['computer graphics']"
      ],
      "metadata": {
        "colab": {
          "base_uri": "https://localhost:8080/"
        },
        "id": "ZAis28CmlnQV",
        "outputId": "b36cc1bc-4ced-4e41-d051-2b1f25f4515c"
      },
      "execution_count": 95,
      "outputs": [
        {
          "output_type": "execute_result",
          "data": {
            "text/plain": [
              "[{'id': '866',\n",
              "  'metadata': {'text': ' What is the best forum for graphic designers?'},\n",
              "  'score': 0.429079294,\n",
              "  'values': []},\n",
              " {'id': '867',\n",
              "  'metadata': {'text': ' Who is the best graphic designer in israel?'},\n",
              "  'score': 0.384842515,\n",
              "  'values': []},\n",
              " {'id': '237',\n",
              "  'metadata': {'text': ' What are some mind-blowing computer tools that exist '\n",
              "                       \"that most people don't know about?\"},\n",
              "  'score': 0.361391336,\n",
              "  'values': []}]"
            ]
          },
          "metadata": {},
          "execution_count": 95
        }
      ]
    },
    {
      "cell_type": "code",
      "source": [
        "final_results['3D printing']"
      ],
      "metadata": {
        "colab": {
          "base_uri": "https://localhost:8080/"
        },
        "id": "yc3mTV79t5Wz",
        "outputId": "f7ebc547-2e84-42e0-cd2d-50867fabc6d1"
      },
      "execution_count": 97,
      "outputs": [
        {
          "output_type": "execute_result",
          "data": {
            "text/plain": [
              "[{'id': '191',\n",
              "  'metadata': {'text': ' How does 3D printing work?'},\n",
              "  'score': 0.87873584,\n",
              "  'values': []},\n",
              " {'id': '192',\n",
              "  'metadata': {'text': ' How do 3D printing work?'},\n",
              "  'score': 0.877525091,\n",
              "  'values': []},\n",
              " {'id': '930',\n",
              "  'metadata': {'text': ' Considering the current trend of information '\n",
              "                       'technology what is the future of print media?'},\n",
              "  'score': 0.396922082,\n",
              "  'values': []}]"
            ]
          },
          "metadata": {},
          "execution_count": 97
        }
      ]
    },
    {
      "cell_type": "code",
      "source": [],
      "metadata": {
        "id": "KNt7Sqdgt8z8"
      },
      "execution_count": null,
      "outputs": []
    }
  ]
}